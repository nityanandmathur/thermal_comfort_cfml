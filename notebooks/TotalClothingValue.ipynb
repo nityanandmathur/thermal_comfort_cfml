{
 "cells": [
  {
   "cell_type": "code",
   "execution_count": 1,
   "id": "b72f29b5-a7f2-40d3-bd3c-ad1d7af71f85",
   "metadata": {
    "id": "b72f29b5-a7f2-40d3-bd3c-ad1d7af71f85"
   },
   "outputs": [],
   "source": [
    "# !pip install catboost"
   ]
  },
  {
   "cell_type": "code",
   "execution_count": 2,
   "id": "29415f20-1f94-4ebb-8ef6-e565d81f90af",
   "metadata": {
    "id": "29415f20-1f94-4ebb-8ef6-e565d81f90af"
   },
   "outputs": [
    {
     "name": "stderr",
     "output_type": "stream",
     "text": [
      "/home/btech/nityanand.mathur/anaconda3/envs/pytorch/lib/python3.10/site-packages/dice_ml/utils/exception.py:12: UserWarning: UserConfigValidationException will be deprecated from dice_ml.utils. Please import UserConfigValidationException from raiutils.exceptions.\n",
      "  warnings.warn(\"UserConfigValidationException will be deprecated from dice_ml.utils. \"\n"
     ]
    }
   ],
   "source": [
    "#import basic modules\n",
    "import numpy as np\n",
    "import pandas as pd\n",
    "import seaborn as sns\n",
    "import matplotlib.pyplot as plt\n",
    "import dice_ml\n",
    "import warnings\n",
    "import time\n",
    "\n",
    "warnings.filterwarnings(\"ignore\") \n",
    "pd.options.display.max_rows = 500"
   ]
  },
  {
   "cell_type": "markdown",
   "id": "76765057-8667-4c44-84b3-e7c7d6de1968",
   "metadata": {
    "id": "76765057-8667-4c44-84b3-e7c7d6de1968"
   },
   "source": [
    "# Exploratory Data Analysis\n",
    "## 1. Getting the data"
   ]
  },
  {
   "cell_type": "code",
   "execution_count": 3,
   "id": "b6dc8743-ab71-4588-a734-d2d804c83da6",
   "metadata": {
    "id": "b6dc8743-ab71-4588-a734-d2d804c83da6"
   },
   "outputs": [],
   "source": [
    "winter_data = pd.read_csv(\n",
    "    'TotalClothingValue.csv', index_col=0)\n"
   ]
  },
  {
   "cell_type": "code",
   "execution_count": 4,
   "id": "c7755964-b8ea-423a-a81d-45b77b022f3c",
   "metadata": {
    "id": "c7755964-b8ea-423a-a81d-45b77b022f3c",
    "outputId": "810611be-df3e-41bb-cbbc-d42f8d3d6020"
   },
   "outputs": [
    {
     "data": {
      "text/plain": [
       "(2038, 19)"
      ]
     },
     "execution_count": 4,
     "metadata": {},
     "output_type": "execute_result"
    }
   ],
   "source": [
    "winter_data.shape"
   ]
  },
  {
   "cell_type": "code",
   "execution_count": 5,
   "id": "7677f554-984b-4420-8c91-5fa27aa9538e",
   "metadata": {
    "id": "7677f554-984b-4420-8c91-5fa27aa9538e",
    "outputId": "dd246ae7-f1c8-4b0d-d6ee-6e842147df7d"
   },
   "outputs": [
    {
     "data": {
      "text/html": [
       "<div>\n",
       "<style scoped>\n",
       "    .dataframe tbody tr th:only-of-type {\n",
       "        vertical-align: middle;\n",
       "    }\n",
       "\n",
       "    .dataframe tbody tr th {\n",
       "        vertical-align: top;\n",
       "    }\n",
       "\n",
       "    .dataframe thead th {\n",
       "        text-align: right;\n",
       "    }\n",
       "</style>\n",
       "<table border=\"1\" class=\"dataframe\">\n",
       "  <thead>\n",
       "    <tr style=\"text-align: right;\">\n",
       "      <th></th>\n",
       "      <th>DAY</th>\n",
       "      <th>School</th>\n",
       "      <th>SchoolType</th>\n",
       "      <th>StartTime</th>\n",
       "      <th>AvgMaxDailyTemp</th>\n",
       "      <th>AvgMinDailyTemp</th>\n",
       "      <th>AvgIndoorRelativeHumidity</th>\n",
       "      <th>IndoorTempDuringSurvey</th>\n",
       "      <th>Grade</th>\n",
       "      <th>Age</th>\n",
       "      <th>Gender</th>\n",
       "      <th>FormalClothing</th>\n",
       "      <th>TotalCLOwithChair</th>\n",
       "      <th>SwC</th>\n",
       "      <th>TSV</th>\n",
       "      <th>TPV</th>\n",
       "      <th>TCV</th>\n",
       "      <th>TSL</th>\n",
       "      <th>MC</th>\n",
       "    </tr>\n",
       "    <tr>\n",
       "      <th>Sno</th>\n",
       "      <th></th>\n",
       "      <th></th>\n",
       "      <th></th>\n",
       "      <th></th>\n",
       "      <th></th>\n",
       "      <th></th>\n",
       "      <th></th>\n",
       "      <th></th>\n",
       "      <th></th>\n",
       "      <th></th>\n",
       "      <th></th>\n",
       "      <th></th>\n",
       "      <th></th>\n",
       "      <th></th>\n",
       "      <th></th>\n",
       "      <th></th>\n",
       "      <th></th>\n",
       "      <th></th>\n",
       "      <th></th>\n",
       "    </tr>\n",
       "  </thead>\n",
       "  <tbody>\n",
       "    <tr>\n",
       "      <th>1</th>\n",
       "      <td>1</td>\n",
       "      <td>1</td>\n",
       "      <td>0</td>\n",
       "      <td>3</td>\n",
       "      <td>22.2</td>\n",
       "      <td>5.1</td>\n",
       "      <td>55.1</td>\n",
       "      <td>14.5</td>\n",
       "      <td>3</td>\n",
       "      <td>8</td>\n",
       "      <td>0</td>\n",
       "      <td>0</td>\n",
       "      <td>1.57</td>\n",
       "      <td>1</td>\n",
       "      <td>-1</td>\n",
       "      <td>2</td>\n",
       "      <td>2</td>\n",
       "      <td>1</td>\n",
       "      <td>2</td>\n",
       "    </tr>\n",
       "    <tr>\n",
       "      <th>2</th>\n",
       "      <td>1</td>\n",
       "      <td>1</td>\n",
       "      <td>0</td>\n",
       "      <td>3</td>\n",
       "      <td>22.2</td>\n",
       "      <td>5.1</td>\n",
       "      <td>55.1</td>\n",
       "      <td>14.5</td>\n",
       "      <td>3</td>\n",
       "      <td>8</td>\n",
       "      <td>0</td>\n",
       "      <td>0</td>\n",
       "      <td>1.21</td>\n",
       "      <td>1</td>\n",
       "      <td>-1</td>\n",
       "      <td>2</td>\n",
       "      <td>3</td>\n",
       "      <td>1</td>\n",
       "      <td>2</td>\n",
       "    </tr>\n",
       "    <tr>\n",
       "      <th>3</th>\n",
       "      <td>1</td>\n",
       "      <td>1</td>\n",
       "      <td>0</td>\n",
       "      <td>3</td>\n",
       "      <td>22.2</td>\n",
       "      <td>5.1</td>\n",
       "      <td>55.1</td>\n",
       "      <td>14.5</td>\n",
       "      <td>3</td>\n",
       "      <td>8</td>\n",
       "      <td>0</td>\n",
       "      <td>0</td>\n",
       "      <td>1.21</td>\n",
       "      <td>2</td>\n",
       "      <td>0</td>\n",
       "      <td>1</td>\n",
       "      <td>2</td>\n",
       "      <td>3</td>\n",
       "      <td>4</td>\n",
       "    </tr>\n",
       "    <tr>\n",
       "      <th>4</th>\n",
       "      <td>1</td>\n",
       "      <td>1</td>\n",
       "      <td>0</td>\n",
       "      <td>3</td>\n",
       "      <td>22.2</td>\n",
       "      <td>5.1</td>\n",
       "      <td>55.1</td>\n",
       "      <td>14.5</td>\n",
       "      <td>3</td>\n",
       "      <td>10</td>\n",
       "      <td>0</td>\n",
       "      <td>0</td>\n",
       "      <td>1.43</td>\n",
       "      <td>2</td>\n",
       "      <td>0</td>\n",
       "      <td>0</td>\n",
       "      <td>2</td>\n",
       "      <td>2</td>\n",
       "      <td>4</td>\n",
       "    </tr>\n",
       "    <tr>\n",
       "      <th>5</th>\n",
       "      <td>1</td>\n",
       "      <td>1</td>\n",
       "      <td>0</td>\n",
       "      <td>3</td>\n",
       "      <td>22.2</td>\n",
       "      <td>5.1</td>\n",
       "      <td>55.1</td>\n",
       "      <td>14.5</td>\n",
       "      <td>3</td>\n",
       "      <td>9</td>\n",
       "      <td>0</td>\n",
       "      <td>0</td>\n",
       "      <td>1.21</td>\n",
       "      <td>2</td>\n",
       "      <td>0</td>\n",
       "      <td>1</td>\n",
       "      <td>2</td>\n",
       "      <td>2</td>\n",
       "      <td>2</td>\n",
       "    </tr>\n",
       "  </tbody>\n",
       "</table>\n",
       "</div>"
      ],
      "text/plain": [
       "     DAY  School  SchoolType  StartTime  AvgMaxDailyTemp  AvgMinDailyTemp  \\\n",
       "Sno                                                                         \n",
       "1      1       1           0          3             22.2              5.1   \n",
       "2      1       1           0          3             22.2              5.1   \n",
       "3      1       1           0          3             22.2              5.1   \n",
       "4      1       1           0          3             22.2              5.1   \n",
       "5      1       1           0          3             22.2              5.1   \n",
       "\n",
       "     AvgIndoorRelativeHumidity  IndoorTempDuringSurvey  Grade  Age  Gender  \\\n",
       "Sno                                                                          \n",
       "1                         55.1                    14.5      3    8       0   \n",
       "2                         55.1                    14.5      3    8       0   \n",
       "3                         55.1                    14.5      3    8       0   \n",
       "4                         55.1                    14.5      3   10       0   \n",
       "5                         55.1                    14.5      3    9       0   \n",
       "\n",
       "     FormalClothing  TotalCLOwithChair  SwC  TSV  TPV  TCV  TSL  MC  \n",
       "Sno                                                                  \n",
       "1                 0               1.57    1   -1    2    2    1   2  \n",
       "2                 0               1.21    1   -1    2    3    1   2  \n",
       "3                 0               1.21    2    0    1    2    3   4  \n",
       "4                 0               1.43    2    0    0    2    2   4  \n",
       "5                 0               1.21    2    0    1    2    2   2  "
      ]
     },
     "execution_count": 5,
     "metadata": {},
     "output_type": "execute_result"
    }
   ],
   "source": [
    "winter_data.head()"
   ]
  },
  {
   "cell_type": "code",
   "execution_count": 6,
   "id": "987ac98f-93cd-47f6-9aaf-be750d9f700f",
   "metadata": {
    "id": "987ac98f-93cd-47f6-9aaf-be750d9f700f",
    "outputId": "35c52902-6f97-4086-c94c-a561c2c4bd0c"
   },
   "outputs": [
    {
     "data": {
      "text/html": [
       "<div>\n",
       "<style scoped>\n",
       "    .dataframe tbody tr th:only-of-type {\n",
       "        vertical-align: middle;\n",
       "    }\n",
       "\n",
       "    .dataframe tbody tr th {\n",
       "        vertical-align: top;\n",
       "    }\n",
       "\n",
       "    .dataframe thead th {\n",
       "        text-align: right;\n",
       "    }\n",
       "</style>\n",
       "<table border=\"1\" class=\"dataframe\">\n",
       "  <thead>\n",
       "    <tr style=\"text-align: right;\">\n",
       "      <th></th>\n",
       "      <th>DAY</th>\n",
       "      <th>School</th>\n",
       "      <th>SchoolType</th>\n",
       "      <th>StartTime</th>\n",
       "      <th>AvgMaxDailyTemp</th>\n",
       "      <th>AvgMinDailyTemp</th>\n",
       "      <th>AvgIndoorRelativeHumidity</th>\n",
       "      <th>IndoorTempDuringSurvey</th>\n",
       "      <th>Grade</th>\n",
       "      <th>Age</th>\n",
       "      <th>Gender</th>\n",
       "      <th>FormalClothing</th>\n",
       "      <th>TotalCLOwithChair</th>\n",
       "      <th>SwC</th>\n",
       "      <th>TSV</th>\n",
       "      <th>TPV</th>\n",
       "      <th>TCV</th>\n",
       "      <th>TSL</th>\n",
       "      <th>MC</th>\n",
       "    </tr>\n",
       "  </thead>\n",
       "  <tbody>\n",
       "    <tr>\n",
       "      <th>count</th>\n",
       "      <td>2038.000000</td>\n",
       "      <td>2038.000000</td>\n",
       "      <td>2038.000000</td>\n",
       "      <td>2038.000000</td>\n",
       "      <td>2038.000000</td>\n",
       "      <td>2038.000000</td>\n",
       "      <td>2038.000000</td>\n",
       "      <td>2038.000000</td>\n",
       "      <td>2038.000000</td>\n",
       "      <td>2038.000000</td>\n",
       "      <td>2038.000000</td>\n",
       "      <td>2038.000000</td>\n",
       "      <td>2038.000000</td>\n",
       "      <td>2038.000000</td>\n",
       "      <td>2038.000000</td>\n",
       "      <td>2038.000000</td>\n",
       "      <td>2038.000000</td>\n",
       "      <td>2038.000000</td>\n",
       "      <td>2038.000000</td>\n",
       "    </tr>\n",
       "    <tr>\n",
       "      <th>mean</th>\n",
       "      <td>2.732581</td>\n",
       "      <td>2.709519</td>\n",
       "      <td>0.733562</td>\n",
       "      <td>2.299313</td>\n",
       "      <td>21.217076</td>\n",
       "      <td>6.254809</td>\n",
       "      <td>61.204711</td>\n",
       "      <td>14.496075</td>\n",
       "      <td>3.947007</td>\n",
       "      <td>9.524043</td>\n",
       "      <td>0.524043</td>\n",
       "      <td>0.606477</td>\n",
       "      <td>1.396045</td>\n",
       "      <td>1.965653</td>\n",
       "      <td>-0.326300</td>\n",
       "      <td>0.693817</td>\n",
       "      <td>2.119235</td>\n",
       "      <td>1.996075</td>\n",
       "      <td>3.572620</td>\n",
       "    </tr>\n",
       "    <tr>\n",
       "      <th>std</th>\n",
       "      <td>1.309543</td>\n",
       "      <td>1.285857</td>\n",
       "      <td>0.442204</td>\n",
       "      <td>1.252473</td>\n",
       "      <td>1.744861</td>\n",
       "      <td>1.715494</td>\n",
       "      <td>7.081575</td>\n",
       "      <td>1.203274</td>\n",
       "      <td>0.797110</td>\n",
       "      <td>1.049188</td>\n",
       "      <td>0.499544</td>\n",
       "      <td>0.488651</td>\n",
       "      <td>0.216997</td>\n",
       "      <td>0.301848</td>\n",
       "      <td>0.612427</td>\n",
       "      <td>0.691821</td>\n",
       "      <td>0.766258</td>\n",
       "      <td>0.822478</td>\n",
       "      <td>1.014077</td>\n",
       "    </tr>\n",
       "    <tr>\n",
       "      <th>min</th>\n",
       "      <td>1.000000</td>\n",
       "      <td>1.000000</td>\n",
       "      <td>0.000000</td>\n",
       "      <td>1.000000</td>\n",
       "      <td>17.600000</td>\n",
       "      <td>4.200000</td>\n",
       "      <td>44.230000</td>\n",
       "      <td>12.800000</td>\n",
       "      <td>3.000000</td>\n",
       "      <td>6.000000</td>\n",
       "      <td>0.000000</td>\n",
       "      <td>0.000000</td>\n",
       "      <td>0.900000</td>\n",
       "      <td>1.000000</td>\n",
       "      <td>-2.000000</td>\n",
       "      <td>-1.000000</td>\n",
       "      <td>-3.000000</td>\n",
       "      <td>-2.000000</td>\n",
       "      <td>1.000000</td>\n",
       "    </tr>\n",
       "    <tr>\n",
       "      <th>25%</th>\n",
       "      <td>2.000000</td>\n",
       "      <td>1.000000</td>\n",
       "      <td>0.000000</td>\n",
       "      <td>1.000000</td>\n",
       "      <td>20.500000</td>\n",
       "      <td>5.000000</td>\n",
       "      <td>58.200000</td>\n",
       "      <td>13.600000</td>\n",
       "      <td>3.000000</td>\n",
       "      <td>9.000000</td>\n",
       "      <td>0.000000</td>\n",
       "      <td>0.000000</td>\n",
       "      <td>1.210000</td>\n",
       "      <td>2.000000</td>\n",
       "      <td>-1.000000</td>\n",
       "      <td>0.000000</td>\n",
       "      <td>2.000000</td>\n",
       "      <td>2.000000</td>\n",
       "      <td>4.000000</td>\n",
       "    </tr>\n",
       "    <tr>\n",
       "      <th>50%</th>\n",
       "      <td>3.000000</td>\n",
       "      <td>3.000000</td>\n",
       "      <td>1.000000</td>\n",
       "      <td>2.000000</td>\n",
       "      <td>21.200000</td>\n",
       "      <td>5.600000</td>\n",
       "      <td>60.600000</td>\n",
       "      <td>14.100000</td>\n",
       "      <td>4.000000</td>\n",
       "      <td>10.000000</td>\n",
       "      <td>1.000000</td>\n",
       "      <td>1.000000</td>\n",
       "      <td>1.410000</td>\n",
       "      <td>2.000000</td>\n",
       "      <td>0.000000</td>\n",
       "      <td>1.000000</td>\n",
       "      <td>2.000000</td>\n",
       "      <td>2.000000</td>\n",
       "      <td>4.000000</td>\n",
       "    </tr>\n",
       "    <tr>\n",
       "      <th>75%</th>\n",
       "      <td>4.000000</td>\n",
       "      <td>4.000000</td>\n",
       "      <td>1.000000</td>\n",
       "      <td>3.000000</td>\n",
       "      <td>22.400000</td>\n",
       "      <td>6.600000</td>\n",
       "      <td>65.400000</td>\n",
       "      <td>15.100000</td>\n",
       "      <td>5.000000</td>\n",
       "      <td>10.000000</td>\n",
       "      <td>1.000000</td>\n",
       "      <td>1.000000</td>\n",
       "      <td>1.550000</td>\n",
       "      <td>2.000000</td>\n",
       "      <td>0.000000</td>\n",
       "      <td>1.000000</td>\n",
       "      <td>3.000000</td>\n",
       "      <td>2.000000</td>\n",
       "      <td>4.000000</td>\n",
       "    </tr>\n",
       "    <tr>\n",
       "      <th>max</th>\n",
       "      <td>5.000000</td>\n",
       "      <td>5.000000</td>\n",
       "      <td>1.000000</td>\n",
       "      <td>6.000000</td>\n",
       "      <td>24.200000</td>\n",
       "      <td>10.100000</td>\n",
       "      <td>75.600000</td>\n",
       "      <td>17.500000</td>\n",
       "      <td>5.000000</td>\n",
       "      <td>13.000000</td>\n",
       "      <td>1.000000</td>\n",
       "      <td>1.000000</td>\n",
       "      <td>2.040000</td>\n",
       "      <td>3.000000</td>\n",
       "      <td>2.000000</td>\n",
       "      <td>2.000000</td>\n",
       "      <td>3.000000</td>\n",
       "      <td>3.000000</td>\n",
       "      <td>4.000000</td>\n",
       "    </tr>\n",
       "  </tbody>\n",
       "</table>\n",
       "</div>"
      ],
      "text/plain": [
       "               DAY       School   SchoolType    StartTime  AvgMaxDailyTemp  \\\n",
       "count  2038.000000  2038.000000  2038.000000  2038.000000      2038.000000   \n",
       "mean      2.732581     2.709519     0.733562     2.299313        21.217076   \n",
       "std       1.309543     1.285857     0.442204     1.252473         1.744861   \n",
       "min       1.000000     1.000000     0.000000     1.000000        17.600000   \n",
       "25%       2.000000     1.000000     0.000000     1.000000        20.500000   \n",
       "50%       3.000000     3.000000     1.000000     2.000000        21.200000   \n",
       "75%       4.000000     4.000000     1.000000     3.000000        22.400000   \n",
       "max       5.000000     5.000000     1.000000     6.000000        24.200000   \n",
       "\n",
       "       AvgMinDailyTemp  AvgIndoorRelativeHumidity  IndoorTempDuringSurvey  \\\n",
       "count      2038.000000                2038.000000             2038.000000   \n",
       "mean          6.254809                  61.204711               14.496075   \n",
       "std           1.715494                   7.081575                1.203274   \n",
       "min           4.200000                  44.230000               12.800000   \n",
       "25%           5.000000                  58.200000               13.600000   \n",
       "50%           5.600000                  60.600000               14.100000   \n",
       "75%           6.600000                  65.400000               15.100000   \n",
       "max          10.100000                  75.600000               17.500000   \n",
       "\n",
       "             Grade          Age       Gender  FormalClothing  \\\n",
       "count  2038.000000  2038.000000  2038.000000     2038.000000   \n",
       "mean      3.947007     9.524043     0.524043        0.606477   \n",
       "std       0.797110     1.049188     0.499544        0.488651   \n",
       "min       3.000000     6.000000     0.000000        0.000000   \n",
       "25%       3.000000     9.000000     0.000000        0.000000   \n",
       "50%       4.000000    10.000000     1.000000        1.000000   \n",
       "75%       5.000000    10.000000     1.000000        1.000000   \n",
       "max       5.000000    13.000000     1.000000        1.000000   \n",
       "\n",
       "       TotalCLOwithChair          SwC          TSV          TPV          TCV  \\\n",
       "count        2038.000000  2038.000000  2038.000000  2038.000000  2038.000000   \n",
       "mean            1.396045     1.965653    -0.326300     0.693817     2.119235   \n",
       "std             0.216997     0.301848     0.612427     0.691821     0.766258   \n",
       "min             0.900000     1.000000    -2.000000    -1.000000    -3.000000   \n",
       "25%             1.210000     2.000000    -1.000000     0.000000     2.000000   \n",
       "50%             1.410000     2.000000     0.000000     1.000000     2.000000   \n",
       "75%             1.550000     2.000000     0.000000     1.000000     3.000000   \n",
       "max             2.040000     3.000000     2.000000     2.000000     3.000000   \n",
       "\n",
       "               TSL           MC  \n",
       "count  2038.000000  2038.000000  \n",
       "mean      1.996075     3.572620  \n",
       "std       0.822478     1.014077  \n",
       "min      -2.000000     1.000000  \n",
       "25%       2.000000     4.000000  \n",
       "50%       2.000000     4.000000  \n",
       "75%       2.000000     4.000000  \n",
       "max       3.000000     4.000000  "
      ]
     },
     "execution_count": 6,
     "metadata": {},
     "output_type": "execute_result"
    }
   ],
   "source": [
    "winter_data.describe()"
   ]
  },
  {
   "cell_type": "code",
   "execution_count": 7,
   "id": "bbf21588-7c32-4abc-8851-fd556fb76d83",
   "metadata": {
    "id": "bbf21588-7c32-4abc-8851-fd556fb76d83",
    "outputId": "7f4e4661-2aae-40b0-b27b-e8ba17208265"
   },
   "outputs": [
    {
     "name": "stdout",
     "output_type": "stream",
     "text": [
      "<class 'pandas.core.frame.DataFrame'>\n",
      "Int64Index: 2038 entries, 1 to 2038\n",
      "Data columns (total 19 columns):\n",
      " #   Column                     Non-Null Count  Dtype  \n",
      "---  ------                     --------------  -----  \n",
      " 0   DAY                        2038 non-null   int64  \n",
      " 1   School                     2038 non-null   int64  \n",
      " 2   SchoolType                 2038 non-null   int64  \n",
      " 3   StartTime                  2038 non-null   int64  \n",
      " 4   AvgMaxDailyTemp            2038 non-null   float64\n",
      " 5   AvgMinDailyTemp            2038 non-null   float64\n",
      " 6   AvgIndoorRelativeHumidity  2038 non-null   float64\n",
      " 7   IndoorTempDuringSurvey     2038 non-null   float64\n",
      " 8   Grade                      2038 non-null   int64  \n",
      " 9   Age                        2038 non-null   int64  \n",
      " 10  Gender                     2038 non-null   int64  \n",
      " 11  FormalClothing             2038 non-null   int64  \n",
      " 12  TotalCLOwithChair          2038 non-null   float64\n",
      " 13  SwC                        2038 non-null   int64  \n",
      " 14  TSV                        2038 non-null   int64  \n",
      " 15  TPV                        2038 non-null   int64  \n",
      " 16  TCV                        2038 non-null   int64  \n",
      " 17  TSL                        2038 non-null   int64  \n",
      " 18  MC                         2038 non-null   int64  \n",
      "dtypes: float64(5), int64(14)\n",
      "memory usage: 318.4 KB\n"
     ]
    }
   ],
   "source": [
    "winter_data.info()"
   ]
  },
  {
   "cell_type": "code",
   "execution_count": 8,
   "id": "9349cea7-b27d-4902-880d-2365ae033cf1",
   "metadata": {
    "id": "9349cea7-b27d-4902-880d-2365ae033cf1",
    "outputId": "f5965a90-b9fa-4939-b207-542f9328bb85"
   },
   "outputs": [
    {
     "data": {
      "text/plain": [
       "Index(['DAY', 'School', 'SchoolType', 'StartTime', 'AvgMaxDailyTemp',\n",
       "       'AvgMinDailyTemp', 'AvgIndoorRelativeHumidity',\n",
       "       'IndoorTempDuringSurvey', 'Grade', 'Age', 'Gender', 'FormalClothing',\n",
       "       'TotalCLOwithChair', 'SwC', 'TSV', 'TPV', 'TCV', 'TSL', 'MC'],\n",
       "      dtype='object')"
      ]
     },
     "execution_count": 8,
     "metadata": {},
     "output_type": "execute_result"
    }
   ],
   "source": [
    "winter_data.columns"
   ]
  },
  {
   "cell_type": "code",
   "execution_count": 9,
   "id": "c09b2226-42a9-4ebb-b352-3a43bfcf1014",
   "metadata": {
    "id": "c09b2226-42a9-4ebb-b352-3a43bfcf1014"
   },
   "outputs": [],
   "source": [
    "winter_data = winter_data.astype({\n",
    "    'DAY':'category',\n",
    "    'School':'category',\n",
    "    'SchoolType': 'category',\n",
    "    'StartTime': 'category',\n",
    "    'Grade': 'category',\n",
    "    'Gender': 'category',\n",
    "    'FormalClothing': 'bool',\n",
    "    'TSV':'category',\n",
    "    'TPV':'category',\n",
    "    'TCV':'category',\n",
    "    'TSL':'category',\n",
    "    'MC':'category',\n",
    "    'SwC':'category',\n",
    "})"
   ]
  },
  {
   "cell_type": "code",
   "execution_count": 10,
   "id": "8e0d655e-f4f7-48d7-9181-cb16f70779df",
   "metadata": {
    "id": "8e0d655e-f4f7-48d7-9181-cb16f70779df",
    "outputId": "88f4a015-f29e-48ef-cfef-60b8e18dee3e"
   },
   "outputs": [
    {
     "name": "stdout",
     "output_type": "stream",
     "text": [
      "<class 'pandas.core.frame.DataFrame'>\n",
      "Int64Index: 2038 entries, 1 to 2038\n",
      "Data columns (total 19 columns):\n",
      " #   Column                     Non-Null Count  Dtype   \n",
      "---  ------                     --------------  -----   \n",
      " 0   DAY                        2038 non-null   category\n",
      " 1   School                     2038 non-null   category\n",
      " 2   SchoolType                 2038 non-null   category\n",
      " 3   StartTime                  2038 non-null   category\n",
      " 4   AvgMaxDailyTemp            2038 non-null   float64 \n",
      " 5   AvgMinDailyTemp            2038 non-null   float64 \n",
      " 6   AvgIndoorRelativeHumidity  2038 non-null   float64 \n",
      " 7   IndoorTempDuringSurvey     2038 non-null   float64 \n",
      " 8   Grade                      2038 non-null   category\n",
      " 9   Age                        2038 non-null   int64   \n",
      " 10  Gender                     2038 non-null   category\n",
      " 11  FormalClothing             2038 non-null   bool    \n",
      " 12  TotalCLOwithChair          2038 non-null   float64 \n",
      " 13  SwC                        2038 non-null   category\n",
      " 14  TSV                        2038 non-null   category\n",
      " 15  TPV                        2038 non-null   category\n",
      " 16  TCV                        2038 non-null   category\n",
      " 17  TSL                        2038 non-null   category\n",
      " 18  MC                         2038 non-null   category\n",
      "dtypes: bool(1), category(12), float64(5), int64(1)\n",
      "memory usage: 139.5 KB\n"
     ]
    }
   ],
   "source": [
    "winter_data.info()"
   ]
  },
  {
   "cell_type": "markdown",
   "id": "c2bd1dc6-893a-422d-84f4-5bf8e94ec32c",
   "metadata": {
    "id": "c2bd1dc6-893a-422d-84f4-5bf8e94ec32c"
   },
   "source": [
    "## Distributions of Numerical Features"
   ]
  },
  {
   "cell_type": "code",
   "execution_count": 11,
   "id": "c3655b57-2a9f-4041-8314-c5f78676161e",
   "metadata": {
    "id": "c3655b57-2a9f-4041-8314-c5f78676161e",
    "outputId": "28a072fa-c246-4f5f-9b0b-60a14bb373df"
   },
   "outputs": [
    {
     "data": {
      "image/png": "[encoded data removed]",
      "text/plain": [
       "<Figure size 1000x600 with 10 Axes>"
      ]
     },
     "metadata": {},
     "output_type": "display_data"
    }
   ],
   "source": [
    "# create a new dataframe with columns containing only the numerical features\n",
    "num_features = winter_data.select_dtypes(exclude=['bool', 'category']).copy()\n",
    "\n",
    "# we plot individual column distributions with null entry rows dropped\n",
    "fig, axs = plt.subplots(2, 5, figsize=(10, 6))\n",
    "for i in range(len(num_features.columns)):\n",
    "    plt.subplot(2, 5, i+1)\n",
    "    sns.distplot(num_features.iloc[:,i].dropna())\n",
    "    plt.xlabel(num_features.columns[i])\n",
    "\n",
    "plt.tight_layout()\n",
    "plt.show()"
   ]
  },
  {
   "cell_type": "markdown",
   "id": "4c308279-7d9b-40fe-8cac-20e51eb28abf",
   "metadata": {
    "id": "4c308279-7d9b-40fe-8cac-20e51eb28abf"
   },
   "source": [
    "## Distributions of Categorical Features"
   ]
  },
  {
   "cell_type": "code",
   "execution_count": 12,
   "id": "46bfb75d-379b-432c-b6c9-0707943929ad",
   "metadata": {
    "id": "46bfb75d-379b-432c-b6c9-0707943929ad",
    "outputId": "5f28a80c-85bd-4267-f077-75aebfbe2609"
   },
   "outputs": [
    {
     "data": {
      "image/png": "[encoded data removed]",
      "text/plain": [
       "<Figure size 1000x3000 with 14 Axes>"
      ]
     },
     "metadata": {},
     "output_type": "display_data"
    }
   ],
   "source": [
    "# create a new dataframe with columns containing only the categorical features\n",
    "cat_features = winter_data.select_dtypes(include=['category']).copy()\n",
    "\n",
    "# we plot individual column distributions with null entry rows dropped\n",
    "fig, axs = plt.subplots(nrows=7, ncols=2, figsize=(10, 30))\n",
    "plt.subplots_adjust(right=1.5, top=1.25)\n",
    "\n",
    "for i in range(len(cat_features.columns)):\n",
    "    plt.subplot(7, 2, i+1)\n",
    "    sns.countplot(y=cat_features.columns[i], data=cat_features)\n",
    "    \n",
    "plt.tight_layout()\n",
    "plt.show()"
   ]
  },
  {
   "cell_type": "markdown",
   "id": "36bd4976-ecec-416e-b892-96269f70b385",
   "metadata": {
    "id": "36bd4976-ecec-416e-b892-96269f70b385"
   },
   "source": [
    "## Distributions of Boolean Features"
   ]
  },
  {
   "cell_type": "code",
   "execution_count": 13,
   "id": "616899da-9afd-40d6-9478-2a251a8b7a89",
   "metadata": {
    "id": "616899da-9afd-40d6-9478-2a251a8b7a89",
    "outputId": "7a2f8838-4a88-4d7b-8671-b2deed39ce88"
   },
   "outputs": [
    {
     "data": {
      "image/png": "[encoded data removed]",
      "text/plain": [
       "<Figure size 1000x3000 with 14 Axes>"
      ]
     },
     "metadata": {},
     "output_type": "display_data"
    }
   ],
   "source": [
    "# create a new dataframe with columns containing only the categorical features\n",
    "bool_features = winter_data.select_dtypes(include='bool').copy()\n",
    "\n",
    "# we plot individual column distributions with null entry rows dropped\n",
    "fig, axs = plt.subplots(nrows=7, ncols=2, figsize=(10, 30))\n",
    "plt.subplots_adjust(right=1.5, top=1.25)\n",
    "\n",
    "for i in range(len(bool_features.columns)):\n",
    "    plt.subplot(7, 2, i+1)\n",
    "    sns.countplot(y=bool_features.columns[i], data=bool_features)\n",
    "    \n",
    "plt.tight_layout()\n",
    "plt.show()"
   ]
  },
  {
   "cell_type": "code",
   "execution_count": 14,
   "id": "9445a69c-e0a0-4e24-a90f-3d69860a4820",
   "metadata": {
    "id": "9445a69c-e0a0-4e24-a90f-3d69860a4820"
   },
   "outputs": [],
   "source": [
    "tsl_target_data = winter_data.copy()"
   ]
  },
  {
   "cell_type": "markdown",
   "id": "fdbc99d5-c71f-4d46-ad6c-de1dbf87656d",
   "metadata": {
    "id": "fdbc99d5-c71f-4d46-ad6c-de1dbf87656d"
   },
   "source": [
    "## Machine Learning Models (CatBoost)"
   ]
  },
  {
   "cell_type": "code",
   "execution_count": 15,
   "id": "65309bc6-bd36-4a4e-9465-c188fa18a5f7",
   "metadata": {
    "id": "65309bc6-bd36-4a4e-9465-c188fa18a5f7"
   },
   "outputs": [],
   "source": [
    "import catboost as cat\n",
    "# Classification metrics \n",
    "from sklearn.metrics import precision_score, cohen_kappa_score, f1_score, accuracy_score, recall_score\n",
    "# Helper for cross-validation\n",
    "from sklearn.model_selection import StratifiedKFold"
   ]
  },
  {
   "cell_type": "code",
   "execution_count": 16,
   "id": "a697e408-b43d-4b06-8eb5-45837788e713",
   "metadata": {
    "id": "a697e408-b43d-4b06-8eb5-45837788e713"
   },
   "outputs": [],
   "source": [
    "def oof_trainer(X: pd.DataFrame,\n",
    "                y,\n",
    "            n_folds = None,\n",
    "            params: dict = None,\n",
    "            del_cols: list = None,\n",
    "            cat_features=None):\n",
    "    \n",
    "    \"\"\"This function trains multiple Catboost model while performing stratified CV with shuffling.\n",
    "    out-of-fold (oof) predictions are evaluated at each fold and printed out \n",
    "    at the end of the routine as a list. The mean scores on all fold is also printed out.\n",
    "    \n",
    "    The metrics used for evaluation are precision_auc and the cohen's kappa\n",
    "    \n",
    "    Output: \n",
    "    models -- a list of models trained on each fold during CV\n",
    "    oof_pred -- prediction array consisting of predictions coming from different models\n",
    "    \"\"\"\n",
    "        \n",
    "    # collect models and scores from each fold\n",
    "    models = []\n",
    "    f1_scores = []\n",
    "    accuracy_scores = []\n",
    "    precision_scores = []\n",
    "    recall_scores = []\n",
    "    scores = []\n",
    "    # CV splitter\n",
    "    folds = StratifiedKFold(n_splits=n_folds, shuffle=True, random_state=505) #GroupKFold(n_splits=n_folds) \n",
    "    #features to use\n",
    "    columns = [col for col in X.columns.values if not col in del_cols]\n",
    "    # dimension of the target \n",
    "    n_target=1\n",
    "    \n",
    "    # collect out-of-sample predictions\n",
    "    data_X, data_y, oof_pred = pd.DataFrame(), pd.Series(), np.zeros((len(X),n_target))\n",
    "\n",
    "\n",
    "    for fold_n, (train_index, valid_index) in enumerate(folds.split(X, y)):\n",
    "     \n",
    "        print('Fold {} started at {}'.format(fold_n + 1,time.ctime()))\n",
    "        #print((train_index, valid_index))\n",
    "        X_train, X_valid = X.iloc[train_index][columns], X.iloc[valid_index][columns]\n",
    "        y_train, y_valid = y.iloc[train_index], y.iloc[valid_index]\n",
    "    \n",
    "        data_X = data_X.append(X_valid)\n",
    "        data_y = data_y.append(y_valid)\n",
    "        print(data_X.shape)\n",
    "        \n",
    "        #Eval set preparation\n",
    "        eval_set = [(X_train, y_train)]\n",
    "       # eval_names = ['train']\n",
    "        eval_set.append((X_valid, y_valid))\n",
    "       # eval_names.append('valid')\n",
    "    \n",
    "        model = cat.CatBoostClassifier()\n",
    "        model.fit(X=X_train, y=y_train, \n",
    "                       eval_set=eval_set, \n",
    "                       verbose=500, early_stopping_rounds=150,\n",
    "                      cat_features=cat_features, use_best_model=True, plot=True)\n",
    "        \n",
    "        oof_pred[valid_index] = model.predict(X_valid).reshape(-1, n_target)\n",
    "        models.append(model)\n",
    "    \n",
    "        print('-'*30)\n",
    "        \n",
    "        scores.append(cohen_kappa_score(y_valid, oof_pred[valid_index], weights='quadratic'))\n",
    "        f1_scores.append(f1_score(y_valid, oof_pred[valid_index],   average=None))\n",
    "        accuracy_scores.append(accuracy_score(y_valid, oof_pred[valid_index]))\n",
    "        precision_scores.append(precision_score(y_valid, oof_pred[valid_index],   average=None))\n",
    "        recall_scores.append(recall_score(y_valid, oof_pred[valid_index],   average=None))\n",
    "\n",
    "    print(f'catb fold kappa scores: {scores}')\n",
    "    print(f'catb fold kappa scores mean: {np.mean(scores)}')\n",
    "    print(f'catb fold f1 scores: {f1_scores}')\n",
    "    print(f'catb fold f1 scores mean: {np.mean(f1_scores)}')\n",
    "    print(f'catb fold precision-micro scores: {precision_scores}')\n",
    "    print(f'catb fold precision-micro scores mean: {np.mean(precision_scores)}')\n",
    "    print(f'catb fold recall-micro scores: {recall_scores}')\n",
    "    print(f'catb fold recall-micro scores mean: {np.mean(recall_scores)}')\n",
    "    print(f'catb fold accuracy scores: {accuracy_scores}')\n",
    "    print(f'catb fold accuracy scores mean: {np.mean(accuracy_scores)}')\n",
    "   \n",
    "    return models, oof_pred\n"
   ]
  },
  {
   "cell_type": "code",
   "execution_count": 17,
   "id": "588fb38d-7bff-4070-bb49-6f6d53850483",
   "metadata": {
    "id": "588fb38d-7bff-4070-bb49-6f6d53850483",
    "outputId": "17452327-82a7-48c1-e676-5ae45f480ed0"
   },
   "outputs": [
    {
     "data": {
      "text/plain": [
       "Index(['DAY', 'School', 'SchoolType', 'StartTime', 'AvgMaxDailyTemp',\n",
       "       'AvgMinDailyTemp', 'AvgIndoorRelativeHumidity',\n",
       "       'IndoorTempDuringSurvey', 'Grade', 'Age', 'Gender', 'FormalClothing',\n",
       "       'TotalCLOwithChair', 'SwC', 'TSV', 'TPV', 'TCV', 'TSL', 'MC'],\n",
       "      dtype='object')"
      ]
     },
     "execution_count": 17,
     "metadata": {},
     "output_type": "execute_result"
    }
   ],
   "source": [
    "tsl_target_data.columns"
   ]
  },
  {
   "cell_type": "markdown",
   "id": "cfb45f11-b623-4e49-9718-f666cf2fb33b",
   "metadata": {
    "id": "cfb45f11-b623-4e49-9718-f666cf2fb33b"
   },
   "source": [
    "# Target: TSL"
   ]
  },
  {
   "cell_type": "code",
   "execution_count": 18,
   "id": "66c095fc-cc3a-4ac8-8400-cde83186276a",
   "metadata": {
    "colab": {
     "referenced_widgets": [
      "fa4c89ca93d14d828117005c1dafe130",
      "cf9d91526ddb40b08c9d193c7984980d",
      "6d8f640eae674c108e7e498d73b6310c",
      "97dc44a34f134e598b16ac4cfd90b756",
      "ed40c41a586e48f2ae47ce09d04b54aa"
     ]
    },
    "id": "66c095fc-cc3a-4ac8-8400-cde83186276a",
    "outputId": "1036be28-3756-4bb6-a548-e1d11605020e"
   },
   "outputs": [
    {
     "name": "stdout",
     "output_type": "stream",
     "text": [
      "Fold 1 started at Mon Jul 10 12:51:41 2023\n",
      "(408, 15)\n"
     ]
    },
    {
     "data": {
      "application/vnd.jupyter.widget-view+json": {
       "model_id": "9a1fd1d7063344f7a58dcceca200ab4c",
       "version_major": 2,
       "version_minor": 0
      },
      "text/plain": [
       "MetricVisualizer(layout=Layout(align_self='stretch', height='500px'))"
      ]
     },
     "metadata": {},
     "output_type": "display_data"
    },
    {
     "name": "stdout",
     "output_type": "stream",
     "text": [
      "Learning rate set to 0.109036\n",
      "0:\tlearn: 1.5072826\ttest: 1.5072826\ttest1: 1.5097920\tbest: 1.5097920 (0)\ttotal: 71.6ms\tremaining: 1m 11s\n"
     ]
    },
    {
     "name": "stdout",
     "output_type": "stream",
     "text": [
      "Stopped by overfitting detector  (150 iterations wait)\n",
      "\n",
      "bestTest = 1.02405308\n",
      "bestIteration = 128\n",
      "\n",
      "Shrink model to first 129 iterations.\n",
      "------------------------------\n",
      "Fold 2 started at Mon Jul 10 12:51:45 2023\n",
      "(816, 15)\n"
     ]
    },
    {
     "data": {
      "application/vnd.jupyter.widget-view+json": {
       "model_id": "4440897fb7fe423780dde30fcbf571bf",
       "version_major": 2,
       "version_minor": 0
      },
      "text/plain": [
       "MetricVisualizer(layout=Layout(align_self='stretch', height='500px'))"
      ]
     },
     "metadata": {},
     "output_type": "display_data"
    },
    {
     "name": "stdout",
     "output_type": "stream",
     "text": [
      "Learning rate set to 0.109036\n",
      "0:\tlearn: 1.5107554\ttest: 1.5100938\ttest1: 1.5157448\tbest: 1.5157448 (0)\ttotal: 19.4ms\tremaining: 19.4s\n",
      "Stopped by overfitting detector  (150 iterations wait)\n",
      "\n",
      "bestTest = 1.007865077\n",
      "bestIteration = 83\n",
      "\n",
      "Shrink model to first 84 iterations.\n",
      "------------------------------\n",
      "Fold 3 started at Mon Jul 10 12:51:49 2023\n",
      "(1224, 15)\n"
     ]
    },
    {
     "data": {
      "application/vnd.jupyter.widget-view+json": {
       "model_id": "06041ef09c0e49818ebef62b6db16c05",
       "version_major": 2,
       "version_minor": 0
      },
      "text/plain": [
       "MetricVisualizer(layout=Layout(align_self='stretch', height='500px'))"
      ]
     },
     "metadata": {},
     "output_type": "display_data"
    },
    {
     "name": "stdout",
     "output_type": "stream",
     "text": [
      "Learning rate set to 0.109036\n",
      "0:\tlearn: 1.5121100\ttest: 1.5112166\ttest1: 1.5131156\tbest: 1.5131156 (0)\ttotal: 18.5ms\tremaining: 18.5s\n",
      "Stopped by overfitting detector  (150 iterations wait)\n",
      "\n",
      "bestTest = 1.013753625\n",
      "bestIteration = 90\n",
      "\n",
      "Shrink model to first 91 iterations.\n",
      "------------------------------\n",
      "Fold 4 started at Mon Jul 10 12:51:53 2023\n",
      "(1631, 15)\n"
     ]
    },
    {
     "data": {
      "application/vnd.jupyter.widget-view+json": {
       "model_id": "e473e37db5f341f3b1e51f15309579a2",
       "version_major": 2,
       "version_minor": 0
      },
      "text/plain": [
       "MetricVisualizer(layout=Layout(align_self='stretch', height='500px'))"
      ]
     },
     "metadata": {},
     "output_type": "display_data"
    },
    {
     "name": "stdout",
     "output_type": "stream",
     "text": [
      "Learning rate set to 0.109038\n",
      "0:\tlearn: 1.5098577\ttest: 1.5082018\ttest1: 1.5086176\tbest: 1.5086176 (0)\ttotal: 13.5ms\tremaining: 13.5s\n",
      "Stopped by overfitting detector  (150 iterations wait)\n",
      "\n",
      "bestTest = 1.01887323\n",
      "bestIteration = 76\n",
      "\n",
      "Shrink model to first 77 iterations.\n",
      "------------------------------\n",
      "Fold 5 started at Mon Jul 10 12:51:56 2023\n",
      "(2038, 15)\n"
     ]
    },
    {
     "data": {
      "application/vnd.jupyter.widget-view+json": {
       "model_id": "3d0b6756b7d542b79ab5e27ff91b0826",
       "version_major": 2,
       "version_minor": 0
      },
      "text/plain": [
       "MetricVisualizer(layout=Layout(align_self='stretch', height='500px'))"
      ]
     },
     "metadata": {},
     "output_type": "display_data"
    },
    {
     "name": "stdout",
     "output_type": "stream",
     "text": [
      "Learning rate set to 0.109038\n",
      "0:\tlearn: 1.5118823\ttest: 1.5117573\ttest1: 1.5183548\tbest: 1.5183548 (0)\ttotal: 14.7ms\tremaining: 14.7s\n",
      "Stopped by overfitting detector  (150 iterations wait)\n",
      "\n",
      "bestTest = 1.026869583\n",
      "bestIteration = 89\n",
      "\n",
      "Shrink model to first 90 iterations.\n",
      "------------------------------\n",
      "catb fold kappa scores: [0.057017186609106374, 0.03497960246506393, 0.093810275293705, 0.06494617009220627, 0.028827297054476286]\n",
      "catb fold kappa scores mean: 0.05591610630291157\n",
      "catb fold f1 scores: [array([0.        , 0.        , 0.02702703, 0.71612903, 0.10714286]), array([0.        , 0.        , 0.02816901, 0.72063492, 0.03809524]), array([0.        , 0.        , 0.12345679, 0.7218543 , 0.16528926]), array([0.        , 0.        , 0.05714286, 0.72580645, 0.14035088]), array([0.        , 0.        , 0.07894737, 0.70860927, 0.14516129])]\n",
      "catb fold f1 scores mean: 0.18015266225662938\n",
      "catb fold precision-micro scores: [array([0.        , 0.        , 0.2       , 0.56923077, 0.46153846]), array([0.        , 0.        , 0.33333333, 0.5675    , 0.4       ]), array([0.        , 0.        , 0.38461538, 0.5844504 , 0.45454545]), array([0.        , 0.        , 1.        , 0.57692308, 0.53333333]), array([0.        , 0.        , 0.375     , 0.57219251, 0.36      ])]\n",
      "catb fold precision-micro scores mean: 0.29490650916134276\n",
      "catb fold recall-micro scores: [array([0.        , 0.        , 0.01449275, 0.96521739, 0.06060606]), array([0.        , 0.        , 0.01470588, 0.98695652, 0.02      ]), array([0.        , 0.        , 0.07352941, 0.94372294, 0.1010101 ]), array([0.        , 0.        , 0.02941176, 0.97826087, 0.08080808]), array([0.        , 0.        , 0.04411765, 0.93043478, 0.09090909])]\n",
      "catb fold recall-micro scores mean: 0.2133673320711684\n",
      "catb fold accuracy scores: [0.5612745098039216, 0.5637254901960784, 0.571078431372549, 0.5773955773955773, 0.5552825552825553]\n",
      "catb fold accuracy scores mean: 0.5657513128101364\n"
     ]
    }
   ],
   "source": [
    "# feature selection for Catboost\n",
    "models, oof_pred = oof_trainer(X=tsl_target_data,\n",
    "                    y=tsl_target_data.TSL,\n",
    "                    n_folds = 5,\n",
    "                   # params=params,\n",
    "                    del_cols=['TSV',\n",
    "       'TPV','TCV', 'TSL'],\n",
    "                    cat_features=cat_features.drop(columns=['TSV',\n",
    "       'TPV','TCV', 'TSL']).columns.values.tolist())"
   ]
  },
  {
   "cell_type": "markdown",
   "id": "6d10cb5a-5b26-4306-ad17-dc1d6cd285a7",
   "metadata": {
    "id": "6d10cb5a-5b26-4306-ad17-dc1d6cd285a7"
   },
   "source": [
    "## Feature importance"
   ]
  },
  {
   "cell_type": "code",
   "execution_count": 19,
   "id": "d6f69949-6906-4982-99e7-6070b849b1ea",
   "metadata": {
    "id": "d6f69949-6906-4982-99e7-6070b849b1ea",
    "outputId": "89fd45bb-be4a-48fc-a20b-80961728e100"
   },
   "outputs": [
    {
     "data": {
      "text/html": [
       "<div>\n",
       "<style scoped>\n",
       "    .dataframe tbody tr th:only-of-type {\n",
       "        vertical-align: middle;\n",
       "    }\n",
       "\n",
       "    .dataframe tbody tr th {\n",
       "        vertical-align: top;\n",
       "    }\n",
       "\n",
       "    .dataframe thead th {\n",
       "        text-align: right;\n",
       "    }\n",
       "</style>\n",
       "<table border=\"1\" class=\"dataframe\">\n",
       "  <thead>\n",
       "    <tr style=\"text-align: right;\">\n",
       "      <th></th>\n",
       "      <th>Feature Id</th>\n",
       "      <th>Importances</th>\n",
       "    </tr>\n",
       "  </thead>\n",
       "  <tbody>\n",
       "    <tr>\n",
       "      <th>0</th>\n",
       "      <td>School</td>\n",
       "      <td>19.998160</td>\n",
       "    </tr>\n",
       "    <tr>\n",
       "      <th>1</th>\n",
       "      <td>Grade</td>\n",
       "      <td>11.800103</td>\n",
       "    </tr>\n",
       "    <tr>\n",
       "      <th>2</th>\n",
       "      <td>StartTime</td>\n",
       "      <td>9.542289</td>\n",
       "    </tr>\n",
       "    <tr>\n",
       "      <th>3</th>\n",
       "      <td>DAY</td>\n",
       "      <td>8.015753</td>\n",
       "    </tr>\n",
       "    <tr>\n",
       "      <th>4</th>\n",
       "      <td>TotalCLOwithChair</td>\n",
       "      <td>6.116632</td>\n",
       "    </tr>\n",
       "    <tr>\n",
       "      <th>5</th>\n",
       "      <td>AvgMinDailyTemp</td>\n",
       "      <td>5.808420</td>\n",
       "    </tr>\n",
       "    <tr>\n",
       "      <th>6</th>\n",
       "      <td>AvgIndoorRelativeHumidity</td>\n",
       "      <td>5.705465</td>\n",
       "    </tr>\n",
       "    <tr>\n",
       "      <th>7</th>\n",
       "      <td>Gender</td>\n",
       "      <td>5.312033</td>\n",
       "    </tr>\n",
       "    <tr>\n",
       "      <th>8</th>\n",
       "      <td>Age</td>\n",
       "      <td>5.269012</td>\n",
       "    </tr>\n",
       "    <tr>\n",
       "      <th>9</th>\n",
       "      <td>SwC</td>\n",
       "      <td>5.025933</td>\n",
       "    </tr>\n",
       "    <tr>\n",
       "      <th>10</th>\n",
       "      <td>IndoorTempDuringSurvey</td>\n",
       "      <td>4.668104</td>\n",
       "    </tr>\n",
       "    <tr>\n",
       "      <th>11</th>\n",
       "      <td>MC</td>\n",
       "      <td>4.381913</td>\n",
       "    </tr>\n",
       "    <tr>\n",
       "      <th>12</th>\n",
       "      <td>AvgMaxDailyTemp</td>\n",
       "      <td>3.579531</td>\n",
       "    </tr>\n",
       "    <tr>\n",
       "      <th>13</th>\n",
       "      <td>FormalClothing</td>\n",
       "      <td>3.021002</td>\n",
       "    </tr>\n",
       "    <tr>\n",
       "      <th>14</th>\n",
       "      <td>SchoolType</td>\n",
       "      <td>1.755649</td>\n",
       "    </tr>\n",
       "  </tbody>\n",
       "</table>\n",
       "</div>"
      ],
      "text/plain": [
       "                   Feature Id  Importances\n",
       "0                      School    19.998160\n",
       "1                       Grade    11.800103\n",
       "2                   StartTime     9.542289\n",
       "3                         DAY     8.015753\n",
       "4           TotalCLOwithChair     6.116632\n",
       "5             AvgMinDailyTemp     5.808420\n",
       "6   AvgIndoorRelativeHumidity     5.705465\n",
       "7                      Gender     5.312033\n",
       "8                         Age     5.269012\n",
       "9                         SwC     5.025933\n",
       "10     IndoorTempDuringSurvey     4.668104\n",
       "11                         MC     4.381913\n",
       "12            AvgMaxDailyTemp     3.579531\n",
       "13             FormalClothing     3.021002\n",
       "14                 SchoolType     1.755649"
      ]
     },
     "execution_count": 19,
     "metadata": {},
     "output_type": "execute_result"
    }
   ],
   "source": [
    "best_gb_model = models[1]\n",
    "best_gb_model.get_feature_importance(prettified=True)"
   ]
  },
  {
   "cell_type": "markdown",
   "id": "d8259b1e-582b-496a-bbd1-c52ceee40ebb",
   "metadata": {
    "id": "d8259b1e-582b-496a-bbd1-c52ceee40ebb"
   },
   "source": [
    "# Target: TPV"
   ]
  },
  {
   "cell_type": "code",
   "execution_count": null,
   "id": "a9691056-e88c-44f7-80c6-3a322c0f6099",
   "metadata": {
    "id": "a9691056-e88c-44f7-80c6-3a322c0f6099"
   },
   "outputs": [],
   "source": []
  },
  {
   "cell_type": "code",
   "execution_count": 20,
   "id": "67f17f9a-c3ed-452d-915a-ce83c4b31577",
   "metadata": {
    "colab": {
     "referenced_widgets": [
      "fbf29688de22491f889c97a9d0b7d263",
      "17b2b3b9bf294869b7445a50a000b6b9",
      "3723d98ea0464762abd9e93ea274a5ae",
      "72b84d62f8334814833b6f2f662b28d2",
      "96f30b05310a4561ac8297e0a4b79fd1"
     ]
    },
    "id": "67f17f9a-c3ed-452d-915a-ce83c4b31577",
    "outputId": "d76af3cc-6aa2-4205-ff2b-48b76d7f6dc7"
   },
   "outputs": [
    {
     "name": "stdout",
     "output_type": "stream",
     "text": [
      "Fold 1 started at Mon Jul 10 12:52:00 2023\n",
      "(406, 15)\n"
     ]
    },
    {
     "data": {
      "application/vnd.jupyter.widget-view+json": {
       "model_id": "c769889c9c12430db4aee83858db2c72",
       "version_major": 2,
       "version_minor": 0
      },
      "text/plain": [
       "MetricVisualizer(layout=Layout(align_self='stretch', height='500px'))"
      ]
     },
     "metadata": {},
     "output_type": "display_data"
    },
    {
     "name": "stdout",
     "output_type": "stream",
     "text": [
      "Learning rate set to 0.109027\n",
      "0:\tlearn: 1.0729293\ttest: 1.0728918\ttest1: 1.0775001\tbest: 1.0775001 (0)\ttotal: 8.35ms\tremaining: 8.34s\n",
      "Stopped by overfitting detector  (150 iterations wait)\n",
      "\n",
      "bestTest = 0.9427944145\n",
      "bestIteration = 101\n",
      "\n",
      "Shrink model to first 102 iterations.\n",
      "------------------------------\n",
      "Fold 2 started at Mon Jul 10 12:52:02 2023\n",
      "(812, 15)\n"
     ]
    },
    {
     "data": {
      "application/vnd.jupyter.widget-view+json": {
       "model_id": "78878a5fce524d8a8b76a4445856cca9",
       "version_major": 2,
       "version_minor": 0
      },
      "text/plain": [
       "MetricVisualizer(layout=Layout(align_self='stretch', height='500px'))"
      ]
     },
     "metadata": {},
     "output_type": "display_data"
    },
    {
     "name": "stdout",
     "output_type": "stream",
     "text": [
      "Learning rate set to 0.109027\n",
      "0:\tlearn: 1.0739089\ttest: 1.0738210\ttest1: 1.0753535\tbest: 1.0753535 (0)\ttotal: 8.42ms\tremaining: 8.41s\n",
      "Stopped by overfitting detector  (150 iterations wait)\n",
      "\n",
      "bestTest = 0.9266242668\n",
      "bestIteration = 141\n",
      "\n",
      "Shrink model to first 142 iterations.\n",
      "------------------------------\n",
      "Fold 3 started at Mon Jul 10 12:52:04 2023\n",
      "(1218, 15)\n"
     ]
    },
    {
     "data": {
      "application/vnd.jupyter.widget-view+json": {
       "model_id": "39da61815a844bc0a3ec546cb462db3e",
       "version_major": 2,
       "version_minor": 0
      },
      "text/plain": [
       "MetricVisualizer(layout=Layout(align_self='stretch', height='500px'))"
      ]
     },
     "metadata": {},
     "output_type": "display_data"
    },
    {
     "name": "stdout",
     "output_type": "stream",
     "text": [
      "Learning rate set to 0.109027\n",
      "0:\tlearn: 1.0738153\ttest: 1.0737679\ttest1: 1.0759797\tbest: 1.0759797 (0)\ttotal: 6.8ms\tremaining: 6.79s\n",
      "Stopped by overfitting detector  (150 iterations wait)\n",
      "\n",
      "bestTest = 0.9326691302\n",
      "bestIteration = 75\n",
      "\n",
      "Shrink model to first 76 iterations.\n",
      "------------------------------\n",
      "Fold 4 started at Mon Jul 10 12:52:06 2023\n",
      "(1624, 15)\n"
     ]
    },
    {
     "data": {
      "application/vnd.jupyter.widget-view+json": {
       "model_id": "a10431d8e87249539cfa3482d1a274ae",
       "version_major": 2,
       "version_minor": 0
      },
      "text/plain": [
       "MetricVisualizer(layout=Layout(align_self='stretch', height='500px'))"
      ]
     },
     "metadata": {},
     "output_type": "display_data"
    },
    {
     "name": "stdout",
     "output_type": "stream",
     "text": [
      "Learning rate set to 0.109027\n",
      "0:\tlearn: 1.0720036\ttest: 1.0720675\ttest1: 1.0763663\tbest: 1.0763663 (0)\ttotal: 7.05ms\tremaining: 7.04s\n",
      "Stopped by overfitting detector  (150 iterations wait)\n",
      "\n",
      "bestTest = 0.9454244007\n",
      "bestIteration = 141\n",
      "\n",
      "Shrink model to first 142 iterations.\n",
      "------------------------------\n",
      "Fold 5 started at Mon Jul 10 12:52:08 2023\n",
      "(2029, 15)\n"
     ]
    },
    {
     "data": {
      "application/vnd.jupyter.widget-view+json": {
       "model_id": "000b6ddab1e24cfe80ec045738f78838",
       "version_major": 2,
       "version_minor": 0
      },
      "text/plain": [
       "MetricVisualizer(layout=Layout(align_self='stretch', height='500px'))"
      ]
     },
     "metadata": {},
     "output_type": "display_data"
    },
    {
     "name": "stdout",
     "output_type": "stream",
     "text": [
      "Learning rate set to 0.109028\n",
      "0:\tlearn: 1.0742956\ttest: 1.0739474\ttest1: 1.0746554\tbest: 1.0746554 (0)\ttotal: 7.29ms\tremaining: 7.29s\n",
      "Stopped by overfitting detector  (150 iterations wait)\n",
      "\n",
      "bestTest = 0.9208621455\n",
      "bestIteration = 137\n",
      "\n",
      "Shrink model to first 138 iterations.\n",
      "------------------------------\n",
      "catb fold kappa scores: [0.1867528066758506, 0.21980289820395105, 0.21392708299150076, 0.1170033797608403, 0.26686325101363806]\n",
      "catb fold kappa scores mean: 0.20086988372915612\n",
      "catb fold f1 scores: [array([0.52571429, 0.55860349, 0.19672131]), array([0.60309278, 0.54293629, 0.0952381 ]), array([0.54545455, 0.54679803, 0.07407407]), array([0.52486188, 0.5535248 , 0.14925373]), array([0.57464789, 0.53865337, 0.03703704])]\n",
      "catb fold f1 scores mean: 0.4044407739531379\n",
      "catb fold precision-micro scores: [array([0.51977401, 0.50678733, 0.75      ]), array([0.54672897, 0.53846154, 0.3       ]), array([0.53932584, 0.49115044, 1.        ]), array([0.50531915, 0.52216749, 0.33333333]), array([0.56043956, 0.48868778, 0.5       ])]\n",
      "catb fold precision-micro scores mean: 0.540145030027604\n",
      "catb fold recall-micro scores: [array([0.53179191, 0.62222222, 0.11320755]), array([0.67241379, 0.54748603, 0.05660377]), array([0.55172414, 0.61666667, 0.03846154]), array([0.54597701, 0.58888889, 0.09615385]), array([0.58959538, 0.6       , 0.01923077])]\n",
      "catb fold recall-micro scores mean: 0.4126949007775954\n",
      "catb fold accuracy scores: [0.5172413793103449, 0.5369458128078818, 0.5147783251231527, 0.5073891625615764, 0.5209876543209877]\n",
      "catb fold accuracy scores mean: 0.5194684668247888\n"
     ]
    }
   ],
   "source": [
    "# feature selection for Catboost\n",
    "# Remove all rows with TPV value -1\n",
    "models, oof_pred = oof_trainer(X=tsl_target_data[tsl_target_data.TPV != -1],\n",
    "                    y=tsl_target_data[tsl_target_data.TPV != -1].TPV,\n",
    "                    n_folds = 5,\n",
    "                   # params=params,\n",
    "                    del_cols=['TSV',\n",
    "       'TSL','TCV', 'TSL', 'TPV'],\n",
    "                    cat_features=cat_features.drop(columns=['TSV', 'TPV',\n",
    "       'TSL','TCV', 'TSL']).columns.values.tolist())"
   ]
  },
  {
   "cell_type": "code",
   "execution_count": 21,
   "id": "7c989c89-d9fe-4ab1-acea-6b9a20d27830",
   "metadata": {
    "id": "7c989c89-d9fe-4ab1-acea-6b9a20d27830",
    "outputId": "f52c0f64-84b1-4dd7-fa90-6e7be3da6dea"
   },
   "outputs": [
    {
     "data": {
      "text/html": [
       "<div>\n",
       "<style scoped>\n",
       "    .dataframe tbody tr th:only-of-type {\n",
       "        vertical-align: middle;\n",
       "    }\n",
       "\n",
       "    .dataframe tbody tr th {\n",
       "        vertical-align: top;\n",
       "    }\n",
       "\n",
       "    .dataframe thead th {\n",
       "        text-align: right;\n",
       "    }\n",
       "</style>\n",
       "<table border=\"1\" class=\"dataframe\">\n",
       "  <thead>\n",
       "    <tr style=\"text-align: right;\">\n",
       "      <th></th>\n",
       "      <th>Feature Id</th>\n",
       "      <th>Importances</th>\n",
       "    </tr>\n",
       "  </thead>\n",
       "  <tbody>\n",
       "    <tr>\n",
       "      <th>0</th>\n",
       "      <td>Grade</td>\n",
       "      <td>10.956935</td>\n",
       "    </tr>\n",
       "    <tr>\n",
       "      <th>1</th>\n",
       "      <td>School</td>\n",
       "      <td>10.853359</td>\n",
       "    </tr>\n",
       "    <tr>\n",
       "      <th>2</th>\n",
       "      <td>SwC</td>\n",
       "      <td>8.460011</td>\n",
       "    </tr>\n",
       "    <tr>\n",
       "      <th>3</th>\n",
       "      <td>TotalCLOwithChair</td>\n",
       "      <td>8.438712</td>\n",
       "    </tr>\n",
       "    <tr>\n",
       "      <th>4</th>\n",
       "      <td>StartTime</td>\n",
       "      <td>8.303472</td>\n",
       "    </tr>\n",
       "    <tr>\n",
       "      <th>5</th>\n",
       "      <td>DAY</td>\n",
       "      <td>8.128397</td>\n",
       "    </tr>\n",
       "    <tr>\n",
       "      <th>6</th>\n",
       "      <td>AvgIndoorRelativeHumidity</td>\n",
       "      <td>8.041712</td>\n",
       "    </tr>\n",
       "    <tr>\n",
       "      <th>7</th>\n",
       "      <td>AvgMaxDailyTemp</td>\n",
       "      <td>6.447507</td>\n",
       "    </tr>\n",
       "    <tr>\n",
       "      <th>8</th>\n",
       "      <td>AvgMinDailyTemp</td>\n",
       "      <td>6.427601</td>\n",
       "    </tr>\n",
       "    <tr>\n",
       "      <th>9</th>\n",
       "      <td>IndoorTempDuringSurvey</td>\n",
       "      <td>5.742568</td>\n",
       "    </tr>\n",
       "    <tr>\n",
       "      <th>10</th>\n",
       "      <td>Gender</td>\n",
       "      <td>5.483198</td>\n",
       "    </tr>\n",
       "    <tr>\n",
       "      <th>11</th>\n",
       "      <td>Age</td>\n",
       "      <td>5.458845</td>\n",
       "    </tr>\n",
       "    <tr>\n",
       "      <th>12</th>\n",
       "      <td>MC</td>\n",
       "      <td>4.357171</td>\n",
       "    </tr>\n",
       "    <tr>\n",
       "      <th>13</th>\n",
       "      <td>SchoolType</td>\n",
       "      <td>1.664219</td>\n",
       "    </tr>\n",
       "    <tr>\n",
       "      <th>14</th>\n",
       "      <td>FormalClothing</td>\n",
       "      <td>1.236292</td>\n",
       "    </tr>\n",
       "  </tbody>\n",
       "</table>\n",
       "</div>"
      ],
      "text/plain": [
       "                   Feature Id  Importances\n",
       "0                       Grade    10.956935\n",
       "1                      School    10.853359\n",
       "2                         SwC     8.460011\n",
       "3           TotalCLOwithChair     8.438712\n",
       "4                   StartTime     8.303472\n",
       "5                         DAY     8.128397\n",
       "6   AvgIndoorRelativeHumidity     8.041712\n",
       "7             AvgMaxDailyTemp     6.447507\n",
       "8             AvgMinDailyTemp     6.427601\n",
       "9      IndoorTempDuringSurvey     5.742568\n",
       "10                     Gender     5.483198\n",
       "11                        Age     5.458845\n",
       "12                         MC     4.357171\n",
       "13                 SchoolType     1.664219\n",
       "14             FormalClothing     1.236292"
      ]
     },
     "execution_count": 21,
     "metadata": {},
     "output_type": "execute_result"
    }
   ],
   "source": [
    "best_gb_model = models[1]\n",
    "best_gb_model.get_feature_importance(prettified=True)"
   ]
  },
  {
   "cell_type": "markdown",
   "id": "20020847-d228-4b9f-9f90-bc37c47eeea2",
   "metadata": {
    "id": "20020847-d228-4b9f-9f90-bc37c47eeea2"
   },
   "source": [
    "# Target: TSV"
   ]
  },
  {
   "cell_type": "code",
   "execution_count": 68,
   "id": "ea451229",
   "metadata": {},
   "outputs": [
    {
     "data": {
      "text/plain": [
       "['DAY', 'School', 'SchoolType', 'StartTime', 'Grade', 'Gender', 'SwC', 'MC']"
      ]
     },
     "execution_count": 68,
     "metadata": {},
     "output_type": "execute_result"
    }
   ],
   "source": [
    "cat_features.drop(columns=['TSV', 'TPV',\n",
    "       'TSL','TCV', 'TSL']).columns.values.tolist()"
   ]
  },
  {
   "cell_type": "code",
   "execution_count": 64,
   "id": "3b96787d-fa72-4e99-89d6-d1520cddc47e",
   "metadata": {
    "colab": {
     "referenced_widgets": [
      "1be23c3f4c05463fa785fc1c1e4b0adc",
      "caae0fb261b14639a0831aeefbe339a3",
      "4096c08fac364daa938f56275d94f231",
      "d371ff286b3c466fb3cbf11e12d442e1",
      "8cc5f4f3eed44c6a91172c6b36b82ad9"
     ]
    },
    "id": "3b96787d-fa72-4e99-89d6-d1520cddc47e",
    "outputId": "3e6052a1-82cc-40df-d4e2-6b5965bf3c08"
   },
   "outputs": [
    {
     "name": "stdout",
     "output_type": "stream",
     "text": [
      "Fold 1 started at Mon Jul 10 13:06:36 2023\n",
      "(408, 16)\n"
     ]
    },
    {
     "data": {
      "application/vnd.jupyter.widget-view+json": {
       "model_id": "ff44e36dfd2c4a748360bc272bbef677",
       "version_major": 2,
       "version_minor": 0
      },
      "text/plain": [
       "MetricVisualizer(layout=Layout(align_self='stretch', height='500px'))"
      ]
     },
     "metadata": {},
     "output_type": "display_data"
    },
    {
     "name": "stdout",
     "output_type": "stream",
     "text": [
      "Learning rate set to 0.109035\n",
      "0:\tlearn: 1.2765799\ttest: 1.2765799\ttest1: 1.2773045\tbest: 1.2773045 (0)\ttotal: 14.7ms\tremaining: 14.7s\n",
      "Stopped by overfitting detector  (150 iterations wait)\n",
      "\n",
      "bestTest = 0.7707619572\n",
      "bestIteration = 189\n",
      "\n",
      "Shrink model to first 190 iterations.\n",
      "------------------------------\n",
      "Fold 2 started at Mon Jul 10 13:06:40 2023\n",
      "(816, 16)\n"
     ]
    },
    {
     "data": {
      "application/vnd.jupyter.widget-view+json": {
       "model_id": "3eec470190364e95a333cf2f47ad70e9",
       "version_major": 2,
       "version_minor": 0
      },
      "text/plain": [
       "MetricVisualizer(layout=Layout(align_self='stretch', height='500px'))"
      ]
     },
     "metadata": {},
     "output_type": "display_data"
    },
    {
     "name": "stdout",
     "output_type": "stream",
     "text": [
      "Learning rate set to 0.109035\n",
      "0:\tlearn: 1.2826210\ttest: 1.2826312\ttest1: 1.2871060\tbest: 1.2871060 (0)\ttotal: 11.8ms\tremaining: 11.8s\n",
      "Stopped by overfitting detector  (150 iterations wait)\n",
      "\n",
      "bestTest = 0.8366526905\n",
      "bestIteration = 66\n",
      "\n",
      "Shrink model to first 67 iterations.\n",
      "------------------------------\n",
      "Fold 3 started at Mon Jul 10 13:06:42 2023\n",
      "(1223, 16)\n"
     ]
    },
    {
     "data": {
      "application/vnd.jupyter.widget-view+json": {
       "model_id": "4c63113269cb434b99efd75e17780f34",
       "version_major": 2,
       "version_minor": 0
      },
      "text/plain": [
       "MetricVisualizer(layout=Layout(align_self='stretch', height='500px'))"
      ]
     },
     "metadata": {},
     "output_type": "display_data"
    },
    {
     "name": "stdout",
     "output_type": "stream",
     "text": [
      "Learning rate set to 0.109036\n",
      "0:\tlearn: 1.2832266\ttest: 1.2833104\ttest1: 1.2894693\tbest: 1.2894693 (0)\ttotal: 11.9ms\tremaining: 11.9s\n",
      "Stopped by overfitting detector  (150 iterations wait)\n",
      "\n",
      "bestTest = 0.8175086642\n",
      "bestIteration = 124\n",
      "\n",
      "Shrink model to first 125 iterations.\n",
      "------------------------------\n",
      "Fold 4 started at Mon Jul 10 13:06:45 2023\n",
      "(1630, 16)\n"
     ]
    },
    {
     "data": {
      "application/vnd.jupyter.widget-view+json": {
       "model_id": "16758b05b8554bc78196e775313c0586",
       "version_major": 2,
       "version_minor": 0
      },
      "text/plain": [
       "MetricVisualizer(layout=Layout(align_self='stretch', height='500px'))"
      ]
     },
     "metadata": {},
     "output_type": "display_data"
    },
    {
     "name": "stdout",
     "output_type": "stream",
     "text": [
      "Learning rate set to 0.109036\n",
      "0:\tlearn: 1.2813820\ttest: 1.2813820\ttest1: 1.2833882\tbest: 1.2833882 (0)\ttotal: 10.1ms\tremaining: 10s\n",
      "Stopped by overfitting detector  (150 iterations wait)\n",
      "\n",
      "bestTest = 0.8118899596\n",
      "bestIteration = 98\n",
      "\n",
      "Shrink model to first 99 iterations.\n",
      "------------------------------\n",
      "Fold 5 started at Mon Jul 10 13:06:48 2023\n",
      "(2037, 16)\n"
     ]
    },
    {
     "data": {
      "application/vnd.jupyter.widget-view+json": {
       "model_id": "bd05d3a2d93e4e3d97ccfe225b89fac1",
       "version_major": 2,
       "version_minor": 0
      },
      "text/plain": [
       "MetricVisualizer(layout=Layout(align_self='stretch', height='500px'))"
      ]
     },
     "metadata": {},
     "output_type": "display_data"
    },
    {
     "name": "stdout",
     "output_type": "stream",
     "text": [
      "Learning rate set to 0.109036\n",
      "0:\tlearn: 1.2866891\ttest: 1.2866891\ttest1: 1.2862991\tbest: 1.2862991 (0)\ttotal: 10.1ms\tremaining: 10.1s\n",
      "Stopped by overfitting detector  (150 iterations wait)\n",
      "\n",
      "bestTest = 0.7725808097\n",
      "bestIteration = 108\n",
      "\n",
      "Shrink model to first 109 iterations.\n",
      "------------------------------\n",
      "catb fold kappa scores: [0.09229420885862605, 0.042872531418312265, 0.0894854586129753, 0.045990551862581275, 0.11755736103500036]\n",
      "catb fold kappa scores mean: 0.07764002235749905\n",
      "catb fold f1 scores: [array([0.0952381 , 0.23529412, 0.80870918, 0.125     ]), array([0.        , 0.13953488, 0.80182927, 0.        ]), array([0.        , 0.15503876, 0.8006135 , 0.        ]), array([0.        , 0.1459854 , 0.79256966, 0.        ]), array([0.        , 0.25185185, 0.81790123, 0.        ])]\n",
      "catb fold f1 scores mean: 0.25847829722911303\n",
      "catb fold precision-micro scores: [array([1.        , 0.53333333, 0.69892473, 0.2       ]), array([0.        , 0.39130435, 0.68311688, 0.        ]), array([0.        , 0.43478261, 0.68324607, 0.        ]), array([0.        , 0.3125    , 0.68266667, 0.        ]), array([0.        , 0.56666667, 0.70291777, 0.        ])]\n",
      "catb fold precision-micro scores mean: 0.34447295413349016\n",
      "catb fold recall-micro scores: [array([0.05      , 0.1509434 , 0.95940959, 0.09090909]), array([0.        , 0.08490566, 0.9704797 , 0.        ]), array([0.        , 0.09433962, 0.96666667, 0.        ]), array([0.        , 0.0952381 , 0.94464945, 0.        ]), array([0.        , 0.16190476, 0.97785978, 0.        ])]\n",
      "catb fold recall-micro scores mean: 0.27736529089745693\n",
      "catb fold accuracy scores: [0.6813725490196079, 0.6666666666666666, 0.6658476658476659, 0.6535626535626535, 0.6928746928746928]\n",
      "catb fold accuracy scores mean: 0.6720648455942574\n"
     ]
    }
   ],
   "source": [
    "models, oof_pred = oof_trainer(X=tsl_target_data[tsl_target_data.TSV != 2],\n",
    "                    y=tsl_target_data[tsl_target_data.TSV != 2].TSV,\n",
    "                    n_folds = 5,\n",
    "                   # params=params,\n",
    "                    del_cols=['TSV',\n",
    "       'TSL','TCV', 'TSL', 'TPV'],\n",
    "                    cat_features=cat_features.drop(columns=['TSV', 'TPV',\n",
    "       'TSL','TCV', 'TSL']).columns.values.tolist())"
   ]
  },
  {
   "cell_type": "code",
   "execution_count": 23,
   "id": "31a6f5f8-f542-4de6-8038-6ee26caa7eb5",
   "metadata": {
    "id": "31a6f5f8-f542-4de6-8038-6ee26caa7eb5",
    "outputId": "d54ffeaa-0e97-45d0-97ca-81f1534edf5c"
   },
   "outputs": [
    {
     "data": {
      "text/html": [
       "<div>\n",
       "<style scoped>\n",
       "    .dataframe tbody tr th:only-of-type {\n",
       "        vertical-align: middle;\n",
       "    }\n",
       "\n",
       "    .dataframe tbody tr th {\n",
       "        vertical-align: top;\n",
       "    }\n",
       "\n",
       "    .dataframe thead th {\n",
       "        text-align: right;\n",
       "    }\n",
       "</style>\n",
       "<table border=\"1\" class=\"dataframe\">\n",
       "  <thead>\n",
       "    <tr style=\"text-align: right;\">\n",
       "      <th></th>\n",
       "      <th>Feature Id</th>\n",
       "      <th>Importances</th>\n",
       "    </tr>\n",
       "  </thead>\n",
       "  <tbody>\n",
       "    <tr>\n",
       "      <th>0</th>\n",
       "      <td>TotalCLOwithChair</td>\n",
       "      <td>13.345440</td>\n",
       "    </tr>\n",
       "    <tr>\n",
       "      <th>1</th>\n",
       "      <td>School</td>\n",
       "      <td>12.587605</td>\n",
       "    </tr>\n",
       "    <tr>\n",
       "      <th>2</th>\n",
       "      <td>StartTime</td>\n",
       "      <td>10.889114</td>\n",
       "    </tr>\n",
       "    <tr>\n",
       "      <th>3</th>\n",
       "      <td>SwC</td>\n",
       "      <td>9.734356</td>\n",
       "    </tr>\n",
       "    <tr>\n",
       "      <th>4</th>\n",
       "      <td>Grade</td>\n",
       "      <td>8.030019</td>\n",
       "    </tr>\n",
       "    <tr>\n",
       "      <th>5</th>\n",
       "      <td>AvgIndoorRelativeHumidity</td>\n",
       "      <td>6.598697</td>\n",
       "    </tr>\n",
       "    <tr>\n",
       "      <th>6</th>\n",
       "      <td>DAY</td>\n",
       "      <td>6.537014</td>\n",
       "    </tr>\n",
       "    <tr>\n",
       "      <th>7</th>\n",
       "      <td>Age</td>\n",
       "      <td>5.637582</td>\n",
       "    </tr>\n",
       "    <tr>\n",
       "      <th>8</th>\n",
       "      <td>Gender</td>\n",
       "      <td>5.313421</td>\n",
       "    </tr>\n",
       "    <tr>\n",
       "      <th>9</th>\n",
       "      <td>IndoorTempDuringSurvey</td>\n",
       "      <td>4.850136</td>\n",
       "    </tr>\n",
       "    <tr>\n",
       "      <th>10</th>\n",
       "      <td>AvgMaxDailyTemp</td>\n",
       "      <td>4.598940</td>\n",
       "    </tr>\n",
       "    <tr>\n",
       "      <th>11</th>\n",
       "      <td>MC</td>\n",
       "      <td>4.365719</td>\n",
       "    </tr>\n",
       "    <tr>\n",
       "      <th>12</th>\n",
       "      <td>AvgMinDailyTemp</td>\n",
       "      <td>4.287507</td>\n",
       "    </tr>\n",
       "    <tr>\n",
       "      <th>13</th>\n",
       "      <td>FormalClothing</td>\n",
       "      <td>1.966471</td>\n",
       "    </tr>\n",
       "    <tr>\n",
       "      <th>14</th>\n",
       "      <td>SchoolType</td>\n",
       "      <td>1.257979</td>\n",
       "    </tr>\n",
       "  </tbody>\n",
       "</table>\n",
       "</div>"
      ],
      "text/plain": [
       "                   Feature Id  Importances\n",
       "0           TotalCLOwithChair    13.345440\n",
       "1                      School    12.587605\n",
       "2                   StartTime    10.889114\n",
       "3                         SwC     9.734356\n",
       "4                       Grade     8.030019\n",
       "5   AvgIndoorRelativeHumidity     6.598697\n",
       "6                         DAY     6.537014\n",
       "7                         Age     5.637582\n",
       "8                      Gender     5.313421\n",
       "9      IndoorTempDuringSurvey     4.850136\n",
       "10            AvgMaxDailyTemp     4.598940\n",
       "11                         MC     4.365719\n",
       "12            AvgMinDailyTemp     4.287507\n",
       "13             FormalClothing     1.966471\n",
       "14                 SchoolType     1.257979"
      ]
     },
     "execution_count": 23,
     "metadata": {},
     "output_type": "execute_result"
    }
   ],
   "source": [
    "best_gb_model = models[1]\n",
    "best_gb_model.get_feature_importance(prettified=True)"
   ]
  },
  {
   "cell_type": "markdown",
   "id": "78db6a5d-638f-40b0-898b-51628cc40b1b",
   "metadata": {
    "id": "78db6a5d-638f-40b0-898b-51628cc40b1b"
   },
   "source": [
    "# Target: TCV"
   ]
  },
  {
   "cell_type": "code",
   "execution_count": 24,
   "id": "2c0d20aa",
   "metadata": {},
   "outputs": [],
   "source": [
    "class_ = []\n",
    "for row in tsl_target_data['TCV']:\n",
    "    if row > -1:\n",
    "        class_.append(1)\n",
    "    else:\n",
    "        class_.append(0)"
   ]
  },
  {
   "cell_type": "code",
   "execution_count": 25,
   "id": "d8d37724",
   "metadata": {},
   "outputs": [],
   "source": [
    "tsl_target_data['class'] = class_ "
   ]
  },
  {
   "cell_type": "code",
   "execution_count": 26,
   "id": "04fdc990",
   "metadata": {},
   "outputs": [],
   "source": [
    "tsl_target_data['FormalClothing'] = tsl_target_data['FormalClothing'].astype(int)"
   ]
  },
  {
   "cell_type": "code",
   "execution_count": 27,
   "id": "559e1ac3",
   "metadata": {},
   "outputs": [
    {
     "data": {
      "text/html": [
       "<div>\n",
       "<style scoped>\n",
       "    .dataframe tbody tr th:only-of-type {\n",
       "        vertical-align: middle;\n",
       "    }\n",
       "\n",
       "    .dataframe tbody tr th {\n",
       "        vertical-align: top;\n",
       "    }\n",
       "\n",
       "    .dataframe thead th {\n",
       "        text-align: right;\n",
       "    }\n",
       "</style>\n",
       "<table border=\"1\" class=\"dataframe\">\n",
       "  <thead>\n",
       "    <tr style=\"text-align: right;\">\n",
       "      <th></th>\n",
       "      <th>DAY</th>\n",
       "      <th>School</th>\n",
       "      <th>SchoolType</th>\n",
       "      <th>StartTime</th>\n",
       "      <th>AvgMaxDailyTemp</th>\n",
       "      <th>AvgMinDailyTemp</th>\n",
       "      <th>AvgIndoorRelativeHumidity</th>\n",
       "      <th>IndoorTempDuringSurvey</th>\n",
       "      <th>Grade</th>\n",
       "      <th>Age</th>\n",
       "      <th>Gender</th>\n",
       "      <th>FormalClothing</th>\n",
       "      <th>TotalCLOwithChair</th>\n",
       "      <th>SwC</th>\n",
       "      <th>TSV</th>\n",
       "      <th>TPV</th>\n",
       "      <th>TCV</th>\n",
       "      <th>TSL</th>\n",
       "      <th>MC</th>\n",
       "      <th>class</th>\n",
       "    </tr>\n",
       "    <tr>\n",
       "      <th>Sno</th>\n",
       "      <th></th>\n",
       "      <th></th>\n",
       "      <th></th>\n",
       "      <th></th>\n",
       "      <th></th>\n",
       "      <th></th>\n",
       "      <th></th>\n",
       "      <th></th>\n",
       "      <th></th>\n",
       "      <th></th>\n",
       "      <th></th>\n",
       "      <th></th>\n",
       "      <th></th>\n",
       "      <th></th>\n",
       "      <th></th>\n",
       "      <th></th>\n",
       "      <th></th>\n",
       "      <th></th>\n",
       "      <th></th>\n",
       "      <th></th>\n",
       "    </tr>\n",
       "  </thead>\n",
       "  <tbody>\n",
       "    <tr>\n",
       "      <th>1</th>\n",
       "      <td>1</td>\n",
       "      <td>1</td>\n",
       "      <td>0</td>\n",
       "      <td>3</td>\n",
       "      <td>22.2</td>\n",
       "      <td>5.1</td>\n",
       "      <td>55.1</td>\n",
       "      <td>14.5</td>\n",
       "      <td>3</td>\n",
       "      <td>8</td>\n",
       "      <td>0</td>\n",
       "      <td>0</td>\n",
       "      <td>1.57</td>\n",
       "      <td>1</td>\n",
       "      <td>-1</td>\n",
       "      <td>2</td>\n",
       "      <td>2</td>\n",
       "      <td>1</td>\n",
       "      <td>2</td>\n",
       "      <td>1</td>\n",
       "    </tr>\n",
       "    <tr>\n",
       "      <th>2</th>\n",
       "      <td>1</td>\n",
       "      <td>1</td>\n",
       "      <td>0</td>\n",
       "      <td>3</td>\n",
       "      <td>22.2</td>\n",
       "      <td>5.1</td>\n",
       "      <td>55.1</td>\n",
       "      <td>14.5</td>\n",
       "      <td>3</td>\n",
       "      <td>8</td>\n",
       "      <td>0</td>\n",
       "      <td>0</td>\n",
       "      <td>1.21</td>\n",
       "      <td>1</td>\n",
       "      <td>-1</td>\n",
       "      <td>2</td>\n",
       "      <td>3</td>\n",
       "      <td>1</td>\n",
       "      <td>2</td>\n",
       "      <td>1</td>\n",
       "    </tr>\n",
       "    <tr>\n",
       "      <th>3</th>\n",
       "      <td>1</td>\n",
       "      <td>1</td>\n",
       "      <td>0</td>\n",
       "      <td>3</td>\n",
       "      <td>22.2</td>\n",
       "      <td>5.1</td>\n",
       "      <td>55.1</td>\n",
       "      <td>14.5</td>\n",
       "      <td>3</td>\n",
       "      <td>8</td>\n",
       "      <td>0</td>\n",
       "      <td>0</td>\n",
       "      <td>1.21</td>\n",
       "      <td>2</td>\n",
       "      <td>0</td>\n",
       "      <td>1</td>\n",
       "      <td>2</td>\n",
       "      <td>3</td>\n",
       "      <td>4</td>\n",
       "      <td>1</td>\n",
       "    </tr>\n",
       "    <tr>\n",
       "      <th>4</th>\n",
       "      <td>1</td>\n",
       "      <td>1</td>\n",
       "      <td>0</td>\n",
       "      <td>3</td>\n",
       "      <td>22.2</td>\n",
       "      <td>5.1</td>\n",
       "      <td>55.1</td>\n",
       "      <td>14.5</td>\n",
       "      <td>3</td>\n",
       "      <td>10</td>\n",
       "      <td>0</td>\n",
       "      <td>0</td>\n",
       "      <td>1.43</td>\n",
       "      <td>2</td>\n",
       "      <td>0</td>\n",
       "      <td>0</td>\n",
       "      <td>2</td>\n",
       "      <td>2</td>\n",
       "      <td>4</td>\n",
       "      <td>1</td>\n",
       "    </tr>\n",
       "    <tr>\n",
       "      <th>5</th>\n",
       "      <td>1</td>\n",
       "      <td>1</td>\n",
       "      <td>0</td>\n",
       "      <td>3</td>\n",
       "      <td>22.2</td>\n",
       "      <td>5.1</td>\n",
       "      <td>55.1</td>\n",
       "      <td>14.5</td>\n",
       "      <td>3</td>\n",
       "      <td>9</td>\n",
       "      <td>0</td>\n",
       "      <td>0</td>\n",
       "      <td>1.21</td>\n",
       "      <td>2</td>\n",
       "      <td>0</td>\n",
       "      <td>1</td>\n",
       "      <td>2</td>\n",
       "      <td>2</td>\n",
       "      <td>2</td>\n",
       "      <td>1</td>\n",
       "    </tr>\n",
       "    <tr>\n",
       "      <th>...</th>\n",
       "      <td>...</td>\n",
       "      <td>...</td>\n",
       "      <td>...</td>\n",
       "      <td>...</td>\n",
       "      <td>...</td>\n",
       "      <td>...</td>\n",
       "      <td>...</td>\n",
       "      <td>...</td>\n",
       "      <td>...</td>\n",
       "      <td>...</td>\n",
       "      <td>...</td>\n",
       "      <td>...</td>\n",
       "      <td>...</td>\n",
       "      <td>...</td>\n",
       "      <td>...</td>\n",
       "      <td>...</td>\n",
       "      <td>...</td>\n",
       "      <td>...</td>\n",
       "      <td>...</td>\n",
       "      <td>...</td>\n",
       "    </tr>\n",
       "    <tr>\n",
       "      <th>2034</th>\n",
       "      <td>2</td>\n",
       "      <td>5</td>\n",
       "      <td>1</td>\n",
       "      <td>3</td>\n",
       "      <td>20.6</td>\n",
       "      <td>4.6</td>\n",
       "      <td>52.4</td>\n",
       "      <td>14.9</td>\n",
       "      <td>5</td>\n",
       "      <td>11</td>\n",
       "      <td>1</td>\n",
       "      <td>0</td>\n",
       "      <td>1.43</td>\n",
       "      <td>2</td>\n",
       "      <td>0</td>\n",
       "      <td>0</td>\n",
       "      <td>2</td>\n",
       "      <td>2</td>\n",
       "      <td>4</td>\n",
       "      <td>1</td>\n",
       "    </tr>\n",
       "    <tr>\n",
       "      <th>2035</th>\n",
       "      <td>2</td>\n",
       "      <td>5</td>\n",
       "      <td>1</td>\n",
       "      <td>3</td>\n",
       "      <td>20.6</td>\n",
       "      <td>4.6</td>\n",
       "      <td>52.4</td>\n",
       "      <td>14.9</td>\n",
       "      <td>5</td>\n",
       "      <td>10</td>\n",
       "      <td>1</td>\n",
       "      <td>0</td>\n",
       "      <td>1.29</td>\n",
       "      <td>2</td>\n",
       "      <td>0</td>\n",
       "      <td>0</td>\n",
       "      <td>2</td>\n",
       "      <td>2</td>\n",
       "      <td>4</td>\n",
       "      <td>1</td>\n",
       "    </tr>\n",
       "    <tr>\n",
       "      <th>2036</th>\n",
       "      <td>2</td>\n",
       "      <td>5</td>\n",
       "      <td>1</td>\n",
       "      <td>3</td>\n",
       "      <td>20.6</td>\n",
       "      <td>4.6</td>\n",
       "      <td>52.4</td>\n",
       "      <td>14.9</td>\n",
       "      <td>5</td>\n",
       "      <td>10</td>\n",
       "      <td>0</td>\n",
       "      <td>0</td>\n",
       "      <td>1.43</td>\n",
       "      <td>2</td>\n",
       "      <td>0</td>\n",
       "      <td>1</td>\n",
       "      <td>3</td>\n",
       "      <td>2</td>\n",
       "      <td>4</td>\n",
       "      <td>1</td>\n",
       "    </tr>\n",
       "    <tr>\n",
       "      <th>2037</th>\n",
       "      <td>2</td>\n",
       "      <td>5</td>\n",
       "      <td>1</td>\n",
       "      <td>3</td>\n",
       "      <td>20.6</td>\n",
       "      <td>4.6</td>\n",
       "      <td>52.4</td>\n",
       "      <td>14.9</td>\n",
       "      <td>5</td>\n",
       "      <td>10</td>\n",
       "      <td>0</td>\n",
       "      <td>0</td>\n",
       "      <td>1.57</td>\n",
       "      <td>2</td>\n",
       "      <td>0</td>\n",
       "      <td>1</td>\n",
       "      <td>2</td>\n",
       "      <td>3</td>\n",
       "      <td>1</td>\n",
       "      <td>1</td>\n",
       "    </tr>\n",
       "    <tr>\n",
       "      <th>2038</th>\n",
       "      <td>2</td>\n",
       "      <td>5</td>\n",
       "      <td>1</td>\n",
       "      <td>3</td>\n",
       "      <td>20.6</td>\n",
       "      <td>4.6</td>\n",
       "      <td>52.4</td>\n",
       "      <td>14.9</td>\n",
       "      <td>5</td>\n",
       "      <td>10</td>\n",
       "      <td>1</td>\n",
       "      <td>0</td>\n",
       "      <td>1.12</td>\n",
       "      <td>2</td>\n",
       "      <td>0</td>\n",
       "      <td>1</td>\n",
       "      <td>2</td>\n",
       "      <td>2</td>\n",
       "      <td>4</td>\n",
       "      <td>1</td>\n",
       "    </tr>\n",
       "  </tbody>\n",
       "</table>\n",
       "<p>2038 rows × 20 columns</p>\n",
       "</div>"
      ],
      "text/plain": [
       "     DAY School SchoolType StartTime  AvgMaxDailyTemp  AvgMinDailyTemp  \\\n",
       "Sno                                                                      \n",
       "1      1      1          0         3             22.2              5.1   \n",
       "2      1      1          0         3             22.2              5.1   \n",
       "3      1      1          0         3             22.2              5.1   \n",
       "4      1      1          0         3             22.2              5.1   \n",
       "5      1      1          0         3             22.2              5.1   \n",
       "...   ..    ...        ...       ...              ...              ...   \n",
       "2034   2      5          1         3             20.6              4.6   \n",
       "2035   2      5          1         3             20.6              4.6   \n",
       "2036   2      5          1         3             20.6              4.6   \n",
       "2037   2      5          1         3             20.6              4.6   \n",
       "2038   2      5          1         3             20.6              4.6   \n",
       "\n",
       "      AvgIndoorRelativeHumidity  IndoorTempDuringSurvey Grade  Age Gender  \\\n",
       "Sno                                                                         \n",
       "1                          55.1                    14.5     3    8      0   \n",
       "2                          55.1                    14.5     3    8      0   \n",
       "3                          55.1                    14.5     3    8      0   \n",
       "4                          55.1                    14.5     3   10      0   \n",
       "5                          55.1                    14.5     3    9      0   \n",
       "...                         ...                     ...   ...  ...    ...   \n",
       "2034                       52.4                    14.9     5   11      1   \n",
       "2035                       52.4                    14.9     5   10      1   \n",
       "2036                       52.4                    14.9     5   10      0   \n",
       "2037                       52.4                    14.9     5   10      0   \n",
       "2038                       52.4                    14.9     5   10      1   \n",
       "\n",
       "      FormalClothing  TotalCLOwithChair SwC TSV TPV TCV TSL MC  class  \n",
       "Sno                                                                    \n",
       "1                  0               1.57   1  -1   2   2   1  2      1  \n",
       "2                  0               1.21   1  -1   2   3   1  2      1  \n",
       "3                  0               1.21   2   0   1   2   3  4      1  \n",
       "4                  0               1.43   2   0   0   2   2  4      1  \n",
       "5                  0               1.21   2   0   1   2   2  2      1  \n",
       "...              ...                ...  ..  ..  ..  ..  .. ..    ...  \n",
       "2034               0               1.43   2   0   0   2   2  4      1  \n",
       "2035               0               1.29   2   0   0   2   2  4      1  \n",
       "2036               0               1.43   2   0   1   3   2  4      1  \n",
       "2037               0               1.57   2   0   1   2   3  1      1  \n",
       "2038               0               1.12   2   0   1   2   2  4      1  \n",
       "\n",
       "[2038 rows x 20 columns]"
      ]
     },
     "execution_count": 27,
     "metadata": {},
     "output_type": "execute_result"
    }
   ],
   "source": [
    "tsl_target_data"
   ]
  },
  {
   "cell_type": "code",
   "execution_count": 28,
   "id": "a47e3289-a1d8-42d0-acec-65910b7d28b9",
   "metadata": {
    "colab": {
     "referenced_widgets": [
      "c99bcf1e46934fb6b9152369cc71b5ff",
      "6795ed2248894d9a8b24b648fb825dde",
      "67c0a16d6f97456e90f405cec234315c",
      "573f89aa137542adb20bc53e01fb855a",
      "a101bc33868d408cbff997a490c0401c"
     ]
    },
    "id": "a47e3289-a1d8-42d0-acec-65910b7d28b9",
    "outputId": "6f31d166-8d6e-49d2-c410-aef02360a554"
   },
   "outputs": [
    {
     "name": "stdout",
     "output_type": "stream",
     "text": [
      "Fold 1 started at Mon Jul 10 12:52:29 2023\n",
      "(408, 15)\n"
     ]
    },
    {
     "data": {
      "application/vnd.jupyter.widget-view+json": {
       "model_id": "ed530b673c4549119cdcdba66a51e472",
       "version_major": 2,
       "version_minor": 0
      },
      "text/plain": [
       "MetricVisualizer(layout=Layout(align_self='stretch', height='500px'))"
      ]
     },
     "metadata": {},
     "output_type": "display_data"
    },
    {
     "name": "stdout",
     "output_type": "stream",
     "text": [
      "Learning rate set to 0.035754\n",
      "0:\tlearn: 0.6183242\ttest: 0.6183242\ttest1: 0.6172994\tbest: 0.6172994 (0)\ttotal: 10.4ms\tremaining: 10.4s\n"
     ]
    },
    {
     "name": "stdout",
     "output_type": "stream",
     "text": [
      "Stopped by overfitting detector  (150 iterations wait)\n",
      "\n",
      "bestTest = 0.07166004531\n",
      "bestIteration = 174\n",
      "\n",
      "Shrink model to first 175 iterations.\n",
      "------------------------------\n",
      "Fold 2 started at Mon Jul 10 12:52:32 2023\n",
      "(816, 15)\n"
     ]
    },
    {
     "data": {
      "application/vnd.jupyter.widget-view+json": {
       "model_id": "5cc0cee9baf14f83ba56d4a80a6f782a",
       "version_major": 2,
       "version_minor": 0
      },
      "text/plain": [
       "MetricVisualizer(layout=Layout(align_self='stretch', height='500px'))"
      ]
     },
     "metadata": {},
     "output_type": "display_data"
    },
    {
     "name": "stdout",
     "output_type": "stream",
     "text": [
      "Learning rate set to 0.035754\n",
      "0:\tlearn: 0.6242657\ttest: 0.6242657\ttest1: 0.6254584\tbest: 0.6254584 (0)\ttotal: 8.99ms\tremaining: 8.98s\n",
      "Stopped by overfitting detector  (150 iterations wait)\n",
      "\n",
      "bestTest = 0.06991458018\n",
      "bestIteration = 262\n",
      "\n",
      "Shrink model to first 263 iterations.\n",
      "------------------------------\n",
      "Fold 3 started at Mon Jul 10 12:52:35 2023\n",
      "(1224, 15)\n"
     ]
    },
    {
     "data": {
      "application/vnd.jupyter.widget-view+json": {
       "model_id": "b53ac5b5e3f64273b89c31ec5ed080cf",
       "version_major": 2,
       "version_minor": 0
      },
      "text/plain": [
       "MetricVisualizer(layout=Layout(align_self='stretch', height='500px'))"
      ]
     },
     "metadata": {},
     "output_type": "display_data"
    },
    {
     "name": "stdout",
     "output_type": "stream",
     "text": [
      "Learning rate set to 0.035754\n",
      "0:\tlearn: 0.6245395\ttest: 0.6245395\ttest1: 0.6263032\tbest: 0.6263032 (0)\ttotal: 9.57ms\tremaining: 9.56s\n",
      "Stopped by overfitting detector  (150 iterations wait)\n",
      "\n",
      "bestTest = 0.07438790622\n",
      "bestIteration = 76\n",
      "\n",
      "Shrink model to first 77 iterations.\n",
      "------------------------------\n",
      "Fold 4 started at Mon Jul 10 12:52:36 2023\n",
      "(1631, 15)\n"
     ]
    },
    {
     "data": {
      "application/vnd.jupyter.widget-view+json": {
       "model_id": "11daaae12ac1409da4ac59e2cc7b230b",
       "version_major": 2,
       "version_minor": 0
      },
      "text/plain": [
       "MetricVisualizer(layout=Layout(align_self='stretch', height='500px'))"
      ]
     },
     "metadata": {},
     "output_type": "display_data"
    },
    {
     "name": "stdout",
     "output_type": "stream",
     "text": [
      "Learning rate set to 0.035759\n",
      "0:\tlearn: 0.6173694\ttest: 0.6173694\ttest1: 0.6175864\tbest: 0.6175864 (0)\ttotal: 9.51ms\tremaining: 9.51s\n",
      "Stopped by overfitting detector  (150 iterations wait)\n",
      "\n",
      "bestTest = 0.06271627112\n",
      "bestIteration = 266\n",
      "\n",
      "Shrink model to first 267 iterations.\n",
      "------------------------------\n",
      "Fold 5 started at Mon Jul 10 12:52:39 2023\n",
      "(2038, 15)\n"
     ]
    },
    {
     "data": {
      "application/vnd.jupyter.widget-view+json": {
       "model_id": "539e2da086d24ddcb5aaf628d121b5b8",
       "version_major": 2,
       "version_minor": 0
      },
      "text/plain": [
       "MetricVisualizer(layout=Layout(align_self='stretch', height='500px'))"
      ]
     },
     "metadata": {},
     "output_type": "display_data"
    },
    {
     "name": "stdout",
     "output_type": "stream",
     "text": [
      "Learning rate set to 0.035759\n",
      "0:\tlearn: 0.6191231\ttest: 0.6191231\ttest1: 0.6188847\tbest: 0.6188847 (0)\ttotal: 9.09ms\tremaining: 9.08s\n",
      "Stopped by overfitting detector  (150 iterations wait)\n",
      "\n",
      "bestTest = 0.06955634346\n",
      "bestIteration = 247\n",
      "\n",
      "Shrink model to first 248 iterations.\n",
      "------------------------------\n",
      "catb fold kappa scores: [0.0, -0.00421940928270037, 0.0, 0.0, 0.0]\n",
      "catb fold kappa scores mean: -0.0008438818565400741\n",
      "catb fold f1 scores: [array([0.        , 0.99259259]), array([0.        , 0.99134734]), array([0.        , 0.99259259]), array([0.        , 0.99381953]), array([0.        , 0.99257426])]\n",
      "catb fold f1 scores mean: 0.4962926315293251\n",
      "catb fold precision-micro scores: [array([0.        , 0.98529412]), array([0.        , 0.98525799]), array([0.        , 0.98529412]), array([0.        , 0.98771499]), array([0.        , 0.98525799])]\n",
      "catb fold precision-micro scores mean: 0.4928819193525076\n",
      "catb fold recall-micro scores: [array([0., 1.]), array([0.        , 0.99751244]), array([0., 1.]), array([0., 1.]), array([0., 1.])]\n",
      "catb fold recall-micro scores mean: 0.49975124378109453\n",
      "catb fold accuracy scores: [0.9852941176470589, 0.9828431372549019, 0.9852941176470589, 0.9877149877149877, 0.9852579852579852]\n",
      "catb fold accuracy scores mean: 0.9852808691043986\n"
     ]
    }
   ],
   "source": [
    "models, oof_pred = oof_trainer(X=tsl_target_data.loc[:, tsl_target_data.columns != 'class'],\n",
    "                    y=tsl_target_data['class'],\n",
    "                    n_folds = 5,\n",
    "                   # params=params,\n",
    "                    del_cols=['TSV',\n",
    "       'TSL','TCV', 'TSL', 'TPV'],\n",
    "                    cat_features=cat_features.drop(columns=['TSV', 'TPV',\n",
    "       'TSL','TCV', 'TSL']).columns.values.tolist())"
   ]
  },
  {
   "cell_type": "code",
   "execution_count": 52,
   "id": "44302a28-73ad-481f-bb2c-157ee3b5632d",
   "metadata": {
    "id": "44302a28-73ad-481f-bb2c-157ee3b5632d",
    "outputId": "217a9b68-a9b6-45ef-8a14-bdf111477f7e"
   },
   "outputs": [
    {
     "data": {
      "text/html": [
       "<div>\n",
       "<style scoped>\n",
       "    .dataframe tbody tr th:only-of-type {\n",
       "        vertical-align: middle;\n",
       "    }\n",
       "\n",
       "    .dataframe tbody tr th {\n",
       "        vertical-align: top;\n",
       "    }\n",
       "\n",
       "    .dataframe thead th {\n",
       "        text-align: right;\n",
       "    }\n",
       "</style>\n",
       "<table border=\"1\" class=\"dataframe\">\n",
       "  <thead>\n",
       "    <tr style=\"text-align: right;\">\n",
       "      <th></th>\n",
       "      <th>Feature Id</th>\n",
       "      <th>Importances</th>\n",
       "    </tr>\n",
       "  </thead>\n",
       "  <tbody>\n",
       "    <tr>\n",
       "      <th>0</th>\n",
       "      <td>AvgIndoorRelativeHumidity</td>\n",
       "      <td>14.240128</td>\n",
       "    </tr>\n",
       "    <tr>\n",
       "      <th>1</th>\n",
       "      <td>TotalCLOwithChair</td>\n",
       "      <td>13.756163</td>\n",
       "    </tr>\n",
       "    <tr>\n",
       "      <th>2</th>\n",
       "      <td>IndoorTempDuringSurvey</td>\n",
       "      <td>10.691961</td>\n",
       "    </tr>\n",
       "    <tr>\n",
       "      <th>3</th>\n",
       "      <td>Age</td>\n",
       "      <td>8.929140</td>\n",
       "    </tr>\n",
       "    <tr>\n",
       "      <th>4</th>\n",
       "      <td>MC</td>\n",
       "      <td>7.072053</td>\n",
       "    </tr>\n",
       "    <tr>\n",
       "      <th>5</th>\n",
       "      <td>Gender</td>\n",
       "      <td>6.844575</td>\n",
       "    </tr>\n",
       "    <tr>\n",
       "      <th>6</th>\n",
       "      <td>AvgMaxDailyTemp</td>\n",
       "      <td>6.066000</td>\n",
       "    </tr>\n",
       "    <tr>\n",
       "      <th>7</th>\n",
       "      <td>School</td>\n",
       "      <td>5.879751</td>\n",
       "    </tr>\n",
       "    <tr>\n",
       "      <th>8</th>\n",
       "      <td>AvgMinDailyTemp</td>\n",
       "      <td>5.571575</td>\n",
       "    </tr>\n",
       "    <tr>\n",
       "      <th>9</th>\n",
       "      <td>SchoolType</td>\n",
       "      <td>5.543010</td>\n",
       "    </tr>\n",
       "    <tr>\n",
       "      <th>10</th>\n",
       "      <td>StartTime</td>\n",
       "      <td>4.150844</td>\n",
       "    </tr>\n",
       "    <tr>\n",
       "      <th>11</th>\n",
       "      <td>SwC</td>\n",
       "      <td>3.655562</td>\n",
       "    </tr>\n",
       "    <tr>\n",
       "      <th>12</th>\n",
       "      <td>DAY</td>\n",
       "      <td>3.130107</td>\n",
       "    </tr>\n",
       "    <tr>\n",
       "      <th>13</th>\n",
       "      <td>FormalClothing</td>\n",
       "      <td>2.861623</td>\n",
       "    </tr>\n",
       "    <tr>\n",
       "      <th>14</th>\n",
       "      <td>Grade</td>\n",
       "      <td>1.607506</td>\n",
       "    </tr>\n",
       "  </tbody>\n",
       "</table>\n",
       "</div>"
      ],
      "text/plain": [
       "                   Feature Id  Importances\n",
       "0   AvgIndoorRelativeHumidity    14.240128\n",
       "1           TotalCLOwithChair    13.756163\n",
       "2      IndoorTempDuringSurvey    10.691961\n",
       "3                         Age     8.929140\n",
       "4                          MC     7.072053\n",
       "5                      Gender     6.844575\n",
       "6             AvgMaxDailyTemp     6.066000\n",
       "7                      School     5.879751\n",
       "8             AvgMinDailyTemp     5.571575\n",
       "9                  SchoolType     5.543010\n",
       "10                  StartTime     4.150844\n",
       "11                        SwC     3.655562\n",
       "12                        DAY     3.130107\n",
       "13             FormalClothing     2.861623\n",
       "14                      Grade     1.607506"
      ]
     },
     "execution_count": 52,
     "metadata": {},
     "output_type": "execute_result"
    }
   ],
   "source": [
    "best_gb_model = models[0]\n",
    "best_gb_model.get_feature_importance(prettified=True)"
   ]
  },
  {
   "cell_type": "code",
   "execution_count": 30,
   "id": "5bc7b1af",
   "metadata": {},
   "outputs": [],
   "source": [
    "d = tsl_target_data.drop(['TPV','TSV','TSL','class'], axis=1)"
   ]
  },
  {
   "cell_type": "code",
   "execution_count": 31,
   "id": "f9e318f2",
   "metadata": {},
   "outputs": [],
   "source": [
    "d['FormalClothing'] = d['FormalClothing'].astype(int)"
   ]
  },
  {
   "cell_type": "code",
   "execution_count": 32,
   "id": "3f93e355",
   "metadata": {},
   "outputs": [
    {
     "data": {
      "text/html": [
       "<div>\n",
       "<style scoped>\n",
       "    .dataframe tbody tr th:only-of-type {\n",
       "        vertical-align: middle;\n",
       "    }\n",
       "\n",
       "    .dataframe tbody tr th {\n",
       "        vertical-align: top;\n",
       "    }\n",
       "\n",
       "    .dataframe thead th {\n",
       "        text-align: right;\n",
       "    }\n",
       "</style>\n",
       "<table border=\"1\" class=\"dataframe\">\n",
       "  <thead>\n",
       "    <tr style=\"text-align: right;\">\n",
       "      <th></th>\n",
       "      <th>DAY</th>\n",
       "      <th>School</th>\n",
       "      <th>SchoolType</th>\n",
       "      <th>StartTime</th>\n",
       "      <th>AvgMaxDailyTemp</th>\n",
       "      <th>AvgMinDailyTemp</th>\n",
       "      <th>AvgIndoorRelativeHumidity</th>\n",
       "      <th>IndoorTempDuringSurvey</th>\n",
       "      <th>Grade</th>\n",
       "      <th>Age</th>\n",
       "      <th>Gender</th>\n",
       "      <th>FormalClothing</th>\n",
       "      <th>TotalCLOwithChair</th>\n",
       "      <th>SwC</th>\n",
       "      <th>TCV</th>\n",
       "      <th>MC</th>\n",
       "    </tr>\n",
       "    <tr>\n",
       "      <th>Sno</th>\n",
       "      <th></th>\n",
       "      <th></th>\n",
       "      <th></th>\n",
       "      <th></th>\n",
       "      <th></th>\n",
       "      <th></th>\n",
       "      <th></th>\n",
       "      <th></th>\n",
       "      <th></th>\n",
       "      <th></th>\n",
       "      <th></th>\n",
       "      <th></th>\n",
       "      <th></th>\n",
       "      <th></th>\n",
       "      <th></th>\n",
       "      <th></th>\n",
       "    </tr>\n",
       "  </thead>\n",
       "  <tbody>\n",
       "    <tr>\n",
       "      <th>1</th>\n",
       "      <td>1</td>\n",
       "      <td>1</td>\n",
       "      <td>0</td>\n",
       "      <td>3</td>\n",
       "      <td>22.2</td>\n",
       "      <td>5.1</td>\n",
       "      <td>55.1</td>\n",
       "      <td>14.5</td>\n",
       "      <td>3</td>\n",
       "      <td>8</td>\n",
       "      <td>0</td>\n",
       "      <td>0</td>\n",
       "      <td>1.57</td>\n",
       "      <td>1</td>\n",
       "      <td>2</td>\n",
       "      <td>2</td>\n",
       "    </tr>\n",
       "    <tr>\n",
       "      <th>2</th>\n",
       "      <td>1</td>\n",
       "      <td>1</td>\n",
       "      <td>0</td>\n",
       "      <td>3</td>\n",
       "      <td>22.2</td>\n",
       "      <td>5.1</td>\n",
       "      <td>55.1</td>\n",
       "      <td>14.5</td>\n",
       "      <td>3</td>\n",
       "      <td>8</td>\n",
       "      <td>0</td>\n",
       "      <td>0</td>\n",
       "      <td>1.21</td>\n",
       "      <td>1</td>\n",
       "      <td>3</td>\n",
       "      <td>2</td>\n",
       "    </tr>\n",
       "    <tr>\n",
       "      <th>3</th>\n",
       "      <td>1</td>\n",
       "      <td>1</td>\n",
       "      <td>0</td>\n",
       "      <td>3</td>\n",
       "      <td>22.2</td>\n",
       "      <td>5.1</td>\n",
       "      <td>55.1</td>\n",
       "      <td>14.5</td>\n",
       "      <td>3</td>\n",
       "      <td>8</td>\n",
       "      <td>0</td>\n",
       "      <td>0</td>\n",
       "      <td>1.21</td>\n",
       "      <td>2</td>\n",
       "      <td>2</td>\n",
       "      <td>4</td>\n",
       "    </tr>\n",
       "    <tr>\n",
       "      <th>4</th>\n",
       "      <td>1</td>\n",
       "      <td>1</td>\n",
       "      <td>0</td>\n",
       "      <td>3</td>\n",
       "      <td>22.2</td>\n",
       "      <td>5.1</td>\n",
       "      <td>55.1</td>\n",
       "      <td>14.5</td>\n",
       "      <td>3</td>\n",
       "      <td>10</td>\n",
       "      <td>0</td>\n",
       "      <td>0</td>\n",
       "      <td>1.43</td>\n",
       "      <td>2</td>\n",
       "      <td>2</td>\n",
       "      <td>4</td>\n",
       "    </tr>\n",
       "    <tr>\n",
       "      <th>5</th>\n",
       "      <td>1</td>\n",
       "      <td>1</td>\n",
       "      <td>0</td>\n",
       "      <td>3</td>\n",
       "      <td>22.2</td>\n",
       "      <td>5.1</td>\n",
       "      <td>55.1</td>\n",
       "      <td>14.5</td>\n",
       "      <td>3</td>\n",
       "      <td>9</td>\n",
       "      <td>0</td>\n",
       "      <td>0</td>\n",
       "      <td>1.21</td>\n",
       "      <td>2</td>\n",
       "      <td>2</td>\n",
       "      <td>2</td>\n",
       "    </tr>\n",
       "    <tr>\n",
       "      <th>...</th>\n",
       "      <td>...</td>\n",
       "      <td>...</td>\n",
       "      <td>...</td>\n",
       "      <td>...</td>\n",
       "      <td>...</td>\n",
       "      <td>...</td>\n",
       "      <td>...</td>\n",
       "      <td>...</td>\n",
       "      <td>...</td>\n",
       "      <td>...</td>\n",
       "      <td>...</td>\n",
       "      <td>...</td>\n",
       "      <td>...</td>\n",
       "      <td>...</td>\n",
       "      <td>...</td>\n",
       "      <td>...</td>\n",
       "    </tr>\n",
       "    <tr>\n",
       "      <th>2034</th>\n",
       "      <td>2</td>\n",
       "      <td>5</td>\n",
       "      <td>1</td>\n",
       "      <td>3</td>\n",
       "      <td>20.6</td>\n",
       "      <td>4.6</td>\n",
       "      <td>52.4</td>\n",
       "      <td>14.9</td>\n",
       "      <td>5</td>\n",
       "      <td>11</td>\n",
       "      <td>1</td>\n",
       "      <td>0</td>\n",
       "      <td>1.43</td>\n",
       "      <td>2</td>\n",
       "      <td>2</td>\n",
       "      <td>4</td>\n",
       "    </tr>\n",
       "    <tr>\n",
       "      <th>2035</th>\n",
       "      <td>2</td>\n",
       "      <td>5</td>\n",
       "      <td>1</td>\n",
       "      <td>3</td>\n",
       "      <td>20.6</td>\n",
       "      <td>4.6</td>\n",
       "      <td>52.4</td>\n",
       "      <td>14.9</td>\n",
       "      <td>5</td>\n",
       "      <td>10</td>\n",
       "      <td>1</td>\n",
       "      <td>0</td>\n",
       "      <td>1.29</td>\n",
       "      <td>2</td>\n",
       "      <td>2</td>\n",
       "      <td>4</td>\n",
       "    </tr>\n",
       "    <tr>\n",
       "      <th>2036</th>\n",
       "      <td>2</td>\n",
       "      <td>5</td>\n",
       "      <td>1</td>\n",
       "      <td>3</td>\n",
       "      <td>20.6</td>\n",
       "      <td>4.6</td>\n",
       "      <td>52.4</td>\n",
       "      <td>14.9</td>\n",
       "      <td>5</td>\n",
       "      <td>10</td>\n",
       "      <td>0</td>\n",
       "      <td>0</td>\n",
       "      <td>1.43</td>\n",
       "      <td>2</td>\n",
       "      <td>3</td>\n",
       "      <td>4</td>\n",
       "    </tr>\n",
       "    <tr>\n",
       "      <th>2037</th>\n",
       "      <td>2</td>\n",
       "      <td>5</td>\n",
       "      <td>1</td>\n",
       "      <td>3</td>\n",
       "      <td>20.6</td>\n",
       "      <td>4.6</td>\n",
       "      <td>52.4</td>\n",
       "      <td>14.9</td>\n",
       "      <td>5</td>\n",
       "      <td>10</td>\n",
       "      <td>0</td>\n",
       "      <td>0</td>\n",
       "      <td>1.57</td>\n",
       "      <td>2</td>\n",
       "      <td>2</td>\n",
       "      <td>1</td>\n",
       "    </tr>\n",
       "    <tr>\n",
       "      <th>2038</th>\n",
       "      <td>2</td>\n",
       "      <td>5</td>\n",
       "      <td>1</td>\n",
       "      <td>3</td>\n",
       "      <td>20.6</td>\n",
       "      <td>4.6</td>\n",
       "      <td>52.4</td>\n",
       "      <td>14.9</td>\n",
       "      <td>5</td>\n",
       "      <td>10</td>\n",
       "      <td>1</td>\n",
       "      <td>0</td>\n",
       "      <td>1.12</td>\n",
       "      <td>2</td>\n",
       "      <td>2</td>\n",
       "      <td>4</td>\n",
       "    </tr>\n",
       "  </tbody>\n",
       "</table>\n",
       "<p>2038 rows × 16 columns</p>\n",
       "</div>"
      ],
      "text/plain": [
       "     DAY School SchoolType StartTime  AvgMaxDailyTemp  AvgMinDailyTemp  \\\n",
       "Sno                                                                      \n",
       "1      1      1          0         3             22.2              5.1   \n",
       "2      1      1          0         3             22.2              5.1   \n",
       "3      1      1          0         3             22.2              5.1   \n",
       "4      1      1          0         3             22.2              5.1   \n",
       "5      1      1          0         3             22.2              5.1   \n",
       "...   ..    ...        ...       ...              ...              ...   \n",
       "2034   2      5          1         3             20.6              4.6   \n",
       "2035   2      5          1         3             20.6              4.6   \n",
       "2036   2      5          1         3             20.6              4.6   \n",
       "2037   2      5          1         3             20.6              4.6   \n",
       "2038   2      5          1         3             20.6              4.6   \n",
       "\n",
       "      AvgIndoorRelativeHumidity  IndoorTempDuringSurvey Grade  Age Gender  \\\n",
       "Sno                                                                         \n",
       "1                          55.1                    14.5     3    8      0   \n",
       "2                          55.1                    14.5     3    8      0   \n",
       "3                          55.1                    14.5     3    8      0   \n",
       "4                          55.1                    14.5     3   10      0   \n",
       "5                          55.1                    14.5     3    9      0   \n",
       "...                         ...                     ...   ...  ...    ...   \n",
       "2034                       52.4                    14.9     5   11      1   \n",
       "2035                       52.4                    14.9     5   10      1   \n",
       "2036                       52.4                    14.9     5   10      0   \n",
       "2037                       52.4                    14.9     5   10      0   \n",
       "2038                       52.4                    14.9     5   10      1   \n",
       "\n",
       "      FormalClothing  TotalCLOwithChair SwC TCV MC  \n",
       "Sno                                                 \n",
       "1                  0               1.57   1   2  2  \n",
       "2                  0               1.21   1   3  2  \n",
       "3                  0               1.21   2   2  4  \n",
       "4                  0               1.43   2   2  4  \n",
       "5                  0               1.21   2   2  2  \n",
       "...              ...                ...  ..  .. ..  \n",
       "2034               0               1.43   2   2  4  \n",
       "2035               0               1.29   2   2  4  \n",
       "2036               0               1.43   2   3  4  \n",
       "2037               0               1.57   2   2  1  \n",
       "2038               0               1.12   2   2  4  \n",
       "\n",
       "[2038 rows x 16 columns]"
      ]
     },
     "execution_count": 32,
     "metadata": {},
     "output_type": "execute_result"
    }
   ],
   "source": [
    "d"
   ]
  },
  {
   "cell_type": "code",
   "execution_count": 33,
   "id": "0cfc73eb",
   "metadata": {},
   "outputs": [],
   "source": [
    "try_d = tsl_target_data.drop(['TPV','TSV','TCV','TSL', 'class'], axis=1)"
   ]
  },
  {
   "cell_type": "code",
   "execution_count": 34,
   "id": "7654c920",
   "metadata": {},
   "outputs": [
    {
     "name": "stdout",
     "output_type": "stream",
     "text": [
      "DAY                           1.00\n",
      "School                        1.00\n",
      "SchoolType                    0.00\n",
      "StartTime                     3.00\n",
      "AvgMaxDailyTemp              22.20\n",
      "AvgMinDailyTemp               5.10\n",
      "AvgIndoorRelativeHumidity    55.10\n",
      "IndoorTempDuringSurvey       14.50\n",
      "Grade                         3.00\n",
      "Age                           8.00\n",
      "Gender                        0.00\n",
      "FormalClothing                0.00\n",
      "TotalCLOwithChair             1.57\n",
      "SwC                           1.00\n",
      "MC                            2.00\n",
      "Name: 1, dtype: float64\n"
     ]
    }
   ],
   "source": [
    "print(try_d.iloc[0])"
   ]
  },
  {
   "cell_type": "code",
   "execution_count": 70,
   "id": "5f9e868f-5092-4bb7-9a00-6cc13baf7db2",
   "metadata": {
    "id": "5f9e868f-5092-4bb7-9a00-6cc13baf7db2"
   },
   "outputs": [
    {
     "name": "stdout",
     "output_type": "stream",
     "text": [
      "1\n"
     ]
    }
   ],
   "source": [
    "print(best_gb_model.predict([1,1,0,3,22.2,5,55.1,14.5,3,8,0,0,1.57,1,2]))"
   ]
  },
  {
   "cell_type": "code",
   "execution_count": 71,
   "id": "b0a635e2",
   "metadata": {},
   "outputs": [],
   "source": [
    "dice_df = dice_ml.Data(dataframe=d, continuous_features=['AvgMaxDailyTemp',\n",
    "       'AvgMinDailyTemp', 'AvgIndoorRelativeHumidity',\n",
    "       'IndoorTempDuringSurvey','Age',\n",
    "       'TotalCLOwithChair'], outcome_name='TCV')"
   ]
  },
  {
   "cell_type": "code",
   "execution_count": 72,
   "id": "d3d5c954",
   "metadata": {},
   "outputs": [],
   "source": [
    "backend = 'sklearn'\n",
    "m = dice_ml.Model(model=best_gb_model, backend=backend, model_type='classifier')"
   ]
  },
  {
   "cell_type": "code",
   "execution_count": 73,
   "id": "f598278c",
   "metadata": {},
   "outputs": [],
   "source": [
    "exp_random = dice_ml.Dice(dice_df, m, method='random')"
   ]
  },
  {
   "cell_type": "code",
   "execution_count": 39,
   "id": "6ef18938",
   "metadata": {},
   "outputs": [],
   "source": [
    "query_instance = try_d.loc[:1]"
   ]
  },
  {
   "cell_type": "code",
   "execution_count": 40,
   "id": "e7a9a021",
   "metadata": {},
   "outputs": [],
   "source": [
    "query_instance['FormalClothing'] = query_instance['FormalClothing'].astype(int)"
   ]
  },
  {
   "cell_type": "code",
   "execution_count": 41,
   "id": "1dc1a59a",
   "metadata": {},
   "outputs": [],
   "source": [
    "q = query_instance.to_json()"
   ]
  },
  {
   "cell_type": "code",
   "execution_count": 42,
   "id": "1029c0e1",
   "metadata": {},
   "outputs": [
    {
     "data": {
      "text/plain": [
       "'{\"DAY\":{\"1\":1},\"School\":{\"1\":1},\"SchoolType\":{\"1\":0},\"StartTime\":{\"1\":3},\"AvgMaxDailyTemp\":{\"1\":22.2},\"AvgMinDailyTemp\":{\"1\":5.1},\"AvgIndoorRelativeHumidity\":{\"1\":55.1},\"IndoorTempDuringSurvey\":{\"1\":14.5},\"Grade\":{\"1\":3},\"Age\":{\"1\":8},\"Gender\":{\"1\":0},\"FormalClothing\":{\"1\":0},\"TotalCLOwithChair\":{\"1\":1.57},\"SwC\":{\"1\":1},\"MC\":{\"1\":2}}'"
      ]
     },
     "execution_count": 42,
     "metadata": {},
     "output_type": "execute_result"
    }
   ],
   "source": [
    "q"
   ]
  },
  {
   "cell_type": "code",
   "execution_count": 77,
   "id": "4186d1ae",
   "metadata": {},
   "outputs": [
    {
     "name": "stderr",
     "output_type": "stream",
     "text": [
      "  0%|          | 0/1 [00:00<?, ?it/s]\n"
     ]
    },
    {
     "ename": "CatBoostError",
     "evalue": "Invalid type for cat_feature[non-default value idx=0,feature_idx=0]=1.0 : cat_features must be integer or string, real number values and NaN values should be converted to string.",
     "output_type": "error",
     "traceback": [
      "\u001b[0;31m---------------------------------------------------------------------------\u001b[0m",
      "\u001b[0;31mCatBoostError\u001b[0m                             Traceback (most recent call last)",
      "File \u001b[0;32m_catboost.pyx:2351\u001b[0m, in \u001b[0;36m_catboost.get_cat_factor_bytes_representation\u001b[0;34m()\u001b[0m\n",
      "File \u001b[0;32m_catboost.pyx:1871\u001b[0m, in \u001b[0;36m_catboost.get_id_object_bytes_string_representation\u001b[0;34m()\u001b[0m\n",
      "\u001b[0;31mCatBoostError\u001b[0m: bad object for id: 1.0",
      "\nDuring handling of the above exception, another exception occurred:\n",
      "\u001b[0;31mCatBoostError\u001b[0m                             Traceback (most recent call last)",
      "Cell \u001b[0;32mIn[77], line 1\u001b[0m\n\u001b[0;32m----> 1\u001b[0m dice_exp_random \u001b[39m=\u001b[39m exp_random\u001b[39m.\u001b[39;49mgenerate_counterfactuals(pd\u001b[39m.\u001b[39;49mDataFrame({\u001b[39m'\u001b[39;49m\u001b[39mDAY\u001b[39;49m\u001b[39m'\u001b[39;49m:\u001b[39m1\u001b[39;49m,\u001b[39m'\u001b[39;49m\u001b[39mSchool\u001b[39;49m\u001b[39m'\u001b[39;49m:\u001b[39m1\u001b[39;49m,\u001b[39m\"\u001b[39;49m\u001b[39mSchoolType\u001b[39;49m\u001b[39m\"\u001b[39;49m:\u001b[39m0\u001b[39;49m,\u001b[39m\"\u001b[39;49m\u001b[39mStartTime\u001b[39;49m\u001b[39m\"\u001b[39;49m:\u001b[39m3\u001b[39;49m,\u001b[39m\"\u001b[39;49m\u001b[39mAvgMaxDailyTemp\u001b[39;49m\u001b[39m\"\u001b[39;49m:\u001b[39m22.4\u001b[39;49m,\u001b[39m\"\u001b[39;49m\u001b[39mAvgMinDailyTemp\u001b[39;49m\u001b[39m\"\u001b[39;49m:\u001b[39m5\u001b[39;49m,\u001b[39m\"\u001b[39;49m\u001b[39mAvgIndoorRelativeHumidity\u001b[39;49m\u001b[39m\"\u001b[39;49m:\u001b[39m55\u001b[39;49m,\u001b[39m\"\u001b[39;49m\u001b[39mIndoorTempDuringSurvey\u001b[39;49m\u001b[39m\"\u001b[39;49m:\u001b[39m14\u001b[39;49m,\u001b[39m\"\u001b[39;49m\u001b[39mGrade\u001b[39;49m\u001b[39m\"\u001b[39;49m:\u001b[39m3\u001b[39;49m,\u001b[39m\"\u001b[39;49m\u001b[39mAge\u001b[39;49m\u001b[39m\"\u001b[39;49m:\u001b[39m8\u001b[39;49m,\u001b[39m\"\u001b[39;49m\u001b[39mGender\u001b[39;49m\u001b[39m\"\u001b[39;49m:\u001b[39m0\u001b[39;49m,\u001b[39m\"\u001b[39;49m\u001b[39mFormalClothing\u001b[39;49m\u001b[39m\"\u001b[39;49m:\u001b[39m0\u001b[39;49m,\u001b[39m\"\u001b[39;49m\u001b[39mTotalCLOwithChair\u001b[39;49m\u001b[39m\"\u001b[39;49m:\u001b[39m1\u001b[39;49m,\u001b[39m\"\u001b[39;49m\u001b[39mSwC\u001b[39;49m\u001b[39m\"\u001b[39;49m:\u001b[39m1\u001b[39;49m,\u001b[39m\"\u001b[39;49m\u001b[39mMC\u001b[39;49m\u001b[39m\"\u001b[39;49m:\u001b[39m2\u001b[39;49m}, index\u001b[39m=\u001b[39;49m[\u001b[39m0\u001b[39;49m]), total_CFs\u001b[39m=\u001b[39;49m\u001b[39m2\u001b[39;49m, desired_class\u001b[39m=\u001b[39;49m\u001b[39m0\u001b[39;49m, verbose\u001b[39m=\u001b[39;49m\u001b[39mFalse\u001b[39;49;00m)\n",
      "File \u001b[0;32m~/anaconda3/envs/pytorch/lib/python3.10/site-packages/dice_ml/explainer_interfaces/explainer_base.py:161\u001b[0m, in \u001b[0;36mExplainerBase.generate_counterfactuals\u001b[0;34m(self, query_instances, total_CFs, desired_class, desired_range, permitted_range, features_to_vary, stopping_threshold, posthoc_sparsity_param, proximity_weight, sparsity_weight, diversity_weight, categorical_penalty, posthoc_sparsity_algorithm, verbose, **kwargs)\u001b[0m\n\u001b[1;32m    159\u001b[0m \u001b[39mfor\u001b[39;00m query_instance \u001b[39min\u001b[39;00m tqdm(query_instances_list):\n\u001b[1;32m    160\u001b[0m     \u001b[39mself\u001b[39m\u001b[39m.\u001b[39mdata_interface\u001b[39m.\u001b[39mset_continuous_feature_indexes(query_instance)\n\u001b[0;32m--> 161\u001b[0m     res \u001b[39m=\u001b[39m \u001b[39mself\u001b[39;49m\u001b[39m.\u001b[39;49m_generate_counterfactuals(\n\u001b[1;32m    162\u001b[0m         query_instance, total_CFs,\n\u001b[1;32m    163\u001b[0m         desired_class\u001b[39m=\u001b[39;49mdesired_class,\n\u001b[1;32m    164\u001b[0m         desired_range\u001b[39m=\u001b[39;49mdesired_range,\n\u001b[1;32m    165\u001b[0m         permitted_range\u001b[39m=\u001b[39;49mpermitted_range,\n\u001b[1;32m    166\u001b[0m         features_to_vary\u001b[39m=\u001b[39;49mfeatures_to_vary,\n\u001b[1;32m    167\u001b[0m         stopping_threshold\u001b[39m=\u001b[39;49mstopping_threshold,\n\u001b[1;32m    168\u001b[0m         posthoc_sparsity_param\u001b[39m=\u001b[39;49mposthoc_sparsity_param,\n\u001b[1;32m    169\u001b[0m         posthoc_sparsity_algorithm\u001b[39m=\u001b[39;49mposthoc_sparsity_algorithm,\n\u001b[1;32m    170\u001b[0m         verbose\u001b[39m=\u001b[39;49mverbose,\n\u001b[1;32m    171\u001b[0m         \u001b[39m*\u001b[39;49m\u001b[39m*\u001b[39;49mkwargs)\n\u001b[1;32m    172\u001b[0m     cf_examples_arr\u001b[39m.\u001b[39mappend(res)\n\u001b[1;32m    173\u001b[0m \u001b[39mself\u001b[39m\u001b[39m.\u001b[39m_check_any_counterfactuals_computed(cf_examples_arr\u001b[39m=\u001b[39mcf_examples_arr)\n",
      "File \u001b[0;32m~/anaconda3/envs/pytorch/lib/python3.10/site-packages/dice_ml/explainer_interfaces/dice_random.py:117\u001b[0m, in \u001b[0;36mDiceRandom._generate_counterfactuals\u001b[0;34m(self, query_instance, total_CFs, desired_range, desired_class, permitted_range, features_to_vary, stopping_threshold, posthoc_sparsity_param, posthoc_sparsity_algorithm, sample_size, random_seed, verbose, limit_steps_ls)\u001b[0m\n\u001b[1;32m    115\u001b[0m \u001b[39mfor\u001b[39;00m k \u001b[39min\u001b[39;00m \u001b[39mrange\u001b[39m(sample_size):\n\u001b[1;32m    116\u001b[0m     candidate_cfs\u001b[39m.\u001b[39mat[k, selected_features[k][\u001b[39m0\u001b[39m]] \u001b[39m=\u001b[39m random_instances\u001b[39m.\u001b[39mat[k, selected_features[k][\u001b[39m0\u001b[39m]]\n\u001b[0;32m--> 117\u001b[0m scores \u001b[39m=\u001b[39m \u001b[39mself\u001b[39;49m\u001b[39m.\u001b[39;49mpredict_fn(candidate_cfs)\n\u001b[1;32m    118\u001b[0m validity \u001b[39m=\u001b[39m \u001b[39mself\u001b[39m\u001b[39m.\u001b[39mdecide_cf_validity(scores)\n\u001b[1;32m    119\u001b[0m \u001b[39mif\u001b[39;00m \u001b[39msum\u001b[39m(validity) \u001b[39m>\u001b[39m \u001b[39m0\u001b[39m:\n",
      "File \u001b[0;32m~/anaconda3/envs/pytorch/lib/python3.10/site-packages/dice_ml/explainer_interfaces/explainer_base.py:484\u001b[0m, in \u001b[0;36mExplainerBase.predict_fn\u001b[0;34m(self, input_instance)\u001b[0m\n\u001b[1;32m    481\u001b[0m \u001b[39mdef\u001b[39;00m \u001b[39mpredict_fn\u001b[39m(\u001b[39mself\u001b[39m, input_instance):\n\u001b[1;32m    482\u001b[0m \u001b[39m    \u001b[39m\u001b[39m\"\"\"prediction function\"\"\"\u001b[39;00m\n\u001b[0;32m--> 484\u001b[0m     preds \u001b[39m=\u001b[39m \u001b[39mself\u001b[39;49m\u001b[39m.\u001b[39;49mmodel\u001b[39m.\u001b[39;49mget_output(input_instance)\n\u001b[1;32m    485\u001b[0m     \u001b[39mif\u001b[39;00m \u001b[39mself\u001b[39m\u001b[39m.\u001b[39mmodel\u001b[39m.\u001b[39mmodel_type \u001b[39m==\u001b[39m ModelTypes\u001b[39m.\u001b[39mClassifier \u001b[39mand\u001b[39;00m \\\n\u001b[1;32m    486\u001b[0m        \u001b[39mlen\u001b[39m(preds\u001b[39m.\u001b[39mshape) \u001b[39m==\u001b[39m \u001b[39m1\u001b[39m:  \u001b[39m# from deep learning predictors\u001b[39;00m\n\u001b[1;32m    487\u001b[0m         preds \u001b[39m=\u001b[39m np\u001b[39m.\u001b[39mcolumn_stack([\u001b[39m1\u001b[39m \u001b[39m-\u001b[39m preds, preds])\n",
      "File \u001b[0;32m~/anaconda3/envs/pytorch/lib/python3.10/site-packages/dice_ml/model_interfaces/base_model.py:54\u001b[0m, in \u001b[0;36mBaseModel.get_output\u001b[0;34m(self, input_instance, model_score)\u001b[0m\n\u001b[1;32m     52\u001b[0m \u001b[39mif\u001b[39;00m model_score:\n\u001b[1;32m     53\u001b[0m     \u001b[39mif\u001b[39;00m \u001b[39mself\u001b[39m\u001b[39m.\u001b[39mmodel_type \u001b[39m==\u001b[39m ModelTypes\u001b[39m.\u001b[39mClassifier:\n\u001b[0;32m---> 54\u001b[0m         \u001b[39mreturn\u001b[39;00m \u001b[39mself\u001b[39;49m\u001b[39m.\u001b[39;49mmodel\u001b[39m.\u001b[39;49mpredict_proba(input_instance)\n\u001b[1;32m     55\u001b[0m     \u001b[39melse\u001b[39;00m:\n\u001b[1;32m     56\u001b[0m         \u001b[39mreturn\u001b[39;00m \u001b[39mself\u001b[39m\u001b[39m.\u001b[39mmodel\u001b[39m.\u001b[39mpredict(input_instance)\n",
      "File \u001b[0;32m~/anaconda3/envs/pytorch/lib/python3.10/site-packages/catboost/core.py:5225\u001b[0m, in \u001b[0;36mCatBoostClassifier.predict_proba\u001b[0;34m(self, X, ntree_start, ntree_end, thread_count, verbose, task_type)\u001b[0m\n\u001b[1;32m   5189\u001b[0m \u001b[39mdef\u001b[39;00m \u001b[39mpredict_proba\u001b[39m(\u001b[39mself\u001b[39m, X, ntree_start\u001b[39m=\u001b[39m\u001b[39m0\u001b[39m, ntree_end\u001b[39m=\u001b[39m\u001b[39m0\u001b[39m, thread_count\u001b[39m=\u001b[39m\u001b[39m-\u001b[39m\u001b[39m1\u001b[39m, verbose\u001b[39m=\u001b[39m\u001b[39mNone\u001b[39;00m, task_type\u001b[39m=\u001b[39m\u001b[39m\"\u001b[39m\u001b[39mCPU\u001b[39m\u001b[39m\"\u001b[39m):\n\u001b[1;32m   5190\u001b[0m \u001b[39m    \u001b[39m\u001b[39m\"\"\"\u001b[39;00m\n\u001b[1;32m   5191\u001b[0m \u001b[39m    Predict class probability with X.\u001b[39;00m\n\u001b[1;32m   5192\u001b[0m \n\u001b[0;32m   (...)\u001b[0m\n\u001b[1;32m   5223\u001b[0m \u001b[39m            with probability for every class for each object.\u001b[39;00m\n\u001b[1;32m   5224\u001b[0m \u001b[39m    \"\"\"\u001b[39;00m\n\u001b[0;32m-> 5225\u001b[0m     \u001b[39mreturn\u001b[39;00m \u001b[39mself\u001b[39;49m\u001b[39m.\u001b[39;49m_predict(X, \u001b[39m'\u001b[39;49m\u001b[39mProbability\u001b[39;49m\u001b[39m'\u001b[39;49m, ntree_start, ntree_end, thread_count, verbose, \u001b[39m'\u001b[39;49m\u001b[39mpredict_proba\u001b[39;49m\u001b[39m'\u001b[39;49m, task_type)\n",
      "File \u001b[0;32m~/anaconda3/envs/pytorch/lib/python3.10/site-packages/catboost/core.py:2543\u001b[0m, in \u001b[0;36mCatBoost._predict\u001b[0;34m(self, data, prediction_type, ntree_start, ntree_end, thread_count, verbose, parent_method_name, task_type)\u001b[0m\n\u001b[1;32m   2541\u001b[0m \u001b[39mif\u001b[39;00m verbose \u001b[39mis\u001b[39;00m \u001b[39mNone\u001b[39;00m:\n\u001b[1;32m   2542\u001b[0m     verbose \u001b[39m=\u001b[39m \u001b[39mFalse\u001b[39;00m\n\u001b[0;32m-> 2543\u001b[0m data, data_is_single_object \u001b[39m=\u001b[39m \u001b[39mself\u001b[39;49m\u001b[39m.\u001b[39;49m_process_predict_input_data(data, parent_method_name, thread_count)\n\u001b[1;32m   2544\u001b[0m \u001b[39mself\u001b[39m\u001b[39m.\u001b[39m_validate_prediction_type(prediction_type)\n\u001b[1;32m   2546\u001b[0m predictions \u001b[39m=\u001b[39m \u001b[39mself\u001b[39m\u001b[39m.\u001b[39m_base_predict(data, prediction_type, ntree_start, ntree_end, thread_count, verbose, task_type)\n",
      "File \u001b[0;32m~/anaconda3/envs/pytorch/lib/python3.10/site-packages/catboost/core.py:2523\u001b[0m, in \u001b[0;36mCatBoost._process_predict_input_data\u001b[0;34m(self, data, parent_method_name, thread_count, label)\u001b[0m\n\u001b[1;32m   2521\u001b[0m is_single_object \u001b[39m=\u001b[39m _is_data_single_object(data)\n\u001b[1;32m   2522\u001b[0m \u001b[39mif\u001b[39;00m \u001b[39mnot\u001b[39;00m \u001b[39misinstance\u001b[39m(data, Pool):\n\u001b[0;32m-> 2523\u001b[0m     data \u001b[39m=\u001b[39m Pool(\n\u001b[1;32m   2524\u001b[0m         data\u001b[39m=\u001b[39;49m[data] \u001b[39mif\u001b[39;49;00m is_single_object \u001b[39melse\u001b[39;49;00m data,\n\u001b[1;32m   2525\u001b[0m         label\u001b[39m=\u001b[39;49mlabel,\n\u001b[1;32m   2526\u001b[0m         cat_features\u001b[39m=\u001b[39;49m\u001b[39mself\u001b[39;49m\u001b[39m.\u001b[39;49m_get_cat_feature_indices() \u001b[39mif\u001b[39;49;00m \u001b[39mnot\u001b[39;49;00m \u001b[39misinstance\u001b[39;49m(data, FeaturesData) \u001b[39melse\u001b[39;49;00m \u001b[39mNone\u001b[39;49;00m,\n\u001b[1;32m   2527\u001b[0m         text_features\u001b[39m=\u001b[39;49m\u001b[39mself\u001b[39;49m\u001b[39m.\u001b[39;49m_get_text_feature_indices() \u001b[39mif\u001b[39;49;00m \u001b[39mnot\u001b[39;49;00m \u001b[39misinstance\u001b[39;49m(data, FeaturesData) \u001b[39melse\u001b[39;49;00m \u001b[39mNone\u001b[39;49;00m,\n\u001b[1;32m   2528\u001b[0m         embedding_features\u001b[39m=\u001b[39;49m\u001b[39mself\u001b[39;49m\u001b[39m.\u001b[39;49m_get_embedding_feature_indices() \u001b[39mif\u001b[39;49;00m \u001b[39mnot\u001b[39;49;00m \u001b[39misinstance\u001b[39;49m(data, FeaturesData) \u001b[39melse\u001b[39;49;00m \u001b[39mNone\u001b[39;49;00m,\n\u001b[1;32m   2529\u001b[0m         thread_count\u001b[39m=\u001b[39;49mthread_count\n\u001b[1;32m   2530\u001b[0m     )\n\u001b[1;32m   2531\u001b[0m \u001b[39mreturn\u001b[39;00m data, is_single_object\n",
      "File \u001b[0;32m~/anaconda3/envs/pytorch/lib/python3.10/site-packages/catboost/core.py:792\u001b[0m, in \u001b[0;36mPool.__init__\u001b[0;34m(self, data, label, cat_features, text_features, embedding_features, embedding_features_data, column_description, pairs, delimiter, has_header, ignore_csv_quoting, weight, group_id, group_weight, subgroup_id, pairs_weight, baseline, timestamp, feature_names, feature_tags, thread_count, log_cout, log_cerr)\u001b[0m\n\u001b[1;32m    786\u001b[0m         \u001b[39mif\u001b[39;00m \u001b[39misinstance\u001b[39m(feature_names, PATH_TYPES):\n\u001b[1;32m    787\u001b[0m             \u001b[39mraise\u001b[39;00m CatBoostError(\n\u001b[1;32m    788\u001b[0m                 \u001b[39m\"\u001b[39m\u001b[39mfeature_names must be None or have non-string type when the pool is created from \u001b[39m\u001b[39m\"\u001b[39m\n\u001b[1;32m    789\u001b[0m                 \u001b[39m\"\u001b[39m\u001b[39mpython objects.\u001b[39m\u001b[39m\"\u001b[39m\n\u001b[1;32m    790\u001b[0m             )\n\u001b[0;32m--> 792\u001b[0m         \u001b[39mself\u001b[39;49m\u001b[39m.\u001b[39;49m_init(data, label, cat_features, text_features, embedding_features, embedding_features_data, pairs, weight,\n\u001b[1;32m    793\u001b[0m                    group_id, group_weight, subgroup_id, pairs_weight, baseline, timestamp, feature_names, feature_tags, thread_count)\n\u001b[1;32m    794\u001b[0m \u001b[39msuper\u001b[39m(Pool, \u001b[39mself\u001b[39m)\u001b[39m.\u001b[39m\u001b[39m__init__\u001b[39m()\n",
      "File \u001b[0;32m~/anaconda3/envs/pytorch/lib/python3.10/site-packages/catboost/core.py:1419\u001b[0m, in \u001b[0;36mPool._init\u001b[0;34m(self, data, label, cat_features, text_features, embedding_features, embedding_features_data, pairs, weight, group_id, group_weight, subgroup_id, pairs_weight, baseline, timestamp, feature_names, feature_tags, thread_count)\u001b[0m\n\u001b[1;32m   1417\u001b[0m \u001b[39mif\u001b[39;00m feature_tags \u001b[39mis\u001b[39;00m \u001b[39mnot\u001b[39;00m \u001b[39mNone\u001b[39;00m:\n\u001b[1;32m   1418\u001b[0m     feature_tags \u001b[39m=\u001b[39m \u001b[39mself\u001b[39m\u001b[39m.\u001b[39m_check_transform_tags(feature_tags, feature_names)\n\u001b[0;32m-> 1419\u001b[0m \u001b[39mself\u001b[39;49m\u001b[39m.\u001b[39;49m_init_pool(data, label, cat_features, text_features, embedding_features, embedding_features_data, pairs, weight,\n\u001b[1;32m   1420\u001b[0m                 group_id, group_weight, subgroup_id, pairs_weight, baseline, timestamp, feature_names, feature_tags, thread_count)\n",
      "File \u001b[0;32m_catboost.pyx:3955\u001b[0m, in \u001b[0;36m_catboost._PoolBase._init_pool\u001b[0;34m()\u001b[0m\n",
      "File \u001b[0;32m_catboost.pyx:4005\u001b[0m, in \u001b[0;36m_catboost._PoolBase._init_pool\u001b[0;34m()\u001b[0m\n",
      "File \u001b[0;32m_catboost.pyx:3821\u001b[0m, in \u001b[0;36m_catboost._PoolBase._init_features_order_layout_pool\u001b[0;34m()\u001b[0m\n",
      "File \u001b[0;32m_catboost.pyx:2760\u001b[0m, in \u001b[0;36m_catboost._set_features_order_data_pd_data_frame\u001b[0;34m()\u001b[0m\n",
      "File \u001b[0;32m_catboost.pyx:2358\u001b[0m, in \u001b[0;36m_catboost.get_cat_factor_bytes_representation\u001b[0;34m()\u001b[0m\n",
      "\u001b[0;31mCatBoostError\u001b[0m: Invalid type for cat_feature[non-default value idx=0,feature_idx=0]=1.0 : cat_features must be integer or string, real number values and NaN values should be converted to string."
     ]
    }
   ],
   "source": [
    "dice_exp_random = exp_random.generate_counterfactuals(pd.DataFrame({'DAY':1,'School':1,\"SchoolType\":0,\"StartTime\":3,\"AvgMaxDailyTemp\":22.4,\"AvgMinDailyTemp\":5,\"AvgIndoorRelativeHumidity\":55,\"IndoorTempDuringSurvey\":14,\"Grade\":3,\"Age\":8,\"Gender\":0,\"FormalClothing\":0,\"TotalCLOwithChair\":1,\"SwC\":1,\"MC\":2}, index=[0]), total_CFs=2, desired_class=0, verbose=False)"
   ]
  },
  {
   "cell_type": "code",
   "execution_count": null,
   "id": "568be477",
   "metadata": {},
   "outputs": [],
   "source": []
  }
 ],
 "metadata": {
  "colab": {
   "name": "IndividualClothingBinary.ipynb",
   "provenance": []
  },
  "kernelspec": {
   "display_name": "Python 3",
   "language": "python",
   "name": "python3"
  },
  "language_info": {
   "codemirror_mode": {
    "name": "ipython",
    "version": 3
   },
   "file_extension": ".py",
   "mimetype": "text/x-python",
   "name": "python",
   "nbconvert_exporter": "python",
   "pygments_lexer": "ipython3",
   "version": "3.10.8"
  }
 },
 "nbformat": 4,
 "nbformat_minor": 5
}
