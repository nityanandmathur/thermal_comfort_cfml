{
 "cells": [
  {
   "cell_type": "code",
   "execution_count": 1,
   "id": "b72f29b5-a7f2-40d3-bd3c-ad1d7af71f85",
   "metadata": {
    "id": "b72f29b5-a7f2-40d3-bd3c-ad1d7af71f85"
   },
   "outputs": [],
   "source": [
    "# !pip install catboost"
   ]
  },
  {
   "cell_type": "code",
   "execution_count": 2,
   "id": "29415f20-1f94-4ebb-8ef6-e565d81f90af",
   "metadata": {
    "id": "29415f20-1f94-4ebb-8ef6-e565d81f90af"
   },
   "outputs": [],
   "source": [
    "#import basic modules\n",
    "import numpy as np\n",
    "import pandas as pd\n",
    "import seaborn as sns\n",
    "import matplotlib.pyplot as plt\n",
    "\n",
    "import warnings\n",
    "import time\n",
    "import seaborn as sns\n",
    "\n",
    "warnings.filterwarnings(\"ignore\") \n",
    "pd.set_option('max_rows', 500) "
   ]
  },
  {
   "cell_type": "code",
   "execution_count": null,
   "id": "07f4ecbc",
   "metadata": {},
   "outputs": [],
   "source": []
  },
  {
   "cell_type": "markdown",
   "id": "76765057-8667-4c44-84b3-e7c7d6de1968",
   "metadata": {
    "id": "76765057-8667-4c44-84b3-e7c7d6de1968"
   },
   "source": [
    "# Exploratory Data Analysis\n",
    "## 1. Getting the data"
   ]
  },
  {
   "cell_type": "code",
   "execution_count": 3,
   "id": "b6dc8743-ab71-4588-a734-d2d804c83da6",
   "metadata": {
    "id": "b6dc8743-ab71-4588-a734-d2d804c83da6"
   },
   "outputs": [],
   "source": [
    "winter_data = pd.read_csv(\n",
    "    'P:/Betty/Clothing_Jayson/IndividualClothingValue.csv', index_col=0)\n"
   ]
  },
  {
   "cell_type": "code",
   "execution_count": null,
   "id": "55c82a74",
   "metadata": {},
   "outputs": [],
   "source": []
  },
  {
   "cell_type": "code",
   "execution_count": null,
   "id": "e7b6a00f",
   "metadata": {},
   "outputs": [],
   "source": []
  },
  {
   "cell_type": "code",
   "execution_count": null,
   "id": "2418770b",
   "metadata": {},
   "outputs": [],
   "source": []
  },
  {
   "cell_type": "code",
   "execution_count": 4,
   "id": "c7755964-b8ea-423a-a81d-45b77b022f3c",
   "metadata": {
    "id": "c7755964-b8ea-423a-a81d-45b77b022f3c",
    "outputId": "810611be-df3e-41bb-cbbc-d42f8d3d6020"
   },
   "outputs": [
    {
     "data": {
      "text/plain": [
       "(2038, 34)"
      ]
     },
     "execution_count": 4,
     "metadata": {},
     "output_type": "execute_result"
    }
   ],
   "source": [
    "winter_data.shape"
   ]
  },
  {
   "cell_type": "code",
   "execution_count": 5,
   "id": "7677f554-984b-4420-8c91-5fa27aa9538e",
   "metadata": {
    "id": "7677f554-984b-4420-8c91-5fa27aa9538e",
    "outputId": "dd246ae7-f1c8-4b0d-d6ee-6e842147df7d"
   },
   "outputs": [
    {
     "data": {
      "text/html": [
       "<div>\n",
       "<style scoped>\n",
       "    .dataframe tbody tr th:only-of-type {\n",
       "        vertical-align: middle;\n",
       "    }\n",
       "\n",
       "    .dataframe tbody tr th {\n",
       "        vertical-align: top;\n",
       "    }\n",
       "\n",
       "    .dataframe thead th {\n",
       "        text-align: right;\n",
       "    }\n",
       "</style>\n",
       "<table border=\"1\" class=\"dataframe\">\n",
       "  <thead>\n",
       "    <tr style=\"text-align: right;\">\n",
       "      <th></th>\n",
       "      <th>DAY</th>\n",
       "      <th>School</th>\n",
       "      <th>SchoolType</th>\n",
       "      <th>StartTime</th>\n",
       "      <th>AvgMaxDailyTemp</th>\n",
       "      <th>AvgMinDailyTemp</th>\n",
       "      <th>AvgIndoorRelativeHumidity</th>\n",
       "      <th>IndoorTempDuringSurvey</th>\n",
       "      <th>Grade</th>\n",
       "      <th>Age</th>\n",
       "      <th>...</th>\n",
       "      <th>Shoes</th>\n",
       "      <th>FullSweater</th>\n",
       "      <th>Underwear</th>\n",
       "      <th>SwC</th>\n",
       "      <th>TSV</th>\n",
       "      <th>TPV</th>\n",
       "      <th>TA</th>\n",
       "      <th>TCV</th>\n",
       "      <th>TSL</th>\n",
       "      <th>MC</th>\n",
       "    </tr>\n",
       "    <tr>\n",
       "      <th>SNo</th>\n",
       "      <th></th>\n",
       "      <th></th>\n",
       "      <th></th>\n",
       "      <th></th>\n",
       "      <th></th>\n",
       "      <th></th>\n",
       "      <th></th>\n",
       "      <th></th>\n",
       "      <th></th>\n",
       "      <th></th>\n",
       "      <th></th>\n",
       "      <th></th>\n",
       "      <th></th>\n",
       "      <th></th>\n",
       "      <th></th>\n",
       "      <th></th>\n",
       "      <th></th>\n",
       "      <th></th>\n",
       "      <th></th>\n",
       "      <th></th>\n",
       "      <th></th>\n",
       "    </tr>\n",
       "  </thead>\n",
       "  <tbody>\n",
       "    <tr>\n",
       "      <th>1</th>\n",
       "      <td>1</td>\n",
       "      <td>1</td>\n",
       "      <td>0</td>\n",
       "      <td>3</td>\n",
       "      <td>22.2</td>\n",
       "      <td>5.1</td>\n",
       "      <td>55.1</td>\n",
       "      <td>14.5</td>\n",
       "      <td>3</td>\n",
       "      <td>8</td>\n",
       "      <td>...</td>\n",
       "      <td>0.02</td>\n",
       "      <td>0.36</td>\n",
       "      <td>0.03</td>\n",
       "      <td>1</td>\n",
       "      <td>-1</td>\n",
       "      <td>2</td>\n",
       "      <td>1</td>\n",
       "      <td>2</td>\n",
       "      <td>1</td>\n",
       "      <td>2</td>\n",
       "    </tr>\n",
       "    <tr>\n",
       "      <th>2</th>\n",
       "      <td>1</td>\n",
       "      <td>1</td>\n",
       "      <td>0</td>\n",
       "      <td>3</td>\n",
       "      <td>22.2</td>\n",
       "      <td>5.1</td>\n",
       "      <td>55.1</td>\n",
       "      <td>14.5</td>\n",
       "      <td>3</td>\n",
       "      <td>8</td>\n",
       "      <td>...</td>\n",
       "      <td>0.02</td>\n",
       "      <td>0.00</td>\n",
       "      <td>0.03</td>\n",
       "      <td>1</td>\n",
       "      <td>-1</td>\n",
       "      <td>2</td>\n",
       "      <td>1</td>\n",
       "      <td>3</td>\n",
       "      <td>1</td>\n",
       "      <td>2</td>\n",
       "    </tr>\n",
       "    <tr>\n",
       "      <th>3</th>\n",
       "      <td>1</td>\n",
       "      <td>1</td>\n",
       "      <td>0</td>\n",
       "      <td>3</td>\n",
       "      <td>22.2</td>\n",
       "      <td>5.1</td>\n",
       "      <td>55.1</td>\n",
       "      <td>14.5</td>\n",
       "      <td>3</td>\n",
       "      <td>8</td>\n",
       "      <td>...</td>\n",
       "      <td>0.02</td>\n",
       "      <td>0.00</td>\n",
       "      <td>0.03</td>\n",
       "      <td>2</td>\n",
       "      <td>0</td>\n",
       "      <td>1</td>\n",
       "      <td>1</td>\n",
       "      <td>2</td>\n",
       "      <td>3</td>\n",
       "      <td>4</td>\n",
       "    </tr>\n",
       "    <tr>\n",
       "      <th>4</th>\n",
       "      <td>1</td>\n",
       "      <td>1</td>\n",
       "      <td>0</td>\n",
       "      <td>3</td>\n",
       "      <td>22.2</td>\n",
       "      <td>5.1</td>\n",
       "      <td>55.1</td>\n",
       "      <td>14.5</td>\n",
       "      <td>3</td>\n",
       "      <td>10</td>\n",
       "      <td>...</td>\n",
       "      <td>0.02</td>\n",
       "      <td>0.00</td>\n",
       "      <td>0.03</td>\n",
       "      <td>2</td>\n",
       "      <td>0</td>\n",
       "      <td>0</td>\n",
       "      <td>1</td>\n",
       "      <td>2</td>\n",
       "      <td>2</td>\n",
       "      <td>4</td>\n",
       "    </tr>\n",
       "    <tr>\n",
       "      <th>5</th>\n",
       "      <td>1</td>\n",
       "      <td>1</td>\n",
       "      <td>0</td>\n",
       "      <td>3</td>\n",
       "      <td>22.2</td>\n",
       "      <td>5.1</td>\n",
       "      <td>55.1</td>\n",
       "      <td>14.5</td>\n",
       "      <td>3</td>\n",
       "      <td>9</td>\n",
       "      <td>...</td>\n",
       "      <td>0.02</td>\n",
       "      <td>0.00</td>\n",
       "      <td>0.03</td>\n",
       "      <td>2</td>\n",
       "      <td>0</td>\n",
       "      <td>1</td>\n",
       "      <td>1</td>\n",
       "      <td>2</td>\n",
       "      <td>2</td>\n",
       "      <td>2</td>\n",
       "    </tr>\n",
       "  </tbody>\n",
       "</table>\n",
       "<p>5 rows × 34 columns</p>\n",
       "</div>"
      ],
      "text/plain": [
       "     DAY  School  SchoolType  StartTime  AvgMaxDailyTemp  AvgMinDailyTemp  \\\n",
       "SNo                                                                         \n",
       "1      1       1           0          3             22.2              5.1   \n",
       "2      1       1           0          3             22.2              5.1   \n",
       "3      1       1           0          3             22.2              5.1   \n",
       "4      1       1           0          3             22.2              5.1   \n",
       "5      1       1           0          3             22.2              5.1   \n",
       "\n",
       "     AvgIndoorRelativeHumidity  IndoorTempDuringSurvey  Grade  Age  ...  \\\n",
       "SNo                                                                 ...   \n",
       "1                         55.1                    14.5      3    8  ...   \n",
       "2                         55.1                    14.5      3    8  ...   \n",
       "3                         55.1                    14.5      3    8  ...   \n",
       "4                         55.1                    14.5      3   10  ...   \n",
       "5                         55.1                    14.5      3    9  ...   \n",
       "\n",
       "     Shoes  FullSweater  Underwear  SwC  TSV  TPV  TA  TCV  TSL  MC  \n",
       "SNo                                                                  \n",
       "1     0.02         0.36       0.03    1   -1    2   1    2    1   2  \n",
       "2     0.02         0.00       0.03    1   -1    2   1    3    1   2  \n",
       "3     0.02         0.00       0.03    2    0    1   1    2    3   4  \n",
       "4     0.02         0.00       0.03    2    0    0   1    2    2   4  \n",
       "5     0.02         0.00       0.03    2    0    1   1    2    2   2  \n",
       "\n",
       "[5 rows x 34 columns]"
      ]
     },
     "execution_count": 5,
     "metadata": {},
     "output_type": "execute_result"
    }
   ],
   "source": [
    "winter_data.head()"
   ]
  },
  {
   "cell_type": "code",
   "execution_count": 6,
   "id": "987ac98f-93cd-47f6-9aaf-be750d9f700f",
   "metadata": {
    "id": "987ac98f-93cd-47f6-9aaf-be750d9f700f",
    "outputId": "35c52902-6f97-4086-c94c-a561c2c4bd0c"
   },
   "outputs": [
    {
     "data": {
      "text/html": [
       "<div>\n",
       "<style scoped>\n",
       "    .dataframe tbody tr th:only-of-type {\n",
       "        vertical-align: middle;\n",
       "    }\n",
       "\n",
       "    .dataframe tbody tr th {\n",
       "        vertical-align: top;\n",
       "    }\n",
       "\n",
       "    .dataframe thead th {\n",
       "        text-align: right;\n",
       "    }\n",
       "</style>\n",
       "<table border=\"1\" class=\"dataframe\">\n",
       "  <thead>\n",
       "    <tr style=\"text-align: right;\">\n",
       "      <th></th>\n",
       "      <th>DAY</th>\n",
       "      <th>School</th>\n",
       "      <th>SchoolType</th>\n",
       "      <th>StartTime</th>\n",
       "      <th>AvgMaxDailyTemp</th>\n",
       "      <th>AvgMinDailyTemp</th>\n",
       "      <th>AvgIndoorRelativeHumidity</th>\n",
       "      <th>IndoorTempDuringSurvey</th>\n",
       "      <th>Grade</th>\n",
       "      <th>Age</th>\n",
       "      <th>...</th>\n",
       "      <th>Shoes</th>\n",
       "      <th>FullSweater</th>\n",
       "      <th>Underwear</th>\n",
       "      <th>SwC</th>\n",
       "      <th>TSV</th>\n",
       "      <th>TPV</th>\n",
       "      <th>TA</th>\n",
       "      <th>TCV</th>\n",
       "      <th>TSL</th>\n",
       "      <th>MC</th>\n",
       "    </tr>\n",
       "  </thead>\n",
       "  <tbody>\n",
       "    <tr>\n",
       "      <th>count</th>\n",
       "      <td>2038.000000</td>\n",
       "      <td>2038.000000</td>\n",
       "      <td>2038.000000</td>\n",
       "      <td>2038.000000</td>\n",
       "      <td>2038.000000</td>\n",
       "      <td>2038.000000</td>\n",
       "      <td>2038.000000</td>\n",
       "      <td>2038.000000</td>\n",
       "      <td>2038.000000</td>\n",
       "      <td>2038.000000</td>\n",
       "      <td>...</td>\n",
       "      <td>2038.00</td>\n",
       "      <td>2037.000000</td>\n",
       "      <td>2.038000e+03</td>\n",
       "      <td>2038.000000</td>\n",
       "      <td>2038.000000</td>\n",
       "      <td>2038.000000</td>\n",
       "      <td>2038.000000</td>\n",
       "      <td>2038.000000</td>\n",
       "      <td>2038.000000</td>\n",
       "      <td>2038.000000</td>\n",
       "    </tr>\n",
       "    <tr>\n",
       "      <th>mean</th>\n",
       "      <td>2.732581</td>\n",
       "      <td>2.709519</td>\n",
       "      <td>0.733562</td>\n",
       "      <td>2.299313</td>\n",
       "      <td>21.217076</td>\n",
       "      <td>6.254809</td>\n",
       "      <td>61.204711</td>\n",
       "      <td>14.496075</td>\n",
       "      <td>3.947007</td>\n",
       "      <td>9.524043</td>\n",
       "      <td>...</td>\n",
       "      <td>0.02</td>\n",
       "      <td>0.167364</td>\n",
       "      <td>3.000000e-02</td>\n",
       "      <td>1.965653</td>\n",
       "      <td>-0.326300</td>\n",
       "      <td>0.693817</td>\n",
       "      <td>0.958783</td>\n",
       "      <td>2.119235</td>\n",
       "      <td>1.996075</td>\n",
       "      <td>3.572620</td>\n",
       "    </tr>\n",
       "    <tr>\n",
       "      <th>std</th>\n",
       "      <td>1.309543</td>\n",
       "      <td>1.285857</td>\n",
       "      <td>0.442204</td>\n",
       "      <td>1.252473</td>\n",
       "      <td>1.744861</td>\n",
       "      <td>1.715494</td>\n",
       "      <td>7.081575</td>\n",
       "      <td>1.203274</td>\n",
       "      <td>0.797110</td>\n",
       "      <td>1.049188</td>\n",
       "      <td>...</td>\n",
       "      <td>0.00</td>\n",
       "      <td>0.179600</td>\n",
       "      <td>1.041090e-17</td>\n",
       "      <td>0.301848</td>\n",
       "      <td>0.612427</td>\n",
       "      <td>0.691821</td>\n",
       "      <td>0.198840</td>\n",
       "      <td>0.766258</td>\n",
       "      <td>0.822478</td>\n",
       "      <td>1.014077</td>\n",
       "    </tr>\n",
       "    <tr>\n",
       "      <th>min</th>\n",
       "      <td>1.000000</td>\n",
       "      <td>1.000000</td>\n",
       "      <td>0.000000</td>\n",
       "      <td>1.000000</td>\n",
       "      <td>17.600000</td>\n",
       "      <td>4.200000</td>\n",
       "      <td>44.230000</td>\n",
       "      <td>12.800000</td>\n",
       "      <td>3.000000</td>\n",
       "      <td>6.000000</td>\n",
       "      <td>...</td>\n",
       "      <td>0.02</td>\n",
       "      <td>0.000000</td>\n",
       "      <td>3.000000e-02</td>\n",
       "      <td>1.000000</td>\n",
       "      <td>-2.000000</td>\n",
       "      <td>-1.000000</td>\n",
       "      <td>0.000000</td>\n",
       "      <td>-3.000000</td>\n",
       "      <td>-2.000000</td>\n",
       "      <td>1.000000</td>\n",
       "    </tr>\n",
       "    <tr>\n",
       "      <th>25%</th>\n",
       "      <td>2.000000</td>\n",
       "      <td>1.000000</td>\n",
       "      <td>0.000000</td>\n",
       "      <td>1.000000</td>\n",
       "      <td>20.500000</td>\n",
       "      <td>5.000000</td>\n",
       "      <td>58.200000</td>\n",
       "      <td>13.600000</td>\n",
       "      <td>3.000000</td>\n",
       "      <td>9.000000</td>\n",
       "      <td>...</td>\n",
       "      <td>0.02</td>\n",
       "      <td>0.000000</td>\n",
       "      <td>3.000000e-02</td>\n",
       "      <td>2.000000</td>\n",
       "      <td>-1.000000</td>\n",
       "      <td>0.000000</td>\n",
       "      <td>1.000000</td>\n",
       "      <td>2.000000</td>\n",
       "      <td>2.000000</td>\n",
       "      <td>4.000000</td>\n",
       "    </tr>\n",
       "    <tr>\n",
       "      <th>50%</th>\n",
       "      <td>3.000000</td>\n",
       "      <td>3.000000</td>\n",
       "      <td>1.000000</td>\n",
       "      <td>2.000000</td>\n",
       "      <td>21.200000</td>\n",
       "      <td>5.600000</td>\n",
       "      <td>60.600000</td>\n",
       "      <td>14.100000</td>\n",
       "      <td>4.000000</td>\n",
       "      <td>10.000000</td>\n",
       "      <td>...</td>\n",
       "      <td>0.02</td>\n",
       "      <td>0.000000</td>\n",
       "      <td>3.000000e-02</td>\n",
       "      <td>2.000000</td>\n",
       "      <td>0.000000</td>\n",
       "      <td>1.000000</td>\n",
       "      <td>1.000000</td>\n",
       "      <td>2.000000</td>\n",
       "      <td>2.000000</td>\n",
       "      <td>4.000000</td>\n",
       "    </tr>\n",
       "    <tr>\n",
       "      <th>75%</th>\n",
       "      <td>4.000000</td>\n",
       "      <td>4.000000</td>\n",
       "      <td>1.000000</td>\n",
       "      <td>3.000000</td>\n",
       "      <td>22.400000</td>\n",
       "      <td>6.600000</td>\n",
       "      <td>65.400000</td>\n",
       "      <td>15.100000</td>\n",
       "      <td>5.000000</td>\n",
       "      <td>10.000000</td>\n",
       "      <td>...</td>\n",
       "      <td>0.02</td>\n",
       "      <td>0.360000</td>\n",
       "      <td>3.000000e-02</td>\n",
       "      <td>2.000000</td>\n",
       "      <td>0.000000</td>\n",
       "      <td>1.000000</td>\n",
       "      <td>1.000000</td>\n",
       "      <td>3.000000</td>\n",
       "      <td>2.000000</td>\n",
       "      <td>4.000000</td>\n",
       "    </tr>\n",
       "    <tr>\n",
       "      <th>max</th>\n",
       "      <td>5.000000</td>\n",
       "      <td>5.000000</td>\n",
       "      <td>1.000000</td>\n",
       "      <td>6.000000</td>\n",
       "      <td>24.200000</td>\n",
       "      <td>10.100000</td>\n",
       "      <td>75.600000</td>\n",
       "      <td>17.500000</td>\n",
       "      <td>5.000000</td>\n",
       "      <td>13.000000</td>\n",
       "      <td>...</td>\n",
       "      <td>0.02</td>\n",
       "      <td>0.360000</td>\n",
       "      <td>3.000000e-02</td>\n",
       "      <td>3.000000</td>\n",
       "      <td>2.000000</td>\n",
       "      <td>2.000000</td>\n",
       "      <td>1.000000</td>\n",
       "      <td>3.000000</td>\n",
       "      <td>3.000000</td>\n",
       "      <td>4.000000</td>\n",
       "    </tr>\n",
       "  </tbody>\n",
       "</table>\n",
       "<p>8 rows × 34 columns</p>\n",
       "</div>"
      ],
      "text/plain": [
       "               DAY       School   SchoolType    StartTime  AvgMaxDailyTemp  \\\n",
       "count  2038.000000  2038.000000  2038.000000  2038.000000      2038.000000   \n",
       "mean      2.732581     2.709519     0.733562     2.299313        21.217076   \n",
       "std       1.309543     1.285857     0.442204     1.252473         1.744861   \n",
       "min       1.000000     1.000000     0.000000     1.000000        17.600000   \n",
       "25%       2.000000     1.000000     0.000000     1.000000        20.500000   \n",
       "50%       3.000000     3.000000     1.000000     2.000000        21.200000   \n",
       "75%       4.000000     4.000000     1.000000     3.000000        22.400000   \n",
       "max       5.000000     5.000000     1.000000     6.000000        24.200000   \n",
       "\n",
       "       AvgMinDailyTemp  AvgIndoorRelativeHumidity  IndoorTempDuringSurvey  \\\n",
       "count      2038.000000                2038.000000             2038.000000   \n",
       "mean          6.254809                  61.204711               14.496075   \n",
       "std           1.715494                   7.081575                1.203274   \n",
       "min           4.200000                  44.230000               12.800000   \n",
       "25%           5.000000                  58.200000               13.600000   \n",
       "50%           5.600000                  60.600000               14.100000   \n",
       "75%           6.600000                  65.400000               15.100000   \n",
       "max          10.100000                  75.600000               17.500000   \n",
       "\n",
       "             Grade          Age  ...    Shoes  FullSweater     Underwear  \\\n",
       "count  2038.000000  2038.000000  ...  2038.00  2037.000000  2.038000e+03   \n",
       "mean      3.947007     9.524043  ...     0.02     0.167364  3.000000e-02   \n",
       "std       0.797110     1.049188  ...     0.00     0.179600  1.041090e-17   \n",
       "min       3.000000     6.000000  ...     0.02     0.000000  3.000000e-02   \n",
       "25%       3.000000     9.000000  ...     0.02     0.000000  3.000000e-02   \n",
       "50%       4.000000    10.000000  ...     0.02     0.000000  3.000000e-02   \n",
       "75%       5.000000    10.000000  ...     0.02     0.360000  3.000000e-02   \n",
       "max       5.000000    13.000000  ...     0.02     0.360000  3.000000e-02   \n",
       "\n",
       "               SwC          TSV          TPV           TA          TCV  \\\n",
       "count  2038.000000  2038.000000  2038.000000  2038.000000  2038.000000   \n",
       "mean      1.965653    -0.326300     0.693817     0.958783     2.119235   \n",
       "std       0.301848     0.612427     0.691821     0.198840     0.766258   \n",
       "min       1.000000    -2.000000    -1.000000     0.000000    -3.000000   \n",
       "25%       2.000000    -1.000000     0.000000     1.000000     2.000000   \n",
       "50%       2.000000     0.000000     1.000000     1.000000     2.000000   \n",
       "75%       2.000000     0.000000     1.000000     1.000000     3.000000   \n",
       "max       3.000000     2.000000     2.000000     1.000000     3.000000   \n",
       "\n",
       "               TSL           MC  \n",
       "count  2038.000000  2038.000000  \n",
       "mean      1.996075     3.572620  \n",
       "std       0.822478     1.014077  \n",
       "min      -2.000000     1.000000  \n",
       "25%       2.000000     4.000000  \n",
       "50%       2.000000     4.000000  \n",
       "75%       2.000000     4.000000  \n",
       "max       3.000000     4.000000  \n",
       "\n",
       "[8 rows x 34 columns]"
      ]
     },
     "execution_count": 6,
     "metadata": {},
     "output_type": "execute_result"
    }
   ],
   "source": [
    "winter_data.describe()"
   ]
  },
  {
   "cell_type": "code",
   "execution_count": 7,
   "id": "bbf21588-7c32-4abc-8851-fd556fb76d83",
   "metadata": {
    "id": "bbf21588-7c32-4abc-8851-fd556fb76d83",
    "outputId": "7f4e4661-2aae-40b0-b27b-e8ba17208265"
   },
   "outputs": [
    {
     "name": "stdout",
     "output_type": "stream",
     "text": [
      "<class 'pandas.core.frame.DataFrame'>\n",
      "Int64Index: 2038 entries, 1 to 2038\n",
      "Data columns (total 34 columns):\n",
      " #   Column                     Non-Null Count  Dtype  \n",
      "---  ------                     --------------  -----  \n",
      " 0   DAY                        2038 non-null   int64  \n",
      " 1   School                     2038 non-null   int64  \n",
      " 2   SchoolType                 2038 non-null   int64  \n",
      " 3   StartTime                  2038 non-null   int64  \n",
      " 4   AvgMaxDailyTemp            2038 non-null   float64\n",
      " 5   AvgMinDailyTemp            2038 non-null   float64\n",
      " 6   AvgIndoorRelativeHumidity  2038 non-null   float64\n",
      " 7   IndoorTempDuringSurvey     2038 non-null   float64\n",
      " 8   Grade                      2038 non-null   int64  \n",
      " 9   Age                        2038 non-null   int64  \n",
      " 10  Gender                     2038 non-null   int64  \n",
      " 11  FormalClothing             2038 non-null   int64  \n",
      " 12  Pant                       2038 non-null   float64\n",
      " 13  Trackpant                  2038 non-null   float64\n",
      " 14  Halfshirt                  2038 non-null   float64\n",
      " 15  Blazer                     2038 non-null   float64\n",
      " 16  Jacket                     2038 non-null   float64\n",
      " 17  Skirt                      2038 non-null   float64\n",
      " 18  FullShirt                  2038 non-null   float64\n",
      " 19  HalfSweater                2038 non-null   float64\n",
      " 20  Tshirt                     2038 non-null   float64\n",
      " 21  Socks                      2037 non-null   float64\n",
      " 22  Thermal                    2038 non-null   float64\n",
      " 23  Vest                       2038 non-null   float64\n",
      " 24  Shoes                      2038 non-null   float64\n",
      " 25  FullSweater                2037 non-null   float64\n",
      " 26  Underwear                  2038 non-null   float64\n",
      " 27  SwC                        2038 non-null   int64  \n",
      " 28  TSV                        2038 non-null   int64  \n",
      " 29  TPV                        2038 non-null   int64  \n",
      " 30  TA                         2038 non-null   int64  \n",
      " 31  TCV                        2038 non-null   int64  \n",
      " 32  TSL                        2038 non-null   int64  \n",
      " 33  MC                         2038 non-null   int64  \n",
      "dtypes: float64(19), int64(15)\n",
      "memory usage: 557.3 KB\n"
     ]
    }
   ],
   "source": [
    "winter_data.info()"
   ]
  },
  {
   "cell_type": "code",
   "execution_count": 8,
   "id": "9349cea7-b27d-4902-880d-2365ae033cf1",
   "metadata": {
    "id": "9349cea7-b27d-4902-880d-2365ae033cf1",
    "outputId": "f5965a90-b9fa-4939-b207-542f9328bb85"
   },
   "outputs": [
    {
     "data": {
      "text/plain": [
       "Index(['DAY', 'School', 'SchoolType', 'StartTime', 'AvgMaxDailyTemp',\n",
       "       'AvgMinDailyTemp', 'AvgIndoorRelativeHumidity',\n",
       "       'IndoorTempDuringSurvey', 'Grade', 'Age', 'Gender', 'FormalClothing',\n",
       "       'Pant', 'Trackpant', 'Halfshirt', 'Blazer', 'Jacket', 'Skirt',\n",
       "       'FullShirt', 'HalfSweater', 'Tshirt', 'Socks', 'Thermal', 'Vest',\n",
       "       'Shoes', 'FullSweater', 'Underwear', 'SwC', 'TSV', 'TPV', 'TA', 'TCV',\n",
       "       'TSL', 'MC'],\n",
       "      dtype='object')"
      ]
     },
     "execution_count": 8,
     "metadata": {},
     "output_type": "execute_result"
    }
   ],
   "source": [
    "winter_data.columns"
   ]
  },
  {
   "cell_type": "code",
   "execution_count": 9,
   "id": "c09b2226-42a9-4ebb-b352-3a43bfcf1014",
   "metadata": {
    "id": "c09b2226-42a9-4ebb-b352-3a43bfcf1014"
   },
   "outputs": [],
   "source": [
    "winter_data = winter_data.astype({\n",
    "    'DAY':'category',\n",
    "    'School':'category',\n",
    "    'SchoolType': 'category',\n",
    "    'StartTime': 'category',\n",
    "    'Grade': 'category',\n",
    "    'Gender': 'category',\n",
    "    'FormalClothing': 'bool',\n",
    "    'Pant': 'bool',\n",
    "    'Trackpant': 'bool',\n",
    "    'Halfshirt': 'bool',\n",
    "    'Blazer': 'bool',\n",
    "    'Jacket': 'bool',\n",
    "    'Skirt': 'bool',\n",
    "    'FullShirt': 'bool',\n",
    "    'HalfSweater': 'bool',\n",
    "    'Tshirt': 'bool',\n",
    "    'Socks': 'bool',\n",
    "    'Thermal': 'bool',\n",
    "    'Vest': 'bool',\n",
    "    'FullSweater': 'bool',\n",
    "    'TSV':'category',\n",
    "    'TPV':'category',\n",
    "    'TCV':'category',\n",
    "    'TSL':'category',\n",
    "    'MC':'category',\n",
    "    'SwC':'category',\n",
    "})"
   ]
  },
  {
   "cell_type": "code",
   "execution_count": 10,
   "id": "8e0d655e-f4f7-48d7-9181-cb16f70779df",
   "metadata": {
    "id": "8e0d655e-f4f7-48d7-9181-cb16f70779df",
    "outputId": "88f4a015-f29e-48ef-cfef-60b8e18dee3e"
   },
   "outputs": [
    {
     "name": "stdout",
     "output_type": "stream",
     "text": [
      "<class 'pandas.core.frame.DataFrame'>\n",
      "Int64Index: 2038 entries, 1 to 2038\n",
      "Data columns (total 34 columns):\n",
      " #   Column                     Non-Null Count  Dtype   \n",
      "---  ------                     --------------  -----   \n",
      " 0   DAY                        2038 non-null   category\n",
      " 1   School                     2038 non-null   category\n",
      " 2   SchoolType                 2038 non-null   category\n",
      " 3   StartTime                  2038 non-null   category\n",
      " 4   AvgMaxDailyTemp            2038 non-null   float64 \n",
      " 5   AvgMinDailyTemp            2038 non-null   float64 \n",
      " 6   AvgIndoorRelativeHumidity  2038 non-null   float64 \n",
      " 7   IndoorTempDuringSurvey     2038 non-null   float64 \n",
      " 8   Grade                      2038 non-null   category\n",
      " 9   Age                        2038 non-null   int64   \n",
      " 10  Gender                     2038 non-null   category\n",
      " 11  FormalClothing             2038 non-null   bool    \n",
      " 12  Pant                       2038 non-null   bool    \n",
      " 13  Trackpant                  2038 non-null   bool    \n",
      " 14  Halfshirt                  2038 non-null   bool    \n",
      " 15  Blazer                     2038 non-null   bool    \n",
      " 16  Jacket                     2038 non-null   bool    \n",
      " 17  Skirt                      2038 non-null   bool    \n",
      " 18  FullShirt                  2038 non-null   bool    \n",
      " 19  HalfSweater                2038 non-null   bool    \n",
      " 20  Tshirt                     2038 non-null   bool    \n",
      " 21  Socks                      2038 non-null   bool    \n",
      " 22  Thermal                    2038 non-null   bool    \n",
      " 23  Vest                       2038 non-null   bool    \n",
      " 24  Shoes                      2038 non-null   float64 \n",
      " 25  FullSweater                2038 non-null   bool    \n",
      " 26  Underwear                  2038 non-null   float64 \n",
      " 27  SwC                        2038 non-null   category\n",
      " 28  TSV                        2038 non-null   category\n",
      " 29  TPV                        2038 non-null   category\n",
      " 30  TA                         2038 non-null   int64   \n",
      " 31  TCV                        2038 non-null   category\n",
      " 32  TSL                        2038 non-null   category\n",
      " 33  MC                         2038 non-null   category\n",
      "dtypes: bool(14), category(12), float64(6), int64(2)\n",
      "memory usage: 197.2 KB\n"
     ]
    }
   ],
   "source": [
    "winter_data.info()"
   ]
  },
  {
   "cell_type": "markdown",
   "id": "c2bd1dc6-893a-422d-84f4-5bf8e94ec32c",
   "metadata": {
    "id": "c2bd1dc6-893a-422d-84f4-5bf8e94ec32c"
   },
   "source": [
    "## Distributions of Numerical Features"
   ]
  },
  {
   "cell_type": "code",
   "execution_count": 11,
   "id": "c3655b57-2a9f-4041-8314-c5f78676161e",
   "metadata": {
    "id": "c3655b57-2a9f-4041-8314-c5f78676161e",
    "outputId": "28a072fa-c246-4f5f-9b0b-60a14bb373df"
   },
   "outputs": [
    {
     "data": {
      "image/png": "[encoded data removed]",
      "text/plain": [
       "<Figure size 720x432 with 10 Axes>"
      ]
     },
     "metadata": {
      "needs_background": "light"
     },
     "output_type": "display_data"
    }
   ],
   "source": [
    "# create a new dataframe with columns containing only the numerical features\n",
    "num_features = winter_data.select_dtypes(exclude=['bool', 'category']).copy()\n",
    "\n",
    "# we plot individual column distributions with null entry rows dropped\n",
    "fig, axs = plt.subplots(2, 5, figsize=(10, 6))\n",
    "for i in range(len(num_features.columns)):\n",
    "    plt.subplot(2, 5, i+1)\n",
    "    sns.distplot(num_features.iloc[:,i].dropna())\n",
    "    plt.xlabel(num_features.columns[i])\n",
    "\n",
    "plt.tight_layout()\n",
    "plt.show()"
   ]
  },
  {
   "cell_type": "markdown",
   "id": "4c308279-7d9b-40fe-8cac-20e51eb28abf",
   "metadata": {
    "id": "4c308279-7d9b-40fe-8cac-20e51eb28abf"
   },
   "source": [
    "## Distributions of Categorical Features"
   ]
  },
  {
   "cell_type": "code",
   "execution_count": 12,
   "id": "46bfb75d-379b-432c-b6c9-0707943929ad",
   "metadata": {
    "id": "46bfb75d-379b-432c-b6c9-0707943929ad",
    "outputId": "5f28a80c-85bd-4267-f077-75aebfbe2609"
   },
   "outputs": [
    {
     "data": {
      "image/png": "[encoded data removed]",
      "text/plain": [
       "<Figure size 720x2160 with 14 Axes>"
      ]
     },
     "metadata": {
      "needs_background": "light"
     },
     "output_type": "display_data"
    }
   ],
   "source": [
    "# create a new dataframe with columns containing only the categorical features\n",
    "cat_features = winter_data.select_dtypes(include=['category']).copy()\n",
    "\n",
    "# we plot individual column distributions with null entry rows dropped\n",
    "fig, axs = plt.subplots(nrows=7, ncols=2, figsize=(10, 30))\n",
    "plt.subplots_adjust(right=1.5, top=1.25)\n",
    "\n",
    "for i in range(len(cat_features.columns)):\n",
    "    plt.subplot(7, 2, i+1)\n",
    "    sns.countplot(y=cat_features.columns[i], data=cat_features)\n",
    "    \n",
    "plt.tight_layout()\n",
    "plt.show()"
   ]
  },
  {
   "cell_type": "markdown",
   "id": "36bd4976-ecec-416e-b892-96269f70b385",
   "metadata": {
    "id": "36bd4976-ecec-416e-b892-96269f70b385"
   },
   "source": [
    "## Distributions of Boolean Features"
   ]
  },
  {
   "cell_type": "code",
   "execution_count": 13,
   "id": "616899da-9afd-40d6-9478-2a251a8b7a89",
   "metadata": {
    "id": "616899da-9afd-40d6-9478-2a251a8b7a89",
    "outputId": "7a2f8838-4a88-4d7b-8671-b2deed39ce88"
   },
   "outputs": [
    {
     "data": {
      "image/png": "[encoded data removed]",
      "text/plain": [
       "<Figure size 720x2160 with 14 Axes>"
      ]
     },
     "metadata": {
      "needs_background": "light"
     },
     "output_type": "display_data"
    }
   ],
   "source": [
    "# create a new dataframe with columns containing only the categorical features\n",
    "bool_features = winter_data.select_dtypes(include='bool').copy()\n",
    "\n",
    "# we plot individual column distributions with null entry rows dropped\n",
    "fig, axs = plt.subplots(nrows=7, ncols=2, figsize=(10, 30))\n",
    "plt.subplots_adjust(right=1.5, top=1.25)\n",
    "\n",
    "for i in range(len(bool_features.columns)):\n",
    "    plt.subplot(7, 2, i+1)\n",
    "    sns.countplot(y=bool_features.columns[i], data=bool_features)\n",
    "    \n",
    "plt.tight_layout()\n",
    "plt.show()"
   ]
  },
  {
   "cell_type": "code",
   "execution_count": 14,
   "id": "9445a69c-e0a0-4e24-a90f-3d69860a4820",
   "metadata": {
    "id": "9445a69c-e0a0-4e24-a90f-3d69860a4820"
   },
   "outputs": [],
   "source": [
    "tsl_target_data = winter_data.copy()"
   ]
  },
  {
   "cell_type": "markdown",
   "id": "fdbc99d5-c71f-4d46-ad6c-de1dbf87656d",
   "metadata": {
    "id": "fdbc99d5-c71f-4d46-ad6c-de1dbf87656d"
   },
   "source": [
    "## Machine Learning Models (CatBoost)"
   ]
  },
  {
   "cell_type": "code",
   "execution_count": 15,
   "id": "65309bc6-bd36-4a4e-9465-c188fa18a5f7",
   "metadata": {
    "id": "65309bc6-bd36-4a4e-9465-c188fa18a5f7"
   },
   "outputs": [],
   "source": [
    "import catboost as cat\n",
    "# Classification metrics \n",
    "from sklearn.metrics import precision_score, cohen_kappa_score, f1_score, accuracy_score, recall_score\n",
    "# Helper for cross-validation\n",
    "from sklearn.model_selection import StratifiedKFold"
   ]
  },
  {
   "cell_type": "code",
   "execution_count": 16,
   "id": "a697e408-b43d-4b06-8eb5-45837788e713",
   "metadata": {
    "id": "a697e408-b43d-4b06-8eb5-45837788e713"
   },
   "outputs": [],
   "source": [
    "def oof_trainer(X: pd.DataFrame,\n",
    "                y,\n",
    "            n_folds = None,\n",
    "            params: dict = None,\n",
    "            del_cols: list = None,\n",
    "            cat_features=None):\n",
    "    \n",
    "    \"\"\"This function trains multiple Catboost model while performing stratified CV with shuffling.\n",
    "    out-of-fold (oof) predictions are evaluated at each fold and printed out \n",
    "    at the end of the routine as a list. The mean scores on all fold is also printed out.\n",
    "    \n",
    "    The metrics used for evaluation are precision_auc and the cohen's kappa\n",
    "    \n",
    "    Output: \n",
    "    models -- a list of models trained on each fold during CV\n",
    "    oof_pred -- prediction array consisting of predictions coming from different models\n",
    "    \"\"\"\n",
    "        \n",
    "    # collect models and scores from each fold\n",
    "    models = []\n",
    "    f1_scores = []\n",
    "    accuracy_scores = []\n",
    "    precision_scores = []\n",
    "    recall_scores = []\n",
    "    scores = []\n",
    "    # CV splitter\n",
    "    folds = StratifiedKFold(n_splits=n_folds, shuffle=True, random_state=505) #GroupKFold(n_splits=n_folds) \n",
    "    #features to use\n",
    "    columns = [col for col in X.columns.values if not col in del_cols]\n",
    "    # dimension of the target \n",
    "    n_target=1\n",
    "    \n",
    "    # collect out-of-sample predictions\n",
    "    data_X, data_y, oof_pred = pd.DataFrame(), pd.Series(), np.zeros((len(X),n_target))\n",
    "\n",
    "\n",
    "    for fold_n, (train_index, valid_index) in enumerate(folds.split(X, y)):\n",
    "     \n",
    "        print('Fold {} started at {}'.format(fold_n + 1,time.ctime()))\n",
    "        #print((train_index, valid_index))\n",
    "        X_train, X_valid = X.iloc[train_index][columns], X.iloc[valid_index][columns]\n",
    "        y_train, y_valid = y.iloc[train_index], y.iloc[valid_index]\n",
    "    \n",
    "        data_X = data_X.append(X_valid)\n",
    "        data_y = data_y.append(y_valid)\n",
    "        print(data_X.shape)\n",
    "        \n",
    "        #Eval set preparation\n",
    "        eval_set = [(X_train, y_train)]\n",
    "       # eval_names = ['train']\n",
    "        eval_set.append((X_valid, y_valid))\n",
    "       # eval_names.append('valid')\n",
    "    \n",
    "        model = cat.CatBoostClassifier()\n",
    "        model.fit(X=X_train, y=y_train, \n",
    "                       eval_set=eval_set, \n",
    "                       verbose=500, early_stopping_rounds=150,\n",
    "                      cat_features=cat_features, use_best_model=True, plot=True)\n",
    "        \n",
    "        oof_pred[valid_index] = model.predict(X_valid).reshape(-1, n_target)\n",
    "        models.append(model)\n",
    "    \n",
    "        print('-'*30)\n",
    "        \n",
    "        scores.append(cohen_kappa_score(y_valid, oof_pred[valid_index], weights='quadratic'))\n",
    "        f1_scores.append(f1_score(y_valid, oof_pred[valid_index],   average=None))\n",
    "        accuracy_scores.append(accuracy_score(y_valid, oof_pred[valid_index]))\n",
    "        precision_scores.append(precision_score(y_valid, oof_pred[valid_index],   average=None))\n",
    "        recall_scores.append(recall_score(y_valid, oof_pred[valid_index],   average=None))\n",
    "\n",
    "    print(f'catb fold kappa scores: {scores}')\n",
    "    print(f'catb fold kappa scores mean: {np.mean(scores)}')\n",
    "    print(f'catb fold f1 scores: {f1_scores}')\n",
    "    print(f'catb fold f1 scores mean: {np.mean(f1_scores)}')\n",
    "    print(f'catb fold precision-micro scores: {precision_scores}')\n",
    "    print(f'catb fold precision-micro scores mean: {np.mean(precision_scores)}')\n",
    "    print(f'catb fold recall-micro scores: {recall_scores}')\n",
    "    print(f'catb fold recall-micro scores mean: {np.mean(recall_scores)}')\n",
    "    print(f'catb fold accuracy scores: {accuracy_scores}')\n",
    "    print(f'catb fold accuracy scores mean: {np.mean(accuracy_scores)}')\n",
    "   \n",
    "    return models, oof_pred\n"
   ]
  },
  {
   "cell_type": "code",
   "execution_count": 17,
   "id": "588fb38d-7bff-4070-bb49-6f6d53850483",
   "metadata": {
    "id": "588fb38d-7bff-4070-bb49-6f6d53850483",
    "outputId": "17452327-82a7-48c1-e676-5ae45f480ed0"
   },
   "outputs": [
    {
     "data": {
      "text/plain": [
       "Index(['DAY', 'School', 'SchoolType', 'StartTime', 'AvgMaxDailyTemp',\n",
       "       'AvgMinDailyTemp', 'AvgIndoorRelativeHumidity',\n",
       "       'IndoorTempDuringSurvey', 'Grade', 'Age', 'Gender', 'FormalClothing',\n",
       "       'Pant', 'Trackpant', 'Halfshirt', 'Blazer', 'Jacket', 'Skirt',\n",
       "       'FullShirt', 'HalfSweater', 'Tshirt', 'Socks', 'Thermal', 'Vest',\n",
       "       'Shoes', 'FullSweater', 'Underwear', 'SwC', 'TSV', 'TPV', 'TA', 'TCV',\n",
       "       'TSL', 'MC'],\n",
       "      dtype='object')"
      ]
     },
     "execution_count": 17,
     "metadata": {},
     "output_type": "execute_result"
    }
   ],
   "source": [
    "tsl_target_data.columns"
   ]
  },
  {
   "cell_type": "markdown",
   "id": "cfb45f11-b623-4e49-9718-f666cf2fb33b",
   "metadata": {
    "id": "cfb45f11-b623-4e49-9718-f666cf2fb33b"
   },
   "source": [
    "# Target: TSL"
   ]
  },
  {
   "cell_type": "code",
   "execution_count": 18,
   "id": "66c095fc-cc3a-4ac8-8400-cde83186276a",
   "metadata": {
    "colab": {
     "referenced_widgets": [
      "fa4c89ca93d14d828117005c1dafe130",
      "cf9d91526ddb40b08c9d193c7984980d",
      "6d8f640eae674c108e7e498d73b6310c",
      "97dc44a34f134e598b16ac4cfd90b756",
      "ed40c41a586e48f2ae47ce09d04b54aa"
     ]
    },
    "id": "66c095fc-cc3a-4ac8-8400-cde83186276a",
    "outputId": "1036be28-3756-4bb6-a548-e1d11605020e"
   },
   "outputs": [
    {
     "name": "stdout",
     "output_type": "stream",
     "text": [
      "Fold 1 started at Tue Aug 23 01:27:26 2022\n",
      "(408, 30)\n"
     ]
    },
    {
     "data": {
      "application/vnd.jupyter.widget-view+json": {
       "model_id": "e04dc82a5e724445a5b594f0ed84df03",
       "version_major": 2,
       "version_minor": 0
      },
      "text/plain": [
       "MetricVisualizer(layout=Layout(align_self='stretch', height='500px'))"
      ]
     },
     "metadata": {},
     "output_type": "display_data"
    },
    {
     "name": "stdout",
     "output_type": "stream",
     "text": [
      "Learning rate set to 0.109036\n",
      "0:\tlearn: 1.5052314\ttest: 1.5052314\ttest1: 1.5055811\tbest: 1.5055811 (0)\ttotal: 175ms\tremaining: 2m 54s\n",
      "Stopped by overfitting detector  (150 iterations wait)\n",
      "\n",
      "bestTest = 0.9855059234\n",
      "bestIteration = 131\n",
      "\n",
      "Shrink model to first 132 iterations.\n",
      "------------------------------\n",
      "Fold 2 started at Tue Aug 23 01:27:41 2022\n",
      "(816, 30)\n"
     ]
    },
    {
     "data": {
      "application/vnd.jupyter.widget-view+json": {
       "model_id": "6874f0985b384fadaecff56b4d79d1ec",
       "version_major": 2,
       "version_minor": 0
      },
      "text/plain": [
       "MetricVisualizer(layout=Layout(align_self='stretch', height='500px'))"
      ]
     },
     "metadata": {},
     "output_type": "display_data"
    },
    {
     "name": "stdout",
     "output_type": "stream",
     "text": [
      "Learning rate set to 0.109036\n",
      "0:\tlearn: 1.5054537\ttest: 1.5054537\ttest1: 1.5063457\tbest: 1.5063457 (0)\ttotal: 113ms\tremaining: 1m 53s\n",
      "Stopped by overfitting detector  (150 iterations wait)\n",
      "\n",
      "bestTest = 0.9606132682\n",
      "bestIteration = 155\n",
      "\n",
      "Shrink model to first 156 iterations.\n",
      "------------------------------\n",
      "Fold 3 started at Tue Aug 23 01:27:59 2022\n",
      "(1224, 30)\n"
     ]
    },
    {
     "data": {
      "application/vnd.jupyter.widget-view+json": {
       "model_id": "f126496287054ccbb16f3d714ade6c90",
       "version_major": 2,
       "version_minor": 0
      },
      "text/plain": [
       "MetricVisualizer(layout=Layout(align_self='stretch', height='500px'))"
      ]
     },
     "metadata": {},
     "output_type": "display_data"
    },
    {
     "name": "stdout",
     "output_type": "stream",
     "text": [
      "Learning rate set to 0.109036\n",
      "0:\tlearn: 1.5062203\ttest: 1.5062203\ttest1: 1.5123039\tbest: 1.5123039 (0)\ttotal: 42.7ms\tremaining: 42.6s\n",
      "Stopped by overfitting detector  (150 iterations wait)\n",
      "\n",
      "bestTest = 0.9889006918\n",
      "bestIteration = 128\n",
      "\n",
      "Shrink model to first 129 iterations.\n",
      "------------------------------\n",
      "Fold 4 started at Tue Aug 23 01:28:12 2022\n",
      "(1631, 30)\n"
     ]
    },
    {
     "data": {
      "application/vnd.jupyter.widget-view+json": {
       "model_id": "04763055c3624b15acafaf3e8a122748",
       "version_major": 2,
       "version_minor": 0
      },
      "text/plain": [
       "MetricVisualizer(layout=Layout(align_self='stretch', height='500px'))"
      ]
     },
     "metadata": {},
     "output_type": "display_data"
    },
    {
     "name": "stdout",
     "output_type": "stream",
     "text": [
      "Learning rate set to 0.109038\n",
      "0:\tlearn: 1.5101131\ttest: 1.5101131\ttest1: 1.5168090\tbest: 1.5168090 (0)\ttotal: 37.9ms\tremaining: 37.8s\n",
      "Stopped by overfitting detector  (150 iterations wait)\n",
      "\n",
      "bestTest = 0.9800428481\n",
      "bestIteration = 214\n",
      "\n",
      "Shrink model to first 215 iterations.\n",
      "------------------------------\n",
      "Fold 5 started at Tue Aug 23 01:28:31 2022\n",
      "(2038, 30)\n"
     ]
    },
    {
     "data": {
      "application/vnd.jupyter.widget-view+json": {
       "model_id": "6e10edf5042d4630ade662df2387b35d",
       "version_major": 2,
       "version_minor": 0
      },
      "text/plain": [
       "MetricVisualizer(layout=Layout(align_self='stretch', height='500px'))"
      ]
     },
     "metadata": {},
     "output_type": "display_data"
    },
    {
     "name": "stdout",
     "output_type": "stream",
     "text": [
      "Learning rate set to 0.109038\n",
      "0:\tlearn: 1.5131175\ttest: 1.5128736\ttest1: 1.5156214\tbest: 1.5156214 (0)\ttotal: 49.3ms\tremaining: 49.3s\n",
      "Stopped by overfitting detector  (150 iterations wait)\n",
      "\n",
      "bestTest = 0.9910530584\n",
      "bestIteration = 154\n",
      "\n",
      "Shrink model to first 155 iterations.\n",
      "------------------------------\n",
      "catb fold kappa scores: [0.19721026280415344, 0.1507936507936508, 0.17868305345128999, 0.21942289251155078, 0.15133391111835737]\n",
      "catb fold kappa scores mean: 0.17948875413580048\n",
      "catb fold f1 scores: [array([0.        , 0.        , 0.1025641 , 0.73234811, 0.21848739]), array([0.        , 0.        , 0.25882353, 0.71523179, 0.11965812]), array([0.        , 0.        , 0.21276596, 0.70588235, 0.19402985]), array([0.        , 0.25      , 0.19354839, 0.71034483, 0.24615385]), array([0.        , 0.        , 0.30434783, 0.6958042 , 0.18571429])]\n",
      "catb fold f1 scores mean: 0.23382818303625663\n",
      "catb fold precision-micro scores: [array([0.        , 0.        , 0.44444444, 0.5883905 , 0.65      ]), array([0.        , 0.        , 0.64705882, 0.57754011, 0.41176471]), array([0.        , 0.        , 0.38461538, 0.58789625, 0.37142857]), array([0.        , 1.        , 0.36      , 0.58857143, 0.51612903]), array([0.        , 0.        , 0.58333333, 0.58187135, 0.31707317])]\n",
      "catb fold precision-micro scores mean: 0.34440468406789504\n",
      "catb fold recall-micro scores: [array([0.        , 0.        , 0.05797101, 0.96956522, 0.13131313]), array([0.        , 0.        , 0.16176471, 0.93913043, 0.07      ]), array([0.        , 0.        , 0.14705882, 0.88311688, 0.13131313]), array([0.        , 0.14285714, 0.13235294, 0.89565217, 0.16161616]), array([0.        , 0.        , 0.20588235, 0.86521739, 0.13131313])]\n",
      "catb fold recall-micro scores mean: 0.24104498547772205\n",
      "catb fold accuracy scores: [0.5882352941176471, 0.5735294117647058, 0.5563725490196079, 0.5700245700245701, 0.5552825552825553]\n",
      "catb fold accuracy scores mean: 0.5686888760418173\n"
     ]
    }
   ],
   "source": [
    "# feature selection for Catboost\n",
    "models, oof_pred = oof_trainer(X=tsl_target_data,\n",
    "                    y=tsl_target_data.TSL,\n",
    "                    n_folds = 5,\n",
    "                   # params=params,\n",
    "                    del_cols=['TSV',\n",
    "       'TPV','TCV', 'TSL'],\n",
    "                    cat_features=cat_features.drop(columns=['TSV',\n",
    "       'TPV','TCV', 'TSL']).columns.values.tolist())"
   ]
  },
  {
   "cell_type": "markdown",
   "id": "6d10cb5a-5b26-4306-ad17-dc1d6cd285a7",
   "metadata": {
    "id": "6d10cb5a-5b26-4306-ad17-dc1d6cd285a7"
   },
   "source": [
    "## Feature importance"
   ]
  },
  {
   "cell_type": "code",
   "execution_count": 19,
   "id": "d6f69949-6906-4982-99e7-6070b849b1ea",
   "metadata": {
    "id": "d6f69949-6906-4982-99e7-6070b849b1ea",
    "outputId": "89fd45bb-be4a-48fc-a20b-80961728e100"
   },
   "outputs": [
    {
     "data": {
      "text/html": [
       "<div>\n",
       "<style scoped>\n",
       "    .dataframe tbody tr th:only-of-type {\n",
       "        vertical-align: middle;\n",
       "    }\n",
       "\n",
       "    .dataframe tbody tr th {\n",
       "        vertical-align: top;\n",
       "    }\n",
       "\n",
       "    .dataframe thead th {\n",
       "        text-align: right;\n",
       "    }\n",
       "</style>\n",
       "<table border=\"1\" class=\"dataframe\">\n",
       "  <thead>\n",
       "    <tr style=\"text-align: right;\">\n",
       "      <th></th>\n",
       "      <th>Feature Id</th>\n",
       "      <th>Importances</th>\n",
       "    </tr>\n",
       "  </thead>\n",
       "  <tbody>\n",
       "    <tr>\n",
       "      <th>0</th>\n",
       "      <td>School</td>\n",
       "      <td>8.995579</td>\n",
       "    </tr>\n",
       "    <tr>\n",
       "      <th>1</th>\n",
       "      <td>AvgIndoorRelativeHumidity</td>\n",
       "      <td>8.176524</td>\n",
       "    </tr>\n",
       "    <tr>\n",
       "      <th>2</th>\n",
       "      <td>DAY</td>\n",
       "      <td>7.908865</td>\n",
       "    </tr>\n",
       "    <tr>\n",
       "      <th>3</th>\n",
       "      <td>Grade</td>\n",
       "      <td>7.490787</td>\n",
       "    </tr>\n",
       "    <tr>\n",
       "      <th>4</th>\n",
       "      <td>Age</td>\n",
       "      <td>6.920642</td>\n",
       "    </tr>\n",
       "    <tr>\n",
       "      <th>5</th>\n",
       "      <td>IndoorTempDuringSurvey</td>\n",
       "      <td>6.600062</td>\n",
       "    </tr>\n",
       "    <tr>\n",
       "      <th>6</th>\n",
       "      <td>TA</td>\n",
       "      <td>5.851666</td>\n",
       "    </tr>\n",
       "    <tr>\n",
       "      <th>7</th>\n",
       "      <td>Vest</td>\n",
       "      <td>5.679902</td>\n",
       "    </tr>\n",
       "    <tr>\n",
       "      <th>8</th>\n",
       "      <td>StartTime</td>\n",
       "      <td>5.571977</td>\n",
       "    </tr>\n",
       "    <tr>\n",
       "      <th>9</th>\n",
       "      <td>AvgMinDailyTemp</td>\n",
       "      <td>4.989981</td>\n",
       "    </tr>\n",
       "    <tr>\n",
       "      <th>10</th>\n",
       "      <td>Gender</td>\n",
       "      <td>4.269421</td>\n",
       "    </tr>\n",
       "    <tr>\n",
       "      <th>11</th>\n",
       "      <td>Thermal</td>\n",
       "      <td>4.123127</td>\n",
       "    </tr>\n",
       "    <tr>\n",
       "      <th>12</th>\n",
       "      <td>AvgMaxDailyTemp</td>\n",
       "      <td>4.069266</td>\n",
       "    </tr>\n",
       "    <tr>\n",
       "      <th>13</th>\n",
       "      <td>MC</td>\n",
       "      <td>3.304339</td>\n",
       "    </tr>\n",
       "    <tr>\n",
       "      <th>14</th>\n",
       "      <td>FullSweater</td>\n",
       "      <td>3.156048</td>\n",
       "    </tr>\n",
       "    <tr>\n",
       "      <th>15</th>\n",
       "      <td>SwC</td>\n",
       "      <td>3.088342</td>\n",
       "    </tr>\n",
       "    <tr>\n",
       "      <th>16</th>\n",
       "      <td>Tshirt</td>\n",
       "      <td>2.042368</td>\n",
       "    </tr>\n",
       "    <tr>\n",
       "      <th>17</th>\n",
       "      <td>HalfSweater</td>\n",
       "      <td>1.929510</td>\n",
       "    </tr>\n",
       "    <tr>\n",
       "      <th>18</th>\n",
       "      <td>FullShirt</td>\n",
       "      <td>1.906795</td>\n",
       "    </tr>\n",
       "    <tr>\n",
       "      <th>19</th>\n",
       "      <td>SchoolType</td>\n",
       "      <td>1.112141</td>\n",
       "    </tr>\n",
       "    <tr>\n",
       "      <th>20</th>\n",
       "      <td>Blazer</td>\n",
       "      <td>0.581524</td>\n",
       "    </tr>\n",
       "    <tr>\n",
       "      <th>21</th>\n",
       "      <td>FormalClothing</td>\n",
       "      <td>0.578810</td>\n",
       "    </tr>\n",
       "    <tr>\n",
       "      <th>22</th>\n",
       "      <td>Trackpant</td>\n",
       "      <td>0.476716</td>\n",
       "    </tr>\n",
       "    <tr>\n",
       "      <th>23</th>\n",
       "      <td>Pant</td>\n",
       "      <td>0.461448</td>\n",
       "    </tr>\n",
       "    <tr>\n",
       "      <th>24</th>\n",
       "      <td>Jacket</td>\n",
       "      <td>0.382178</td>\n",
       "    </tr>\n",
       "    <tr>\n",
       "      <th>25</th>\n",
       "      <td>Halfshirt</td>\n",
       "      <td>0.326241</td>\n",
       "    </tr>\n",
       "    <tr>\n",
       "      <th>26</th>\n",
       "      <td>Skirt</td>\n",
       "      <td>0.005740</td>\n",
       "    </tr>\n",
       "    <tr>\n",
       "      <th>27</th>\n",
       "      <td>Socks</td>\n",
       "      <td>0.000000</td>\n",
       "    </tr>\n",
       "    <tr>\n",
       "      <th>28</th>\n",
       "      <td>Shoes</td>\n",
       "      <td>0.000000</td>\n",
       "    </tr>\n",
       "    <tr>\n",
       "      <th>29</th>\n",
       "      <td>Underwear</td>\n",
       "      <td>0.000000</td>\n",
       "    </tr>\n",
       "  </tbody>\n",
       "</table>\n",
       "</div>"
      ],
      "text/plain": [
       "                   Feature Id  Importances\n",
       "0                      School     8.995579\n",
       "1   AvgIndoorRelativeHumidity     8.176524\n",
       "2                         DAY     7.908865\n",
       "3                       Grade     7.490787\n",
       "4                         Age     6.920642\n",
       "5      IndoorTempDuringSurvey     6.600062\n",
       "6                          TA     5.851666\n",
       "7                        Vest     5.679902\n",
       "8                   StartTime     5.571977\n",
       "9             AvgMinDailyTemp     4.989981\n",
       "10                     Gender     4.269421\n",
       "11                    Thermal     4.123127\n",
       "12            AvgMaxDailyTemp     4.069266\n",
       "13                         MC     3.304339\n",
       "14                FullSweater     3.156048\n",
       "15                        SwC     3.088342\n",
       "16                     Tshirt     2.042368\n",
       "17                HalfSweater     1.929510\n",
       "18                  FullShirt     1.906795\n",
       "19                 SchoolType     1.112141\n",
       "20                     Blazer     0.581524\n",
       "21             FormalClothing     0.578810\n",
       "22                  Trackpant     0.476716\n",
       "23                       Pant     0.461448\n",
       "24                     Jacket     0.382178\n",
       "25                  Halfshirt     0.326241\n",
       "26                      Skirt     0.005740\n",
       "27                      Socks     0.000000\n",
       "28                      Shoes     0.000000\n",
       "29                  Underwear     0.000000"
      ]
     },
     "execution_count": 19,
     "metadata": {},
     "output_type": "execute_result"
    }
   ],
   "source": [
    "best_gb_model = models[1]\n",
    "best_gb_model.get_feature_importance(prettified=True)"
   ]
  },
  {
   "cell_type": "markdown",
   "id": "d8259b1e-582b-496a-bbd1-c52ceee40ebb",
   "metadata": {
    "id": "d8259b1e-582b-496a-bbd1-c52ceee40ebb"
   },
   "source": [
    "# Target: TPV"
   ]
  },
  {
   "cell_type": "code",
   "execution_count": null,
   "id": "a9691056-e88c-44f7-80c6-3a322c0f6099",
   "metadata": {
    "id": "a9691056-e88c-44f7-80c6-3a322c0f6099"
   },
   "outputs": [],
   "source": []
  },
  {
   "cell_type": "code",
   "execution_count": 20,
   "id": "67f17f9a-c3ed-452d-915a-ce83c4b31577",
   "metadata": {
    "colab": {
     "referenced_widgets": [
      "fbf29688de22491f889c97a9d0b7d263",
      "17b2b3b9bf294869b7445a50a000b6b9",
      "3723d98ea0464762abd9e93ea274a5ae",
      "72b84d62f8334814833b6f2f662b28d2",
      "96f30b05310a4561ac8297e0a4b79fd1"
     ]
    },
    "id": "67f17f9a-c3ed-452d-915a-ce83c4b31577",
    "outputId": "d76af3cc-6aa2-4205-ff2b-48b76d7f6dc7"
   },
   "outputs": [
    {
     "name": "stdout",
     "output_type": "stream",
     "text": [
      "Fold 1 started at Tue Aug 23 01:28:45 2022\n",
      "(406, 30)\n"
     ]
    },
    {
     "data": {
      "application/vnd.jupyter.widget-view+json": {
       "model_id": "89410fefd50f4c608695b4087c8f9f7a",
       "version_major": 2,
       "version_minor": 0
      },
      "text/plain": [
       "MetricVisualizer(layout=Layout(align_self='stretch', height='500px'))"
      ]
     },
     "metadata": {},
     "output_type": "display_data"
    },
    {
     "name": "stdout",
     "output_type": "stream",
     "text": [
      "Learning rate set to 0.109027\n",
      "0:\tlearn: 1.0717463\ttest: 1.0717463\ttest1: 1.0761554\tbest: 1.0761554 (0)\ttotal: 27.8ms\tremaining: 27.8s\n",
      "Stopped by overfitting detector  (150 iterations wait)\n",
      "\n",
      "bestTest = 0.9194651707\n",
      "bestIteration = 175\n",
      "\n",
      "Shrink model to first 176 iterations.\n",
      "------------------------------\n",
      "Fold 2 started at Tue Aug 23 01:28:58 2022\n",
      "(812, 30)\n"
     ]
    },
    {
     "data": {
      "application/vnd.jupyter.widget-view+json": {
       "model_id": "2653be57f8c9476a8611057f407d5071",
       "version_major": 2,
       "version_minor": 0
      },
      "text/plain": [
       "MetricVisualizer(layout=Layout(align_self='stretch', height='500px'))"
      ]
     },
     "metadata": {},
     "output_type": "display_data"
    },
    {
     "name": "stdout",
     "output_type": "stream",
     "text": [
      "Learning rate set to 0.109027\n",
      "0:\tlearn: 1.0732017\ttest: 1.0731809\ttest1: 1.0755733\tbest: 1.0755733 (0)\ttotal: 30.4ms\tremaining: 30.3s\n",
      "Stopped by overfitting detector  (150 iterations wait)\n",
      "\n",
      "bestTest = 0.9210748243\n",
      "bestIteration = 99\n",
      "\n",
      "Shrink model to first 100 iterations.\n",
      "------------------------------\n",
      "Fold 3 started at Tue Aug 23 01:29:10 2022\n",
      "(1218, 30)\n"
     ]
    },
    {
     "data": {
      "application/vnd.jupyter.widget-view+json": {
       "model_id": "7bfab9dfb7a444edb2bcaf7329394ac1",
       "version_major": 2,
       "version_minor": 0
      },
      "text/plain": [
       "MetricVisualizer(layout=Layout(align_self='stretch', height='500px'))"
      ]
     },
     "metadata": {},
     "output_type": "display_data"
    },
    {
     "name": "stdout",
     "output_type": "stream",
     "text": [
      "Learning rate set to 0.109027\n",
      "0:\tlearn: 1.0744489\ttest: 1.0743419\ttest1: 1.0770045\tbest: 1.0770045 (0)\ttotal: 52.6ms\tremaining: 52.5s\n",
      "Stopped by overfitting detector  (150 iterations wait)\n",
      "\n",
      "bestTest = 0.9148383262\n",
      "bestIteration = 145\n",
      "\n",
      "Shrink model to first 146 iterations.\n",
      "------------------------------\n",
      "Fold 4 started at Tue Aug 23 01:29:24 2022\n",
      "(1624, 30)\n"
     ]
    },
    {
     "data": {
      "application/vnd.jupyter.widget-view+json": {
       "model_id": "7ecc5abef92c48cf9b07b35d5c5923e0",
       "version_major": 2,
       "version_minor": 0
      },
      "text/plain": [
       "MetricVisualizer(layout=Layout(align_self='stretch', height='500px'))"
      ]
     },
     "metadata": {},
     "output_type": "display_data"
    },
    {
     "name": "stdout",
     "output_type": "stream",
     "text": [
      "Learning rate set to 0.109027\n",
      "0:\tlearn: 1.0725793\ttest: 1.0726985\ttest1: 1.0734870\tbest: 1.0734870 (0)\ttotal: 28.6ms\tremaining: 28.5s\n",
      "Stopped by overfitting detector  (150 iterations wait)\n",
      "\n",
      "bestTest = 0.9100770866\n",
      "bestIteration = 159\n",
      "\n",
      "Shrink model to first 160 iterations.\n",
      "------------------------------\n",
      "Fold 5 started at Tue Aug 23 01:29:36 2022\n",
      "(2029, 30)\n"
     ]
    },
    {
     "data": {
      "application/vnd.jupyter.widget-view+json": {
       "model_id": "826eadeb5df945b7817c071e1b3e1c40",
       "version_major": 2,
       "version_minor": 0
      },
      "text/plain": [
       "MetricVisualizer(layout=Layout(align_self='stretch', height='500px'))"
      ]
     },
     "metadata": {},
     "output_type": "display_data"
    },
    {
     "name": "stdout",
     "output_type": "stream",
     "text": [
      "Learning rate set to 0.109028\n",
      "0:\tlearn: 1.0750545\ttest: 1.0750545\ttest1: 1.0764391\tbest: 1.0764391 (0)\ttotal: 39.2ms\tremaining: 39.2s\n",
      "Stopped by overfitting detector  (150 iterations wait)\n",
      "\n",
      "bestTest = 0.8927345289\n",
      "bestIteration = 130\n",
      "\n",
      "Shrink model to first 131 iterations.\n",
      "------------------------------\n",
      "catb fold kappa scores: [0.18298390116061403, 0.27285808318153304, 0.2960990712074303, 0.1490508413677466, 0.3287362792006755]\n",
      "catb fold kappa scores mean: 0.24594563522359988\n",
      "catb fold f1 scores: [array([0.52631579, 0.56930693, 0.18181818]), array([0.5974026 , 0.51630435, 0.13559322]), array([0.57617729, 0.54639175, 0.25396825]), array([0.54545455, 0.57731959, 0.13888889]), array([0.5915493 , 0.57142857, 0.28571429])]\n",
      "catb fold f1 scores mean: 0.4409089022871028\n",
      "catb fold precision-micro scores: [array([0.53254438, 0.51339286, 0.46153846]), array([0.5450237 , 0.5026455 , 0.66666667]), array([0.55614973, 0.50961538, 0.72727273]), array([0.53932584, 0.53846154, 0.25      ]), array([0.57692308, 0.52830189, 0.81818182])]\n",
      "catb fold precision-micro scores mean: 0.551069571395875\n",
      "catb fold recall-micro scores: [array([0.52023121, 0.63888889, 0.11320755]), array([0.66091954, 0.53072626, 0.0754717 ]), array([0.59770115, 0.58888889, 0.15384615]), array([0.55172414, 0.62222222, 0.09615385]), array([0.60693642, 0.62222222, 0.17307692])]\n",
      "catb fold recall-micro scores mean: 0.43681447368062754\n",
      "catb fold accuracy scores: [0.5197044334975369, 0.5270935960591133, 0.5369458128078818, 0.5246305418719212, 0.5580246913580247]\n",
      "catb fold accuracy scores mean: 0.5332798151188956\n"
     ]
    }
   ],
   "source": [
    "# feature selection for Catboost\n",
    "# Remove all rows with TPV value -1\n",
    "models, oof_pred = oof_trainer(X=tsl_target_data[tsl_target_data.TPV != -1],\n",
    "                    y=tsl_target_data[tsl_target_data.TPV != -1].TPV,\n",
    "                    n_folds = 5,\n",
    "                   # params=params,\n",
    "                    del_cols=['TSV',\n",
    "       'TSL','TCV', 'TSL', 'TPV'],\n",
    "                    cat_features=cat_features.drop(columns=['TSV', 'TPV',\n",
    "       'TSL','TCV', 'TSL']).columns.values.tolist())"
   ]
  },
  {
   "cell_type": "code",
   "execution_count": 21,
   "id": "7c989c89-d9fe-4ab1-acea-6b9a20d27830",
   "metadata": {
    "id": "7c989c89-d9fe-4ab1-acea-6b9a20d27830",
    "outputId": "f52c0f64-84b1-4dd7-fa90-6e7be3da6dea"
   },
   "outputs": [
    {
     "data": {
      "text/html": [
       "<div>\n",
       "<style scoped>\n",
       "    .dataframe tbody tr th:only-of-type {\n",
       "        vertical-align: middle;\n",
       "    }\n",
       "\n",
       "    .dataframe tbody tr th {\n",
       "        vertical-align: top;\n",
       "    }\n",
       "\n",
       "    .dataframe thead th {\n",
       "        text-align: right;\n",
       "    }\n",
       "</style>\n",
       "<table border=\"1\" class=\"dataframe\">\n",
       "  <thead>\n",
       "    <tr style=\"text-align: right;\">\n",
       "      <th></th>\n",
       "      <th>Feature Id</th>\n",
       "      <th>Importances</th>\n",
       "    </tr>\n",
       "  </thead>\n",
       "  <tbody>\n",
       "    <tr>\n",
       "      <th>0</th>\n",
       "      <td>School</td>\n",
       "      <td>11.428641</td>\n",
       "    </tr>\n",
       "    <tr>\n",
       "      <th>1</th>\n",
       "      <td>Grade</td>\n",
       "      <td>10.093633</td>\n",
       "    </tr>\n",
       "    <tr>\n",
       "      <th>2</th>\n",
       "      <td>DAY</td>\n",
       "      <td>8.653217</td>\n",
       "    </tr>\n",
       "    <tr>\n",
       "      <th>3</th>\n",
       "      <td>AvgMaxDailyTemp</td>\n",
       "      <td>6.762797</td>\n",
       "    </tr>\n",
       "    <tr>\n",
       "      <th>4</th>\n",
       "      <td>SwC</td>\n",
       "      <td>6.723190</td>\n",
       "    </tr>\n",
       "    <tr>\n",
       "      <th>5</th>\n",
       "      <td>StartTime</td>\n",
       "      <td>6.530683</td>\n",
       "    </tr>\n",
       "    <tr>\n",
       "      <th>6</th>\n",
       "      <td>IndoorTempDuringSurvey</td>\n",
       "      <td>5.217163</td>\n",
       "    </tr>\n",
       "    <tr>\n",
       "      <th>7</th>\n",
       "      <td>Thermal</td>\n",
       "      <td>4.777986</td>\n",
       "    </tr>\n",
       "    <tr>\n",
       "      <th>8</th>\n",
       "      <td>Vest</td>\n",
       "      <td>4.605696</td>\n",
       "    </tr>\n",
       "    <tr>\n",
       "      <th>9</th>\n",
       "      <td>FullShirt</td>\n",
       "      <td>4.497361</td>\n",
       "    </tr>\n",
       "    <tr>\n",
       "      <th>10</th>\n",
       "      <td>AvgMinDailyTemp</td>\n",
       "      <td>4.249282</td>\n",
       "    </tr>\n",
       "    <tr>\n",
       "      <th>11</th>\n",
       "      <td>AvgIndoorRelativeHumidity</td>\n",
       "      <td>4.049641</td>\n",
       "    </tr>\n",
       "    <tr>\n",
       "      <th>12</th>\n",
       "      <td>MC</td>\n",
       "      <td>3.806709</td>\n",
       "    </tr>\n",
       "    <tr>\n",
       "      <th>13</th>\n",
       "      <td>Age</td>\n",
       "      <td>3.451275</td>\n",
       "    </tr>\n",
       "    <tr>\n",
       "      <th>14</th>\n",
       "      <td>TA</td>\n",
       "      <td>2.836919</td>\n",
       "    </tr>\n",
       "    <tr>\n",
       "      <th>15</th>\n",
       "      <td>Gender</td>\n",
       "      <td>2.258002</td>\n",
       "    </tr>\n",
       "    <tr>\n",
       "      <th>16</th>\n",
       "      <td>HalfSweater</td>\n",
       "      <td>2.039118</td>\n",
       "    </tr>\n",
       "    <tr>\n",
       "      <th>17</th>\n",
       "      <td>FullSweater</td>\n",
       "      <td>1.796283</td>\n",
       "    </tr>\n",
       "    <tr>\n",
       "      <th>18</th>\n",
       "      <td>Tshirt</td>\n",
       "      <td>1.641743</td>\n",
       "    </tr>\n",
       "    <tr>\n",
       "      <th>19</th>\n",
       "      <td>Halfshirt</td>\n",
       "      <td>1.162746</td>\n",
       "    </tr>\n",
       "    <tr>\n",
       "      <th>20</th>\n",
       "      <td>SchoolType</td>\n",
       "      <td>1.075558</td>\n",
       "    </tr>\n",
       "    <tr>\n",
       "      <th>21</th>\n",
       "      <td>Jacket</td>\n",
       "      <td>0.860048</td>\n",
       "    </tr>\n",
       "    <tr>\n",
       "      <th>22</th>\n",
       "      <td>Trackpant</td>\n",
       "      <td>0.601114</td>\n",
       "    </tr>\n",
       "    <tr>\n",
       "      <th>23</th>\n",
       "      <td>Pant</td>\n",
       "      <td>0.356691</td>\n",
       "    </tr>\n",
       "    <tr>\n",
       "      <th>24</th>\n",
       "      <td>Blazer</td>\n",
       "      <td>0.296196</td>\n",
       "    </tr>\n",
       "    <tr>\n",
       "      <th>25</th>\n",
       "      <td>FormalClothing</td>\n",
       "      <td>0.139669</td>\n",
       "    </tr>\n",
       "    <tr>\n",
       "      <th>26</th>\n",
       "      <td>Skirt</td>\n",
       "      <td>0.088638</td>\n",
       "    </tr>\n",
       "    <tr>\n",
       "      <th>27</th>\n",
       "      <td>Socks</td>\n",
       "      <td>0.000000</td>\n",
       "    </tr>\n",
       "    <tr>\n",
       "      <th>28</th>\n",
       "      <td>Shoes</td>\n",
       "      <td>0.000000</td>\n",
       "    </tr>\n",
       "    <tr>\n",
       "      <th>29</th>\n",
       "      <td>Underwear</td>\n",
       "      <td>0.000000</td>\n",
       "    </tr>\n",
       "  </tbody>\n",
       "</table>\n",
       "</div>"
      ],
      "text/plain": [
       "                   Feature Id  Importances\n",
       "0                      School    11.428641\n",
       "1                       Grade    10.093633\n",
       "2                         DAY     8.653217\n",
       "3             AvgMaxDailyTemp     6.762797\n",
       "4                         SwC     6.723190\n",
       "5                   StartTime     6.530683\n",
       "6      IndoorTempDuringSurvey     5.217163\n",
       "7                     Thermal     4.777986\n",
       "8                        Vest     4.605696\n",
       "9                   FullShirt     4.497361\n",
       "10            AvgMinDailyTemp     4.249282\n",
       "11  AvgIndoorRelativeHumidity     4.049641\n",
       "12                         MC     3.806709\n",
       "13                        Age     3.451275\n",
       "14                         TA     2.836919\n",
       "15                     Gender     2.258002\n",
       "16                HalfSweater     2.039118\n",
       "17                FullSweater     1.796283\n",
       "18                     Tshirt     1.641743\n",
       "19                  Halfshirt     1.162746\n",
       "20                 SchoolType     1.075558\n",
       "21                     Jacket     0.860048\n",
       "22                  Trackpant     0.601114\n",
       "23                       Pant     0.356691\n",
       "24                     Blazer     0.296196\n",
       "25             FormalClothing     0.139669\n",
       "26                      Skirt     0.088638\n",
       "27                      Socks     0.000000\n",
       "28                      Shoes     0.000000\n",
       "29                  Underwear     0.000000"
      ]
     },
     "execution_count": 21,
     "metadata": {},
     "output_type": "execute_result"
    }
   ],
   "source": [
    "best_gb_model = models[1]\n",
    "best_gb_model.get_feature_importance(prettified=True)"
   ]
  },
  {
   "cell_type": "markdown",
   "id": "20020847-d228-4b9f-9f90-bc37c47eeea2",
   "metadata": {
    "id": "20020847-d228-4b9f-9f90-bc37c47eeea2"
   },
   "source": [
    "# Target: TSV"
   ]
  },
  {
   "cell_type": "code",
   "execution_count": 22,
   "id": "3b96787d-fa72-4e99-89d6-d1520cddc47e",
   "metadata": {
    "colab": {
     "referenced_widgets": [
      "1be23c3f4c05463fa785fc1c1e4b0adc",
      "caae0fb261b14639a0831aeefbe339a3",
      "4096c08fac364daa938f56275d94f231",
      "d371ff286b3c466fb3cbf11e12d442e1",
      "8cc5f4f3eed44c6a91172c6b36b82ad9"
     ]
    },
    "id": "3b96787d-fa72-4e99-89d6-d1520cddc47e",
    "outputId": "3e6052a1-82cc-40df-d4e2-6b5965bf3c08"
   },
   "outputs": [
    {
     "name": "stdout",
     "output_type": "stream",
     "text": [
      "Fold 1 started at Tue Aug 23 01:29:51 2022\n",
      "(408, 30)\n"
     ]
    },
    {
     "data": {
      "application/vnd.jupyter.widget-view+json": {
       "model_id": "a1956cf766474a15aae802f0efc62bd9",
       "version_major": 2,
       "version_minor": 0
      },
      "text/plain": [
       "MetricVisualizer(layout=Layout(align_self='stretch', height='500px'))"
      ]
     },
     "metadata": {},
     "output_type": "display_data"
    },
    {
     "name": "stdout",
     "output_type": "stream",
     "text": [
      "Learning rate set to 0.109035\n",
      "0:\tlearn: 1.2814452\ttest: 1.2814452\ttest1: 1.2851394\tbest: 1.2851394 (0)\ttotal: 84.2ms\tremaining: 1m 24s\n",
      "Stopped by overfitting detector  (150 iterations wait)\n",
      "\n",
      "bestTest = 0.7503238686\n",
      "bestIteration = 193\n",
      "\n",
      "Shrink model to first 194 iterations.\n",
      "------------------------------\n",
      "Fold 2 started at Tue Aug 23 01:30:10 2022\n",
      "(816, 30)\n"
     ]
    },
    {
     "data": {
      "application/vnd.jupyter.widget-view+json": {
       "model_id": "7073679510ac453db83fdae3eb2dbc93",
       "version_major": 2,
       "version_minor": 0
      },
      "text/plain": [
       "MetricVisualizer(layout=Layout(align_self='stretch', height='500px'))"
      ]
     },
     "metadata": {},
     "output_type": "display_data"
    },
    {
     "name": "stdout",
     "output_type": "stream",
     "text": [
      "Learning rate set to 0.109035\n",
      "0:\tlearn: 1.2752055\ttest: 1.2709292\ttest1: 1.2762458\tbest: 1.2762458 (0)\ttotal: 38ms\tremaining: 37.9s\n",
      "Stopped by overfitting detector  (150 iterations wait)\n",
      "\n",
      "bestTest = 0.8331112153\n",
      "bestIteration = 130\n",
      "\n",
      "Shrink model to first 131 iterations.\n",
      "------------------------------\n",
      "Fold 3 started at Tue Aug 23 01:30:23 2022\n",
      "(1223, 30)\n"
     ]
    },
    {
     "data": {
      "application/vnd.jupyter.widget-view+json": {
       "model_id": "ce5e2963cbdd4d95875d6a4173cad775",
       "version_major": 2,
       "version_minor": 0
      },
      "text/plain": [
       "MetricVisualizer(layout=Layout(align_self='stretch', height='500px'))"
      ]
     },
     "metadata": {},
     "output_type": "display_data"
    },
    {
     "name": "stdout",
     "output_type": "stream",
     "text": [
      "Learning rate set to 0.109036\n",
      "0:\tlearn: 1.2805226\ttest: 1.2797919\ttest1: 1.2830096\tbest: 1.2830096 (0)\ttotal: 48.5ms\tremaining: 48.4s\n",
      "Stopped by overfitting detector  (150 iterations wait)\n",
      "\n",
      "bestTest = 0.7954396619\n",
      "bestIteration = 137\n",
      "\n",
      "Shrink model to first 138 iterations.\n",
      "------------------------------\n",
      "Fold 4 started at Tue Aug 23 01:30:37 2022\n",
      "(1630, 30)\n"
     ]
    },
    {
     "data": {
      "application/vnd.jupyter.widget-view+json": {
       "model_id": "73c5f3b2805548f289d5a87f0ed392f5",
       "version_major": 2,
       "version_minor": 0
      },
      "text/plain": [
       "MetricVisualizer(layout=Layout(align_self='stretch', height='500px'))"
      ]
     },
     "metadata": {},
     "output_type": "display_data"
    },
    {
     "name": "stdout",
     "output_type": "stream",
     "text": [
      "Learning rate set to 0.109036\n",
      "0:\tlearn: 1.2887858\ttest: 1.2887858\ttest1: 1.2881374\tbest: 1.2881374 (0)\ttotal: 73ms\tremaining: 1m 12s\n",
      "Stopped by overfitting detector  (150 iterations wait)\n",
      "\n",
      "bestTest = 0.7832695063\n",
      "bestIteration = 267\n",
      "\n",
      "Shrink model to first 268 iterations.\n",
      "------------------------------\n",
      "Fold 5 started at Tue Aug 23 01:30:55 2022\n",
      "(2037, 30)\n"
     ]
    },
    {
     "data": {
      "application/vnd.jupyter.widget-view+json": {
       "model_id": "d8be36e4081f4983aa73d044c3e0b6a4",
       "version_major": 2,
       "version_minor": 0
      },
      "text/plain": [
       "MetricVisualizer(layout=Layout(align_self='stretch', height='500px'))"
      ]
     },
     "metadata": {},
     "output_type": "display_data"
    },
    {
     "name": "stdout",
     "output_type": "stream",
     "text": [
      "Learning rate set to 0.109036\n",
      "0:\tlearn: 1.2816245\ttest: 1.2816245\ttest1: 1.2817547\tbest: 1.2817547 (0)\ttotal: 29.1ms\tremaining: 29.1s\n",
      "Stopped by overfitting detector  (150 iterations wait)\n",
      "\n",
      "bestTest = 0.7870446772\n",
      "bestIteration = 92\n",
      "\n",
      "Shrink model to first 93 iterations.\n",
      "------------------------------\n",
      "catb fold kappa scores: [0.12043819705668835, 0.10618196754980491, 0.09756097560975607, 0.07411889953493578, 0.0829780017443551]\n",
      "catb fold kappa scores mean: 0.09625560829910804\n",
      "catb fold f1 scores: [array([0.09090909, 0.29577465, 0.79874214, 0.25      ]), array([0.        , 0.19548872, 0.80864198, 0.15384615]), array([0.        , 0.171875  , 0.81105991, 0.125     ]), array([0.08695652, 0.17266187, 0.79310345, 0.        ]), array([0.        , 0.144     , 0.80851064, 0.        ])]\n",
      "catb fold f1 scores mean: 0.2853285057385533\n",
      "catb fold precision-micro scores: [array([0.5       , 0.58333333, 0.69589041, 0.4       ]), array([0.        , 0.48148148, 0.69496021, 0.5       ]), array([0.        , 0.5       , 0.69291339, 0.25      ]), array([0.25      , 0.35294118, 0.6893733 , 0.        ]), array([0.       , 0.45     , 0.6873385, 0.       ])]\n",
      "catb fold precision-micro scores mean: 0.3864115899283692\n",
      "catb fold recall-micro scores: [array([0.05      , 0.19811321, 0.93726937, 0.18181818]), array([0.        , 0.12264151, 0.96678967, 0.09090909]), array([0.        , 0.10377358, 0.97777778, 0.08333333]), array([0.05263158, 0.11428571, 0.93357934, 0.        ]), array([0.        , 0.08571429, 0.98154982, 0.        ])]\n",
      "catb fold recall-micro scores mean: 0.2940093228277232\n",
      "catb fold accuracy scores: [0.6813725490196079, 0.6764705882352942, 0.6781326781326781, 0.6535626535626535, 0.6756756756756757]\n",
      "catb fold accuracy scores mean: 0.6730428289251819\n"
     ]
    }
   ],
   "source": [
    "models, oof_pred = oof_trainer(X=tsl_target_data[tsl_target_data.TSV != 2],\n",
    "                    y=tsl_target_data[tsl_target_data.TSV != 2].TSV,\n",
    "                    n_folds = 5,\n",
    "                   # params=params,\n",
    "                    del_cols=['TSV',\n",
    "       'TSL','TCV', 'TSL', 'TPV'],\n",
    "                    cat_features=cat_features.drop(columns=['TSV', 'TPV',\n",
    "       'TSL','TCV', 'TSL']).columns.values.tolist())"
   ]
  },
  {
   "cell_type": "code",
   "execution_count": 23,
   "id": "31a6f5f8-f542-4de6-8038-6ee26caa7eb5",
   "metadata": {
    "id": "31a6f5f8-f542-4de6-8038-6ee26caa7eb5",
    "outputId": "d54ffeaa-0e97-45d0-97ca-81f1534edf5c"
   },
   "outputs": [
    {
     "data": {
      "text/html": [
       "<div>\n",
       "<style scoped>\n",
       "    .dataframe tbody tr th:only-of-type {\n",
       "        vertical-align: middle;\n",
       "    }\n",
       "\n",
       "    .dataframe tbody tr th {\n",
       "        vertical-align: top;\n",
       "    }\n",
       "\n",
       "    .dataframe thead th {\n",
       "        text-align: right;\n",
       "    }\n",
       "</style>\n",
       "<table border=\"1\" class=\"dataframe\">\n",
       "  <thead>\n",
       "    <tr style=\"text-align: right;\">\n",
       "      <th></th>\n",
       "      <th>Feature Id</th>\n",
       "      <th>Importances</th>\n",
       "    </tr>\n",
       "  </thead>\n",
       "  <tbody>\n",
       "    <tr>\n",
       "      <th>0</th>\n",
       "      <td>School</td>\n",
       "      <td>12.133730</td>\n",
       "    </tr>\n",
       "    <tr>\n",
       "      <th>1</th>\n",
       "      <td>SwC</td>\n",
       "      <td>11.624823</td>\n",
       "    </tr>\n",
       "    <tr>\n",
       "      <th>2</th>\n",
       "      <td>StartTime</td>\n",
       "      <td>9.702037</td>\n",
       "    </tr>\n",
       "    <tr>\n",
       "      <th>3</th>\n",
       "      <td>Grade</td>\n",
       "      <td>6.964083</td>\n",
       "    </tr>\n",
       "    <tr>\n",
       "      <th>4</th>\n",
       "      <td>DAY</td>\n",
       "      <td>6.808988</td>\n",
       "    </tr>\n",
       "    <tr>\n",
       "      <th>5</th>\n",
       "      <td>IndoorTempDuringSurvey</td>\n",
       "      <td>6.341430</td>\n",
       "    </tr>\n",
       "    <tr>\n",
       "      <th>6</th>\n",
       "      <td>AvgIndoorRelativeHumidity</td>\n",
       "      <td>6.325725</td>\n",
       "    </tr>\n",
       "    <tr>\n",
       "      <th>7</th>\n",
       "      <td>Vest</td>\n",
       "      <td>4.135365</td>\n",
       "    </tr>\n",
       "    <tr>\n",
       "      <th>8</th>\n",
       "      <td>Age</td>\n",
       "      <td>3.661056</td>\n",
       "    </tr>\n",
       "    <tr>\n",
       "      <th>9</th>\n",
       "      <td>HalfSweater</td>\n",
       "      <td>3.557097</td>\n",
       "    </tr>\n",
       "    <tr>\n",
       "      <th>10</th>\n",
       "      <td>MC</td>\n",
       "      <td>3.517912</td>\n",
       "    </tr>\n",
       "    <tr>\n",
       "      <th>11</th>\n",
       "      <td>Thermal</td>\n",
       "      <td>3.150750</td>\n",
       "    </tr>\n",
       "    <tr>\n",
       "      <th>12</th>\n",
       "      <td>Gender</td>\n",
       "      <td>3.073496</td>\n",
       "    </tr>\n",
       "    <tr>\n",
       "      <th>13</th>\n",
       "      <td>TA</td>\n",
       "      <td>2.766232</td>\n",
       "    </tr>\n",
       "    <tr>\n",
       "      <th>14</th>\n",
       "      <td>AvgMinDailyTemp</td>\n",
       "      <td>2.755148</td>\n",
       "    </tr>\n",
       "    <tr>\n",
       "      <th>15</th>\n",
       "      <td>Tshirt</td>\n",
       "      <td>2.707606</td>\n",
       "    </tr>\n",
       "    <tr>\n",
       "      <th>16</th>\n",
       "      <td>SchoolType</td>\n",
       "      <td>2.484788</td>\n",
       "    </tr>\n",
       "    <tr>\n",
       "      <th>17</th>\n",
       "      <td>FullSweater</td>\n",
       "      <td>2.313767</td>\n",
       "    </tr>\n",
       "    <tr>\n",
       "      <th>18</th>\n",
       "      <td>AvgMaxDailyTemp</td>\n",
       "      <td>1.985613</td>\n",
       "    </tr>\n",
       "    <tr>\n",
       "      <th>19</th>\n",
       "      <td>FullShirt</td>\n",
       "      <td>1.624457</td>\n",
       "    </tr>\n",
       "    <tr>\n",
       "      <th>20</th>\n",
       "      <td>Halfshirt</td>\n",
       "      <td>0.699004</td>\n",
       "    </tr>\n",
       "    <tr>\n",
       "      <th>21</th>\n",
       "      <td>Blazer</td>\n",
       "      <td>0.560658</td>\n",
       "    </tr>\n",
       "    <tr>\n",
       "      <th>22</th>\n",
       "      <td>Jacket</td>\n",
       "      <td>0.453373</td>\n",
       "    </tr>\n",
       "    <tr>\n",
       "      <th>23</th>\n",
       "      <td>FormalClothing</td>\n",
       "      <td>0.401254</td>\n",
       "    </tr>\n",
       "    <tr>\n",
       "      <th>24</th>\n",
       "      <td>Skirt</td>\n",
       "      <td>0.251610</td>\n",
       "    </tr>\n",
       "    <tr>\n",
       "      <th>25</th>\n",
       "      <td>Pant</td>\n",
       "      <td>0.000000</td>\n",
       "    </tr>\n",
       "    <tr>\n",
       "      <th>26</th>\n",
       "      <td>Trackpant</td>\n",
       "      <td>0.000000</td>\n",
       "    </tr>\n",
       "    <tr>\n",
       "      <th>27</th>\n",
       "      <td>Socks</td>\n",
       "      <td>0.000000</td>\n",
       "    </tr>\n",
       "    <tr>\n",
       "      <th>28</th>\n",
       "      <td>Shoes</td>\n",
       "      <td>0.000000</td>\n",
       "    </tr>\n",
       "    <tr>\n",
       "      <th>29</th>\n",
       "      <td>Underwear</td>\n",
       "      <td>0.000000</td>\n",
       "    </tr>\n",
       "  </tbody>\n",
       "</table>\n",
       "</div>"
      ],
      "text/plain": [
       "                   Feature Id  Importances\n",
       "0                      School    12.133730\n",
       "1                         SwC    11.624823\n",
       "2                   StartTime     9.702037\n",
       "3                       Grade     6.964083\n",
       "4                         DAY     6.808988\n",
       "5      IndoorTempDuringSurvey     6.341430\n",
       "6   AvgIndoorRelativeHumidity     6.325725\n",
       "7                        Vest     4.135365\n",
       "8                         Age     3.661056\n",
       "9                 HalfSweater     3.557097\n",
       "10                         MC     3.517912\n",
       "11                    Thermal     3.150750\n",
       "12                     Gender     3.073496\n",
       "13                         TA     2.766232\n",
       "14            AvgMinDailyTemp     2.755148\n",
       "15                     Tshirt     2.707606\n",
       "16                 SchoolType     2.484788\n",
       "17                FullSweater     2.313767\n",
       "18            AvgMaxDailyTemp     1.985613\n",
       "19                  FullShirt     1.624457\n",
       "20                  Halfshirt     0.699004\n",
       "21                     Blazer     0.560658\n",
       "22                     Jacket     0.453373\n",
       "23             FormalClothing     0.401254\n",
       "24                      Skirt     0.251610\n",
       "25                       Pant     0.000000\n",
       "26                  Trackpant     0.000000\n",
       "27                      Socks     0.000000\n",
       "28                      Shoes     0.000000\n",
       "29                  Underwear     0.000000"
      ]
     },
     "execution_count": 23,
     "metadata": {},
     "output_type": "execute_result"
    }
   ],
   "source": [
    "best_gb_model = models[1]\n",
    "best_gb_model.get_feature_importance(prettified=True)"
   ]
  },
  {
   "cell_type": "markdown",
   "id": "78db6a5d-638f-40b0-898b-51628cc40b1b",
   "metadata": {
    "id": "78db6a5d-638f-40b0-898b-51628cc40b1b"
   },
   "source": [
    "# Target: TCV"
   ]
  },
  {
   "cell_type": "code",
   "execution_count": 24,
   "id": "a47e3289-a1d8-42d0-acec-65910b7d28b9",
   "metadata": {
    "colab": {
     "referenced_widgets": [
      "c99bcf1e46934fb6b9152369cc71b5ff",
      "6795ed2248894d9a8b24b648fb825dde",
      "67c0a16d6f97456e90f405cec234315c",
      "573f89aa137542adb20bc53e01fb855a",
      "a101bc33868d408cbff997a490c0401c"
     ]
    },
    "id": "a47e3289-a1d8-42d0-acec-65910b7d28b9",
    "outputId": "6f31d166-8d6e-49d2-c410-aef02360a554"
   },
   "outputs": [
    {
     "name": "stdout",
     "output_type": "stream",
     "text": [
      "Fold 1 started at Tue Aug 23 01:31:06 2022\n",
      "(407, 30)\n"
     ]
    },
    {
     "data": {
      "application/vnd.jupyter.widget-view+json": {
       "model_id": "fa446bc63bd546eb894237c0cbd149d2",
       "version_major": 2,
       "version_minor": 0
      },
      "text/plain": [
       "MetricVisualizer(layout=Layout(align_self='stretch', height='500px'))"
      ]
     },
     "metadata": {},
     "output_type": "display_data"
    },
    {
     "name": "stdout",
     "output_type": "stream",
     "text": [
      "Learning rate set to 0.109031\n",
      "0:\tlearn: 1.4921845\ttest: 1.4921845\ttest1: 1.4929105\tbest: 1.4929105 (0)\ttotal: 37.2ms\tremaining: 37.2s\n",
      "Stopped by overfitting detector  (150 iterations wait)\n",
      "\n",
      "bestTest = 0.8458613347\n",
      "bestIteration = 172\n",
      "\n",
      "Shrink model to first 173 iterations.\n",
      "------------------------------\n",
      "Fold 2 started at Tue Aug 23 01:31:21 2022\n",
      "(814, 30)\n"
     ]
    },
    {
     "data": {
      "application/vnd.jupyter.widget-view+json": {
       "model_id": "db8983ab9cbc4da7bf9d519cd7e70255",
       "version_major": 2,
       "version_minor": 0
      },
      "text/plain": [
       "MetricVisualizer(layout=Layout(align_self='stretch', height='500px'))"
      ]
     },
     "metadata": {},
     "output_type": "display_data"
    },
    {
     "name": "stdout",
     "output_type": "stream",
     "text": [
      "Learning rate set to 0.109031\n",
      "0:\tlearn: 1.4941543\ttest: 1.4941543\ttest1: 1.5003288\tbest: 1.5003288 (0)\ttotal: 44.4ms\tremaining: 44.3s\n",
      "Stopped by overfitting detector  (150 iterations wait)\n",
      "\n",
      "bestTest = 0.9091748395\n",
      "bestIteration = 132\n",
      "\n",
      "Shrink model to first 133 iterations.\n",
      "------------------------------\n",
      "Fold 3 started at Tue Aug 23 01:31:35 2022\n",
      "(1221, 30)\n"
     ]
    },
    {
     "data": {
      "application/vnd.jupyter.widget-view+json": {
       "model_id": "ed9895590733450a8f10214ee66e2cb9",
       "version_major": 2,
       "version_minor": 0
      },
      "text/plain": [
       "MetricVisualizer(layout=Layout(align_self='stretch', height='500px'))"
      ]
     },
     "metadata": {},
     "output_type": "display_data"
    },
    {
     "name": "stdout",
     "output_type": "stream",
     "text": [
      "Learning rate set to 0.109031\n",
      "0:\tlearn: 1.4903985\ttest: 1.4903985\ttest1: 1.4948514\tbest: 1.4948514 (0)\ttotal: 32.9ms\tremaining: 32.9s\n",
      "Stopped by overfitting detector  (150 iterations wait)\n",
      "\n",
      "bestTest = 0.8978507848\n",
      "bestIteration = 124\n",
      "\n",
      "Shrink model to first 125 iterations.\n",
      "------------------------------\n",
      "Fold 4 started at Tue Aug 23 01:31:48 2022\n",
      "(1627, 30)\n"
     ]
    },
    {
     "data": {
      "application/vnd.jupyter.widget-view+json": {
       "model_id": "82176ec7c0fc4ecf8b4b1b95737fca56",
       "version_major": 2,
       "version_minor": 0
      },
      "text/plain": [
       "MetricVisualizer(layout=Layout(align_self='stretch', height='500px'))"
      ]
     },
     "metadata": {},
     "output_type": "display_data"
    },
    {
     "name": "stdout",
     "output_type": "stream",
     "text": [
      "Learning rate set to 0.109032\n",
      "0:\tlearn: 1.4840030\ttest: 1.4840030\ttest1: 1.4852604\tbest: 1.4852604 (0)\ttotal: 50.8ms\tremaining: 50.7s\n",
      "Stopped by overfitting detector  (150 iterations wait)\n",
      "\n",
      "bestTest = 0.8632433696\n",
      "bestIteration = 215\n",
      "\n",
      "Shrink model to first 216 iterations.\n",
      "------------------------------\n",
      "Fold 5 started at Tue Aug 23 01:32:06 2022\n",
      "(2033, 30)\n"
     ]
    },
    {
     "data": {
      "application/vnd.jupyter.widget-view+json": {
       "model_id": "a542924c612e4ab4aa7f81343c33aea1",
       "version_major": 2,
       "version_minor": 0
      },
      "text/plain": [
       "MetricVisualizer(layout=Layout(align_self='stretch', height='500px'))"
      ]
     },
     "metadata": {},
     "output_type": "display_data"
    },
    {
     "name": "stdout",
     "output_type": "stream",
     "text": [
      "Learning rate set to 0.109032\n",
      "0:\tlearn: 1.4868318\ttest: 1.4868072\ttest1: 1.4870231\tbest: 1.4870231 (0)\ttotal: 62ms\tremaining: 1m 1s\n",
      "Stopped by overfitting detector  (150 iterations wait)\n",
      "\n",
      "bestTest = 0.8610749989\n",
      "bestIteration = 144\n",
      "\n",
      "Shrink model to first 145 iterations.\n",
      "------------------------------\n",
      "catb fold kappa scores: [0.232251754114559, 0.15062075427500587, 0.1573853186905576, 0.25297110338032136, 0.15562185587665234]\n",
      "catb fold kappa scores mean: 0.18977015726741925\n",
      "catb fold f1 scores: [array([0.        , 0.        , 0.14035088, 0.74827586, 0.34883721]), array([0.        , 0.        , 0.        , 0.74172185, 0.27272727]), array([0.        , 0.        , 0.16      , 0.74791319, 0.275     ]), array([0.        , 0.        , 0.18867925, 0.74255692, 0.38043478]), array([0.        , 0.        , 0.14814815, 0.75496689, 0.26845638])]\n",
      "catb fold f1 scores mean: 0.23672274484912809\n",
      "catb fold precision-micro scores: [array([0.        , 0.        , 0.33333333, 0.64201183, 0.52631579]), array([0.        , 0.        , 0.        , 0.61878453, 0.53846154]), array([0.        , 0.        , 0.8       , 0.62745098, 0.48888889]), array([0.        , 0.        , 0.625     , 0.6443769 , 0.50724638]), array([0.        , 0.        , 0.4       , 0.62809917, 0.60606061])]\n",
      "catb fold precision-micro scores mean: 0.3194411980551135\n",
      "catb fold recall-micro scores: [array([0.        , 0.        , 0.08888889, 0.89669421, 0.26086957]), array([0.        , 0.        , 0.        , 0.92561983, 0.1826087 ]), array([0.        , 0.        , 0.08888889, 0.92561983, 0.19130435]), array([0.        , 0.        , 0.11111111, 0.87603306, 0.30434783]), array([0.        , 0.        , 0.09090909, 0.94605809, 0.17241379])]\n",
      "catb fold recall-micro scores mean: 0.24245468964476416\n",
      "catb fold accuracy scores: [0.6167076167076168, 0.601965601965602, 0.6142506142506142, 0.6206896551724138, 0.6206896551724138]\n",
      "catb fold accuracy scores mean: 0.6148606286537321\n"
     ]
    }
   ],
   "source": [
    "models, oof_pred = oof_trainer(X=tsl_target_data[tsl_target_data.TCV != -3],\n",
    "                    y=tsl_target_data[tsl_target_data.TCV != -3].TCV,\n",
    "                    n_folds = 5,\n",
    "                   # params=params,\n",
    "                    del_cols=['TSV',\n",
    "       'TSL','TCV', 'TSL', 'TPV'],\n",
    "                    cat_features=cat_features.drop(columns=['TSV', 'TPV',\n",
    "       'TSL','TCV', 'TSL']).columns.values.tolist())"
   ]
  },
  {
   "cell_type": "code",
   "execution_count": 25,
   "id": "44302a28-73ad-481f-bb2c-157ee3b5632d",
   "metadata": {
    "id": "44302a28-73ad-481f-bb2c-157ee3b5632d",
    "outputId": "217a9b68-a9b6-45ef-8a14-bdf111477f7e"
   },
   "outputs": [
    {
     "data": {
      "text/html": [
       "<div>\n",
       "<style scoped>\n",
       "    .dataframe tbody tr th:only-of-type {\n",
       "        vertical-align: middle;\n",
       "    }\n",
       "\n",
       "    .dataframe tbody tr th {\n",
       "        vertical-align: top;\n",
       "    }\n",
       "\n",
       "    .dataframe thead th {\n",
       "        text-align: right;\n",
       "    }\n",
       "</style>\n",
       "<table border=\"1\" class=\"dataframe\">\n",
       "  <thead>\n",
       "    <tr style=\"text-align: right;\">\n",
       "      <th></th>\n",
       "      <th>Feature Id</th>\n",
       "      <th>Importances</th>\n",
       "    </tr>\n",
       "  </thead>\n",
       "  <tbody>\n",
       "    <tr>\n",
       "      <th>0</th>\n",
       "      <td>School</td>\n",
       "      <td>10.830895</td>\n",
       "    </tr>\n",
       "    <tr>\n",
       "      <th>1</th>\n",
       "      <td>Grade</td>\n",
       "      <td>9.139877</td>\n",
       "    </tr>\n",
       "    <tr>\n",
       "      <th>2</th>\n",
       "      <td>AvgIndoorRelativeHumidity</td>\n",
       "      <td>8.147633</td>\n",
       "    </tr>\n",
       "    <tr>\n",
       "      <th>3</th>\n",
       "      <td>IndoorTempDuringSurvey</td>\n",
       "      <td>7.220925</td>\n",
       "    </tr>\n",
       "    <tr>\n",
       "      <th>4</th>\n",
       "      <td>StartTime</td>\n",
       "      <td>7.216548</td>\n",
       "    </tr>\n",
       "    <tr>\n",
       "      <th>5</th>\n",
       "      <td>DAY</td>\n",
       "      <td>6.907853</td>\n",
       "    </tr>\n",
       "    <tr>\n",
       "      <th>6</th>\n",
       "      <td>MC</td>\n",
       "      <td>5.977789</td>\n",
       "    </tr>\n",
       "    <tr>\n",
       "      <th>7</th>\n",
       "      <td>Age</td>\n",
       "      <td>5.013823</td>\n",
       "    </tr>\n",
       "    <tr>\n",
       "      <th>8</th>\n",
       "      <td>Gender</td>\n",
       "      <td>4.607006</td>\n",
       "    </tr>\n",
       "    <tr>\n",
       "      <th>9</th>\n",
       "      <td>TA</td>\n",
       "      <td>4.264142</td>\n",
       "    </tr>\n",
       "    <tr>\n",
       "      <th>10</th>\n",
       "      <td>AvgMinDailyTemp</td>\n",
       "      <td>4.178876</td>\n",
       "    </tr>\n",
       "    <tr>\n",
       "      <th>11</th>\n",
       "      <td>SwC</td>\n",
       "      <td>3.870712</td>\n",
       "    </tr>\n",
       "    <tr>\n",
       "      <th>12</th>\n",
       "      <td>FullSweater</td>\n",
       "      <td>3.544752</td>\n",
       "    </tr>\n",
       "    <tr>\n",
       "      <th>13</th>\n",
       "      <td>Vest</td>\n",
       "      <td>3.533569</td>\n",
       "    </tr>\n",
       "    <tr>\n",
       "      <th>14</th>\n",
       "      <td>AvgMaxDailyTemp</td>\n",
       "      <td>3.122088</td>\n",
       "    </tr>\n",
       "    <tr>\n",
       "      <th>15</th>\n",
       "      <td>Thermal</td>\n",
       "      <td>2.867307</td>\n",
       "    </tr>\n",
       "    <tr>\n",
       "      <th>16</th>\n",
       "      <td>FullShirt</td>\n",
       "      <td>2.771202</td>\n",
       "    </tr>\n",
       "    <tr>\n",
       "      <th>17</th>\n",
       "      <td>SchoolType</td>\n",
       "      <td>2.472037</td>\n",
       "    </tr>\n",
       "    <tr>\n",
       "      <th>18</th>\n",
       "      <td>Tshirt</td>\n",
       "      <td>2.001277</td>\n",
       "    </tr>\n",
       "    <tr>\n",
       "      <th>19</th>\n",
       "      <td>HalfSweater</td>\n",
       "      <td>1.160872</td>\n",
       "    </tr>\n",
       "    <tr>\n",
       "      <th>20</th>\n",
       "      <td>Pant</td>\n",
       "      <td>0.331453</td>\n",
       "    </tr>\n",
       "    <tr>\n",
       "      <th>21</th>\n",
       "      <td>FormalClothing</td>\n",
       "      <td>0.240426</td>\n",
       "    </tr>\n",
       "    <tr>\n",
       "      <th>22</th>\n",
       "      <td>Halfshirt</td>\n",
       "      <td>0.239586</td>\n",
       "    </tr>\n",
       "    <tr>\n",
       "      <th>23</th>\n",
       "      <td>Blazer</td>\n",
       "      <td>0.164284</td>\n",
       "    </tr>\n",
       "    <tr>\n",
       "      <th>24</th>\n",
       "      <td>Jacket</td>\n",
       "      <td>0.162477</td>\n",
       "    </tr>\n",
       "    <tr>\n",
       "      <th>25</th>\n",
       "      <td>Skirt</td>\n",
       "      <td>0.012592</td>\n",
       "    </tr>\n",
       "    <tr>\n",
       "      <th>26</th>\n",
       "      <td>Trackpant</td>\n",
       "      <td>0.000000</td>\n",
       "    </tr>\n",
       "    <tr>\n",
       "      <th>27</th>\n",
       "      <td>Socks</td>\n",
       "      <td>0.000000</td>\n",
       "    </tr>\n",
       "    <tr>\n",
       "      <th>28</th>\n",
       "      <td>Shoes</td>\n",
       "      <td>0.000000</td>\n",
       "    </tr>\n",
       "    <tr>\n",
       "      <th>29</th>\n",
       "      <td>Underwear</td>\n",
       "      <td>0.000000</td>\n",
       "    </tr>\n",
       "  </tbody>\n",
       "</table>\n",
       "</div>"
      ],
      "text/plain": [
       "                   Feature Id  Importances\n",
       "0                      School    10.830895\n",
       "1                       Grade     9.139877\n",
       "2   AvgIndoorRelativeHumidity     8.147633\n",
       "3      IndoorTempDuringSurvey     7.220925\n",
       "4                   StartTime     7.216548\n",
       "5                         DAY     6.907853\n",
       "6                          MC     5.977789\n",
       "7                         Age     5.013823\n",
       "8                      Gender     4.607006\n",
       "9                          TA     4.264142\n",
       "10            AvgMinDailyTemp     4.178876\n",
       "11                        SwC     3.870712\n",
       "12                FullSweater     3.544752\n",
       "13                       Vest     3.533569\n",
       "14            AvgMaxDailyTemp     3.122088\n",
       "15                    Thermal     2.867307\n",
       "16                  FullShirt     2.771202\n",
       "17                 SchoolType     2.472037\n",
       "18                     Tshirt     2.001277\n",
       "19                HalfSweater     1.160872\n",
       "20                       Pant     0.331453\n",
       "21             FormalClothing     0.240426\n",
       "22                  Halfshirt     0.239586\n",
       "23                     Blazer     0.164284\n",
       "24                     Jacket     0.162477\n",
       "25                      Skirt     0.012592\n",
       "26                  Trackpant     0.000000\n",
       "27                      Socks     0.000000\n",
       "28                      Shoes     0.000000\n",
       "29                  Underwear     0.000000"
      ]
     },
     "execution_count": 25,
     "metadata": {},
     "output_type": "execute_result"
    }
   ],
   "source": [
    "best_gb_model = models[0]\n",
    "best_gb_model.get_feature_importance(prettified=True)"
   ]
  },
  {
   "cell_type": "code",
   "execution_count": null,
   "id": "5f9e868f-5092-4bb7-9a00-6cc13baf7db2",
   "metadata": {
    "id": "5f9e868f-5092-4bb7-9a00-6cc13baf7db2"
   },
   "outputs": [],
   "source": []
  }
 ],
 "metadata": {
  "colab": {
   "name": "IndividualClothingBinary.ipynb",
   "provenance": []
  },
  "kernelspec": {
   "display_name": "Python 3",
   "language": "python",
   "name": "python3"
  },
  "language_info": {
   "codemirror_mode": {
    "name": "ipython",
    "version": 3
   },
   "file_extension": ".py",
   "mimetype": "text/x-python",
   "name": "python",
   "nbconvert_exporter": "python",
   "pygments_lexer": "ipython3",
   "version": "3.8.10"
  }
 },
 "nbformat": 4,
 "nbformat_minor": 5
}
