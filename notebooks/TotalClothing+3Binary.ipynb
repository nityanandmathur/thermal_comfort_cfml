{
 "cells": [
  {
   "cell_type": "code",
   "execution_count": 13,
   "id": "b72f29b5-a7f2-40d3-bd3c-ad1d7af71f85",
   "metadata": {
    "id": "b72f29b5-a7f2-40d3-bd3c-ad1d7af71f85"
   },
   "outputs": [],
   "source": [
    "# !pip install catboost"
   ]
  },
  {
   "cell_type": "code",
   "execution_count": 14,
   "id": "29415f20-1f94-4ebb-8ef6-e565d81f90af",
   "metadata": {
    "id": "29415f20-1f94-4ebb-8ef6-e565d81f90af"
   },
   "outputs": [],
   "source": [
    "#import basic modules\n",
    "import numpy as np\n",
    "import pandas as pd\n",
    "import seaborn as sns\n",
    "import matplotlib.pyplot as plt\n",
    "\n",
    "import warnings\n",
    "import time\n",
    "import seaborn as sns\n",
    "\n",
    "warnings.filterwarnings(\"ignore\") \n",
    "pd.set_option('max_rows', 500) "
   ]
  },
  {
   "cell_type": "markdown",
   "id": "76765057-8667-4c44-84b3-e7c7d6de1968",
   "metadata": {
    "id": "76765057-8667-4c44-84b3-e7c7d6de1968"
   },
   "source": [
    "# Exploratory Data Analysis\n",
    "## 1. Getting the data"
   ]
  },
  {
   "cell_type": "code",
   "execution_count": 15,
   "id": "b6dc8743-ab71-4588-a734-d2d804c83da6",
   "metadata": {
    "id": "b6dc8743-ab71-4588-a734-d2d804c83da6"
   },
   "outputs": [],
   "source": [
    "winter_data = pd.read_csv(\n",
    "    'P:/Betty/Clothing_Jayson/TotalClothingValue+3Binary.csv', index_col=0)\n"
   ]
  },
  {
   "cell_type": "code",
   "execution_count": 16,
   "id": "c7755964-b8ea-423a-a81d-45b77b022f3c",
   "metadata": {
    "id": "c7755964-b8ea-423a-a81d-45b77b022f3c",
    "outputId": "810611be-df3e-41bb-cbbc-d42f8d3d6020"
   },
   "outputs": [
    {
     "data": {
      "text/plain": [
       "(2038, 22)"
      ]
     },
     "execution_count": 16,
     "metadata": {},
     "output_type": "execute_result"
    }
   ],
   "source": [
    "winter_data.shape"
   ]
  },
  {
   "cell_type": "code",
   "execution_count": 17,
   "id": "7677f554-984b-4420-8c91-5fa27aa9538e",
   "metadata": {
    "id": "7677f554-984b-4420-8c91-5fa27aa9538e",
    "outputId": "dd246ae7-f1c8-4b0d-d6ee-6e842147df7d"
   },
   "outputs": [
    {
     "data": {
      "text/html": [
       "<div>\n",
       "<style scoped>\n",
       "    .dataframe tbody tr th:only-of-type {\n",
       "        vertical-align: middle;\n",
       "    }\n",
       "\n",
       "    .dataframe tbody tr th {\n",
       "        vertical-align: top;\n",
       "    }\n",
       "\n",
       "    .dataframe thead th {\n",
       "        text-align: right;\n",
       "    }\n",
       "</style>\n",
       "<table border=\"1\" class=\"dataframe\">\n",
       "  <thead>\n",
       "    <tr style=\"text-align: right;\">\n",
       "      <th></th>\n",
       "      <th>DAY</th>\n",
       "      <th>School</th>\n",
       "      <th>SchoolType</th>\n",
       "      <th>StartTime</th>\n",
       "      <th>AvgMaxDailyTemp</th>\n",
       "      <th>AvgMinDailyTemp</th>\n",
       "      <th>AvgIndoorRelativeHumidity</th>\n",
       "      <th>IndoorTempDuringSurvey</th>\n",
       "      <th>Grade</th>\n",
       "      <th>Age</th>\n",
       "      <th>...</th>\n",
       "      <th>Scarf/Cap</th>\n",
       "      <th>Tie</th>\n",
       "      <th>Stockings</th>\n",
       "      <th>TotalCLOwithChair</th>\n",
       "      <th>SwC</th>\n",
       "      <th>TSV</th>\n",
       "      <th>TPV</th>\n",
       "      <th>TCV</th>\n",
       "      <th>TSL</th>\n",
       "      <th>MC</th>\n",
       "    </tr>\n",
       "    <tr>\n",
       "      <th>SNo</th>\n",
       "      <th></th>\n",
       "      <th></th>\n",
       "      <th></th>\n",
       "      <th></th>\n",
       "      <th></th>\n",
       "      <th></th>\n",
       "      <th></th>\n",
       "      <th></th>\n",
       "      <th></th>\n",
       "      <th></th>\n",
       "      <th></th>\n",
       "      <th></th>\n",
       "      <th></th>\n",
       "      <th></th>\n",
       "      <th></th>\n",
       "      <th></th>\n",
       "      <th></th>\n",
       "      <th></th>\n",
       "      <th></th>\n",
       "      <th></th>\n",
       "      <th></th>\n",
       "    </tr>\n",
       "  </thead>\n",
       "  <tbody>\n",
       "    <tr>\n",
       "      <th>1</th>\n",
       "      <td>1</td>\n",
       "      <td>1</td>\n",
       "      <td>0</td>\n",
       "      <td>3</td>\n",
       "      <td>22.2</td>\n",
       "      <td>5.1</td>\n",
       "      <td>55.1</td>\n",
       "      <td>14.5</td>\n",
       "      <td>3</td>\n",
       "      <td>8</td>\n",
       "      <td>...</td>\n",
       "      <td>1</td>\n",
       "      <td>1</td>\n",
       "      <td>0</td>\n",
       "      <td>1.57</td>\n",
       "      <td>1</td>\n",
       "      <td>-1</td>\n",
       "      <td>2</td>\n",
       "      <td>2</td>\n",
       "      <td>1</td>\n",
       "      <td>2</td>\n",
       "    </tr>\n",
       "    <tr>\n",
       "      <th>2</th>\n",
       "      <td>1</td>\n",
       "      <td>1</td>\n",
       "      <td>0</td>\n",
       "      <td>3</td>\n",
       "      <td>22.2</td>\n",
       "      <td>5.1</td>\n",
       "      <td>55.1</td>\n",
       "      <td>14.5</td>\n",
       "      <td>3</td>\n",
       "      <td>8</td>\n",
       "      <td>...</td>\n",
       "      <td>1</td>\n",
       "      <td>1</td>\n",
       "      <td>0</td>\n",
       "      <td>1.21</td>\n",
       "      <td>1</td>\n",
       "      <td>-1</td>\n",
       "      <td>2</td>\n",
       "      <td>3</td>\n",
       "      <td>1</td>\n",
       "      <td>2</td>\n",
       "    </tr>\n",
       "    <tr>\n",
       "      <th>3</th>\n",
       "      <td>1</td>\n",
       "      <td>1</td>\n",
       "      <td>0</td>\n",
       "      <td>3</td>\n",
       "      <td>22.2</td>\n",
       "      <td>5.1</td>\n",
       "      <td>55.1</td>\n",
       "      <td>14.5</td>\n",
       "      <td>3</td>\n",
       "      <td>8</td>\n",
       "      <td>...</td>\n",
       "      <td>1</td>\n",
       "      <td>1</td>\n",
       "      <td>0</td>\n",
       "      <td>1.21</td>\n",
       "      <td>2</td>\n",
       "      <td>0</td>\n",
       "      <td>1</td>\n",
       "      <td>2</td>\n",
       "      <td>3</td>\n",
       "      <td>4</td>\n",
       "    </tr>\n",
       "    <tr>\n",
       "      <th>4</th>\n",
       "      <td>1</td>\n",
       "      <td>1</td>\n",
       "      <td>0</td>\n",
       "      <td>3</td>\n",
       "      <td>22.2</td>\n",
       "      <td>5.1</td>\n",
       "      <td>55.1</td>\n",
       "      <td>14.5</td>\n",
       "      <td>3</td>\n",
       "      <td>10</td>\n",
       "      <td>...</td>\n",
       "      <td>1</td>\n",
       "      <td>1</td>\n",
       "      <td>0</td>\n",
       "      <td>1.43</td>\n",
       "      <td>2</td>\n",
       "      <td>0</td>\n",
       "      <td>0</td>\n",
       "      <td>2</td>\n",
       "      <td>2</td>\n",
       "      <td>4</td>\n",
       "    </tr>\n",
       "    <tr>\n",
       "      <th>5</th>\n",
       "      <td>1</td>\n",
       "      <td>1</td>\n",
       "      <td>0</td>\n",
       "      <td>3</td>\n",
       "      <td>22.2</td>\n",
       "      <td>5.1</td>\n",
       "      <td>55.1</td>\n",
       "      <td>14.5</td>\n",
       "      <td>3</td>\n",
       "      <td>9</td>\n",
       "      <td>...</td>\n",
       "      <td>1</td>\n",
       "      <td>1</td>\n",
       "      <td>0</td>\n",
       "      <td>1.21</td>\n",
       "      <td>2</td>\n",
       "      <td>0</td>\n",
       "      <td>1</td>\n",
       "      <td>2</td>\n",
       "      <td>2</td>\n",
       "      <td>2</td>\n",
       "    </tr>\n",
       "  </tbody>\n",
       "</table>\n",
       "<p>5 rows × 22 columns</p>\n",
       "</div>"
      ],
      "text/plain": [
       "     DAY  School  SchoolType  StartTime  AvgMaxDailyTemp  AvgMinDailyTemp  \\\n",
       "SNo                                                                         \n",
       "1      1       1           0          3             22.2              5.1   \n",
       "2      1       1           0          3             22.2              5.1   \n",
       "3      1       1           0          3             22.2              5.1   \n",
       "4      1       1           0          3             22.2              5.1   \n",
       "5      1       1           0          3             22.2              5.1   \n",
       "\n",
       "     AvgIndoorRelativeHumidity  IndoorTempDuringSurvey  Grade  Age  ...  \\\n",
       "SNo                                                                 ...   \n",
       "1                         55.1                    14.5      3    8  ...   \n",
       "2                         55.1                    14.5      3    8  ...   \n",
       "3                         55.1                    14.5      3    8  ...   \n",
       "4                         55.1                    14.5      3   10  ...   \n",
       "5                         55.1                    14.5      3    9  ...   \n",
       "\n",
       "     Scarf/Cap  Tie  Stockings  TotalCLOwithChair  SwC  TSV  TPV  TCV  TSL  MC  \n",
       "SNo                                                                             \n",
       "1            1    1          0               1.57    1   -1    2    2    1   2  \n",
       "2            1    1          0               1.21    1   -1    2    3    1   2  \n",
       "3            1    1          0               1.21    2    0    1    2    3   4  \n",
       "4            1    1          0               1.43    2    0    0    2    2   4  \n",
       "5            1    1          0               1.21    2    0    1    2    2   2  \n",
       "\n",
       "[5 rows x 22 columns]"
      ]
     },
     "execution_count": 17,
     "metadata": {},
     "output_type": "execute_result"
    }
   ],
   "source": [
    "winter_data.head()"
   ]
  },
  {
   "cell_type": "code",
   "execution_count": 18,
   "id": "987ac98f-93cd-47f6-9aaf-be750d9f700f",
   "metadata": {
    "id": "987ac98f-93cd-47f6-9aaf-be750d9f700f",
    "outputId": "35c52902-6f97-4086-c94c-a561c2c4bd0c"
   },
   "outputs": [
    {
     "data": {
      "text/html": [
       "<div>\n",
       "<style scoped>\n",
       "    .dataframe tbody tr th:only-of-type {\n",
       "        vertical-align: middle;\n",
       "    }\n",
       "\n",
       "    .dataframe tbody tr th {\n",
       "        vertical-align: top;\n",
       "    }\n",
       "\n",
       "    .dataframe thead th {\n",
       "        text-align: right;\n",
       "    }\n",
       "</style>\n",
       "<table border=\"1\" class=\"dataframe\">\n",
       "  <thead>\n",
       "    <tr style=\"text-align: right;\">\n",
       "      <th></th>\n",
       "      <th>DAY</th>\n",
       "      <th>School</th>\n",
       "      <th>SchoolType</th>\n",
       "      <th>StartTime</th>\n",
       "      <th>AvgMaxDailyTemp</th>\n",
       "      <th>AvgMinDailyTemp</th>\n",
       "      <th>AvgIndoorRelativeHumidity</th>\n",
       "      <th>IndoorTempDuringSurvey</th>\n",
       "      <th>Grade</th>\n",
       "      <th>Age</th>\n",
       "      <th>...</th>\n",
       "      <th>Scarf/Cap</th>\n",
       "      <th>Tie</th>\n",
       "      <th>Stockings</th>\n",
       "      <th>TotalCLOwithChair</th>\n",
       "      <th>SwC</th>\n",
       "      <th>TSV</th>\n",
       "      <th>TPV</th>\n",
       "      <th>TCV</th>\n",
       "      <th>TSL</th>\n",
       "      <th>MC</th>\n",
       "    </tr>\n",
       "  </thead>\n",
       "  <tbody>\n",
       "    <tr>\n",
       "      <th>count</th>\n",
       "      <td>2038.000000</td>\n",
       "      <td>2038.000000</td>\n",
       "      <td>2038.000000</td>\n",
       "      <td>2038.000000</td>\n",
       "      <td>2038.000000</td>\n",
       "      <td>2038.000000</td>\n",
       "      <td>2038.000000</td>\n",
       "      <td>2038.000000</td>\n",
       "      <td>2038.000000</td>\n",
       "      <td>2038.000000</td>\n",
       "      <td>...</td>\n",
       "      <td>2038.000000</td>\n",
       "      <td>2038.000000</td>\n",
       "      <td>2038.000000</td>\n",
       "      <td>2038.000000</td>\n",
       "      <td>2038.000000</td>\n",
       "      <td>2038.000000</td>\n",
       "      <td>2038.000000</td>\n",
       "      <td>2038.000000</td>\n",
       "      <td>2038.000000</td>\n",
       "      <td>2038.000000</td>\n",
       "    </tr>\n",
       "    <tr>\n",
       "      <th>mean</th>\n",
       "      <td>2.732581</td>\n",
       "      <td>2.709519</td>\n",
       "      <td>0.733562</td>\n",
       "      <td>2.299313</td>\n",
       "      <td>21.217076</td>\n",
       "      <td>6.254809</td>\n",
       "      <td>61.204711</td>\n",
       "      <td>14.496075</td>\n",
       "      <td>3.947007</td>\n",
       "      <td>9.524043</td>\n",
       "      <td>...</td>\n",
       "      <td>0.807655</td>\n",
       "      <td>0.394504</td>\n",
       "      <td>0.017174</td>\n",
       "      <td>1.396045</td>\n",
       "      <td>1.965653</td>\n",
       "      <td>-0.326300</td>\n",
       "      <td>0.693817</td>\n",
       "      <td>2.119235</td>\n",
       "      <td>1.996075</td>\n",
       "      <td>3.572620</td>\n",
       "    </tr>\n",
       "    <tr>\n",
       "      <th>std</th>\n",
       "      <td>1.309543</td>\n",
       "      <td>1.285857</td>\n",
       "      <td>0.442204</td>\n",
       "      <td>1.252473</td>\n",
       "      <td>1.744861</td>\n",
       "      <td>1.715494</td>\n",
       "      <td>7.081575</td>\n",
       "      <td>1.203274</td>\n",
       "      <td>0.797110</td>\n",
       "      <td>1.049188</td>\n",
       "      <td>...</td>\n",
       "      <td>0.394240</td>\n",
       "      <td>0.488864</td>\n",
       "      <td>0.129950</td>\n",
       "      <td>0.216997</td>\n",
       "      <td>0.301848</td>\n",
       "      <td>0.612427</td>\n",
       "      <td>0.691821</td>\n",
       "      <td>0.766258</td>\n",
       "      <td>0.822478</td>\n",
       "      <td>1.014077</td>\n",
       "    </tr>\n",
       "    <tr>\n",
       "      <th>min</th>\n",
       "      <td>1.000000</td>\n",
       "      <td>1.000000</td>\n",
       "      <td>0.000000</td>\n",
       "      <td>1.000000</td>\n",
       "      <td>17.600000</td>\n",
       "      <td>4.200000</td>\n",
       "      <td>44.230000</td>\n",
       "      <td>12.800000</td>\n",
       "      <td>3.000000</td>\n",
       "      <td>6.000000</td>\n",
       "      <td>...</td>\n",
       "      <td>0.000000</td>\n",
       "      <td>0.000000</td>\n",
       "      <td>0.000000</td>\n",
       "      <td>0.900000</td>\n",
       "      <td>1.000000</td>\n",
       "      <td>-2.000000</td>\n",
       "      <td>-1.000000</td>\n",
       "      <td>-3.000000</td>\n",
       "      <td>-2.000000</td>\n",
       "      <td>1.000000</td>\n",
       "    </tr>\n",
       "    <tr>\n",
       "      <th>25%</th>\n",
       "      <td>2.000000</td>\n",
       "      <td>1.000000</td>\n",
       "      <td>0.000000</td>\n",
       "      <td>1.000000</td>\n",
       "      <td>20.500000</td>\n",
       "      <td>5.000000</td>\n",
       "      <td>58.200000</td>\n",
       "      <td>13.600000</td>\n",
       "      <td>3.000000</td>\n",
       "      <td>9.000000</td>\n",
       "      <td>...</td>\n",
       "      <td>1.000000</td>\n",
       "      <td>0.000000</td>\n",
       "      <td>0.000000</td>\n",
       "      <td>1.210000</td>\n",
       "      <td>2.000000</td>\n",
       "      <td>-1.000000</td>\n",
       "      <td>0.000000</td>\n",
       "      <td>2.000000</td>\n",
       "      <td>2.000000</td>\n",
       "      <td>4.000000</td>\n",
       "    </tr>\n",
       "    <tr>\n",
       "      <th>50%</th>\n",
       "      <td>3.000000</td>\n",
       "      <td>3.000000</td>\n",
       "      <td>1.000000</td>\n",
       "      <td>2.000000</td>\n",
       "      <td>21.200000</td>\n",
       "      <td>5.600000</td>\n",
       "      <td>60.600000</td>\n",
       "      <td>14.100000</td>\n",
       "      <td>4.000000</td>\n",
       "      <td>10.000000</td>\n",
       "      <td>...</td>\n",
       "      <td>1.000000</td>\n",
       "      <td>0.000000</td>\n",
       "      <td>0.000000</td>\n",
       "      <td>1.410000</td>\n",
       "      <td>2.000000</td>\n",
       "      <td>0.000000</td>\n",
       "      <td>1.000000</td>\n",
       "      <td>2.000000</td>\n",
       "      <td>2.000000</td>\n",
       "      <td>4.000000</td>\n",
       "    </tr>\n",
       "    <tr>\n",
       "      <th>75%</th>\n",
       "      <td>4.000000</td>\n",
       "      <td>4.000000</td>\n",
       "      <td>1.000000</td>\n",
       "      <td>3.000000</td>\n",
       "      <td>22.400000</td>\n",
       "      <td>6.600000</td>\n",
       "      <td>65.400000</td>\n",
       "      <td>15.100000</td>\n",
       "      <td>5.000000</td>\n",
       "      <td>10.000000</td>\n",
       "      <td>...</td>\n",
       "      <td>1.000000</td>\n",
       "      <td>1.000000</td>\n",
       "      <td>0.000000</td>\n",
       "      <td>1.550000</td>\n",
       "      <td>2.000000</td>\n",
       "      <td>0.000000</td>\n",
       "      <td>1.000000</td>\n",
       "      <td>3.000000</td>\n",
       "      <td>2.000000</td>\n",
       "      <td>4.000000</td>\n",
       "    </tr>\n",
       "    <tr>\n",
       "      <th>max</th>\n",
       "      <td>5.000000</td>\n",
       "      <td>5.000000</td>\n",
       "      <td>1.000000</td>\n",
       "      <td>6.000000</td>\n",
       "      <td>24.200000</td>\n",
       "      <td>10.100000</td>\n",
       "      <td>75.600000</td>\n",
       "      <td>17.500000</td>\n",
       "      <td>5.000000</td>\n",
       "      <td>13.000000</td>\n",
       "      <td>...</td>\n",
       "      <td>1.000000</td>\n",
       "      <td>1.000000</td>\n",
       "      <td>1.000000</td>\n",
       "      <td>2.040000</td>\n",
       "      <td>3.000000</td>\n",
       "      <td>2.000000</td>\n",
       "      <td>2.000000</td>\n",
       "      <td>3.000000</td>\n",
       "      <td>3.000000</td>\n",
       "      <td>4.000000</td>\n",
       "    </tr>\n",
       "  </tbody>\n",
       "</table>\n",
       "<p>8 rows × 22 columns</p>\n",
       "</div>"
      ],
      "text/plain": [
       "               DAY       School   SchoolType    StartTime  AvgMaxDailyTemp  \\\n",
       "count  2038.000000  2038.000000  2038.000000  2038.000000      2038.000000   \n",
       "mean      2.732581     2.709519     0.733562     2.299313        21.217076   \n",
       "std       1.309543     1.285857     0.442204     1.252473         1.744861   \n",
       "min       1.000000     1.000000     0.000000     1.000000        17.600000   \n",
       "25%       2.000000     1.000000     0.000000     1.000000        20.500000   \n",
       "50%       3.000000     3.000000     1.000000     2.000000        21.200000   \n",
       "75%       4.000000     4.000000     1.000000     3.000000        22.400000   \n",
       "max       5.000000     5.000000     1.000000     6.000000        24.200000   \n",
       "\n",
       "       AvgMinDailyTemp  AvgIndoorRelativeHumidity  IndoorTempDuringSurvey  \\\n",
       "count      2038.000000                2038.000000             2038.000000   \n",
       "mean          6.254809                  61.204711               14.496075   \n",
       "std           1.715494                   7.081575                1.203274   \n",
       "min           4.200000                  44.230000               12.800000   \n",
       "25%           5.000000                  58.200000               13.600000   \n",
       "50%           5.600000                  60.600000               14.100000   \n",
       "75%           6.600000                  65.400000               15.100000   \n",
       "max          10.100000                  75.600000               17.500000   \n",
       "\n",
       "             Grade          Age  ...    Scarf/Cap          Tie    Stockings  \\\n",
       "count  2038.000000  2038.000000  ...  2038.000000  2038.000000  2038.000000   \n",
       "mean      3.947007     9.524043  ...     0.807655     0.394504     0.017174   \n",
       "std       0.797110     1.049188  ...     0.394240     0.488864     0.129950   \n",
       "min       3.000000     6.000000  ...     0.000000     0.000000     0.000000   \n",
       "25%       3.000000     9.000000  ...     1.000000     0.000000     0.000000   \n",
       "50%       4.000000    10.000000  ...     1.000000     0.000000     0.000000   \n",
       "75%       5.000000    10.000000  ...     1.000000     1.000000     0.000000   \n",
       "max       5.000000    13.000000  ...     1.000000     1.000000     1.000000   \n",
       "\n",
       "       TotalCLOwithChair          SwC          TSV          TPV          TCV  \\\n",
       "count        2038.000000  2038.000000  2038.000000  2038.000000  2038.000000   \n",
       "mean            1.396045     1.965653    -0.326300     0.693817     2.119235   \n",
       "std             0.216997     0.301848     0.612427     0.691821     0.766258   \n",
       "min             0.900000     1.000000    -2.000000    -1.000000    -3.000000   \n",
       "25%             1.210000     2.000000    -1.000000     0.000000     2.000000   \n",
       "50%             1.410000     2.000000     0.000000     1.000000     2.000000   \n",
       "75%             1.550000     2.000000     0.000000     1.000000     3.000000   \n",
       "max             2.040000     3.000000     2.000000     2.000000     3.000000   \n",
       "\n",
       "               TSL           MC  \n",
       "count  2038.000000  2038.000000  \n",
       "mean      1.996075     3.572620  \n",
       "std       0.822478     1.014077  \n",
       "min      -2.000000     1.000000  \n",
       "25%       2.000000     4.000000  \n",
       "50%       2.000000     4.000000  \n",
       "75%       2.000000     4.000000  \n",
       "max       3.000000     4.000000  \n",
       "\n",
       "[8 rows x 22 columns]"
      ]
     },
     "execution_count": 18,
     "metadata": {},
     "output_type": "execute_result"
    }
   ],
   "source": [
    "winter_data.describe()"
   ]
  },
  {
   "cell_type": "code",
   "execution_count": 19,
   "id": "bbf21588-7c32-4abc-8851-fd556fb76d83",
   "metadata": {
    "id": "bbf21588-7c32-4abc-8851-fd556fb76d83",
    "outputId": "7f4e4661-2aae-40b0-b27b-e8ba17208265"
   },
   "outputs": [
    {
     "name": "stdout",
     "output_type": "stream",
     "text": [
      "<class 'pandas.core.frame.DataFrame'>\n",
      "Int64Index: 2038 entries, 1 to 2038\n",
      "Data columns (total 22 columns):\n",
      " #   Column                     Non-Null Count  Dtype  \n",
      "---  ------                     --------------  -----  \n",
      " 0   DAY                        2038 non-null   int64  \n",
      " 1   School                     2038 non-null   int64  \n",
      " 2   SchoolType                 2038 non-null   int64  \n",
      " 3   StartTime                  2038 non-null   int64  \n",
      " 4   AvgMaxDailyTemp            2038 non-null   float64\n",
      " 5   AvgMinDailyTemp            2038 non-null   float64\n",
      " 6   AvgIndoorRelativeHumidity  2038 non-null   float64\n",
      " 7   IndoorTempDuringSurvey     2038 non-null   float64\n",
      " 8   Grade                      2038 non-null   int64  \n",
      " 9   Age                        2038 non-null   int64  \n",
      " 10  Gender                     2038 non-null   int64  \n",
      " 11  FormalClothing             2038 non-null   int64  \n",
      " 12  Scarf/Cap                  2038 non-null   int64  \n",
      " 13  Tie                        2038 non-null   int64  \n",
      " 14  Stockings                  2038 non-null   int64  \n",
      " 15  TotalCLOwithChair          2038 non-null   float64\n",
      " 16  SwC                        2038 non-null   int64  \n",
      " 17  TSV                        2038 non-null   int64  \n",
      " 18  TPV                        2038 non-null   int64  \n",
      " 19  TCV                        2038 non-null   int64  \n",
      " 20  TSL                        2038 non-null   int64  \n",
      " 21  MC                         2038 non-null   int64  \n",
      "dtypes: float64(5), int64(17)\n",
      "memory usage: 366.2 KB\n"
     ]
    }
   ],
   "source": [
    "winter_data.info()"
   ]
  },
  {
   "cell_type": "code",
   "execution_count": 20,
   "id": "9349cea7-b27d-4902-880d-2365ae033cf1",
   "metadata": {
    "id": "9349cea7-b27d-4902-880d-2365ae033cf1",
    "outputId": "f5965a90-b9fa-4939-b207-542f9328bb85"
   },
   "outputs": [
    {
     "data": {
      "text/plain": [
       "Index(['DAY', 'School', 'SchoolType', 'StartTime', 'AvgMaxDailyTemp',\n",
       "       'AvgMinDailyTemp', 'AvgIndoorRelativeHumidity',\n",
       "       'IndoorTempDuringSurvey', 'Grade', 'Age', 'Gender', 'FormalClothing',\n",
       "       'Scarf/Cap', 'Tie', 'Stockings', 'TotalCLOwithChair', 'SwC', 'TSV',\n",
       "       'TPV', 'TCV', 'TSL', 'MC'],\n",
       "      dtype='object')"
      ]
     },
     "execution_count": 20,
     "metadata": {},
     "output_type": "execute_result"
    }
   ],
   "source": [
    "winter_data.columns"
   ]
  },
  {
   "cell_type": "code",
   "execution_count": 21,
   "id": "c09b2226-42a9-4ebb-b352-3a43bfcf1014",
   "metadata": {
    "id": "c09b2226-42a9-4ebb-b352-3a43bfcf1014"
   },
   "outputs": [],
   "source": [
    "winter_data = winter_data.astype({\n",
    "    'DAY':'category',\n",
    "    'School':'category',\n",
    "    'SchoolType': 'category',\n",
    "    'StartTime': 'category',\n",
    "    'Grade': 'category',\n",
    "    'Gender': 'category',\n",
    "    'FormalClothing': 'bool',\n",
    "    'Scarf/Cap': 'bool',\n",
    "    'Tie': 'bool',\n",
    "    'Stockings': 'bool',\n",
    "    'TSV':'category',\n",
    "    'TPV':'category',\n",
    "    'TCV':'category',\n",
    "    'TSL':'category',\n",
    "    'MC':'category',\n",
    "    'SwC':'category',\n",
    "})\n"
   ]
  },
  {
   "cell_type": "code",
   "execution_count": 22,
   "id": "8e0d655e-f4f7-48d7-9181-cb16f70779df",
   "metadata": {
    "id": "8e0d655e-f4f7-48d7-9181-cb16f70779df",
    "outputId": "88f4a015-f29e-48ef-cfef-60b8e18dee3e"
   },
   "outputs": [
    {
     "name": "stdout",
     "output_type": "stream",
     "text": [
      "<class 'pandas.core.frame.DataFrame'>\n",
      "Int64Index: 2038 entries, 1 to 2038\n",
      "Data columns (total 22 columns):\n",
      " #   Column                     Non-Null Count  Dtype   \n",
      "---  ------                     --------------  -----   \n",
      " 0   DAY                        2038 non-null   category\n",
      " 1   School                     2038 non-null   category\n",
      " 2   SchoolType                 2038 non-null   category\n",
      " 3   StartTime                  2038 non-null   category\n",
      " 4   AvgMaxDailyTemp            2038 non-null   float64 \n",
      " 5   AvgMinDailyTemp            2038 non-null   float64 \n",
      " 6   AvgIndoorRelativeHumidity  2038 non-null   float64 \n",
      " 7   IndoorTempDuringSurvey     2038 non-null   float64 \n",
      " 8   Grade                      2038 non-null   category\n",
      " 9   Age                        2038 non-null   int64   \n",
      " 10  Gender                     2038 non-null   category\n",
      " 11  FormalClothing             2038 non-null   bool    \n",
      " 12  Scarf/Cap                  2038 non-null   bool    \n",
      " 13  Tie                        2038 non-null   bool    \n",
      " 14  Stockings                  2038 non-null   bool    \n",
      " 15  TotalCLOwithChair          2038 non-null   float64 \n",
      " 16  SwC                        2038 non-null   category\n",
      " 17  TSV                        2038 non-null   category\n",
      " 18  TPV                        2038 non-null   category\n",
      " 19  TCV                        2038 non-null   category\n",
      " 20  TSL                        2038 non-null   category\n",
      " 21  MC                         2038 non-null   category\n",
      "dtypes: bool(4), category(12), float64(5), int64(1)\n",
      "memory usage: 145.5 KB\n"
     ]
    }
   ],
   "source": [
    "winter_data.info()"
   ]
  },
  {
   "cell_type": "markdown",
   "id": "c2bd1dc6-893a-422d-84f4-5bf8e94ec32c",
   "metadata": {
    "id": "c2bd1dc6-893a-422d-84f4-5bf8e94ec32c"
   },
   "source": [
    "## Distributions of Numerical Features"
   ]
  },
  {
   "cell_type": "code",
   "execution_count": 23,
   "id": "c3655b57-2a9f-4041-8314-c5f78676161e",
   "metadata": {
    "id": "c3655b57-2a9f-4041-8314-c5f78676161e",
    "outputId": "28a072fa-c246-4f5f-9b0b-60a14bb373df"
   },
   "outputs": [
    {
     "data": {
      "image/png": "[encoded data removed]",
      "text/plain": [
       "<Figure size 720x432 with 10 Axes>"
      ]
     },
     "metadata": {
      "needs_background": "light"
     },
     "output_type": "display_data"
    }
   ],
   "source": [
    "# create a new dataframe with columns containing only the numerical features\n",
    "num_features = winter_data.select_dtypes(exclude=['bool', 'category']).copy()\n",
    "\n",
    "# we plot individual column distributions with null entry rows dropped\n",
    "fig, axs = plt.subplots(2, 5, figsize=(10, 6))\n",
    "for i in range(len(num_features.columns)):\n",
    "    plt.subplot(2, 5, i+1)\n",
    "    sns.distplot(num_features.iloc[:,i].dropna())\n",
    "    plt.xlabel(num_features.columns[i])\n",
    "\n",
    "plt.tight_layout()\n",
    "plt.show()"
   ]
  },
  {
   "cell_type": "markdown",
   "id": "4c308279-7d9b-40fe-8cac-20e51eb28abf",
   "metadata": {
    "id": "4c308279-7d9b-40fe-8cac-20e51eb28abf"
   },
   "source": [
    "## Distributions of Categorical Features"
   ]
  },
  {
   "cell_type": "code",
   "execution_count": 24,
   "id": "46bfb75d-379b-432c-b6c9-0707943929ad",
   "metadata": {
    "id": "46bfb75d-379b-432c-b6c9-0707943929ad",
    "outputId": "5f28a80c-85bd-4267-f077-75aebfbe2609"
   },
   "outputs": [
    {
     "data": {
      "image/png": "[encoded data removed]",
      "text/plain": [
       "<Figure size 720x2160 with 14 Axes>"
      ]
     },
     "metadata": {
      "needs_background": "light"
     },
     "output_type": "display_data"
    }
   ],
   "source": [
    "# create a new dataframe with columns containing only the categorical features\n",
    "cat_features = winter_data.select_dtypes(include=['category']).copy()\n",
    "\n",
    "# we plot individual column distributions with null entry rows dropped\n",
    "fig, axs = plt.subplots(nrows=7, ncols=2, figsize=(10, 30))\n",
    "plt.subplots_adjust(right=1.5, top=1.25)\n",
    "\n",
    "for i in range(len(cat_features.columns)):\n",
    "    plt.subplot(7, 2, i+1)\n",
    "    sns.countplot(y=cat_features.columns[i], data=cat_features)\n",
    "    \n",
    "plt.tight_layout()\n",
    "plt.show()"
   ]
  },
  {
   "cell_type": "markdown",
   "id": "36bd4976-ecec-416e-b892-96269f70b385",
   "metadata": {
    "id": "36bd4976-ecec-416e-b892-96269f70b385"
   },
   "source": [
    "## Distributions of Boolean Features"
   ]
  },
  {
   "cell_type": "code",
   "execution_count": 25,
   "id": "616899da-9afd-40d6-9478-2a251a8b7a89",
   "metadata": {
    "id": "616899da-9afd-40d6-9478-2a251a8b7a89",
    "outputId": "7a2f8838-4a88-4d7b-8671-b2deed39ce88"
   },
   "outputs": [
    {
     "data": {
      "image/png": "[encoded data removed]",
      "text/plain": [
       "<Figure size 720x2160 with 14 Axes>"
      ]
     },
     "metadata": {
      "needs_background": "light"
     },
     "output_type": "display_data"
    }
   ],
   "source": [
    "# create a new dataframe with columns containing only the categorical features\n",
    "bool_features = winter_data.select_dtypes(include='bool').copy()\n",
    "\n",
    "# we plot individual column distributions with null entry rows dropped\n",
    "fig, axs = plt.subplots(nrows=7, ncols=2, figsize=(10, 30))\n",
    "plt.subplots_adjust(right=1.5, top=1.25)\n",
    "\n",
    "for i in range(len(bool_features.columns)):\n",
    "    plt.subplot(7, 2, i+1)\n",
    "    sns.countplot(y=bool_features.columns[i], data=bool_features)\n",
    "    \n",
    "plt.tight_layout()\n",
    "plt.show()"
   ]
  },
  {
   "cell_type": "code",
   "execution_count": 26,
   "id": "9445a69c-e0a0-4e24-a90f-3d69860a4820",
   "metadata": {
    "id": "9445a69c-e0a0-4e24-a90f-3d69860a4820"
   },
   "outputs": [],
   "source": [
    "tsl_target_data = winter_data.copy()"
   ]
  },
  {
   "cell_type": "markdown",
   "id": "fdbc99d5-c71f-4d46-ad6c-de1dbf87656d",
   "metadata": {
    "id": "fdbc99d5-c71f-4d46-ad6c-de1dbf87656d"
   },
   "source": [
    "## Machine Learning Models (CatBoost)"
   ]
  },
  {
   "cell_type": "code",
   "execution_count": 27,
   "id": "65309bc6-bd36-4a4e-9465-c188fa18a5f7",
   "metadata": {
    "id": "65309bc6-bd36-4a4e-9465-c188fa18a5f7"
   },
   "outputs": [],
   "source": [
    "import catboost as cat\n",
    "# Classification metrics \n",
    "from sklearn.metrics import precision_score, cohen_kappa_score, f1_score, accuracy_score, recall_score\n",
    "# Helper for cross-validation\n",
    "from sklearn.model_selection import StratifiedKFold"
   ]
  },
  {
   "cell_type": "code",
   "execution_count": 28,
   "id": "a697e408-b43d-4b06-8eb5-45837788e713",
   "metadata": {
    "id": "a697e408-b43d-4b06-8eb5-45837788e713"
   },
   "outputs": [],
   "source": [
    "def oof_trainer(X: pd.DataFrame,\n",
    "                y,\n",
    "            n_folds = None,\n",
    "            params: dict = None,\n",
    "            del_cols: list = None,\n",
    "            cat_features=None):\n",
    "    \n",
    "    \"\"\"This function trains multiple Catboost model while performing stratified CV with shuffling.\n",
    "    out-of-fold (oof) predictions are evaluated at each fold and printed out \n",
    "    at the end of the routine as a list. The mean scores on all fold is also printed out.\n",
    "    \n",
    "    The metrics used for evaluation are precision_auc and the cohen's kappa\n",
    "    \n",
    "    Output: \n",
    "    models -- a list of models trained on each fold during CV\n",
    "    oof_pred -- prediction array consisting of predictions coming from different models\n",
    "    \"\"\"\n",
    "        \n",
    "    # collect models and scores from each fold\n",
    "    models = []\n",
    "    f1_scores = []\n",
    "    accuracy_scores = []\n",
    "    precision_scores = []\n",
    "    recall_scores = []\n",
    "    scores = []\n",
    "    # CV splitter\n",
    "    folds = StratifiedKFold(n_splits=n_folds, shuffle=True, random_state=505) #GroupKFold(n_splits=n_folds) \n",
    "    #features to use\n",
    "    columns = [col for col in X.columns.values if not col in del_cols]\n",
    "    # dimension of the target \n",
    "    n_target=1\n",
    "    \n",
    "    # collect out-of-sample predictions\n",
    "    data_X, data_y, oof_pred = pd.DataFrame(), pd.Series(), np.zeros((len(X),n_target))\n",
    "\n",
    "\n",
    "    for fold_n, (train_index, valid_index) in enumerate(folds.split(X, y)):\n",
    "     \n",
    "        print('Fold {} started at {}'.format(fold_n + 1,time.ctime()))\n",
    "        #print((train_index, valid_index))\n",
    "        X_train, X_valid = X.iloc[train_index][columns], X.iloc[valid_index][columns]\n",
    "        y_train, y_valid = y.iloc[train_index], y.iloc[valid_index]\n",
    "    \n",
    "        data_X = data_X.append(X_valid)\n",
    "        data_y = data_y.append(y_valid)\n",
    "        print(data_X.shape)\n",
    "        \n",
    "        #Eval set preparation\n",
    "        eval_set = [(X_train, y_train)]\n",
    "       # eval_names = ['train']\n",
    "        eval_set.append((X_valid, y_valid))\n",
    "       # eval_names.append('valid')\n",
    "    \n",
    "        model = cat.CatBoostClassifier()\n",
    "        model.fit(X=X_train, y=y_train, \n",
    "                       eval_set=eval_set, \n",
    "                       verbose=500, early_stopping_rounds=150,\n",
    "                      cat_features=cat_features, use_best_model=True, plot=True)\n",
    "        \n",
    "        oof_pred[valid_index] = model.predict(X_valid).reshape(-1, n_target)\n",
    "        models.append(model)\n",
    "    \n",
    "        print('-'*30)\n",
    "        \n",
    "        scores.append(cohen_kappa_score(y_valid, oof_pred[valid_index], weights='quadratic'))\n",
    "        f1_scores.append(f1_score(y_valid, oof_pred[valid_index],   average=None))\n",
    "        accuracy_scores.append(accuracy_score(y_valid, oof_pred[valid_index]))\n",
    "        precision_scores.append(precision_score(y_valid, oof_pred[valid_index],   average=None))\n",
    "        recall_scores.append(recall_score(y_valid, oof_pred[valid_index],   average=None))\n",
    "\n",
    "    print(f'catb fold kappa scores: {scores}')\n",
    "    print(f'catb fold kappa scores mean: {np.mean(scores)}')\n",
    "    print(f'catb fold f1 scores: {f1_scores}')\n",
    "    print(f'catb fold f1 scores mean: {np.mean(f1_scores)}')\n",
    "    print(f'catb fold precision-micro scores: {precision_scores}')\n",
    "    print(f'catb fold precision-micro scores mean: {np.mean(precision_scores)}')\n",
    "    print(f'catb fold recall-micro scores: {recall_scores}')\n",
    "    print(f'catb fold recall-micro scores mean: {np.mean(recall_scores)}')\n",
    "    print(f'catb fold accuracy scores: {accuracy_scores}')\n",
    "    print(f'catb fold accuracy scores mean: {np.mean(accuracy_scores)}')\n",
    "   \n",
    "    return models, oof_pred\n"
   ]
  },
  {
   "cell_type": "code",
   "execution_count": 29,
   "id": "588fb38d-7bff-4070-bb49-6f6d53850483",
   "metadata": {
    "id": "588fb38d-7bff-4070-bb49-6f6d53850483",
    "outputId": "17452327-82a7-48c1-e676-5ae45f480ed0"
   },
   "outputs": [
    {
     "data": {
      "text/plain": [
       "Index(['DAY', 'School', 'SchoolType', 'StartTime', 'AvgMaxDailyTemp',\n",
       "       'AvgMinDailyTemp', 'AvgIndoorRelativeHumidity',\n",
       "       'IndoorTempDuringSurvey', 'Grade', 'Age', 'Gender', 'FormalClothing',\n",
       "       'Scarf/Cap', 'Tie', 'Stockings', 'TotalCLOwithChair', 'SwC', 'TSV',\n",
       "       'TPV', 'TCV', 'TSL', 'MC'],\n",
       "      dtype='object')"
      ]
     },
     "execution_count": 29,
     "metadata": {},
     "output_type": "execute_result"
    }
   ],
   "source": [
    "tsl_target_data.columns"
   ]
  },
  {
   "cell_type": "markdown",
   "id": "cfb45f11-b623-4e49-9718-f666cf2fb33b",
   "metadata": {
    "id": "cfb45f11-b623-4e49-9718-f666cf2fb33b"
   },
   "source": [
    "# Target: TSL"
   ]
  },
  {
   "cell_type": "code",
   "execution_count": 30,
   "id": "66c095fc-cc3a-4ac8-8400-cde83186276a",
   "metadata": {
    "colab": {
     "referenced_widgets": [
      "fa4c89ca93d14d828117005c1dafe130",
      "cf9d91526ddb40b08c9d193c7984980d",
      "6d8f640eae674c108e7e498d73b6310c",
      "97dc44a34f134e598b16ac4cfd90b756",
      "ed40c41a586e48f2ae47ce09d04b54aa"
     ]
    },
    "id": "66c095fc-cc3a-4ac8-8400-cde83186276a",
    "outputId": "1036be28-3756-4bb6-a548-e1d11605020e"
   },
   "outputs": [
    {
     "name": "stdout",
     "output_type": "stream",
     "text": [
      "Fold 1 started at Tue Aug 23 02:01:10 2022\n",
      "(408, 18)\n"
     ]
    },
    {
     "data": {
      "application/vnd.jupyter.widget-view+json": {
       "model_id": "ec85d4d8c5d942e78241d97df32c5908",
       "version_major": 2,
       "version_minor": 0
      },
      "text/plain": [
       "MetricVisualizer(layout=Layout(align_self='stretch', height='500px'))"
      ]
     },
     "metadata": {},
     "output_type": "display_data"
    },
    {
     "name": "stdout",
     "output_type": "stream",
     "text": [
      "Learning rate set to 0.109036\n",
      "0:\tlearn: 1.5173202\ttest: 1.5173202\ttest1: 1.5205560\tbest: 1.5205560 (0)\ttotal: 211ms\tremaining: 3m 30s\n",
      "Stopped by overfitting detector  (150 iterations wait)\n",
      "\n",
      "bestTest = 1.018622865\n",
      "bestIteration = 161\n",
      "\n",
      "Shrink model to first 162 iterations.\n",
      "------------------------------\n",
      "Fold 2 started at Tue Aug 23 02:01:26 2022\n",
      "(816, 18)\n"
     ]
    },
    {
     "data": {
      "application/vnd.jupyter.widget-view+json": {
       "model_id": "044474fc93024df1a95aacd6fc85d25f",
       "version_major": 2,
       "version_minor": 0
      },
      "text/plain": [
       "MetricVisualizer(layout=Layout(align_self='stretch', height='500px'))"
      ]
     },
     "metadata": {},
     "output_type": "display_data"
    },
    {
     "name": "stdout",
     "output_type": "stream",
     "text": [
      "Learning rate set to 0.109036\n",
      "0:\tlearn: 1.5145826\ttest: 1.5121975\ttest1: 1.5125530\tbest: 1.5125530 (0)\ttotal: 37ms\tremaining: 36.9s\n",
      "Stopped by overfitting detector  (150 iterations wait)\n",
      "\n",
      "bestTest = 1.001320787\n",
      "bestIteration = 117\n",
      "\n",
      "Shrink model to first 118 iterations.\n",
      "------------------------------\n",
      "Fold 3 started at Tue Aug 23 02:01:38 2022\n",
      "(1224, 18)\n"
     ]
    },
    {
     "data": {
      "application/vnd.jupyter.widget-view+json": {
       "model_id": "217311ed593f4c1ab1b140554c4d11f0",
       "version_major": 2,
       "version_minor": 0
      },
      "text/plain": [
       "MetricVisualizer(layout=Layout(align_self='stretch', height='500px'))"
      ]
     },
     "metadata": {},
     "output_type": "display_data"
    },
    {
     "name": "stdout",
     "output_type": "stream",
     "text": [
      "Learning rate set to 0.109036\n",
      "0:\tlearn: 1.5156589\ttest: 1.5111131\ttest1: 1.5147401\tbest: 1.5147401 (0)\ttotal: 48.8ms\tremaining: 48.7s\n",
      "Stopped by overfitting detector  (150 iterations wait)\n",
      "\n",
      "bestTest = 1.020420581\n",
      "bestIteration = 90\n",
      "\n",
      "Shrink model to first 91 iterations.\n",
      "------------------------------\n",
      "Fold 4 started at Tue Aug 23 02:01:49 2022\n",
      "(1631, 18)\n"
     ]
    },
    {
     "data": {
      "application/vnd.jupyter.widget-view+json": {
       "model_id": "17f33d27a2854cb69271b9214ecb9416",
       "version_major": 2,
       "version_minor": 0
      },
      "text/plain": [
       "MetricVisualizer(layout=Layout(align_self='stretch', height='500px'))"
      ]
     },
     "metadata": {},
     "output_type": "display_data"
    },
    {
     "name": "stdout",
     "output_type": "stream",
     "text": [
      "Learning rate set to 0.109038\n",
      "0:\tlearn: 1.5171305\ttest: 1.5173514\ttest1: 1.5232298\tbest: 1.5232298 (0)\ttotal: 52.3ms\tremaining: 52.3s\n",
      "Stopped by overfitting detector  (150 iterations wait)\n",
      "\n",
      "bestTest = 1.015536894\n",
      "bestIteration = 165\n",
      "\n",
      "Shrink model to first 166 iterations.\n",
      "------------------------------\n",
      "Fold 5 started at Tue Aug 23 02:02:03 2022\n",
      "(2038, 18)\n"
     ]
    },
    {
     "data": {
      "application/vnd.jupyter.widget-view+json": {
       "model_id": "bb8e28f79ce64703b11c9538290e6c9d",
       "version_major": 2,
       "version_minor": 0
      },
      "text/plain": [
       "MetricVisualizer(layout=Layout(align_self='stretch', height='500px'))"
      ]
     },
     "metadata": {},
     "output_type": "display_data"
    },
    {
     "name": "stdout",
     "output_type": "stream",
     "text": [
      "Learning rate set to 0.109038\n",
      "0:\tlearn: 1.5104903\ttest: 1.5082834\ttest1: 1.5104451\tbest: 1.5104451 (0)\ttotal: 47.6ms\tremaining: 47.6s\n",
      "Stopped by overfitting detector  (150 iterations wait)\n",
      "\n",
      "bestTest = 1.030593904\n",
      "bestIteration = 79\n",
      "\n",
      "Shrink model to first 80 iterations.\n",
      "------------------------------\n",
      "catb fold kappa scores: [0.07184296272748936, 0.08979821529061816, 0.07870967741935497, 0.09252186051922362, 0.07111288219098688]\n",
      "catb fold kappa scores mean: 0.08079711962953459\n",
      "catb fold f1 scores: [array([0.        , 0.        , 0.02597403, 0.71986971, 0.15652174]), array([0.        , 0.        , 0.15      , 0.70915033, 0.10526316]), array([0.        , 0.        , 0.12195122, 0.71404959, 0.13445378]), array([0.        , 0.        , 0.07792208, 0.72396694, 0.19672131]), array([0.        , 0.        , 0.14285714, 0.70187394, 0.18045113])]\n",
      "catb fold f1 scores mean: 0.19444104327702516\n",
      "catb fold precision-micro scores: [array([0.        , 0.        , 0.125     , 0.57552083, 0.5625    ]), array([0.        , 0.        , 0.5       , 0.56806283, 0.42857143]), array([0.        , 0.        , 0.35714286, 0.57754011, 0.4       ]), array([0.        , 0.        , 0.33333333, 0.584     , 0.52173913]), array([0.        , 0.        , 0.375     , 0.57703081, 0.35294118])]\n",
      "catb fold precision-micro scores mean: 0.2735353002315302\n",
      "catb fold recall-micro scores: [array([0.        , 0.        , 0.01449275, 0.96086957, 0.09090909]), array([0.        , 0.        , 0.08823529, 0.94347826, 0.06      ]), array([0.        , 0.        , 0.07352941, 0.93506494, 0.08080808]), array([0.        , 0.        , 0.04411765, 0.95217391, 0.12121212]), array([0.        , 0.        , 0.08823529, 0.89565217, 0.12121212])]\n",
      "catb fold recall-micro scores mean: 0.21879962651727358\n",
      "catb fold accuracy scores: [0.5661764705882353, 0.5612745098039216, 0.5612745098039216, 0.5749385749385749, 0.5503685503685504]\n",
      "catb fold accuracy scores mean: 0.5628065231006408\n"
     ]
    }
   ],
   "source": [
    "# feature selection for Catboost\n",
    "models, oof_pred = oof_trainer(X=tsl_target_data,\n",
    "                    y=tsl_target_data.TSL,\n",
    "                    n_folds = 5,\n",
    "                   # params=params,\n",
    "                    del_cols=['TSV',\n",
    "       'TPV','TCV', 'TSL'],\n",
    "                    cat_features=cat_features.drop(columns=['TSV',\n",
    "       'TPV','TCV', 'TSL']).columns.values.tolist())"
   ]
  },
  {
   "cell_type": "markdown",
   "id": "6d10cb5a-5b26-4306-ad17-dc1d6cd285a7",
   "metadata": {
    "id": "6d10cb5a-5b26-4306-ad17-dc1d6cd285a7"
   },
   "source": [
    "## Feature importance"
   ]
  },
  {
   "cell_type": "code",
   "execution_count": 31,
   "id": "d6f69949-6906-4982-99e7-6070b849b1ea",
   "metadata": {
    "id": "d6f69949-6906-4982-99e7-6070b849b1ea",
    "outputId": "89fd45bb-be4a-48fc-a20b-80961728e100"
   },
   "outputs": [
    {
     "data": {
      "text/html": [
       "<div>\n",
       "<style scoped>\n",
       "    .dataframe tbody tr th:only-of-type {\n",
       "        vertical-align: middle;\n",
       "    }\n",
       "\n",
       "    .dataframe tbody tr th {\n",
       "        vertical-align: top;\n",
       "    }\n",
       "\n",
       "    .dataframe thead th {\n",
       "        text-align: right;\n",
       "    }\n",
       "</style>\n",
       "<table border=\"1\" class=\"dataframe\">\n",
       "  <thead>\n",
       "    <tr style=\"text-align: right;\">\n",
       "      <th></th>\n",
       "      <th>Feature Id</th>\n",
       "      <th>Importances</th>\n",
       "    </tr>\n",
       "  </thead>\n",
       "  <tbody>\n",
       "    <tr>\n",
       "      <th>0</th>\n",
       "      <td>Grade</td>\n",
       "      <td>16.686307</td>\n",
       "    </tr>\n",
       "    <tr>\n",
       "      <th>1</th>\n",
       "      <td>School</td>\n",
       "      <td>14.239334</td>\n",
       "    </tr>\n",
       "    <tr>\n",
       "      <th>2</th>\n",
       "      <td>DAY</td>\n",
       "      <td>9.518013</td>\n",
       "    </tr>\n",
       "    <tr>\n",
       "      <th>3</th>\n",
       "      <td>StartTime</td>\n",
       "      <td>7.108215</td>\n",
       "    </tr>\n",
       "    <tr>\n",
       "      <th>4</th>\n",
       "      <td>TotalCLOwithChair</td>\n",
       "      <td>6.762387</td>\n",
       "    </tr>\n",
       "    <tr>\n",
       "      <th>5</th>\n",
       "      <td>IndoorTempDuringSurvey</td>\n",
       "      <td>6.359659</td>\n",
       "    </tr>\n",
       "    <tr>\n",
       "      <th>6</th>\n",
       "      <td>AvgMinDailyTemp</td>\n",
       "      <td>6.292830</td>\n",
       "    </tr>\n",
       "    <tr>\n",
       "      <th>7</th>\n",
       "      <td>AvgIndoorRelativeHumidity</td>\n",
       "      <td>5.660901</td>\n",
       "    </tr>\n",
       "    <tr>\n",
       "      <th>8</th>\n",
       "      <td>Gender</td>\n",
       "      <td>5.104297</td>\n",
       "    </tr>\n",
       "    <tr>\n",
       "      <th>9</th>\n",
       "      <td>SwC</td>\n",
       "      <td>4.890008</td>\n",
       "    </tr>\n",
       "    <tr>\n",
       "      <th>10</th>\n",
       "      <td>Age</td>\n",
       "      <td>4.524324</td>\n",
       "    </tr>\n",
       "    <tr>\n",
       "      <th>11</th>\n",
       "      <td>MC</td>\n",
       "      <td>4.117647</td>\n",
       "    </tr>\n",
       "    <tr>\n",
       "      <th>12</th>\n",
       "      <td>AvgMaxDailyTemp</td>\n",
       "      <td>3.297145</td>\n",
       "    </tr>\n",
       "    <tr>\n",
       "      <th>13</th>\n",
       "      <td>SchoolType</td>\n",
       "      <td>1.821391</td>\n",
       "    </tr>\n",
       "    <tr>\n",
       "      <th>14</th>\n",
       "      <td>Scarf/Cap</td>\n",
       "      <td>1.812213</td>\n",
       "    </tr>\n",
       "    <tr>\n",
       "      <th>15</th>\n",
       "      <td>FormalClothing</td>\n",
       "      <td>0.777491</td>\n",
       "    </tr>\n",
       "    <tr>\n",
       "      <th>16</th>\n",
       "      <td>Tie</td>\n",
       "      <td>0.769851</td>\n",
       "    </tr>\n",
       "    <tr>\n",
       "      <th>17</th>\n",
       "      <td>Stockings</td>\n",
       "      <td>0.257986</td>\n",
       "    </tr>\n",
       "  </tbody>\n",
       "</table>\n",
       "</div>"
      ],
      "text/plain": [
       "                   Feature Id  Importances\n",
       "0                       Grade    16.686307\n",
       "1                      School    14.239334\n",
       "2                         DAY     9.518013\n",
       "3                   StartTime     7.108215\n",
       "4           TotalCLOwithChair     6.762387\n",
       "5      IndoorTempDuringSurvey     6.359659\n",
       "6             AvgMinDailyTemp     6.292830\n",
       "7   AvgIndoorRelativeHumidity     5.660901\n",
       "8                      Gender     5.104297\n",
       "9                         SwC     4.890008\n",
       "10                        Age     4.524324\n",
       "11                         MC     4.117647\n",
       "12            AvgMaxDailyTemp     3.297145\n",
       "13                 SchoolType     1.821391\n",
       "14                  Scarf/Cap     1.812213\n",
       "15             FormalClothing     0.777491\n",
       "16                        Tie     0.769851\n",
       "17                  Stockings     0.257986"
      ]
     },
     "execution_count": 31,
     "metadata": {},
     "output_type": "execute_result"
    }
   ],
   "source": [
    "best_gb_model = models[1]\n",
    "best_gb_model.get_feature_importance(prettified=True)"
   ]
  },
  {
   "cell_type": "markdown",
   "id": "d8259b1e-582b-496a-bbd1-c52ceee40ebb",
   "metadata": {
    "id": "d8259b1e-582b-496a-bbd1-c52ceee40ebb"
   },
   "source": [
    "# Target: TPV"
   ]
  },
  {
   "cell_type": "code",
   "execution_count": null,
   "id": "a9691056-e88c-44f7-80c6-3a322c0f6099",
   "metadata": {
    "id": "a9691056-e88c-44f7-80c6-3a322c0f6099"
   },
   "outputs": [],
   "source": []
  },
  {
   "cell_type": "code",
   "execution_count": 32,
   "id": "67f17f9a-c3ed-452d-915a-ce83c4b31577",
   "metadata": {
    "colab": {
     "referenced_widgets": [
      "fbf29688de22491f889c97a9d0b7d263",
      "17b2b3b9bf294869b7445a50a000b6b9",
      "3723d98ea0464762abd9e93ea274a5ae",
      "72b84d62f8334814833b6f2f662b28d2",
      "96f30b05310a4561ac8297e0a4b79fd1"
     ]
    },
    "id": "67f17f9a-c3ed-452d-915a-ce83c4b31577",
    "outputId": "d76af3cc-6aa2-4205-ff2b-48b76d7f6dc7"
   },
   "outputs": [
    {
     "name": "stdout",
     "output_type": "stream",
     "text": [
      "Fold 1 started at Tue Aug 23 02:02:14 2022\n",
      "(406, 18)\n"
     ]
    },
    {
     "data": {
      "application/vnd.jupyter.widget-view+json": {
       "model_id": "e08675d930a54c7191f62a73b8b95426",
       "version_major": 2,
       "version_minor": 0
      },
      "text/plain": [
       "MetricVisualizer(layout=Layout(align_self='stretch', height='500px'))"
      ]
     },
     "metadata": {},
     "output_type": "display_data"
    },
    {
     "name": "stdout",
     "output_type": "stream",
     "text": [
      "Learning rate set to 0.109027\n",
      "0:\tlearn: 1.0732363\ttest: 1.0729207\ttest1: 1.0778937\tbest: 1.0778937 (0)\ttotal: 33.9ms\tremaining: 33.9s\n",
      "Stopped by overfitting detector  (150 iterations wait)\n",
      "\n",
      "bestTest = 0.9429194604\n",
      "bestIteration = 46\n",
      "\n",
      "Shrink model to first 47 iterations.\n",
      "------------------------------\n",
      "Fold 2 started at Tue Aug 23 02:02:21 2022\n",
      "(812, 18)\n"
     ]
    },
    {
     "data": {
      "application/vnd.jupyter.widget-view+json": {
       "model_id": "cb9a289df40f4eee848edb4d9e57cb6f",
       "version_major": 2,
       "version_minor": 0
      },
      "text/plain": [
       "MetricVisualizer(layout=Layout(align_self='stretch', height='500px'))"
      ]
     },
     "metadata": {},
     "output_type": "display_data"
    },
    {
     "name": "stdout",
     "output_type": "stream",
     "text": [
      "Learning rate set to 0.109027\n",
      "0:\tlearn: 1.0733733\ttest: 1.0731404\ttest1: 1.0746156\tbest: 1.0746156 (0)\ttotal: 65.9ms\tremaining: 1m 5s\n",
      "Stopped by overfitting detector  (150 iterations wait)\n",
      "\n",
      "bestTest = 0.9189712245\n",
      "bestIteration = 140\n",
      "\n",
      "Shrink model to first 141 iterations.\n",
      "------------------------------\n",
      "Fold 3 started at Tue Aug 23 02:02:31 2022\n",
      "(1218, 18)\n"
     ]
    },
    {
     "data": {
      "application/vnd.jupyter.widget-view+json": {
       "model_id": "2395e2b6316f4623a4ccfba437aa5bbd",
       "version_major": 2,
       "version_minor": 0
      },
      "text/plain": [
       "MetricVisualizer(layout=Layout(align_self='stretch', height='500px'))"
      ]
     },
     "metadata": {},
     "output_type": "display_data"
    },
    {
     "name": "stdout",
     "output_type": "stream",
     "text": [
      "Learning rate set to 0.109027\n",
      "0:\tlearn: 1.0735653\ttest: 1.0734325\ttest1: 1.0765480\tbest: 1.0765480 (0)\ttotal: 73.6ms\tremaining: 1m 13s\n",
      "Stopped by overfitting detector  (150 iterations wait)\n",
      "\n",
      "bestTest = 0.9318439624\n",
      "bestIteration = 72\n",
      "\n",
      "Shrink model to first 73 iterations.\n",
      "------------------------------\n",
      "Fold 4 started at Tue Aug 23 02:02:38 2022\n",
      "(1624, 18)\n"
     ]
    },
    {
     "data": {
      "application/vnd.jupyter.widget-view+json": {
       "model_id": "e02ea15029bd42cab18584dd55ab01d3",
       "version_major": 2,
       "version_minor": 0
      },
      "text/plain": [
       "MetricVisualizer(layout=Layout(align_self='stretch', height='500px'))"
      ]
     },
     "metadata": {},
     "output_type": "display_data"
    },
    {
     "name": "stdout",
     "output_type": "stream",
     "text": [
      "Learning rate set to 0.109027\n",
      "0:\tlearn: 1.0724834\ttest: 1.0726373\ttest1: 1.0743570\tbest: 1.0743570 (0)\ttotal: 41.9ms\tremaining: 41.9s\n",
      "Stopped by overfitting detector  (150 iterations wait)\n",
      "\n",
      "bestTest = 0.9366431128\n",
      "bestIteration = 114\n",
      "\n",
      "Shrink model to first 115 iterations.\n",
      "------------------------------\n",
      "Fold 5 started at Tue Aug 23 02:02:48 2022\n",
      "(2029, 18)\n"
     ]
    },
    {
     "data": {
      "application/vnd.jupyter.widget-view+json": {
       "model_id": "8c682823856641e8b8dffd1c2ba11f52",
       "version_major": 2,
       "version_minor": 0
      },
      "text/plain": [
       "MetricVisualizer(layout=Layout(align_self='stretch', height='500px'))"
      ]
     },
     "metadata": {},
     "output_type": "display_data"
    },
    {
     "name": "stdout",
     "output_type": "stream",
     "text": [
      "Learning rate set to 0.109028\n",
      "0:\tlearn: 1.0741702\ttest: 1.0741702\ttest1: 1.0765939\tbest: 1.0765939 (0)\ttotal: 57.8ms\tremaining: 57.8s\n",
      "Stopped by overfitting detector  (150 iterations wait)\n",
      "\n",
      "bestTest = 0.9187348046\n",
      "bestIteration = 119\n",
      "\n",
      "Shrink model to first 120 iterations.\n",
      "------------------------------\n",
      "catb fold kappa scores: [0.1447139394530932, 0.2620121764267881, 0.19308357348703176, 0.16517309108765044, 0.2797004258651916]\n",
      "catb fold kappa scores mean: 0.208936641263951\n",
      "catb fold f1 scores: [array([0.52661064, 0.5436409 , 0.03703704]), array([0.61734694, 0.5325779 , 0.14925373]), array([0.53868195, 0.55121951, 0.03773585]), array([0.54945055, 0.55208333, 0.125     ]), array([0.58659218, 0.55276382, 0.07407407])]\n",
      "catb fold f1 scores mean: 0.39827122781680285\n",
      "catb fold precision-micro scores: [array([0.51086957, 0.49321267, 1.        ]), array([0.55504587, 0.54022989, 0.35714286]), array([0.53714286, 0.49130435, 1.        ]), array([0.52631579, 0.51960784, 0.33333333]), array([0.56756757, 0.50458716, 1.        ])]\n",
      "catb fold precision-micro scores mean: 0.5957573162069798\n",
      "catb fold recall-micro scores: [array([0.5433526 , 0.60555556, 0.01886792]), array([0.6954023 , 0.52513966, 0.09433962]), array([0.54022989, 0.62777778, 0.01923077]), array([0.57471264, 0.58888889, 0.07692308]), array([0.60693642, 0.61111111, 0.03846154])]\n",
      "catb fold recall-micro scores mean: 0.41112865165668305\n",
      "catb fold accuracy scores: [0.5024630541871922, 0.541871921182266, 0.5123152709359606, 0.5172413793103449, 0.5358024691358024]\n",
      "catb fold accuracy scores mean: 0.5219388189503132\n"
     ]
    }
   ],
   "source": [
    "# feature selection for Catboost\n",
    "# Remove all rows with TPV value -1\n",
    "models, oof_pred = oof_trainer(X=tsl_target_data[tsl_target_data.TPV != -1],\n",
    "                    y=tsl_target_data[tsl_target_data.TPV != -1].TPV,\n",
    "                    n_folds = 5,\n",
    "                   # params=params,\n",
    "                    del_cols=['TSV',\n",
    "       'TSL','TCV', 'TSL', 'TPV'],\n",
    "                    cat_features=cat_features.drop(columns=['TSV', 'TPV',\n",
    "       'TSL','TCV', 'TSL']).columns.values.tolist())"
   ]
  },
  {
   "cell_type": "code",
   "execution_count": 33,
   "id": "7c989c89-d9fe-4ab1-acea-6b9a20d27830",
   "metadata": {
    "id": "7c989c89-d9fe-4ab1-acea-6b9a20d27830",
    "outputId": "f52c0f64-84b1-4dd7-fa90-6e7be3da6dea"
   },
   "outputs": [
    {
     "data": {
      "text/html": [
       "<div>\n",
       "<style scoped>\n",
       "    .dataframe tbody tr th:only-of-type {\n",
       "        vertical-align: middle;\n",
       "    }\n",
       "\n",
       "    .dataframe tbody tr th {\n",
       "        vertical-align: top;\n",
       "    }\n",
       "\n",
       "    .dataframe thead th {\n",
       "        text-align: right;\n",
       "    }\n",
       "</style>\n",
       "<table border=\"1\" class=\"dataframe\">\n",
       "  <thead>\n",
       "    <tr style=\"text-align: right;\">\n",
       "      <th></th>\n",
       "      <th>Feature Id</th>\n",
       "      <th>Importances</th>\n",
       "    </tr>\n",
       "  </thead>\n",
       "  <tbody>\n",
       "    <tr>\n",
       "      <th>0</th>\n",
       "      <td>School</td>\n",
       "      <td>12.529406</td>\n",
       "    </tr>\n",
       "    <tr>\n",
       "      <th>1</th>\n",
       "      <td>DAY</td>\n",
       "      <td>9.835528</td>\n",
       "    </tr>\n",
       "    <tr>\n",
       "      <th>2</th>\n",
       "      <td>TotalCLOwithChair</td>\n",
       "      <td>9.734226</td>\n",
       "    </tr>\n",
       "    <tr>\n",
       "      <th>3</th>\n",
       "      <td>Grade</td>\n",
       "      <td>9.728490</td>\n",
       "    </tr>\n",
       "    <tr>\n",
       "      <th>4</th>\n",
       "      <td>StartTime</td>\n",
       "      <td>7.670513</td>\n",
       "    </tr>\n",
       "    <tr>\n",
       "      <th>5</th>\n",
       "      <td>SwC</td>\n",
       "      <td>7.156860</td>\n",
       "    </tr>\n",
       "    <tr>\n",
       "      <th>6</th>\n",
       "      <td>AvgIndoorRelativeHumidity</td>\n",
       "      <td>7.083991</td>\n",
       "    </tr>\n",
       "    <tr>\n",
       "      <th>7</th>\n",
       "      <td>IndoorTempDuringSurvey</td>\n",
       "      <td>6.056400</td>\n",
       "    </tr>\n",
       "    <tr>\n",
       "      <th>8</th>\n",
       "      <td>Gender</td>\n",
       "      <td>5.775354</td>\n",
       "    </tr>\n",
       "    <tr>\n",
       "      <th>9</th>\n",
       "      <td>Age</td>\n",
       "      <td>5.731561</td>\n",
       "    </tr>\n",
       "    <tr>\n",
       "      <th>10</th>\n",
       "      <td>AvgMinDailyTemp</td>\n",
       "      <td>5.662523</td>\n",
       "    </tr>\n",
       "    <tr>\n",
       "      <th>11</th>\n",
       "      <td>AvgMaxDailyTemp</td>\n",
       "      <td>5.523445</td>\n",
       "    </tr>\n",
       "    <tr>\n",
       "      <th>12</th>\n",
       "      <td>MC</td>\n",
       "      <td>3.245661</td>\n",
       "    </tr>\n",
       "    <tr>\n",
       "      <th>13</th>\n",
       "      <td>Scarf/Cap</td>\n",
       "      <td>1.297426</td>\n",
       "    </tr>\n",
       "    <tr>\n",
       "      <th>14</th>\n",
       "      <td>SchoolType</td>\n",
       "      <td>1.262712</td>\n",
       "    </tr>\n",
       "    <tr>\n",
       "      <th>15</th>\n",
       "      <td>Tie</td>\n",
       "      <td>0.810695</td>\n",
       "    </tr>\n",
       "    <tr>\n",
       "      <th>16</th>\n",
       "      <td>Stockings</td>\n",
       "      <td>0.582306</td>\n",
       "    </tr>\n",
       "    <tr>\n",
       "      <th>17</th>\n",
       "      <td>FormalClothing</td>\n",
       "      <td>0.312905</td>\n",
       "    </tr>\n",
       "  </tbody>\n",
       "</table>\n",
       "</div>"
      ],
      "text/plain": [
       "                   Feature Id  Importances\n",
       "0                      School    12.529406\n",
       "1                         DAY     9.835528\n",
       "2           TotalCLOwithChair     9.734226\n",
       "3                       Grade     9.728490\n",
       "4                   StartTime     7.670513\n",
       "5                         SwC     7.156860\n",
       "6   AvgIndoorRelativeHumidity     7.083991\n",
       "7      IndoorTempDuringSurvey     6.056400\n",
       "8                      Gender     5.775354\n",
       "9                         Age     5.731561\n",
       "10            AvgMinDailyTemp     5.662523\n",
       "11            AvgMaxDailyTemp     5.523445\n",
       "12                         MC     3.245661\n",
       "13                  Scarf/Cap     1.297426\n",
       "14                 SchoolType     1.262712\n",
       "15                        Tie     0.810695\n",
       "16                  Stockings     0.582306\n",
       "17             FormalClothing     0.312905"
      ]
     },
     "execution_count": 33,
     "metadata": {},
     "output_type": "execute_result"
    }
   ],
   "source": [
    "best_gb_model = models[1]\n",
    "best_gb_model.get_feature_importance(prettified=True)"
   ]
  },
  {
   "cell_type": "markdown",
   "id": "20020847-d228-4b9f-9f90-bc37c47eeea2",
   "metadata": {
    "id": "20020847-d228-4b9f-9f90-bc37c47eeea2"
   },
   "source": [
    "# Target: TSV"
   ]
  },
  {
   "cell_type": "code",
   "execution_count": 34,
   "id": "3b96787d-fa72-4e99-89d6-d1520cddc47e",
   "metadata": {
    "colab": {
     "referenced_widgets": [
      "1be23c3f4c05463fa785fc1c1e4b0adc",
      "caae0fb261b14639a0831aeefbe339a3",
      "4096c08fac364daa938f56275d94f231",
      "d371ff286b3c466fb3cbf11e12d442e1",
      "8cc5f4f3eed44c6a91172c6b36b82ad9"
     ]
    },
    "id": "3b96787d-fa72-4e99-89d6-d1520cddc47e",
    "outputId": "3e6052a1-82cc-40df-d4e2-6b5965bf3c08"
   },
   "outputs": [
    {
     "name": "stdout",
     "output_type": "stream",
     "text": [
      "Fold 1 started at Tue Aug 23 02:02:57 2022\n",
      "(408, 18)\n"
     ]
    },
    {
     "data": {
      "application/vnd.jupyter.widget-view+json": {
       "model_id": "7bcebad026794a6d93be72fd49ee8d30",
       "version_major": 2,
       "version_minor": 0
      },
      "text/plain": [
       "MetricVisualizer(layout=Layout(align_self='stretch', height='500px'))"
      ]
     },
     "metadata": {},
     "output_type": "display_data"
    },
    {
     "name": "stdout",
     "output_type": "stream",
     "text": [
      "Learning rate set to 0.109035\n",
      "0:\tlearn: 1.2882157\ttest: 1.2880071\ttest1: 1.2906356\tbest: 1.2906356 (0)\ttotal: 43.8ms\tremaining: 43.8s\n",
      "Stopped by overfitting detector  (150 iterations wait)\n",
      "\n",
      "bestTest = 0.760633\n",
      "bestIteration = 288\n",
      "\n",
      "Shrink model to first 289 iterations.\n",
      "------------------------------\n",
      "Fold 2 started at Tue Aug 23 02:03:14 2022\n",
      "(816, 18)\n"
     ]
    },
    {
     "data": {
      "application/vnd.jupyter.widget-view+json": {
       "model_id": "5945d290c4a445aea1b5015fceeee039",
       "version_major": 2,
       "version_minor": 0
      },
      "text/plain": [
       "MetricVisualizer(layout=Layout(align_self='stretch', height='500px'))"
      ]
     },
     "metadata": {},
     "output_type": "display_data"
    },
    {
     "name": "stdout",
     "output_type": "stream",
     "text": [
      "Learning rate set to 0.109035\n",
      "0:\tlearn: 1.2779973\ttest: 1.2779973\ttest1: 1.2800223\tbest: 1.2800223 (0)\ttotal: 12.3ms\tremaining: 12.3s\n",
      "Stopped by overfitting detector  (150 iterations wait)\n",
      "\n",
      "bestTest = 0.8397046376\n",
      "bestIteration = 47\n",
      "\n",
      "Shrink model to first 48 iterations.\n",
      "------------------------------\n",
      "Fold 3 started at Tue Aug 23 02:03:21 2022\n",
      "(1223, 18)\n"
     ]
    },
    {
     "data": {
      "application/vnd.jupyter.widget-view+json": {
       "model_id": "ab57e13edde142f9a2dde3bd3f3b3d94",
       "version_major": 2,
       "version_minor": 0
      },
      "text/plain": [
       "MetricVisualizer(layout=Layout(align_self='stretch', height='500px'))"
      ]
     },
     "metadata": {},
     "output_type": "display_data"
    },
    {
     "name": "stdout",
     "output_type": "stream",
     "text": [
      "Learning rate set to 0.109036\n",
      "0:\tlearn: 1.2778132\ttest: 1.2778132\ttest1: 1.2818718\tbest: 1.2818718 (0)\ttotal: 34.3ms\tremaining: 34.2s\n",
      "Stopped by overfitting detector  (150 iterations wait)\n",
      "\n",
      "bestTest = 0.8080684209\n",
      "bestIteration = 111\n",
      "\n",
      "Shrink model to first 112 iterations.\n",
      "------------------------------\n",
      "Fold 4 started at Tue Aug 23 02:03:31 2022\n",
      "(1630, 18)\n"
     ]
    },
    {
     "data": {
      "application/vnd.jupyter.widget-view+json": {
       "model_id": "15b31d80207d4d98bbe214d444f7352d",
       "version_major": 2,
       "version_minor": 0
      },
      "text/plain": [
       "MetricVisualizer(layout=Layout(align_self='stretch', height='500px'))"
      ]
     },
     "metadata": {},
     "output_type": "display_data"
    },
    {
     "name": "stdout",
     "output_type": "stream",
     "text": [
      "Learning rate set to 0.109036\n",
      "0:\tlearn: 1.2832136\ttest: 1.2832136\ttest1: 1.2877741\tbest: 1.2877741 (0)\ttotal: 32.6ms\tremaining: 32.6s\n",
      "Stopped by overfitting detector  (150 iterations wait)\n",
      "\n",
      "bestTest = 0.8228562524\n",
      "bestIteration = 110\n",
      "\n",
      "Shrink model to first 111 iterations.\n",
      "------------------------------\n",
      "Fold 5 started at Tue Aug 23 02:03:41 2022\n",
      "(2037, 18)\n"
     ]
    },
    {
     "data": {
      "application/vnd.jupyter.widget-view+json": {
       "model_id": "ca26fc115404466d974ef99f5b7c97f9",
       "version_major": 2,
       "version_minor": 0
      },
      "text/plain": [
       "MetricVisualizer(layout=Layout(align_self='stretch', height='500px'))"
      ]
     },
     "metadata": {},
     "output_type": "display_data"
    },
    {
     "name": "stdout",
     "output_type": "stream",
     "text": [
      "Learning rate set to 0.109036\n",
      "0:\tlearn: 1.2794346\ttest: 1.2794346\ttest1: 1.2788632\tbest: 1.2788632 (0)\ttotal: 32.4ms\tremaining: 32.4s\n",
      "Stopped by overfitting detector  (150 iterations wait)\n",
      "\n",
      "bestTest = 0.7755721803\n",
      "bestIteration = 77\n",
      "\n",
      "Shrink model to first 78 iterations.\n",
      "------------------------------\n",
      "catb fold kappa scores: [0.14278249510124097, 0.01686746987951815, 0.10255734247297654, 0.055281856939839, 0.0762284196547145]\n",
      "catb fold kappa scores mean: 0.07874351680965783\n",
      "catb fold f1 scores: [array([0.18181818, 0.27338129, 0.81632653, 0.22222222]), array([0.        , 0.06722689, 0.7987988 , 0.        ]), array([0.        , 0.171875  , 0.80551302, 0.        ]), array([0.        , 0.18439716, 0.79563183, 0.        ]), array([0.        , 0.12598425, 0.80792683, 0.        ])]\n",
      "catb fold f1 scores mean: 0.26255510028237417\n",
      "catb fold precision-micro scores: [array([1.        , 0.57575758, 0.71038251, 0.28571429]), array([0.        , 0.30769231, 0.67341772, 0.        ]), array([0.        , 0.5       , 0.68668407, 0.        ]), array([0.        , 0.36111111, 0.68918919, 0.        ]), array([0.        , 0.36363636, 0.68831169, 0.        ])]\n",
      "catb fold precision-micro scores mean: 0.342094841484988\n",
      "catb fold recall-micro scores: [array([0.1       , 0.17924528, 0.95940959, 0.18181818]), array([0.        , 0.03773585, 0.98154982, 0.        ]), array([0.        , 0.10377358, 0.97407407, 0.        ]), array([0.        , 0.12380952, 0.94095941, 0.        ]), array([0.        , 0.07619048, 0.97785978, 0.        ])]\n",
      "catb fold recall-micro scores mean: 0.2818212785329683\n",
      "catb fold accuracy scores: [0.6936274509803921, 0.6617647058823529, 0.6732186732186732, 0.6584766584766585, 0.6707616707616708]\n",
      "catb fold accuracy scores mean: 0.6715698318639495\n"
     ]
    }
   ],
   "source": [
    "models, oof_pred = oof_trainer(X=tsl_target_data[tsl_target_data.TSV != 2],\n",
    "                    y=tsl_target_data[tsl_target_data.TSV != 2].TSV,\n",
    "                    n_folds = 5,\n",
    "                   # params=params,\n",
    "                    del_cols=['TSV',\n",
    "       'TSL','TCV', 'TSL', 'TPV'],\n",
    "                    cat_features=cat_features.drop(columns=['TSV', 'TPV',\n",
    "       'TSL','TCV', 'TSL']).columns.values.tolist())"
   ]
  },
  {
   "cell_type": "code",
   "execution_count": 35,
   "id": "31a6f5f8-f542-4de6-8038-6ee26caa7eb5",
   "metadata": {
    "id": "31a6f5f8-f542-4de6-8038-6ee26caa7eb5",
    "outputId": "d54ffeaa-0e97-45d0-97ca-81f1534edf5c"
   },
   "outputs": [
    {
     "data": {
      "text/html": [
       "<div>\n",
       "<style scoped>\n",
       "    .dataframe tbody tr th:only-of-type {\n",
       "        vertical-align: middle;\n",
       "    }\n",
       "\n",
       "    .dataframe tbody tr th {\n",
       "        vertical-align: top;\n",
       "    }\n",
       "\n",
       "    .dataframe thead th {\n",
       "        text-align: right;\n",
       "    }\n",
       "</style>\n",
       "<table border=\"1\" class=\"dataframe\">\n",
       "  <thead>\n",
       "    <tr style=\"text-align: right;\">\n",
       "      <th></th>\n",
       "      <th>Feature Id</th>\n",
       "      <th>Importances</th>\n",
       "    </tr>\n",
       "  </thead>\n",
       "  <tbody>\n",
       "    <tr>\n",
       "      <th>0</th>\n",
       "      <td>SwC</td>\n",
       "      <td>26.227470</td>\n",
       "    </tr>\n",
       "    <tr>\n",
       "      <th>1</th>\n",
       "      <td>School</td>\n",
       "      <td>14.897753</td>\n",
       "    </tr>\n",
       "    <tr>\n",
       "      <th>2</th>\n",
       "      <td>SchoolType</td>\n",
       "      <td>11.212376</td>\n",
       "    </tr>\n",
       "    <tr>\n",
       "      <th>3</th>\n",
       "      <td>StartTime</td>\n",
       "      <td>5.857116</td>\n",
       "    </tr>\n",
       "    <tr>\n",
       "      <th>4</th>\n",
       "      <td>IndoorTempDuringSurvey</td>\n",
       "      <td>5.743074</td>\n",
       "    </tr>\n",
       "    <tr>\n",
       "      <th>5</th>\n",
       "      <td>AvgMinDailyTemp</td>\n",
       "      <td>5.522691</td>\n",
       "    </tr>\n",
       "    <tr>\n",
       "      <th>6</th>\n",
       "      <td>Grade</td>\n",
       "      <td>5.265538</td>\n",
       "    </tr>\n",
       "    <tr>\n",
       "      <th>7</th>\n",
       "      <td>MC</td>\n",
       "      <td>4.420758</td>\n",
       "    </tr>\n",
       "    <tr>\n",
       "      <th>8</th>\n",
       "      <td>Age</td>\n",
       "      <td>3.980291</td>\n",
       "    </tr>\n",
       "    <tr>\n",
       "      <th>9</th>\n",
       "      <td>AvgMaxDailyTemp</td>\n",
       "      <td>3.077736</td>\n",
       "    </tr>\n",
       "    <tr>\n",
       "      <th>10</th>\n",
       "      <td>AvgIndoorRelativeHumidity</td>\n",
       "      <td>2.945868</td>\n",
       "    </tr>\n",
       "    <tr>\n",
       "      <th>11</th>\n",
       "      <td>DAY</td>\n",
       "      <td>2.757568</td>\n",
       "    </tr>\n",
       "    <tr>\n",
       "      <th>12</th>\n",
       "      <td>TotalCLOwithChair</td>\n",
       "      <td>2.455796</td>\n",
       "    </tr>\n",
       "    <tr>\n",
       "      <th>13</th>\n",
       "      <td>Gender</td>\n",
       "      <td>2.421906</td>\n",
       "    </tr>\n",
       "    <tr>\n",
       "      <th>14</th>\n",
       "      <td>Stockings</td>\n",
       "      <td>2.089730</td>\n",
       "    </tr>\n",
       "    <tr>\n",
       "      <th>15</th>\n",
       "      <td>Tie</td>\n",
       "      <td>1.124330</td>\n",
       "    </tr>\n",
       "    <tr>\n",
       "      <th>16</th>\n",
       "      <td>FormalClothing</td>\n",
       "      <td>0.000000</td>\n",
       "    </tr>\n",
       "    <tr>\n",
       "      <th>17</th>\n",
       "      <td>Scarf/Cap</td>\n",
       "      <td>0.000000</td>\n",
       "    </tr>\n",
       "  </tbody>\n",
       "</table>\n",
       "</div>"
      ],
      "text/plain": [
       "                   Feature Id  Importances\n",
       "0                         SwC    26.227470\n",
       "1                      School    14.897753\n",
       "2                  SchoolType    11.212376\n",
       "3                   StartTime     5.857116\n",
       "4      IndoorTempDuringSurvey     5.743074\n",
       "5             AvgMinDailyTemp     5.522691\n",
       "6                       Grade     5.265538\n",
       "7                          MC     4.420758\n",
       "8                         Age     3.980291\n",
       "9             AvgMaxDailyTemp     3.077736\n",
       "10  AvgIndoorRelativeHumidity     2.945868\n",
       "11                        DAY     2.757568\n",
       "12          TotalCLOwithChair     2.455796\n",
       "13                     Gender     2.421906\n",
       "14                  Stockings     2.089730\n",
       "15                        Tie     1.124330\n",
       "16             FormalClothing     0.000000\n",
       "17                  Scarf/Cap     0.000000"
      ]
     },
     "execution_count": 35,
     "metadata": {},
     "output_type": "execute_result"
    }
   ],
   "source": [
    "best_gb_model = models[1]\n",
    "best_gb_model.get_feature_importance(prettified=True)"
   ]
  },
  {
   "cell_type": "markdown",
   "id": "78db6a5d-638f-40b0-898b-51628cc40b1b",
   "metadata": {
    "id": "78db6a5d-638f-40b0-898b-51628cc40b1b"
   },
   "source": [
    "# Target: TCV"
   ]
  },
  {
   "cell_type": "code",
   "execution_count": 36,
   "id": "a47e3289-a1d8-42d0-acec-65910b7d28b9",
   "metadata": {
    "colab": {
     "referenced_widgets": [
      "c99bcf1e46934fb6b9152369cc71b5ff",
      "6795ed2248894d9a8b24b648fb825dde",
      "67c0a16d6f97456e90f405cec234315c",
      "573f89aa137542adb20bc53e01fb855a",
      "a101bc33868d408cbff997a490c0401c"
     ]
    },
    "id": "a47e3289-a1d8-42d0-acec-65910b7d28b9",
    "outputId": "6f31d166-8d6e-49d2-c410-aef02360a554"
   },
   "outputs": [
    {
     "name": "stdout",
     "output_type": "stream",
     "text": [
      "Fold 1 started at Tue Aug 23 02:03:50 2022\n",
      "(407, 18)\n"
     ]
    },
    {
     "data": {
      "application/vnd.jupyter.widget-view+json": {
       "model_id": "916bb320b2cf4ca5922805b4f479aa01",
       "version_major": 2,
       "version_minor": 0
      },
      "text/plain": [
       "MetricVisualizer(layout=Layout(align_self='stretch', height='500px'))"
      ]
     },
     "metadata": {},
     "output_type": "display_data"
    },
    {
     "name": "stdout",
     "output_type": "stream",
     "text": [
      "Learning rate set to 0.109031\n",
      "0:\tlearn: 1.4874183\ttest: 1.4874183\ttest1: 1.4881246\tbest: 1.4881246 (0)\ttotal: 39ms\tremaining: 38.9s\n",
      "Stopped by overfitting detector  (150 iterations wait)\n",
      "\n",
      "bestTest = 0.8759446001\n",
      "bestIteration = 117\n",
      "\n",
      "Shrink model to first 118 iterations.\n",
      "------------------------------\n",
      "Fold 2 started at Tue Aug 23 02:04:02 2022\n",
      "(814, 18)\n"
     ]
    },
    {
     "data": {
      "application/vnd.jupyter.widget-view+json": {
       "model_id": "406cf986b08240f4a519ff4d071825a7",
       "version_major": 2,
       "version_minor": 0
      },
      "text/plain": [
       "MetricVisualizer(layout=Layout(align_self='stretch', height='500px'))"
      ]
     },
     "metadata": {},
     "output_type": "display_data"
    },
    {
     "name": "stdout",
     "output_type": "stream",
     "text": [
      "Learning rate set to 0.109031\n",
      "0:\tlearn: 1.4898096\ttest: 1.4898096\ttest1: 1.4939551\tbest: 1.4939551 (0)\ttotal: 50.6ms\tremaining: 50.6s\n",
      "Stopped by overfitting detector  (150 iterations wait)\n",
      "\n",
      "bestTest = 0.9248194762\n",
      "bestIteration = 115\n",
      "\n",
      "Shrink model to first 116 iterations.\n",
      "------------------------------\n",
      "Fold 3 started at Tue Aug 23 02:04:14 2022\n",
      "(1221, 18)\n"
     ]
    },
    {
     "data": {
      "application/vnd.jupyter.widget-view+json": {
       "model_id": "de6210da56c648829e49b448a52d3ba1",
       "version_major": 2,
       "version_minor": 0
      },
      "text/plain": [
       "MetricVisualizer(layout=Layout(align_self='stretch', height='500px'))"
      ]
     },
     "metadata": {},
     "output_type": "display_data"
    },
    {
     "name": "stdout",
     "output_type": "stream",
     "text": [
      "Learning rate set to 0.109031\n",
      "0:\tlearn: 1.4893028\ttest: 1.4893028\ttest1: 1.4943083\tbest: 1.4943083 (0)\ttotal: 60.5ms\tremaining: 1m\n",
      "Stopped by overfitting detector  (150 iterations wait)\n",
      "\n",
      "bestTest = 0.9286420173\n",
      "bestIteration = 134\n",
      "\n",
      "Shrink model to first 135 iterations.\n",
      "------------------------------\n",
      "Fold 4 started at Tue Aug 23 02:04:27 2022\n",
      "(1627, 18)\n"
     ]
    },
    {
     "data": {
      "application/vnd.jupyter.widget-view+json": {
       "model_id": "500529c56e78430f97ba26220a01c22b",
       "version_major": 2,
       "version_minor": 0
      },
      "text/plain": [
       "MetricVisualizer(layout=Layout(align_self='stretch', height='500px'))"
      ]
     },
     "metadata": {},
     "output_type": "display_data"
    },
    {
     "name": "stdout",
     "output_type": "stream",
     "text": [
      "Learning rate set to 0.109032\n",
      "0:\tlearn: 1.4886198\ttest: 1.4884726\ttest1: 1.4912027\tbest: 1.4912027 (0)\ttotal: 37ms\tremaining: 37s\n",
      "Stopped by overfitting detector  (150 iterations wait)\n",
      "\n",
      "bestTest = 0.8921621226\n",
      "bestIteration = 102\n",
      "\n",
      "Shrink model to first 103 iterations.\n",
      "------------------------------\n",
      "Fold 5 started at Tue Aug 23 02:04:38 2022\n",
      "(2033, 18)\n"
     ]
    },
    {
     "data": {
      "application/vnd.jupyter.widget-view+json": {
       "model_id": "1062a3e3f3304c95aec61c77d91ea226",
       "version_major": 2,
       "version_minor": 0
      },
      "text/plain": [
       "MetricVisualizer(layout=Layout(align_self='stretch', height='500px'))"
      ]
     },
     "metadata": {},
     "output_type": "display_data"
    },
    {
     "name": "stdout",
     "output_type": "stream",
     "text": [
      "Learning rate set to 0.109032\n",
      "0:\tlearn: 1.4903635\ttest: 1.4901519\ttest1: 1.4899813\tbest: 1.4899813 (0)\ttotal: 40.3ms\tremaining: 40.2s\n",
      "Stopped by overfitting detector  (150 iterations wait)\n",
      "\n",
      "bestTest = 0.8721255859\n",
      "bestIteration = 123\n",
      "\n",
      "Shrink model to first 124 iterations.\n",
      "------------------------------\n",
      "catb fold kappa scores: [0.13062334131659004, 0.11522705672867894, 0.06864988558352392, 0.11395033477413352, 0.08030724651013044]\n",
      "catb fold kappa scores mean: 0.10175157298261137\n",
      "catb fold f1 scores: [array([0.        , 0.        , 0.04347826, 0.74371859, 0.3253012 ]), array([0.       , 0.       , 0.       , 0.7454844, 0.2875817]), array([0.        , 0.        , 0.        , 0.72696817, 0.25301205]), array([0.        , 0.        , 0.        , 0.71821306, 0.30939227]), array([0.        , 0.        , 0.04166667, 0.75649351, 0.23776224])]\n",
      "catb fold f1 scores mean: 0.20756288462356148\n",
      "catb fold precision-micro scores: [array([0.        , 0.        , 1.        , 0.62535211, 0.52941176]), array([0.        , 0.        , 0.        , 0.61852861, 0.57894737]), array([0.        , 0.        , 0.        , 0.61126761, 0.41176471]), array([0.        , 0.        , 0.        , 0.61470588, 0.42424242]), array([0.        , 0.        , 0.25      , 0.62133333, 0.62962963])]\n",
      "catb fold precision-micro scores mean: 0.27660733748926797\n",
      "catb fold recall-micro scores: [array([0.        , 0.        , 0.02222222, 0.91735537, 0.23478261]), array([0.        , 0.        , 0.        , 0.93801653, 0.19130435]), array([0.        , 0.        , 0.        , 0.89669421, 0.1826087 ]), array([0.        , 0.        , 0.        , 0.86363636, 0.24347826]), array([0.        , 0.        , 0.02272727, 0.96680498, 0.14655172])]\n",
      "catb fold recall-micro scores mean: 0.22504730362891434\n",
      "catb fold accuracy scores: [0.6142506142506142, 0.6117936117936118, 0.5847665847665847, 0.583743842364532, 0.6182266009852216]\n",
      "catb fold accuracy scores mean: 0.6025562508321128\n"
     ]
    }
   ],
   "source": [
    "models, oof_pred = oof_trainer(X=tsl_target_data[tsl_target_data.TCV != -3],\n",
    "                    y=tsl_target_data[tsl_target_data.TCV != -3].TCV,\n",
    "                    n_folds = 5,\n",
    "                   # params=params,\n",
    "                    del_cols=['TSV',\n",
    "       'TSL','TCV', 'TSL', 'TPV'],\n",
    "                    cat_features=cat_features.drop(columns=['TSV', 'TPV',\n",
    "       'TSL','TCV', 'TSL']).columns.values.tolist())"
   ]
  },
  {
   "cell_type": "code",
   "execution_count": 37,
   "id": "44302a28-73ad-481f-bb2c-157ee3b5632d",
   "metadata": {
    "id": "44302a28-73ad-481f-bb2c-157ee3b5632d",
    "outputId": "217a9b68-a9b6-45ef-8a14-bdf111477f7e"
   },
   "outputs": [
    {
     "data": {
      "text/html": [
       "<div>\n",
       "<style scoped>\n",
       "    .dataframe tbody tr th:only-of-type {\n",
       "        vertical-align: middle;\n",
       "    }\n",
       "\n",
       "    .dataframe tbody tr th {\n",
       "        vertical-align: top;\n",
       "    }\n",
       "\n",
       "    .dataframe thead th {\n",
       "        text-align: right;\n",
       "    }\n",
       "</style>\n",
       "<table border=\"1\" class=\"dataframe\">\n",
       "  <thead>\n",
       "    <tr style=\"text-align: right;\">\n",
       "      <th></th>\n",
       "      <th>Feature Id</th>\n",
       "      <th>Importances</th>\n",
       "    </tr>\n",
       "  </thead>\n",
       "  <tbody>\n",
       "    <tr>\n",
       "      <th>0</th>\n",
       "      <td>Grade</td>\n",
       "      <td>15.971586</td>\n",
       "    </tr>\n",
       "    <tr>\n",
       "      <th>1</th>\n",
       "      <td>School</td>\n",
       "      <td>15.917892</td>\n",
       "    </tr>\n",
       "    <tr>\n",
       "      <th>2</th>\n",
       "      <td>TotalCLOwithChair</td>\n",
       "      <td>9.721556</td>\n",
       "    </tr>\n",
       "    <tr>\n",
       "      <th>3</th>\n",
       "      <td>DAY</td>\n",
       "      <td>9.697439</td>\n",
       "    </tr>\n",
       "    <tr>\n",
       "      <th>4</th>\n",
       "      <td>AvgIndoorRelativeHumidity</td>\n",
       "      <td>6.664651</td>\n",
       "    </tr>\n",
       "    <tr>\n",
       "      <th>5</th>\n",
       "      <td>IndoorTempDuringSurvey</td>\n",
       "      <td>6.405306</td>\n",
       "    </tr>\n",
       "    <tr>\n",
       "      <th>6</th>\n",
       "      <td>SwC</td>\n",
       "      <td>5.970547</td>\n",
       "    </tr>\n",
       "    <tr>\n",
       "      <th>7</th>\n",
       "      <td>MC</td>\n",
       "      <td>5.392499</td>\n",
       "    </tr>\n",
       "    <tr>\n",
       "      <th>8</th>\n",
       "      <td>AvgMinDailyTemp</td>\n",
       "      <td>5.076950</td>\n",
       "    </tr>\n",
       "    <tr>\n",
       "      <th>9</th>\n",
       "      <td>Age</td>\n",
       "      <td>3.976013</td>\n",
       "    </tr>\n",
       "    <tr>\n",
       "      <th>10</th>\n",
       "      <td>SchoolType</td>\n",
       "      <td>3.462077</td>\n",
       "    </tr>\n",
       "    <tr>\n",
       "      <th>11</th>\n",
       "      <td>AvgMaxDailyTemp</td>\n",
       "      <td>3.402524</td>\n",
       "    </tr>\n",
       "    <tr>\n",
       "      <th>12</th>\n",
       "      <td>Gender</td>\n",
       "      <td>3.332412</td>\n",
       "    </tr>\n",
       "    <tr>\n",
       "      <th>13</th>\n",
       "      <td>StartTime</td>\n",
       "      <td>2.300156</td>\n",
       "    </tr>\n",
       "    <tr>\n",
       "      <th>14</th>\n",
       "      <td>Tie</td>\n",
       "      <td>1.417512</td>\n",
       "    </tr>\n",
       "    <tr>\n",
       "      <th>15</th>\n",
       "      <td>Scarf/Cap</td>\n",
       "      <td>0.860958</td>\n",
       "    </tr>\n",
       "    <tr>\n",
       "      <th>16</th>\n",
       "      <td>FormalClothing</td>\n",
       "      <td>0.234803</td>\n",
       "    </tr>\n",
       "    <tr>\n",
       "      <th>17</th>\n",
       "      <td>Stockings</td>\n",
       "      <td>0.195118</td>\n",
       "    </tr>\n",
       "  </tbody>\n",
       "</table>\n",
       "</div>"
      ],
      "text/plain": [
       "                   Feature Id  Importances\n",
       "0                       Grade    15.971586\n",
       "1                      School    15.917892\n",
       "2           TotalCLOwithChair     9.721556\n",
       "3                         DAY     9.697439\n",
       "4   AvgIndoorRelativeHumidity     6.664651\n",
       "5      IndoorTempDuringSurvey     6.405306\n",
       "6                         SwC     5.970547\n",
       "7                          MC     5.392499\n",
       "8             AvgMinDailyTemp     5.076950\n",
       "9                         Age     3.976013\n",
       "10                 SchoolType     3.462077\n",
       "11            AvgMaxDailyTemp     3.402524\n",
       "12                     Gender     3.332412\n",
       "13                  StartTime     2.300156\n",
       "14                        Tie     1.417512\n",
       "15                  Scarf/Cap     0.860958\n",
       "16             FormalClothing     0.234803\n",
       "17                  Stockings     0.195118"
      ]
     },
     "execution_count": 37,
     "metadata": {},
     "output_type": "execute_result"
    }
   ],
   "source": [
    "best_gb_model = models[0]\n",
    "best_gb_model.get_feature_importance(prettified=True)"
   ]
  },
  {
   "cell_type": "code",
   "execution_count": null,
   "id": "5f9e868f-5092-4bb7-9a00-6cc13baf7db2",
   "metadata": {
    "id": "5f9e868f-5092-4bb7-9a00-6cc13baf7db2"
   },
   "outputs": [],
   "source": []
  }
 ],
 "metadata": {
  "colab": {
   "name": "IndividualClothingBinary.ipynb",
   "provenance": []
  },
  "kernelspec": {
   "display_name": "Python 3",
   "language": "python",
   "name": "python3"
  },
  "language_info": {
   "codemirror_mode": {
    "name": "ipython",
    "version": 3
   },
   "file_extension": ".py",
   "mimetype": "text/x-python",
   "name": "python",
   "nbconvert_exporter": "python",
   "pygments_lexer": "ipython3",
   "version": "3.8.10"
  }
 },
 "nbformat": 4,
 "nbformat_minor": 5
}
