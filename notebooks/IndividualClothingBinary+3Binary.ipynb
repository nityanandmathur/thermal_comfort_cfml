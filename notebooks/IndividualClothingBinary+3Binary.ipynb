{
 "cells": [
  {
   "cell_type": "code",
   "execution_count": 1,
   "id": "b72f29b5-a7f2-40d3-bd3c-ad1d7af71f85",
   "metadata": {
    "id": "b72f29b5-a7f2-40d3-bd3c-ad1d7af71f85"
   },
   "outputs": [],
   "source": [
    "# !pip install catboost"
   ]
  },
  {
   "cell_type": "code",
   "execution_count": 2,
   "id": "29415f20-1f94-4ebb-8ef6-e565d81f90af",
   "metadata": {
    "id": "29415f20-1f94-4ebb-8ef6-e565d81f90af"
   },
   "outputs": [],
   "source": [
    "#import basic modules\n",
    "import numpy as np\n",
    "import pandas as pd\n",
    "import seaborn as sns\n",
    "import matplotlib.pyplot as plt\n",
    "\n",
    "import warnings\n",
    "import time\n",
    "import seaborn as sns\n",
    "\n",
    "warnings.filterwarnings(\"ignore\") \n",
    "pd.set_option('max_rows', 500) "
   ]
  },
  {
   "cell_type": "code",
   "execution_count": null,
   "id": "07f4ecbc",
   "metadata": {},
   "outputs": [],
   "source": []
  },
  {
   "cell_type": "markdown",
   "id": "76765057-8667-4c44-84b3-e7c7d6de1968",
   "metadata": {
    "id": "76765057-8667-4c44-84b3-e7c7d6de1968"
   },
   "source": [
    "# Exploratory Data Analysis\n",
    "## 1. Getting the data"
   ]
  },
  {
   "cell_type": "code",
   "execution_count": 3,
   "id": "b6dc8743-ab71-4588-a734-d2d804c83da6",
   "metadata": {
    "id": "b6dc8743-ab71-4588-a734-d2d804c83da6"
   },
   "outputs": [],
   "source": [
    "winter_data = pd.read_csv(\n",
    "    'P:/Betty/Clothing_Jayson/IndividualClothingBinary+3Binary.csv', index_col=0)\n"
   ]
  },
  {
   "cell_type": "code",
   "execution_count": null,
   "id": "55c82a74",
   "metadata": {},
   "outputs": [],
   "source": []
  },
  {
   "cell_type": "code",
   "execution_count": null,
   "id": "e7b6a00f",
   "metadata": {},
   "outputs": [],
   "source": []
  },
  {
   "cell_type": "code",
   "execution_count": null,
   "id": "2418770b",
   "metadata": {},
   "outputs": [],
   "source": []
  },
  {
   "cell_type": "code",
   "execution_count": 4,
   "id": "c7755964-b8ea-423a-a81d-45b77b022f3c",
   "metadata": {
    "id": "c7755964-b8ea-423a-a81d-45b77b022f3c",
    "outputId": "810611be-df3e-41bb-cbbc-d42f8d3d6020"
   },
   "outputs": [
    {
     "data": {
      "text/plain": [
       "(2038, 34)"
      ]
     },
     "execution_count": 4,
     "metadata": {},
     "output_type": "execute_result"
    }
   ],
   "source": [
    "winter_data.shape"
   ]
  },
  {
   "cell_type": "code",
   "execution_count": 5,
   "id": "7677f554-984b-4420-8c91-5fa27aa9538e",
   "metadata": {
    "id": "7677f554-984b-4420-8c91-5fa27aa9538e",
    "outputId": "dd246ae7-f1c8-4b0d-d6ee-6e842147df7d"
   },
   "outputs": [
    {
     "data": {
      "text/html": [
       "<div>\n",
       "<style scoped>\n",
       "    .dataframe tbody tr th:only-of-type {\n",
       "        vertical-align: middle;\n",
       "    }\n",
       "\n",
       "    .dataframe tbody tr th {\n",
       "        vertical-align: top;\n",
       "    }\n",
       "\n",
       "    .dataframe thead th {\n",
       "        text-align: right;\n",
       "    }\n",
       "</style>\n",
       "<table border=\"1\" class=\"dataframe\">\n",
       "  <thead>\n",
       "    <tr style=\"text-align: right;\">\n",
       "      <th></th>\n",
       "      <th>DAY</th>\n",
       "      <th>School</th>\n",
       "      <th>SchoolType</th>\n",
       "      <th>StartTime</th>\n",
       "      <th>AvgMaxDailyTemp</th>\n",
       "      <th>AvgMinDailyTemp</th>\n",
       "      <th>AvgIndoorRelativeHumidity</th>\n",
       "      <th>IndoorTempDuringSurvey</th>\n",
       "      <th>Grade</th>\n",
       "      <th>Age</th>\n",
       "      <th>...</th>\n",
       "      <th>Socks</th>\n",
       "      <th>Thermal</th>\n",
       "      <th>Vest</th>\n",
       "      <th>FullSweater</th>\n",
       "      <th>SwC</th>\n",
       "      <th>TSV</th>\n",
       "      <th>TPV</th>\n",
       "      <th>TCV</th>\n",
       "      <th>TSL</th>\n",
       "      <th>MC</th>\n",
       "    </tr>\n",
       "    <tr>\n",
       "      <th>SNo</th>\n",
       "      <th></th>\n",
       "      <th></th>\n",
       "      <th></th>\n",
       "      <th></th>\n",
       "      <th></th>\n",
       "      <th></th>\n",
       "      <th></th>\n",
       "      <th></th>\n",
       "      <th></th>\n",
       "      <th></th>\n",
       "      <th></th>\n",
       "      <th></th>\n",
       "      <th></th>\n",
       "      <th></th>\n",
       "      <th></th>\n",
       "      <th></th>\n",
       "      <th></th>\n",
       "      <th></th>\n",
       "      <th></th>\n",
       "      <th></th>\n",
       "      <th></th>\n",
       "    </tr>\n",
       "  </thead>\n",
       "  <tbody>\n",
       "    <tr>\n",
       "      <th>1</th>\n",
       "      <td>1</td>\n",
       "      <td>1</td>\n",
       "      <td>0</td>\n",
       "      <td>3</td>\n",
       "      <td>22.2</td>\n",
       "      <td>5.1</td>\n",
       "      <td>55.1</td>\n",
       "      <td>14.5</td>\n",
       "      <td>3</td>\n",
       "      <td>8</td>\n",
       "      <td>...</td>\n",
       "      <td>1.0</td>\n",
       "      <td>1</td>\n",
       "      <td>1</td>\n",
       "      <td>1.0</td>\n",
       "      <td>1</td>\n",
       "      <td>-1</td>\n",
       "      <td>2</td>\n",
       "      <td>2</td>\n",
       "      <td>1</td>\n",
       "      <td>2</td>\n",
       "    </tr>\n",
       "    <tr>\n",
       "      <th>2</th>\n",
       "      <td>1</td>\n",
       "      <td>1</td>\n",
       "      <td>0</td>\n",
       "      <td>3</td>\n",
       "      <td>22.2</td>\n",
       "      <td>5.1</td>\n",
       "      <td>55.1</td>\n",
       "      <td>14.5</td>\n",
       "      <td>3</td>\n",
       "      <td>8</td>\n",
       "      <td>...</td>\n",
       "      <td>1.0</td>\n",
       "      <td>1</td>\n",
       "      <td>1</td>\n",
       "      <td>0.0</td>\n",
       "      <td>1</td>\n",
       "      <td>-1</td>\n",
       "      <td>2</td>\n",
       "      <td>3</td>\n",
       "      <td>1</td>\n",
       "      <td>2</td>\n",
       "    </tr>\n",
       "    <tr>\n",
       "      <th>3</th>\n",
       "      <td>1</td>\n",
       "      <td>1</td>\n",
       "      <td>0</td>\n",
       "      <td>3</td>\n",
       "      <td>22.2</td>\n",
       "      <td>5.1</td>\n",
       "      <td>55.1</td>\n",
       "      <td>14.5</td>\n",
       "      <td>3</td>\n",
       "      <td>8</td>\n",
       "      <td>...</td>\n",
       "      <td>1.0</td>\n",
       "      <td>1</td>\n",
       "      <td>1</td>\n",
       "      <td>0.0</td>\n",
       "      <td>2</td>\n",
       "      <td>0</td>\n",
       "      <td>1</td>\n",
       "      <td>2</td>\n",
       "      <td>3</td>\n",
       "      <td>4</td>\n",
       "    </tr>\n",
       "    <tr>\n",
       "      <th>4</th>\n",
       "      <td>1</td>\n",
       "      <td>1</td>\n",
       "      <td>0</td>\n",
       "      <td>3</td>\n",
       "      <td>22.2</td>\n",
       "      <td>5.1</td>\n",
       "      <td>55.1</td>\n",
       "      <td>14.5</td>\n",
       "      <td>3</td>\n",
       "      <td>10</td>\n",
       "      <td>...</td>\n",
       "      <td>1.0</td>\n",
       "      <td>1</td>\n",
       "      <td>1</td>\n",
       "      <td>0.0</td>\n",
       "      <td>2</td>\n",
       "      <td>0</td>\n",
       "      <td>0</td>\n",
       "      <td>2</td>\n",
       "      <td>2</td>\n",
       "      <td>4</td>\n",
       "    </tr>\n",
       "    <tr>\n",
       "      <th>5</th>\n",
       "      <td>1</td>\n",
       "      <td>1</td>\n",
       "      <td>0</td>\n",
       "      <td>3</td>\n",
       "      <td>22.2</td>\n",
       "      <td>5.1</td>\n",
       "      <td>55.1</td>\n",
       "      <td>14.5</td>\n",
       "      <td>3</td>\n",
       "      <td>9</td>\n",
       "      <td>...</td>\n",
       "      <td>1.0</td>\n",
       "      <td>1</td>\n",
       "      <td>1</td>\n",
       "      <td>0.0</td>\n",
       "      <td>2</td>\n",
       "      <td>0</td>\n",
       "      <td>1</td>\n",
       "      <td>2</td>\n",
       "      <td>2</td>\n",
       "      <td>2</td>\n",
       "    </tr>\n",
       "  </tbody>\n",
       "</table>\n",
       "<p>5 rows × 34 columns</p>\n",
       "</div>"
      ],
      "text/plain": [
       "     DAY  School  SchoolType  StartTime  AvgMaxDailyTemp  AvgMinDailyTemp  \\\n",
       "SNo                                                                         \n",
       "1      1       1           0          3             22.2              5.1   \n",
       "2      1       1           0          3             22.2              5.1   \n",
       "3      1       1           0          3             22.2              5.1   \n",
       "4      1       1           0          3             22.2              5.1   \n",
       "5      1       1           0          3             22.2              5.1   \n",
       "\n",
       "     AvgIndoorRelativeHumidity  IndoorTempDuringSurvey  Grade  Age  ...  \\\n",
       "SNo                                                                 ...   \n",
       "1                         55.1                    14.5      3    8  ...   \n",
       "2                         55.1                    14.5      3    8  ...   \n",
       "3                         55.1                    14.5      3    8  ...   \n",
       "4                         55.1                    14.5      3   10  ...   \n",
       "5                         55.1                    14.5      3    9  ...   \n",
       "\n",
       "     Socks  Thermal  Vest  FullSweater  SwC  TSV  TPV  TCV  TSL  MC  \n",
       "SNo                                                                  \n",
       "1      1.0        1     1          1.0    1   -1    2    2    1   2  \n",
       "2      1.0        1     1          0.0    1   -1    2    3    1   2  \n",
       "3      1.0        1     1          0.0    2    0    1    2    3   4  \n",
       "4      1.0        1     1          0.0    2    0    0    2    2   4  \n",
       "5      1.0        1     1          0.0    2    0    1    2    2   2  \n",
       "\n",
       "[5 rows x 34 columns]"
      ]
     },
     "execution_count": 5,
     "metadata": {},
     "output_type": "execute_result"
    }
   ],
   "source": [
    "winter_data.head()"
   ]
  },
  {
   "cell_type": "code",
   "execution_count": 6,
   "id": "987ac98f-93cd-47f6-9aaf-be750d9f700f",
   "metadata": {
    "id": "987ac98f-93cd-47f6-9aaf-be750d9f700f",
    "outputId": "35c52902-6f97-4086-c94c-a561c2c4bd0c"
   },
   "outputs": [
    {
     "data": {
      "text/html": [
       "<div>\n",
       "<style scoped>\n",
       "    .dataframe tbody tr th:only-of-type {\n",
       "        vertical-align: middle;\n",
       "    }\n",
       "\n",
       "    .dataframe tbody tr th {\n",
       "        vertical-align: top;\n",
       "    }\n",
       "\n",
       "    .dataframe thead th {\n",
       "        text-align: right;\n",
       "    }\n",
       "</style>\n",
       "<table border=\"1\" class=\"dataframe\">\n",
       "  <thead>\n",
       "    <tr style=\"text-align: right;\">\n",
       "      <th></th>\n",
       "      <th>DAY</th>\n",
       "      <th>School</th>\n",
       "      <th>SchoolType</th>\n",
       "      <th>StartTime</th>\n",
       "      <th>AvgMaxDailyTemp</th>\n",
       "      <th>AvgMinDailyTemp</th>\n",
       "      <th>AvgIndoorRelativeHumidity</th>\n",
       "      <th>IndoorTempDuringSurvey</th>\n",
       "      <th>Grade</th>\n",
       "      <th>Age</th>\n",
       "      <th>...</th>\n",
       "      <th>Socks</th>\n",
       "      <th>Thermal</th>\n",
       "      <th>Vest</th>\n",
       "      <th>FullSweater</th>\n",
       "      <th>SwC</th>\n",
       "      <th>TSV</th>\n",
       "      <th>TPV</th>\n",
       "      <th>TCV</th>\n",
       "      <th>TSL</th>\n",
       "      <th>MC</th>\n",
       "    </tr>\n",
       "  </thead>\n",
       "  <tbody>\n",
       "    <tr>\n",
       "      <th>count</th>\n",
       "      <td>2038.000000</td>\n",
       "      <td>2038.000000</td>\n",
       "      <td>2038.000000</td>\n",
       "      <td>2038.000000</td>\n",
       "      <td>2038.000000</td>\n",
       "      <td>2038.000000</td>\n",
       "      <td>2038.000000</td>\n",
       "      <td>2038.000000</td>\n",
       "      <td>2038.000000</td>\n",
       "      <td>2038.000000</td>\n",
       "      <td>...</td>\n",
       "      <td>2037.0</td>\n",
       "      <td>2038.000000</td>\n",
       "      <td>2038.000000</td>\n",
       "      <td>2037.000000</td>\n",
       "      <td>2038.000000</td>\n",
       "      <td>2038.000000</td>\n",
       "      <td>2038.000000</td>\n",
       "      <td>2038.000000</td>\n",
       "      <td>2038.000000</td>\n",
       "      <td>2038.000000</td>\n",
       "    </tr>\n",
       "    <tr>\n",
       "      <th>mean</th>\n",
       "      <td>2.732581</td>\n",
       "      <td>2.709519</td>\n",
       "      <td>0.733562</td>\n",
       "      <td>2.299313</td>\n",
       "      <td>21.217076</td>\n",
       "      <td>6.254809</td>\n",
       "      <td>61.204711</td>\n",
       "      <td>14.496075</td>\n",
       "      <td>3.947007</td>\n",
       "      <td>9.524043</td>\n",
       "      <td>...</td>\n",
       "      <td>1.0</td>\n",
       "      <td>0.584887</td>\n",
       "      <td>0.591757</td>\n",
       "      <td>0.464899</td>\n",
       "      <td>1.965653</td>\n",
       "      <td>-0.326300</td>\n",
       "      <td>0.693817</td>\n",
       "      <td>2.119235</td>\n",
       "      <td>1.996075</td>\n",
       "      <td>3.572620</td>\n",
       "    </tr>\n",
       "    <tr>\n",
       "      <th>std</th>\n",
       "      <td>1.309543</td>\n",
       "      <td>1.285857</td>\n",
       "      <td>0.442204</td>\n",
       "      <td>1.252473</td>\n",
       "      <td>1.744861</td>\n",
       "      <td>1.715494</td>\n",
       "      <td>7.081575</td>\n",
       "      <td>1.203274</td>\n",
       "      <td>0.797110</td>\n",
       "      <td>1.049188</td>\n",
       "      <td>...</td>\n",
       "      <td>0.0</td>\n",
       "      <td>0.492862</td>\n",
       "      <td>0.491629</td>\n",
       "      <td>0.498889</td>\n",
       "      <td>0.301848</td>\n",
       "      <td>0.612427</td>\n",
       "      <td>0.691821</td>\n",
       "      <td>0.766258</td>\n",
       "      <td>0.822478</td>\n",
       "      <td>1.014077</td>\n",
       "    </tr>\n",
       "    <tr>\n",
       "      <th>min</th>\n",
       "      <td>1.000000</td>\n",
       "      <td>1.000000</td>\n",
       "      <td>0.000000</td>\n",
       "      <td>1.000000</td>\n",
       "      <td>17.600000</td>\n",
       "      <td>4.200000</td>\n",
       "      <td>44.230000</td>\n",
       "      <td>12.800000</td>\n",
       "      <td>3.000000</td>\n",
       "      <td>6.000000</td>\n",
       "      <td>...</td>\n",
       "      <td>1.0</td>\n",
       "      <td>0.000000</td>\n",
       "      <td>0.000000</td>\n",
       "      <td>0.000000</td>\n",
       "      <td>1.000000</td>\n",
       "      <td>-2.000000</td>\n",
       "      <td>-1.000000</td>\n",
       "      <td>-3.000000</td>\n",
       "      <td>-2.000000</td>\n",
       "      <td>1.000000</td>\n",
       "    </tr>\n",
       "    <tr>\n",
       "      <th>25%</th>\n",
       "      <td>2.000000</td>\n",
       "      <td>1.000000</td>\n",
       "      <td>0.000000</td>\n",
       "      <td>1.000000</td>\n",
       "      <td>20.500000</td>\n",
       "      <td>5.000000</td>\n",
       "      <td>58.200000</td>\n",
       "      <td>13.600000</td>\n",
       "      <td>3.000000</td>\n",
       "      <td>9.000000</td>\n",
       "      <td>...</td>\n",
       "      <td>1.0</td>\n",
       "      <td>0.000000</td>\n",
       "      <td>0.000000</td>\n",
       "      <td>0.000000</td>\n",
       "      <td>2.000000</td>\n",
       "      <td>-1.000000</td>\n",
       "      <td>0.000000</td>\n",
       "      <td>2.000000</td>\n",
       "      <td>2.000000</td>\n",
       "      <td>4.000000</td>\n",
       "    </tr>\n",
       "    <tr>\n",
       "      <th>50%</th>\n",
       "      <td>3.000000</td>\n",
       "      <td>3.000000</td>\n",
       "      <td>1.000000</td>\n",
       "      <td>2.000000</td>\n",
       "      <td>21.200000</td>\n",
       "      <td>5.600000</td>\n",
       "      <td>60.600000</td>\n",
       "      <td>14.100000</td>\n",
       "      <td>4.000000</td>\n",
       "      <td>10.000000</td>\n",
       "      <td>...</td>\n",
       "      <td>1.0</td>\n",
       "      <td>1.000000</td>\n",
       "      <td>1.000000</td>\n",
       "      <td>0.000000</td>\n",
       "      <td>2.000000</td>\n",
       "      <td>0.000000</td>\n",
       "      <td>1.000000</td>\n",
       "      <td>2.000000</td>\n",
       "      <td>2.000000</td>\n",
       "      <td>4.000000</td>\n",
       "    </tr>\n",
       "    <tr>\n",
       "      <th>75%</th>\n",
       "      <td>4.000000</td>\n",
       "      <td>4.000000</td>\n",
       "      <td>1.000000</td>\n",
       "      <td>3.000000</td>\n",
       "      <td>22.400000</td>\n",
       "      <td>6.600000</td>\n",
       "      <td>65.400000</td>\n",
       "      <td>15.100000</td>\n",
       "      <td>5.000000</td>\n",
       "      <td>10.000000</td>\n",
       "      <td>...</td>\n",
       "      <td>1.0</td>\n",
       "      <td>1.000000</td>\n",
       "      <td>1.000000</td>\n",
       "      <td>1.000000</td>\n",
       "      <td>2.000000</td>\n",
       "      <td>0.000000</td>\n",
       "      <td>1.000000</td>\n",
       "      <td>3.000000</td>\n",
       "      <td>2.000000</td>\n",
       "      <td>4.000000</td>\n",
       "    </tr>\n",
       "    <tr>\n",
       "      <th>max</th>\n",
       "      <td>5.000000</td>\n",
       "      <td>5.000000</td>\n",
       "      <td>1.000000</td>\n",
       "      <td>6.000000</td>\n",
       "      <td>24.200000</td>\n",
       "      <td>10.100000</td>\n",
       "      <td>75.600000</td>\n",
       "      <td>17.500000</td>\n",
       "      <td>5.000000</td>\n",
       "      <td>13.000000</td>\n",
       "      <td>...</td>\n",
       "      <td>1.0</td>\n",
       "      <td>1.000000</td>\n",
       "      <td>1.000000</td>\n",
       "      <td>1.000000</td>\n",
       "      <td>3.000000</td>\n",
       "      <td>2.000000</td>\n",
       "      <td>2.000000</td>\n",
       "      <td>3.000000</td>\n",
       "      <td>3.000000</td>\n",
       "      <td>4.000000</td>\n",
       "    </tr>\n",
       "  </tbody>\n",
       "</table>\n",
       "<p>8 rows × 34 columns</p>\n",
       "</div>"
      ],
      "text/plain": [
       "               DAY       School   SchoolType    StartTime  AvgMaxDailyTemp  \\\n",
       "count  2038.000000  2038.000000  2038.000000  2038.000000      2038.000000   \n",
       "mean      2.732581     2.709519     0.733562     2.299313        21.217076   \n",
       "std       1.309543     1.285857     0.442204     1.252473         1.744861   \n",
       "min       1.000000     1.000000     0.000000     1.000000        17.600000   \n",
       "25%       2.000000     1.000000     0.000000     1.000000        20.500000   \n",
       "50%       3.000000     3.000000     1.000000     2.000000        21.200000   \n",
       "75%       4.000000     4.000000     1.000000     3.000000        22.400000   \n",
       "max       5.000000     5.000000     1.000000     6.000000        24.200000   \n",
       "\n",
       "       AvgMinDailyTemp  AvgIndoorRelativeHumidity  IndoorTempDuringSurvey  \\\n",
       "count      2038.000000                2038.000000             2038.000000   \n",
       "mean          6.254809                  61.204711               14.496075   \n",
       "std           1.715494                   7.081575                1.203274   \n",
       "min           4.200000                  44.230000               12.800000   \n",
       "25%           5.000000                  58.200000               13.600000   \n",
       "50%           5.600000                  60.600000               14.100000   \n",
       "75%           6.600000                  65.400000               15.100000   \n",
       "max          10.100000                  75.600000               17.500000   \n",
       "\n",
       "             Grade          Age  ...   Socks      Thermal         Vest  \\\n",
       "count  2038.000000  2038.000000  ...  2037.0  2038.000000  2038.000000   \n",
       "mean      3.947007     9.524043  ...     1.0     0.584887     0.591757   \n",
       "std       0.797110     1.049188  ...     0.0     0.492862     0.491629   \n",
       "min       3.000000     6.000000  ...     1.0     0.000000     0.000000   \n",
       "25%       3.000000     9.000000  ...     1.0     0.000000     0.000000   \n",
       "50%       4.000000    10.000000  ...     1.0     1.000000     1.000000   \n",
       "75%       5.000000    10.000000  ...     1.0     1.000000     1.000000   \n",
       "max       5.000000    13.000000  ...     1.0     1.000000     1.000000   \n",
       "\n",
       "       FullSweater          SwC          TSV          TPV          TCV  \\\n",
       "count  2037.000000  2038.000000  2038.000000  2038.000000  2038.000000   \n",
       "mean      0.464899     1.965653    -0.326300     0.693817     2.119235   \n",
       "std       0.498889     0.301848     0.612427     0.691821     0.766258   \n",
       "min       0.000000     1.000000    -2.000000    -1.000000    -3.000000   \n",
       "25%       0.000000     2.000000    -1.000000     0.000000     2.000000   \n",
       "50%       0.000000     2.000000     0.000000     1.000000     2.000000   \n",
       "75%       1.000000     2.000000     0.000000     1.000000     3.000000   \n",
       "max       1.000000     3.000000     2.000000     2.000000     3.000000   \n",
       "\n",
       "               TSL           MC  \n",
       "count  2038.000000  2038.000000  \n",
       "mean      1.996075     3.572620  \n",
       "std       0.822478     1.014077  \n",
       "min      -2.000000     1.000000  \n",
       "25%       2.000000     4.000000  \n",
       "50%       2.000000     4.000000  \n",
       "75%       2.000000     4.000000  \n",
       "max       3.000000     4.000000  \n",
       "\n",
       "[8 rows x 34 columns]"
      ]
     },
     "execution_count": 6,
     "metadata": {},
     "output_type": "execute_result"
    }
   ],
   "source": [
    "winter_data.describe()"
   ]
  },
  {
   "cell_type": "code",
   "execution_count": 7,
   "id": "bbf21588-7c32-4abc-8851-fd556fb76d83",
   "metadata": {
    "id": "bbf21588-7c32-4abc-8851-fd556fb76d83",
    "outputId": "7f4e4661-2aae-40b0-b27b-e8ba17208265"
   },
   "outputs": [
    {
     "name": "stdout",
     "output_type": "stream",
     "text": [
      "<class 'pandas.core.frame.DataFrame'>\n",
      "Int64Index: 2038 entries, 1 to 2038\n",
      "Data columns (total 34 columns):\n",
      " #   Column                     Non-Null Count  Dtype  \n",
      "---  ------                     --------------  -----  \n",
      " 0   DAY                        2038 non-null   int64  \n",
      " 1   School                     2038 non-null   int64  \n",
      " 2   SchoolType                 2038 non-null   int64  \n",
      " 3   StartTime                  2038 non-null   int64  \n",
      " 4   AvgMaxDailyTemp            2038 non-null   float64\n",
      " 5   AvgMinDailyTemp            2038 non-null   float64\n",
      " 6   AvgIndoorRelativeHumidity  2038 non-null   float64\n",
      " 7   IndoorTempDuringSurvey     2038 non-null   float64\n",
      " 8   Grade                      2038 non-null   int64  \n",
      " 9   Age                        2038 non-null   int64  \n",
      " 10  Gender                     2038 non-null   int64  \n",
      " 11  FormalClothing             2038 non-null   int64  \n",
      " 12  Scarf/Cap                  2038 non-null   int64  \n",
      " 13  Tie                        2038 non-null   int64  \n",
      " 14  Stockings                  2038 non-null   int64  \n",
      " 15  Pant                       2038 non-null   int64  \n",
      " 16  Trackpant                  2038 non-null   int64  \n",
      " 17  Halfshirt                  2038 non-null   int64  \n",
      " 18  Blazer                     2038 non-null   int64  \n",
      " 19  Jacket                     2038 non-null   int64  \n",
      " 20  Skirt                      2038 non-null   int64  \n",
      " 21  FullShirt                  2038 non-null   int64  \n",
      " 22  HalfSweater                2038 non-null   int64  \n",
      " 23  Tshirt                     2038 non-null   int64  \n",
      " 24  Socks                      2037 non-null   float64\n",
      " 25  Thermal                    2038 non-null   int64  \n",
      " 26  Vest                       2038 non-null   int64  \n",
      " 27  FullSweater                2037 non-null   float64\n",
      " 28  SwC                        2038 non-null   int64  \n",
      " 29  TSV                        2038 non-null   int64  \n",
      " 30  TPV                        2038 non-null   int64  \n",
      " 31  TCV                        2038 non-null   int64  \n",
      " 32  TSL                        2038 non-null   int64  \n",
      " 33  MC                         2038 non-null   int64  \n",
      "dtypes: float64(6), int64(28)\n",
      "memory usage: 557.3 KB\n"
     ]
    }
   ],
   "source": [
    "winter_data.info()"
   ]
  },
  {
   "cell_type": "code",
   "execution_count": 8,
   "id": "9349cea7-b27d-4902-880d-2365ae033cf1",
   "metadata": {
    "id": "9349cea7-b27d-4902-880d-2365ae033cf1",
    "outputId": "f5965a90-b9fa-4939-b207-542f9328bb85"
   },
   "outputs": [
    {
     "data": {
      "text/plain": [
       "Index(['DAY', 'School', 'SchoolType', 'StartTime', 'AvgMaxDailyTemp',\n",
       "       'AvgMinDailyTemp', 'AvgIndoorRelativeHumidity',\n",
       "       'IndoorTempDuringSurvey', 'Grade', 'Age', 'Gender', 'FormalClothing',\n",
       "       'Scarf/Cap', 'Tie', 'Stockings', 'Pant', 'Trackpant', 'Halfshirt',\n",
       "       'Blazer', 'Jacket', 'Skirt', 'FullShirt', 'HalfSweater', 'Tshirt',\n",
       "       'Socks', 'Thermal', 'Vest', 'FullSweater', 'SwC', 'TSV', 'TPV', 'TCV',\n",
       "       'TSL', 'MC'],\n",
       "      dtype='object')"
      ]
     },
     "execution_count": 8,
     "metadata": {},
     "output_type": "execute_result"
    }
   ],
   "source": [
    "winter_data.columns"
   ]
  },
  {
   "cell_type": "code",
   "execution_count": 9,
   "id": "c09b2226-42a9-4ebb-b352-3a43bfcf1014",
   "metadata": {
    "id": "c09b2226-42a9-4ebb-b352-3a43bfcf1014"
   },
   "outputs": [],
   "source": [
    "winter_data = winter_data.astype({\n",
    "    'DAY':'category',\n",
    "    'School':'category',\n",
    "    'SchoolType': 'category',\n",
    "    'StartTime': 'category',\n",
    "    'Grade': 'category',\n",
    "    'Gender': 'category',\n",
    "    'FormalClothing': 'bool',\n",
    "    'Pant': 'bool',\n",
    "    'Trackpant': 'bool',\n",
    "    'Halfshirt': 'bool',\n",
    "    'Blazer': 'bool',\n",
    "    'Jacket': 'bool',\n",
    "    'Skirt': 'bool',\n",
    "    'FullShirt': 'bool',\n",
    "    'HalfSweater': 'bool',\n",
    "    'Tshirt': 'bool',\n",
    "    'Socks': 'bool',\n",
    "    'Thermal': 'bool',\n",
    "    'Vest': 'bool',\n",
    "    'FullSweater': 'bool',\n",
    "    'TSV':'category',\n",
    "    'TPV':'category',\n",
    "    'TCV':'category',\n",
    "    'TSL':'category',\n",
    "    'MC':'category',\n",
    "    'SwC':'category',\n",
    "})"
   ]
  },
  {
   "cell_type": "code",
   "execution_count": 10,
   "id": "8e0d655e-f4f7-48d7-9181-cb16f70779df",
   "metadata": {
    "id": "8e0d655e-f4f7-48d7-9181-cb16f70779df",
    "outputId": "88f4a015-f29e-48ef-cfef-60b8e18dee3e"
   },
   "outputs": [
    {
     "name": "stdout",
     "output_type": "stream",
     "text": [
      "<class 'pandas.core.frame.DataFrame'>\n",
      "Int64Index: 2038 entries, 1 to 2038\n",
      "Data columns (total 34 columns):\n",
      " #   Column                     Non-Null Count  Dtype   \n",
      "---  ------                     --------------  -----   \n",
      " 0   DAY                        2038 non-null   category\n",
      " 1   School                     2038 non-null   category\n",
      " 2   SchoolType                 2038 non-null   category\n",
      " 3   StartTime                  2038 non-null   category\n",
      " 4   AvgMaxDailyTemp            2038 non-null   float64 \n",
      " 5   AvgMinDailyTemp            2038 non-null   float64 \n",
      " 6   AvgIndoorRelativeHumidity  2038 non-null   float64 \n",
      " 7   IndoorTempDuringSurvey     2038 non-null   float64 \n",
      " 8   Grade                      2038 non-null   category\n",
      " 9   Age                        2038 non-null   int64   \n",
      " 10  Gender                     2038 non-null   category\n",
      " 11  FormalClothing             2038 non-null   bool    \n",
      " 12  Scarf/Cap                  2038 non-null   int64   \n",
      " 13  Tie                        2038 non-null   int64   \n",
      " 14  Stockings                  2038 non-null   int64   \n",
      " 15  Pant                       2038 non-null   bool    \n",
      " 16  Trackpant                  2038 non-null   bool    \n",
      " 17  Halfshirt                  2038 non-null   bool    \n",
      " 18  Blazer                     2038 non-null   bool    \n",
      " 19  Jacket                     2038 non-null   bool    \n",
      " 20  Skirt                      2038 non-null   bool    \n",
      " 21  FullShirt                  2038 non-null   bool    \n",
      " 22  HalfSweater                2038 non-null   bool    \n",
      " 23  Tshirt                     2038 non-null   bool    \n",
      " 24  Socks                      2038 non-null   bool    \n",
      " 25  Thermal                    2038 non-null   bool    \n",
      " 26  Vest                       2038 non-null   bool    \n",
      " 27  FullSweater                2038 non-null   bool    \n",
      " 28  SwC                        2038 non-null   category\n",
      " 29  TSV                        2038 non-null   category\n",
      " 30  TPV                        2038 non-null   category\n",
      " 31  TCV                        2038 non-null   category\n",
      " 32  TSL                        2038 non-null   category\n",
      " 33  MC                         2038 non-null   category\n",
      "dtypes: bool(14), category(12), float64(4), int64(4)\n",
      "memory usage: 197.2 KB\n"
     ]
    }
   ],
   "source": [
    "winter_data.info()"
   ]
  },
  {
   "cell_type": "markdown",
   "id": "c2bd1dc6-893a-422d-84f4-5bf8e94ec32c",
   "metadata": {
    "id": "c2bd1dc6-893a-422d-84f4-5bf8e94ec32c"
   },
   "source": [
    "## Distributions of Numerical Features"
   ]
  },
  {
   "cell_type": "code",
   "execution_count": 11,
   "id": "c3655b57-2a9f-4041-8314-c5f78676161e",
   "metadata": {
    "id": "c3655b57-2a9f-4041-8314-c5f78676161e",
    "outputId": "28a072fa-c246-4f5f-9b0b-60a14bb373df"
   },
   "outputs": [
    {
     "data": {
      "image/png": "[encoded data removed]",
      "text/plain": [
       "<Figure size 720x432 with 10 Axes>"
      ]
     },
     "metadata": {
      "needs_background": "light"
     },
     "output_type": "display_data"
    }
   ],
   "source": [
    "# create a new dataframe with columns containing only the numerical features\n",
    "num_features = winter_data.select_dtypes(exclude=['bool', 'category']).copy()\n",
    "\n",
    "# we plot individual column distributions with null entry rows dropped\n",
    "fig, axs = plt.subplots(2, 5, figsize=(10, 6))\n",
    "for i in range(len(num_features.columns)):\n",
    "    plt.subplot(2, 5, i+1)\n",
    "    sns.distplot(num_features.iloc[:,i].dropna())\n",
    "    plt.xlabel(num_features.columns[i])\n",
    "\n",
    "plt.tight_layout()\n",
    "plt.show()"
   ]
  },
  {
   "cell_type": "markdown",
   "id": "4c308279-7d9b-40fe-8cac-20e51eb28abf",
   "metadata": {
    "id": "4c308279-7d9b-40fe-8cac-20e51eb28abf"
   },
   "source": [
    "## Distributions of Categorical Features"
   ]
  },
  {
   "cell_type": "code",
   "execution_count": 12,
   "id": "46bfb75d-379b-432c-b6c9-0707943929ad",
   "metadata": {
    "id": "46bfb75d-379b-432c-b6c9-0707943929ad",
    "outputId": "5f28a80c-85bd-4267-f077-75aebfbe2609"
   },
   "outputs": [
    {
     "data": {
      "image/png": "[encoded data removed]",
      "text/plain": [
       "<Figure size 720x2160 with 14 Axes>"
      ]
     },
     "metadata": {
      "needs_background": "light"
     },
     "output_type": "display_data"
    }
   ],
   "source": [
    "# create a new dataframe with columns containing only the categorical features\n",
    "cat_features = winter_data.select_dtypes(include=['category']).copy()\n",
    "\n",
    "# we plot individual column distributions with null entry rows dropped\n",
    "fig, axs = plt.subplots(nrows=7, ncols=2, figsize=(10, 30))\n",
    "plt.subplots_adjust(right=1.5, top=1.25)\n",
    "\n",
    "for i in range(len(cat_features.columns)):\n",
    "    plt.subplot(7, 2, i+1)\n",
    "    sns.countplot(y=cat_features.columns[i], data=cat_features)\n",
    "    \n",
    "plt.tight_layout()\n",
    "plt.show()"
   ]
  },
  {
   "cell_type": "markdown",
   "id": "36bd4976-ecec-416e-b892-96269f70b385",
   "metadata": {
    "id": "36bd4976-ecec-416e-b892-96269f70b385"
   },
   "source": [
    "## Distributions of Boolean Features"
   ]
  },
  {
   "cell_type": "code",
   "execution_count": 13,
   "id": "616899da-9afd-40d6-9478-2a251a8b7a89",
   "metadata": {
    "id": "616899da-9afd-40d6-9478-2a251a8b7a89",
    "outputId": "7a2f8838-4a88-4d7b-8671-b2deed39ce88"
   },
   "outputs": [
    {
     "data": {
      "image/png": "[encoded data removed]",
      "text/plain": [
       "<Figure size 720x2160 with 14 Axes>"
      ]
     },
     "metadata": {
      "needs_background": "light"
     },
     "output_type": "display_data"
    }
   ],
   "source": [
    "# create a new dataframe with columns containing only the categorical features\n",
    "bool_features = winter_data.select_dtypes(include='bool').copy()\n",
    "\n",
    "# we plot individual column distributions with null entry rows dropped\n",
    "fig, axs = plt.subplots(nrows=7, ncols=2, figsize=(10, 30))\n",
    "plt.subplots_adjust(right=1.5, top=1.25)\n",
    "\n",
    "for i in range(len(bool_features.columns)):\n",
    "    plt.subplot(7, 2, i+1)\n",
    "    sns.countplot(y=bool_features.columns[i], data=bool_features)\n",
    "    \n",
    "plt.tight_layout()\n",
    "plt.show()"
   ]
  },
  {
   "cell_type": "code",
   "execution_count": 14,
   "id": "9445a69c-e0a0-4e24-a90f-3d69860a4820",
   "metadata": {
    "id": "9445a69c-e0a0-4e24-a90f-3d69860a4820"
   },
   "outputs": [],
   "source": [
    "tsl_target_data = winter_data.copy()"
   ]
  },
  {
   "cell_type": "markdown",
   "id": "fdbc99d5-c71f-4d46-ad6c-de1dbf87656d",
   "metadata": {
    "id": "fdbc99d5-c71f-4d46-ad6c-de1dbf87656d"
   },
   "source": [
    "## Machine Learning Models (CatBoost)"
   ]
  },
  {
   "cell_type": "code",
   "execution_count": 15,
   "id": "65309bc6-bd36-4a4e-9465-c188fa18a5f7",
   "metadata": {
    "id": "65309bc6-bd36-4a4e-9465-c188fa18a5f7"
   },
   "outputs": [],
   "source": [
    "import catboost as cat\n",
    "# Classification metrics \n",
    "from sklearn.metrics import precision_score, cohen_kappa_score, f1_score, accuracy_score, recall_score\n",
    "# Helper for cross-validation\n",
    "from sklearn.model_selection import StratifiedKFold"
   ]
  },
  {
   "cell_type": "code",
   "execution_count": 16,
   "id": "a697e408-b43d-4b06-8eb5-45837788e713",
   "metadata": {
    "id": "a697e408-b43d-4b06-8eb5-45837788e713"
   },
   "outputs": [],
   "source": [
    "def oof_trainer(X: pd.DataFrame,\n",
    "                y,\n",
    "            n_folds = None,\n",
    "            params: dict = None,\n",
    "            del_cols: list = None,\n",
    "            cat_features=None):\n",
    "    \n",
    "    \"\"\"This function trains multiple Catboost model while performing stratified CV with shuffling.\n",
    "    out-of-fold (oof) predictions are evaluated at each fold and printed out \n",
    "    at the end of the routine as a list. The mean scores on all fold is also printed out.\n",
    "    \n",
    "    The metrics used for evaluation are precision_auc and the cohen's kappa\n",
    "    \n",
    "    Output: \n",
    "    models -- a list of models trained on each fold during CV\n",
    "    oof_pred -- prediction array consisting of predictions coming from different models\n",
    "    \"\"\"\n",
    "        \n",
    "    # collect models and scores from each fold\n",
    "    models = []\n",
    "    f1_scores = []\n",
    "    accuracy_scores = []\n",
    "    precision_scores = []\n",
    "    recall_scores = []\n",
    "    scores = []\n",
    "    # CV splitter\n",
    "    folds = StratifiedKFold(n_splits=n_folds, shuffle=True, random_state=505) #GroupKFold(n_splits=n_folds) \n",
    "    #features to use\n",
    "    columns = [col for col in X.columns.values if not col in del_cols]\n",
    "    # dimension of the target \n",
    "    n_target=1\n",
    "    \n",
    "    # collect out-of-sample predictions\n",
    "    data_X, data_y, oof_pred = pd.DataFrame(), pd.Series(), np.zeros((len(X),n_target))\n",
    "\n",
    "\n",
    "    for fold_n, (train_index, valid_index) in enumerate(folds.split(X, y)):\n",
    "     \n",
    "        print('Fold {} started at {}'.format(fold_n + 1,time.ctime()))\n",
    "        #print((train_index, valid_index))\n",
    "        X_train, X_valid = X.iloc[train_index][columns], X.iloc[valid_index][columns]\n",
    "        y_train, y_valid = y.iloc[train_index], y.iloc[valid_index]\n",
    "    \n",
    "        data_X = data_X.append(X_valid)\n",
    "        data_y = data_y.append(y_valid)\n",
    "        print(data_X.shape)\n",
    "        \n",
    "        #Eval set preparation\n",
    "        eval_set = [(X_train, y_train)]\n",
    "       # eval_names = ['train']\n",
    "        eval_set.append((X_valid, y_valid))\n",
    "       # eval_names.append('valid')\n",
    "    \n",
    "        model = cat.CatBoostClassifier()\n",
    "        model.fit(X=X_train, y=y_train, \n",
    "                       eval_set=eval_set, \n",
    "                       verbose=500, early_stopping_rounds=150,\n",
    "                      cat_features=cat_features, use_best_model=True, plot=True)\n",
    "        \n",
    "        oof_pred[valid_index] = model.predict(X_valid).reshape(-1, n_target)\n",
    "        models.append(model)\n",
    "    \n",
    "        print('-'*30)\n",
    "        \n",
    "        scores.append(cohen_kappa_score(y_valid, oof_pred[valid_index], weights='quadratic'))\n",
    "        f1_scores.append(f1_score(y_valid, oof_pred[valid_index],   average=None))\n",
    "        accuracy_scores.append(accuracy_score(y_valid, oof_pred[valid_index]))\n",
    "        precision_scores.append(precision_score(y_valid, oof_pred[valid_index],   average=None))\n",
    "        recall_scores.append(recall_score(y_valid, oof_pred[valid_index],   average=None))\n",
    "\n",
    "    print(f'catb fold kappa scores: {scores}')\n",
    "    print(f'catb fold kappa scores mean: {np.mean(scores)}')\n",
    "    print(f'catb fold f1 scores: {f1_scores}')\n",
    "    print(f'catb fold f1 scores mean: {np.mean(f1_scores)}')\n",
    "    print(f'catb fold precision-micro scores: {precision_scores}')\n",
    "    print(f'catb fold precision-micro scores mean: {np.mean(precision_scores)}')\n",
    "    print(f'catb fold recall-micro scores: {recall_scores}')\n",
    "    print(f'catb fold recall-micro scores mean: {np.mean(recall_scores)}')\n",
    "    print(f'catb fold accuracy scores: {accuracy_scores}')\n",
    "    print(f'catb fold accuracy scores mean: {np.mean(accuracy_scores)}')\n",
    "   \n",
    "    return models, oof_pred\n"
   ]
  },
  {
   "cell_type": "code",
   "execution_count": 17,
   "id": "588fb38d-7bff-4070-bb49-6f6d53850483",
   "metadata": {
    "id": "588fb38d-7bff-4070-bb49-6f6d53850483",
    "outputId": "17452327-82a7-48c1-e676-5ae45f480ed0"
   },
   "outputs": [
    {
     "data": {
      "text/plain": [
       "Index(['DAY', 'School', 'SchoolType', 'StartTime', 'AvgMaxDailyTemp',\n",
       "       'AvgMinDailyTemp', 'AvgIndoorRelativeHumidity',\n",
       "       'IndoorTempDuringSurvey', 'Grade', 'Age', 'Gender', 'FormalClothing',\n",
       "       'Scarf/Cap', 'Tie', 'Stockings', 'Pant', 'Trackpant', 'Halfshirt',\n",
       "       'Blazer', 'Jacket', 'Skirt', 'FullShirt', 'HalfSweater', 'Tshirt',\n",
       "       'Socks', 'Thermal', 'Vest', 'FullSweater', 'SwC', 'TSV', 'TPV', 'TCV',\n",
       "       'TSL', 'MC'],\n",
       "      dtype='object')"
      ]
     },
     "execution_count": 17,
     "metadata": {},
     "output_type": "execute_result"
    }
   ],
   "source": [
    "tsl_target_data.columns"
   ]
  },
  {
   "cell_type": "markdown",
   "id": "cfb45f11-b623-4e49-9718-f666cf2fb33b",
   "metadata": {
    "id": "cfb45f11-b623-4e49-9718-f666cf2fb33b"
   },
   "source": [
    "# Target: TSL"
   ]
  },
  {
   "cell_type": "code",
   "execution_count": 18,
   "id": "66c095fc-cc3a-4ac8-8400-cde83186276a",
   "metadata": {
    "colab": {
     "referenced_widgets": [
      "fa4c89ca93d14d828117005c1dafe130",
      "cf9d91526ddb40b08c9d193c7984980d",
      "6d8f640eae674c108e7e498d73b6310c",
      "97dc44a34f134e598b16ac4cfd90b756",
      "ed40c41a586e48f2ae47ce09d04b54aa"
     ]
    },
    "id": "66c095fc-cc3a-4ac8-8400-cde83186276a",
    "outputId": "1036be28-3756-4bb6-a548-e1d11605020e"
   },
   "outputs": [
    {
     "name": "stdout",
     "output_type": "stream",
     "text": [
      "Fold 1 started at Tue Aug 23 01:05:44 2022\n",
      "(408, 30)\n"
     ]
    },
    {
     "data": {
      "application/vnd.jupyter.widget-view+json": {
       "model_id": "4a64d5273f794bb7aaafb34a96d76f74",
       "version_major": 2,
       "version_minor": 0
      },
      "text/plain": [
       "MetricVisualizer(layout=Layout(align_self='stretch', height='500px'))"
      ]
     },
     "metadata": {},
     "output_type": "display_data"
    },
    {
     "name": "stdout",
     "output_type": "stream",
     "text": [
      "Learning rate set to 0.109036\n",
      "0:\tlearn: 1.5145402\ttest: 1.5145402\ttest1: 1.5170681\tbest: 1.5170681 (0)\ttotal: 207ms\tremaining: 3m 26s\n",
      "Stopped by overfitting detector  (150 iterations wait)\n",
      "\n",
      "bestTest = 1.017726892\n",
      "bestIteration = 111\n",
      "\n",
      "Shrink model to first 112 iterations.\n",
      "------------------------------\n",
      "Fold 2 started at Tue Aug 23 01:05:59 2022\n",
      "(816, 30)\n"
     ]
    },
    {
     "data": {
      "application/vnd.jupyter.widget-view+json": {
       "model_id": "018e562a96a046f2882677c22755f700",
       "version_major": 2,
       "version_minor": 0
      },
      "text/plain": [
       "MetricVisualizer(layout=Layout(align_self='stretch', height='500px'))"
      ]
     },
     "metadata": {},
     "output_type": "display_data"
    },
    {
     "name": "stdout",
     "output_type": "stream",
     "text": [
      "Learning rate set to 0.109036\n",
      "0:\tlearn: 1.5106325\ttest: 1.5093089\ttest1: 1.5119096\tbest: 1.5119096 (0)\ttotal: 48.4ms\tremaining: 48.4s\n",
      "Stopped by overfitting detector  (150 iterations wait)\n",
      "\n",
      "bestTest = 0.9952841146\n",
      "bestIteration = 170\n",
      "\n",
      "Shrink model to first 171 iterations.\n",
      "------------------------------\n",
      "Fold 3 started at Tue Aug 23 01:06:16 2022\n",
      "(1224, 30)\n"
     ]
    },
    {
     "data": {
      "application/vnd.jupyter.widget-view+json": {
       "model_id": "74699466154c423d9029973133b2a940",
       "version_major": 2,
       "version_minor": 0
      },
      "text/plain": [
       "MetricVisualizer(layout=Layout(align_self='stretch', height='500px'))"
      ]
     },
     "metadata": {},
     "output_type": "display_data"
    },
    {
     "name": "stdout",
     "output_type": "stream",
     "text": [
      "Learning rate set to 0.109036\n",
      "0:\tlearn: 1.5109853\ttest: 1.5095867\ttest1: 1.5109379\tbest: 1.5109379 (0)\ttotal: 36.8ms\tremaining: 36.7s\n",
      "Stopped by overfitting detector  (150 iterations wait)\n",
      "\n",
      "bestTest = 1.016996745\n",
      "bestIteration = 101\n",
      "\n",
      "Shrink model to first 102 iterations.\n",
      "------------------------------\n",
      "Fold 4 started at Tue Aug 23 01:06:29 2022\n",
      "(1631, 30)\n"
     ]
    },
    {
     "data": {
      "application/vnd.jupyter.widget-view+json": {
       "model_id": "46d64b356df74615b25fb915846ff55e",
       "version_major": 2,
       "version_minor": 0
      },
      "text/plain": [
       "MetricVisualizer(layout=Layout(align_self='stretch', height='500px'))"
      ]
     },
     "metadata": {},
     "output_type": "display_data"
    },
    {
     "name": "stdout",
     "output_type": "stream",
     "text": [
      "Learning rate set to 0.109038\n",
      "0:\tlearn: 1.5156932\ttest: 1.5156932\ttest1: 1.5221688\tbest: 1.5221688 (0)\ttotal: 42.4ms\tremaining: 42.3s\n",
      "Stopped by overfitting detector  (150 iterations wait)\n",
      "\n",
      "bestTest = 1.009527722\n",
      "bestIteration = 135\n",
      "\n",
      "Shrink model to first 136 iterations.\n",
      "------------------------------\n",
      "Fold 5 started at Tue Aug 23 01:06:45 2022\n",
      "(2038, 30)\n"
     ]
    },
    {
     "data": {
      "application/vnd.jupyter.widget-view+json": {
       "model_id": "c21a9eabd9f94cba8eff9e497132e250",
       "version_major": 2,
       "version_minor": 0
      },
      "text/plain": [
       "MetricVisualizer(layout=Layout(align_self='stretch', height='500px'))"
      ]
     },
     "metadata": {},
     "output_type": "display_data"
    },
    {
     "name": "stdout",
     "output_type": "stream",
     "text": [
      "Learning rate set to 0.109038\n",
      "0:\tlearn: 1.5177125\ttest: 1.5152798\ttest1: 1.5192609\tbest: 1.5192609 (0)\ttotal: 58.7ms\tremaining: 58.6s\n",
      "Stopped by overfitting detector  (150 iterations wait)\n",
      "\n",
      "bestTest = 1.013799042\n",
      "bestIteration = 143\n",
      "\n",
      "Shrink model to first 144 iterations.\n",
      "------------------------------\n",
      "catb fold kappa scores: [0.11457255856403992, 0.16518731988472624, 0.06931040533426924, 0.08846584546472569, 0.11245775449387929]\n",
      "catb fold kappa scores mean: 0.10999877674832807\n",
      "catb fold f1 scores: [array([0.        , 0.        , 0.10810811, 0.72374798, 0.14159292]), array([0.        , 0.        , 0.25      , 0.71547421, 0.15384615]), array([0.        , 0.        , 0.10126582, 0.70529801, 0.14634146]), array([0.        , 0.        , 0.125     , 0.71260504, 0.18604651]), array([0.        , 0.        , 0.33333333, 0.71527778, 0.18181818])]\n",
      "catb fold f1 scores mean: 0.2119902207436482\n",
      "catb fold precision-micro scores: [array([0.        , 0.        , 0.8       , 0.57583548, 0.57142857]), array([0.        , 0.        , 0.55      , 0.57951482, 0.52941176]), array([0.        , 0.        , 0.36363636, 0.57104558, 0.375     ]), array([0.        , 0.        , 0.41666667, 0.58082192, 0.4       ]), array([0.        , 0.        , 0.57142857, 0.59537572, 0.36363636])]\n",
      "catb fold precision-micro scores mean: 0.31375207274550987\n",
      "catb fold recall-micro scores: [array([0.        , 0.        , 0.05797101, 0.97391304, 0.08080808]), array([0.        , 0.        , 0.16176471, 0.93478261, 0.09      ]), array([0.        , 0.        , 0.05882353, 0.92207792, 0.09090909]), array([0.        , 0.        , 0.07352941, 0.92173913, 0.12121212]), array([0.        , 0.        , 0.23529412, 0.89565217, 0.12121212])]\n",
      "catb fold recall-micro scores mean: 0.22958756287758844\n",
      "catb fold accuracy scores: [0.5784313725490197, 0.5759803921568627, 0.553921568627451, 0.5626535626535627, 0.5749385749385749]\n",
      "catb fold accuracy scores mean: 0.5691850941850942\n"
     ]
    }
   ],
   "source": [
    "# feature selection for Catboost\n",
    "models, oof_pred = oof_trainer(X=tsl_target_data,\n",
    "                    y=tsl_target_data.TSL,\n",
    "                    n_folds = 5,\n",
    "                   # params=params,\n",
    "                    del_cols=['TSV',\n",
    "       'TPV','TCV', 'TSL'],\n",
    "                    cat_features=cat_features.drop(columns=['TSV',\n",
    "       'TPV','TCV', 'TSL']).columns.values.tolist())"
   ]
  },
  {
   "cell_type": "markdown",
   "id": "6d10cb5a-5b26-4306-ad17-dc1d6cd285a7",
   "metadata": {
    "id": "6d10cb5a-5b26-4306-ad17-dc1d6cd285a7"
   },
   "source": [
    "## Feature importance"
   ]
  },
  {
   "cell_type": "code",
   "execution_count": 19,
   "id": "d6f69949-6906-4982-99e7-6070b849b1ea",
   "metadata": {
    "id": "d6f69949-6906-4982-99e7-6070b849b1ea",
    "outputId": "89fd45bb-be4a-48fc-a20b-80961728e100"
   },
   "outputs": [
    {
     "data": {
      "text/html": [
       "<div>\n",
       "<style scoped>\n",
       "    .dataframe tbody tr th:only-of-type {\n",
       "        vertical-align: middle;\n",
       "    }\n",
       "\n",
       "    .dataframe tbody tr th {\n",
       "        vertical-align: top;\n",
       "    }\n",
       "\n",
       "    .dataframe thead th {\n",
       "        text-align: right;\n",
       "    }\n",
       "</style>\n",
       "<table border=\"1\" class=\"dataframe\">\n",
       "  <thead>\n",
       "    <tr style=\"text-align: right;\">\n",
       "      <th></th>\n",
       "      <th>Feature Id</th>\n",
       "      <th>Importances</th>\n",
       "    </tr>\n",
       "  </thead>\n",
       "  <tbody>\n",
       "    <tr>\n",
       "      <th>0</th>\n",
       "      <td>School</td>\n",
       "      <td>10.879810</td>\n",
       "    </tr>\n",
       "    <tr>\n",
       "      <th>1</th>\n",
       "      <td>DAY</td>\n",
       "      <td>8.843834</td>\n",
       "    </tr>\n",
       "    <tr>\n",
       "      <th>2</th>\n",
       "      <td>Grade</td>\n",
       "      <td>8.529234</td>\n",
       "    </tr>\n",
       "    <tr>\n",
       "      <th>3</th>\n",
       "      <td>StartTime</td>\n",
       "      <td>8.458379</td>\n",
       "    </tr>\n",
       "    <tr>\n",
       "      <th>4</th>\n",
       "      <td>IndoorTempDuringSurvey</td>\n",
       "      <td>7.328193</td>\n",
       "    </tr>\n",
       "    <tr>\n",
       "      <th>5</th>\n",
       "      <td>AvgIndoorRelativeHumidity</td>\n",
       "      <td>6.824866</td>\n",
       "    </tr>\n",
       "    <tr>\n",
       "      <th>6</th>\n",
       "      <td>Gender</td>\n",
       "      <td>5.859572</td>\n",
       "    </tr>\n",
       "    <tr>\n",
       "      <th>7</th>\n",
       "      <td>Age</td>\n",
       "      <td>4.942826</td>\n",
       "    </tr>\n",
       "    <tr>\n",
       "      <th>8</th>\n",
       "      <td>Vest</td>\n",
       "      <td>4.738290</td>\n",
       "    </tr>\n",
       "    <tr>\n",
       "      <th>9</th>\n",
       "      <td>AvgMaxDailyTemp</td>\n",
       "      <td>4.727245</td>\n",
       "    </tr>\n",
       "    <tr>\n",
       "      <th>10</th>\n",
       "      <td>Thermal</td>\n",
       "      <td>4.450465</td>\n",
       "    </tr>\n",
       "    <tr>\n",
       "      <th>11</th>\n",
       "      <td>AvgMinDailyTemp</td>\n",
       "      <td>4.181565</td>\n",
       "    </tr>\n",
       "    <tr>\n",
       "      <th>12</th>\n",
       "      <td>FullSweater</td>\n",
       "      <td>3.977504</td>\n",
       "    </tr>\n",
       "    <tr>\n",
       "      <th>13</th>\n",
       "      <td>SwC</td>\n",
       "      <td>3.181148</td>\n",
       "    </tr>\n",
       "    <tr>\n",
       "      <th>14</th>\n",
       "      <td>MC</td>\n",
       "      <td>2.998770</td>\n",
       "    </tr>\n",
       "    <tr>\n",
       "      <th>15</th>\n",
       "      <td>HalfSweater</td>\n",
       "      <td>2.371430</td>\n",
       "    </tr>\n",
       "    <tr>\n",
       "      <th>16</th>\n",
       "      <td>Scarf/Cap</td>\n",
       "      <td>1.842467</td>\n",
       "    </tr>\n",
       "    <tr>\n",
       "      <th>17</th>\n",
       "      <td>FullShirt</td>\n",
       "      <td>1.656757</td>\n",
       "    </tr>\n",
       "    <tr>\n",
       "      <th>18</th>\n",
       "      <td>Tshirt</td>\n",
       "      <td>1.082068</td>\n",
       "    </tr>\n",
       "    <tr>\n",
       "      <th>19</th>\n",
       "      <td>SchoolType</td>\n",
       "      <td>0.785312</td>\n",
       "    </tr>\n",
       "    <tr>\n",
       "      <th>20</th>\n",
       "      <td>Tie</td>\n",
       "      <td>0.568486</td>\n",
       "    </tr>\n",
       "    <tr>\n",
       "      <th>21</th>\n",
       "      <td>Pant</td>\n",
       "      <td>0.441548</td>\n",
       "    </tr>\n",
       "    <tr>\n",
       "      <th>22</th>\n",
       "      <td>Jacket</td>\n",
       "      <td>0.371484</td>\n",
       "    </tr>\n",
       "    <tr>\n",
       "      <th>23</th>\n",
       "      <td>FormalClothing</td>\n",
       "      <td>0.258132</td>\n",
       "    </tr>\n",
       "    <tr>\n",
       "      <th>24</th>\n",
       "      <td>Stockings</td>\n",
       "      <td>0.251042</td>\n",
       "    </tr>\n",
       "    <tr>\n",
       "      <th>25</th>\n",
       "      <td>Trackpant</td>\n",
       "      <td>0.225592</td>\n",
       "    </tr>\n",
       "    <tr>\n",
       "      <th>26</th>\n",
       "      <td>Halfshirt</td>\n",
       "      <td>0.169944</td>\n",
       "    </tr>\n",
       "    <tr>\n",
       "      <th>27</th>\n",
       "      <td>Skirt</td>\n",
       "      <td>0.054038</td>\n",
       "    </tr>\n",
       "    <tr>\n",
       "      <th>28</th>\n",
       "      <td>Blazer</td>\n",
       "      <td>0.000000</td>\n",
       "    </tr>\n",
       "    <tr>\n",
       "      <th>29</th>\n",
       "      <td>Socks</td>\n",
       "      <td>0.000000</td>\n",
       "    </tr>\n",
       "  </tbody>\n",
       "</table>\n",
       "</div>"
      ],
      "text/plain": [
       "                   Feature Id  Importances\n",
       "0                      School    10.879810\n",
       "1                         DAY     8.843834\n",
       "2                       Grade     8.529234\n",
       "3                   StartTime     8.458379\n",
       "4      IndoorTempDuringSurvey     7.328193\n",
       "5   AvgIndoorRelativeHumidity     6.824866\n",
       "6                      Gender     5.859572\n",
       "7                         Age     4.942826\n",
       "8                        Vest     4.738290\n",
       "9             AvgMaxDailyTemp     4.727245\n",
       "10                    Thermal     4.450465\n",
       "11            AvgMinDailyTemp     4.181565\n",
       "12                FullSweater     3.977504\n",
       "13                        SwC     3.181148\n",
       "14                         MC     2.998770\n",
       "15                HalfSweater     2.371430\n",
       "16                  Scarf/Cap     1.842467\n",
       "17                  FullShirt     1.656757\n",
       "18                     Tshirt     1.082068\n",
       "19                 SchoolType     0.785312\n",
       "20                        Tie     0.568486\n",
       "21                       Pant     0.441548\n",
       "22                     Jacket     0.371484\n",
       "23             FormalClothing     0.258132\n",
       "24                  Stockings     0.251042\n",
       "25                  Trackpant     0.225592\n",
       "26                  Halfshirt     0.169944\n",
       "27                      Skirt     0.054038\n",
       "28                     Blazer     0.000000\n",
       "29                      Socks     0.000000"
      ]
     },
     "execution_count": 19,
     "metadata": {},
     "output_type": "execute_result"
    }
   ],
   "source": [
    "best_gb_model = models[1]\n",
    "best_gb_model.get_feature_importance(prettified=True)"
   ]
  },
  {
   "cell_type": "markdown",
   "id": "d8259b1e-582b-496a-bbd1-c52ceee40ebb",
   "metadata": {
    "id": "d8259b1e-582b-496a-bbd1-c52ceee40ebb"
   },
   "source": [
    "# Target: TPV"
   ]
  },
  {
   "cell_type": "code",
   "execution_count": null,
   "id": "a9691056-e88c-44f7-80c6-3a322c0f6099",
   "metadata": {
    "id": "a9691056-e88c-44f7-80c6-3a322c0f6099"
   },
   "outputs": [],
   "source": []
  },
  {
   "cell_type": "code",
   "execution_count": 20,
   "id": "67f17f9a-c3ed-452d-915a-ce83c4b31577",
   "metadata": {
    "colab": {
     "referenced_widgets": [
      "fbf29688de22491f889c97a9d0b7d263",
      "17b2b3b9bf294869b7445a50a000b6b9",
      "3723d98ea0464762abd9e93ea274a5ae",
      "72b84d62f8334814833b6f2f662b28d2",
      "96f30b05310a4561ac8297e0a4b79fd1"
     ]
    },
    "id": "67f17f9a-c3ed-452d-915a-ce83c4b31577",
    "outputId": "d76af3cc-6aa2-4205-ff2b-48b76d7f6dc7"
   },
   "outputs": [
    {
     "name": "stdout",
     "output_type": "stream",
     "text": [
      "Fold 1 started at Tue Aug 23 01:07:01 2022\n",
      "(406, 30)\n"
     ]
    },
    {
     "data": {
      "application/vnd.jupyter.widget-view+json": {
       "model_id": "3f568951ee36459b999f0a1bae3d774c",
       "version_major": 2,
       "version_minor": 0
      },
      "text/plain": [
       "MetricVisualizer(layout=Layout(align_self='stretch', height='500px'))"
      ]
     },
     "metadata": {},
     "output_type": "display_data"
    },
    {
     "name": "stdout",
     "output_type": "stream",
     "text": [
      "Learning rate set to 0.109027\n",
      "0:\tlearn: 1.0746687\ttest: 1.0744597\ttest1: 1.0765688\tbest: 1.0765688 (0)\ttotal: 32.8ms\tremaining: 32.7s\n",
      "Stopped by overfitting detector  (150 iterations wait)\n",
      "\n",
      "bestTest = 0.9343882894\n",
      "bestIteration = 150\n",
      "\n",
      "Shrink model to first 151 iterations.\n",
      "------------------------------\n",
      "Fold 2 started at Tue Aug 23 01:07:17 2022\n",
      "(812, 30)\n"
     ]
    },
    {
     "data": {
      "application/vnd.jupyter.widget-view+json": {
       "model_id": "66c232a74d85493395d3ec2018c31110",
       "version_major": 2,
       "version_minor": 0
      },
      "text/plain": [
       "MetricVisualizer(layout=Layout(align_self='stretch', height='500px'))"
      ]
     },
     "metadata": {},
     "output_type": "display_data"
    },
    {
     "name": "stdout",
     "output_type": "stream",
     "text": [
      "Learning rate set to 0.109027\n",
      "0:\tlearn: 1.0744848\ttest: 1.0747779\ttest1: 1.0774786\tbest: 1.0774786 (0)\ttotal: 80.2ms\tremaining: 1m 20s\n",
      "Stopped by overfitting detector  (150 iterations wait)\n",
      "\n",
      "bestTest = 0.9163259227\n",
      "bestIteration = 178\n",
      "\n",
      "Shrink model to first 179 iterations.\n",
      "------------------------------\n",
      "Fold 3 started at Tue Aug 23 01:07:36 2022\n",
      "(1218, 30)\n"
     ]
    },
    {
     "data": {
      "application/vnd.jupyter.widget-view+json": {
       "model_id": "ba0322e7c4fa4f60b9fc034535ad4e01",
       "version_major": 2,
       "version_minor": 0
      },
      "text/plain": [
       "MetricVisualizer(layout=Layout(align_self='stretch', height='500px'))"
      ]
     },
     "metadata": {},
     "output_type": "display_data"
    },
    {
     "name": "stdout",
     "output_type": "stream",
     "text": [
      "Learning rate set to 0.109027\n",
      "0:\tlearn: 1.0742369\ttest: 1.0749279\ttest1: 1.0788213\tbest: 1.0788213 (0)\ttotal: 51.9ms\tremaining: 51.8s\n",
      "Stopped by overfitting detector  (150 iterations wait)\n",
      "\n",
      "bestTest = 0.9301146333\n",
      "bestIteration = 108\n",
      "\n",
      "Shrink model to first 109 iterations.\n",
      "------------------------------\n",
      "Fold 4 started at Tue Aug 23 01:07:48 2022\n",
      "(1624, 30)\n"
     ]
    },
    {
     "data": {
      "application/vnd.jupyter.widget-view+json": {
       "model_id": "f3c6721feed340bbb3b879e20bd9f275",
       "version_major": 2,
       "version_minor": 0
      },
      "text/plain": [
       "MetricVisualizer(layout=Layout(align_self='stretch', height='500px'))"
      ]
     },
     "metadata": {},
     "output_type": "display_data"
    },
    {
     "name": "stdout",
     "output_type": "stream",
     "text": [
      "Learning rate set to 0.109027\n",
      "0:\tlearn: 1.0740932\ttest: 1.0752180\ttest1: 1.0764387\tbest: 1.0764387 (0)\ttotal: 67.7ms\tremaining: 1m 7s\n",
      "Stopped by overfitting detector  (150 iterations wait)\n",
      "\n",
      "bestTest = 0.9246359139\n",
      "bestIteration = 131\n",
      "\n",
      "Shrink model to first 132 iterations.\n",
      "------------------------------\n",
      "Fold 5 started at Tue Aug 23 01:08:01 2022\n",
      "(2029, 30)\n"
     ]
    },
    {
     "data": {
      "application/vnd.jupyter.widget-view+json": {
       "model_id": "b146b58a75a5426485b388a59308bb57",
       "version_major": 2,
       "version_minor": 0
      },
      "text/plain": [
       "MetricVisualizer(layout=Layout(align_self='stretch', height='500px'))"
      ]
     },
     "metadata": {},
     "output_type": "display_data"
    },
    {
     "name": "stdout",
     "output_type": "stream",
     "text": [
      "Learning rate set to 0.109028\n",
      "0:\tlearn: 1.0760559\ttest: 1.0760559\ttest1: 1.0759383\tbest: 1.0759383 (0)\ttotal: 35.1ms\tremaining: 35s\n",
      "Stopped by overfitting detector  (150 iterations wait)\n",
      "\n",
      "bestTest = 0.9057263003\n",
      "bestIteration = 146\n",
      "\n",
      "Shrink model to first 147 iterations.\n",
      "------------------------------\n",
      "catb fold kappa scores: [0.17968236068038723, 0.260086939635212, 0.20847934455357575, 0.1766477185435551, 0.25411996316641805]\n",
      "catb fold kappa scores mean: 0.21580326531582963\n",
      "catb fold f1 scores: [array([0.51343284, 0.56585366, 0.17910448]), array([0.5984252 , 0.54098361, 0.18461538]), array([0.55367232, 0.55308642, 0.03773585]), array([0.54131054, 0.56345178, 0.14925373]), array([0.59610028, 0.58163265, 0.10169492])]\n",
      "catb fold f1 scores mean: 0.41735690942380077\n",
      "catb fold precision-micro scores: [array([0.5308642 , 0.50434783, 0.42857143]), array([0.55072464, 0.52941176, 0.5       ]), array([0.54444444, 0.49777778, 1.        ]), array([0.53672316, 0.51869159, 0.33333333]), array([0.57526882, 0.53773585, 0.42857143])]\n",
      "catb fold precision-micro scores mean: 0.5344310838394023\n",
      "catb fold recall-micro scores: [array([0.49710983, 0.64444444, 0.11320755]), array([0.65517241, 0.55307263, 0.11320755]), array([0.56321839, 0.62222222, 0.01923077]), array([0.54597701, 0.61666667, 0.09615385]), array([0.61849711, 0.63333333, 0.05769231])]\n",
      "catb fold recall-micro scores mean: 0.4232804041526449\n",
      "catb fold accuracy scores: [0.5123152709359606, 0.5394088669950738, 0.5197044334975369, 0.5197044334975369, 0.5530864197530864]\n",
      "catb fold accuracy scores mean: 0.528843884935839\n"
     ]
    }
   ],
   "source": [
    "# feature selection for Catboost\n",
    "# Remove all rows with TPV value -1\n",
    "models, oof_pred = oof_trainer(X=tsl_target_data[tsl_target_data.TPV != -1],\n",
    "                    y=tsl_target_data[tsl_target_data.TPV != -1].TPV,\n",
    "                    n_folds = 5,\n",
    "                   # params=params,\n",
    "                    del_cols=['TSV',\n",
    "       'TSL','TCV', 'TSL', 'TPV'],\n",
    "                    cat_features=cat_features.drop(columns=['TSV', 'TPV',\n",
    "       'TSL','TCV', 'TSL']).columns.values.tolist())"
   ]
  },
  {
   "cell_type": "code",
   "execution_count": 21,
   "id": "7c989c89-d9fe-4ab1-acea-6b9a20d27830",
   "metadata": {
    "id": "7c989c89-d9fe-4ab1-acea-6b9a20d27830",
    "outputId": "f52c0f64-84b1-4dd7-fa90-6e7be3da6dea"
   },
   "outputs": [
    {
     "data": {
      "text/html": [
       "<div>\n",
       "<style scoped>\n",
       "    .dataframe tbody tr th:only-of-type {\n",
       "        vertical-align: middle;\n",
       "    }\n",
       "\n",
       "    .dataframe tbody tr th {\n",
       "        vertical-align: top;\n",
       "    }\n",
       "\n",
       "    .dataframe thead th {\n",
       "        text-align: right;\n",
       "    }\n",
       "</style>\n",
       "<table border=\"1\" class=\"dataframe\">\n",
       "  <thead>\n",
       "    <tr style=\"text-align: right;\">\n",
       "      <th></th>\n",
       "      <th>Feature Id</th>\n",
       "      <th>Importances</th>\n",
       "    </tr>\n",
       "  </thead>\n",
       "  <tbody>\n",
       "    <tr>\n",
       "      <th>0</th>\n",
       "      <td>School</td>\n",
       "      <td>12.095649</td>\n",
       "    </tr>\n",
       "    <tr>\n",
       "      <th>1</th>\n",
       "      <td>DAY</td>\n",
       "      <td>8.986043</td>\n",
       "    </tr>\n",
       "    <tr>\n",
       "      <th>2</th>\n",
       "      <td>StartTime</td>\n",
       "      <td>7.228261</td>\n",
       "    </tr>\n",
       "    <tr>\n",
       "      <th>3</th>\n",
       "      <td>Grade</td>\n",
       "      <td>6.177127</td>\n",
       "    </tr>\n",
       "    <tr>\n",
       "      <th>4</th>\n",
       "      <td>AvgIndoorRelativeHumidity</td>\n",
       "      <td>5.788876</td>\n",
       "    </tr>\n",
       "    <tr>\n",
       "      <th>5</th>\n",
       "      <td>SwC</td>\n",
       "      <td>5.471767</td>\n",
       "    </tr>\n",
       "    <tr>\n",
       "      <th>6</th>\n",
       "      <td>Age</td>\n",
       "      <td>5.349737</td>\n",
       "    </tr>\n",
       "    <tr>\n",
       "      <th>7</th>\n",
       "      <td>Gender</td>\n",
       "      <td>4.902219</td>\n",
       "    </tr>\n",
       "    <tr>\n",
       "      <th>8</th>\n",
       "      <td>MC</td>\n",
       "      <td>4.840902</td>\n",
       "    </tr>\n",
       "    <tr>\n",
       "      <th>9</th>\n",
       "      <td>Thermal</td>\n",
       "      <td>4.615847</td>\n",
       "    </tr>\n",
       "    <tr>\n",
       "      <th>10</th>\n",
       "      <td>IndoorTempDuringSurvey</td>\n",
       "      <td>4.607883</td>\n",
       "    </tr>\n",
       "    <tr>\n",
       "      <th>11</th>\n",
       "      <td>AvgMaxDailyTemp</td>\n",
       "      <td>4.542114</td>\n",
       "    </tr>\n",
       "    <tr>\n",
       "      <th>12</th>\n",
       "      <td>Vest</td>\n",
       "      <td>4.523106</td>\n",
       "    </tr>\n",
       "    <tr>\n",
       "      <th>13</th>\n",
       "      <td>AvgMinDailyTemp</td>\n",
       "      <td>4.214006</td>\n",
       "    </tr>\n",
       "    <tr>\n",
       "      <th>14</th>\n",
       "      <td>FullShirt</td>\n",
       "      <td>3.144763</td>\n",
       "    </tr>\n",
       "    <tr>\n",
       "      <th>15</th>\n",
       "      <td>FullSweater</td>\n",
       "      <td>2.728543</td>\n",
       "    </tr>\n",
       "    <tr>\n",
       "      <th>16</th>\n",
       "      <td>HalfSweater</td>\n",
       "      <td>2.506082</td>\n",
       "    </tr>\n",
       "    <tr>\n",
       "      <th>17</th>\n",
       "      <td>Tshirt</td>\n",
       "      <td>2.316194</td>\n",
       "    </tr>\n",
       "    <tr>\n",
       "      <th>18</th>\n",
       "      <td>Scarf/Cap</td>\n",
       "      <td>2.124063</td>\n",
       "    </tr>\n",
       "    <tr>\n",
       "      <th>19</th>\n",
       "      <td>SchoolType</td>\n",
       "      <td>1.012877</td>\n",
       "    </tr>\n",
       "    <tr>\n",
       "      <th>20</th>\n",
       "      <td>Halfshirt</td>\n",
       "      <td>0.968175</td>\n",
       "    </tr>\n",
       "    <tr>\n",
       "      <th>21</th>\n",
       "      <td>FormalClothing</td>\n",
       "      <td>0.816349</td>\n",
       "    </tr>\n",
       "    <tr>\n",
       "      <th>22</th>\n",
       "      <td>Stockings</td>\n",
       "      <td>0.381619</td>\n",
       "    </tr>\n",
       "    <tr>\n",
       "      <th>23</th>\n",
       "      <td>Blazer</td>\n",
       "      <td>0.212191</td>\n",
       "    </tr>\n",
       "    <tr>\n",
       "      <th>24</th>\n",
       "      <td>Pant</td>\n",
       "      <td>0.210132</td>\n",
       "    </tr>\n",
       "    <tr>\n",
       "      <th>25</th>\n",
       "      <td>Skirt</td>\n",
       "      <td>0.165230</td>\n",
       "    </tr>\n",
       "    <tr>\n",
       "      <th>26</th>\n",
       "      <td>Jacket</td>\n",
       "      <td>0.070243</td>\n",
       "    </tr>\n",
       "    <tr>\n",
       "      <th>27</th>\n",
       "      <td>Tie</td>\n",
       "      <td>0.000000</td>\n",
       "    </tr>\n",
       "    <tr>\n",
       "      <th>28</th>\n",
       "      <td>Trackpant</td>\n",
       "      <td>0.000000</td>\n",
       "    </tr>\n",
       "    <tr>\n",
       "      <th>29</th>\n",
       "      <td>Socks</td>\n",
       "      <td>0.000000</td>\n",
       "    </tr>\n",
       "  </tbody>\n",
       "</table>\n",
       "</div>"
      ],
      "text/plain": [
       "                   Feature Id  Importances\n",
       "0                      School    12.095649\n",
       "1                         DAY     8.986043\n",
       "2                   StartTime     7.228261\n",
       "3                       Grade     6.177127\n",
       "4   AvgIndoorRelativeHumidity     5.788876\n",
       "5                         SwC     5.471767\n",
       "6                         Age     5.349737\n",
       "7                      Gender     4.902219\n",
       "8                          MC     4.840902\n",
       "9                     Thermal     4.615847\n",
       "10     IndoorTempDuringSurvey     4.607883\n",
       "11            AvgMaxDailyTemp     4.542114\n",
       "12                       Vest     4.523106\n",
       "13            AvgMinDailyTemp     4.214006\n",
       "14                  FullShirt     3.144763\n",
       "15                FullSweater     2.728543\n",
       "16                HalfSweater     2.506082\n",
       "17                     Tshirt     2.316194\n",
       "18                  Scarf/Cap     2.124063\n",
       "19                 SchoolType     1.012877\n",
       "20                  Halfshirt     0.968175\n",
       "21             FormalClothing     0.816349\n",
       "22                  Stockings     0.381619\n",
       "23                     Blazer     0.212191\n",
       "24                       Pant     0.210132\n",
       "25                      Skirt     0.165230\n",
       "26                     Jacket     0.070243\n",
       "27                        Tie     0.000000\n",
       "28                  Trackpant     0.000000\n",
       "29                      Socks     0.000000"
      ]
     },
     "execution_count": 21,
     "metadata": {},
     "output_type": "execute_result"
    }
   ],
   "source": [
    "best_gb_model = models[1]\n",
    "best_gb_model.get_feature_importance(prettified=True)"
   ]
  },
  {
   "cell_type": "markdown",
   "id": "20020847-d228-4b9f-9f90-bc37c47eeea2",
   "metadata": {
    "id": "20020847-d228-4b9f-9f90-bc37c47eeea2"
   },
   "source": [
    "# Target: TSV"
   ]
  },
  {
   "cell_type": "code",
   "execution_count": 22,
   "id": "3b96787d-fa72-4e99-89d6-d1520cddc47e",
   "metadata": {
    "colab": {
     "referenced_widgets": [
      "1be23c3f4c05463fa785fc1c1e4b0adc",
      "caae0fb261b14639a0831aeefbe339a3",
      "4096c08fac364daa938f56275d94f231",
      "d371ff286b3c466fb3cbf11e12d442e1",
      "8cc5f4f3eed44c6a91172c6b36b82ad9"
     ]
    },
    "id": "3b96787d-fa72-4e99-89d6-d1520cddc47e",
    "outputId": "3e6052a1-82cc-40df-d4e2-6b5965bf3c08"
   },
   "outputs": [
    {
     "name": "stdout",
     "output_type": "stream",
     "text": [
      "Fold 1 started at Tue Aug 23 01:08:16 2022\n",
      "(408, 30)\n"
     ]
    },
    {
     "data": {
      "application/vnd.jupyter.widget-view+json": {
       "model_id": "f1f78a3dfbf946e895c0e4fb67df2fbe",
       "version_major": 2,
       "version_minor": 0
      },
      "text/plain": [
       "MetricVisualizer(layout=Layout(align_self='stretch', height='500px'))"
      ]
     },
     "metadata": {},
     "output_type": "display_data"
    },
    {
     "name": "stdout",
     "output_type": "stream",
     "text": [
      "Learning rate set to 0.109035\n",
      "0:\tlearn: 1.2814548\ttest: 1.2814548\ttest1: 1.2813314\tbest: 1.2813314 (0)\ttotal: 24ms\tremaining: 23.9s\n",
      "Stopped by overfitting detector  (150 iterations wait)\n",
      "\n",
      "bestTest = 0.7553288469\n",
      "bestIteration = 203\n",
      "\n",
      "Shrink model to first 204 iterations.\n",
      "------------------------------\n",
      "Fold 2 started at Tue Aug 23 01:08:34 2022\n",
      "(816, 30)\n"
     ]
    },
    {
     "data": {
      "application/vnd.jupyter.widget-view+json": {
       "model_id": "229beb7f33b94d868099218635057d53",
       "version_major": 2,
       "version_minor": 0
      },
      "text/plain": [
       "MetricVisualizer(layout=Layout(align_self='stretch', height='500px'))"
      ]
     },
     "metadata": {},
     "output_type": "display_data"
    },
    {
     "name": "stdout",
     "output_type": "stream",
     "text": [
      "Learning rate set to 0.109035\n",
      "0:\tlearn: 1.2877074\ttest: 1.2877074\ttest1: 1.2912962\tbest: 1.2912962 (0)\ttotal: 31.4ms\tremaining: 31.3s\n",
      "Stopped by overfitting detector  (150 iterations wait)\n",
      "\n",
      "bestTest = 0.8256053983\n",
      "bestIteration = 88\n",
      "\n",
      "Shrink model to first 89 iterations.\n",
      "------------------------------\n",
      "Fold 3 started at Tue Aug 23 01:08:45 2022\n",
      "(1223, 30)\n"
     ]
    },
    {
     "data": {
      "application/vnd.jupyter.widget-view+json": {
       "model_id": "f02cb0db9b0449fcac0caa2ddcc88a6a",
       "version_major": 2,
       "version_minor": 0
      },
      "text/plain": [
       "MetricVisualizer(layout=Layout(align_self='stretch', height='500px'))"
      ]
     },
     "metadata": {},
     "output_type": "display_data"
    },
    {
     "name": "stdout",
     "output_type": "stream",
     "text": [
      "Learning rate set to 0.109036\n",
      "0:\tlearn: 1.2792675\ttest: 1.2769571\ttest1: 1.2816709\tbest: 1.2816709 (0)\ttotal: 48.8ms\tremaining: 48.8s\n",
      "Stopped by overfitting detector  (150 iterations wait)\n",
      "\n",
      "bestTest = 0.8023419578\n",
      "bestIteration = 173\n",
      "\n",
      "Shrink model to first 174 iterations.\n",
      "------------------------------\n",
      "Fold 4 started at Tue Aug 23 01:09:01 2022\n",
      "(1630, 30)\n"
     ]
    },
    {
     "data": {
      "application/vnd.jupyter.widget-view+json": {
       "model_id": "1c63d61b113d46858ea6994140776ee2",
       "version_major": 2,
       "version_minor": 0
      },
      "text/plain": [
       "MetricVisualizer(layout=Layout(align_self='stretch', height='500px'))"
      ]
     },
     "metadata": {},
     "output_type": "display_data"
    },
    {
     "name": "stdout",
     "output_type": "stream",
     "text": [
      "Learning rate set to 0.109036\n",
      "0:\tlearn: 1.2798267\ttest: 1.2798267\ttest1: 1.2839408\tbest: 1.2839408 (0)\ttotal: 41.1ms\tremaining: 41s\n",
      "Stopped by overfitting detector  (150 iterations wait)\n",
      "\n",
      "bestTest = 0.7996854063\n",
      "bestIteration = 194\n",
      "\n",
      "Shrink model to first 195 iterations.\n",
      "------------------------------\n",
      "Fold 5 started at Tue Aug 23 01:09:20 2022\n",
      "(2037, 30)\n"
     ]
    },
    {
     "data": {
      "application/vnd.jupyter.widget-view+json": {
       "model_id": "37d83d8e670648099d391a26f3b1f64d",
       "version_major": 2,
       "version_minor": 0
      },
      "text/plain": [
       "MetricVisualizer(layout=Layout(align_self='stretch', height='500px'))"
      ]
     },
     "metadata": {},
     "output_type": "display_data"
    },
    {
     "name": "stdout",
     "output_type": "stream",
     "text": [
      "Learning rate set to 0.109036\n",
      "0:\tlearn: 1.2879362\ttest: 1.2879362\ttest1: 1.2870838\tbest: 1.2870838 (0)\ttotal: 26.9ms\tremaining: 26.9s\n",
      "Stopped by overfitting detector  (150 iterations wait)\n",
      "\n",
      "bestTest = 0.7809024161\n",
      "bestIteration = 95\n",
      "\n",
      "Shrink model to first 96 iterations.\n",
      "------------------------------\n",
      "catb fold kappa scores: [0.14274279615795105, 0.07450202027362307, 0.1413001666880369, 0.09309234959148294, 0.05339664696191493]\n",
      "catb fold kappa scores mean: 0.10100679593460178\n",
      "catb fold f1 scores: [array([0.0952381 , 0.28985507, 0.80625   , 0.35294118]), array([0.        , 0.16666667, 0.8006135 , 0.16666667]), array([0.        , 0.20740741, 0.80434783, 0.125     ]), array([0.        , 0.20588235, 0.8       , 0.        ]), array([0.        , 0.16      , 0.80547112, 0.        ])]\n",
      "catb fold f1 scores mean: 0.2893169942746951\n",
      "catb fold precision-micro scores: [array([1.        , 0.625     , 0.69918699, 0.5       ]), array([0.        , 0.42307692, 0.68503937, 1.        ]), array([0.        , 0.48275862, 0.69251337, 0.25      ]), array([0.        , 0.4516129 , 0.68983957, 0.        ]), array([0.        , 0.5       , 0.68475452, 0.        ])]\n",
      "catb fold precision-micro scores mean: 0.434189113604067\n",
      "catb fold recall-micro scores: [array([0.05      , 0.18867925, 0.95202952, 0.27272727]), array([0.        , 0.10377358, 0.96309963, 0.09090909]), array([0.        , 0.13207547, 0.95925926, 0.08333333]), array([0.        , 0.13333333, 0.95202952, 0.        ]), array([0.        , 0.0952381 , 0.97785978, 0.        ])]\n",
      "catb fold recall-micro scores mean: 0.2977173568435839\n",
      "catb fold accuracy scores: [0.6911764705882353, 0.6691176470588235, 0.6732186732186732, 0.6683046683046683, 0.6756756756756757]\n",
      "catb fold accuracy scores mean: 0.6754986269692151\n"
     ]
    }
   ],
   "source": [
    "models, oof_pred = oof_trainer(X=tsl_target_data[tsl_target_data.TSV != 2],\n",
    "                    y=tsl_target_data[tsl_target_data.TSV != 2].TSV,\n",
    "                    n_folds = 5,\n",
    "                   # params=params,\n",
    "                    del_cols=['TSV',\n",
    "       'TSL','TCV', 'TSL', 'TPV'],\n",
    "                    cat_features=cat_features.drop(columns=['TSV', 'TPV',\n",
    "       'TSL','TCV', 'TSL']).columns.values.tolist())"
   ]
  },
  {
   "cell_type": "code",
   "execution_count": 23,
   "id": "31a6f5f8-f542-4de6-8038-6ee26caa7eb5",
   "metadata": {
    "id": "31a6f5f8-f542-4de6-8038-6ee26caa7eb5",
    "outputId": "d54ffeaa-0e97-45d0-97ca-81f1534edf5c"
   },
   "outputs": [
    {
     "data": {
      "text/html": [
       "<div>\n",
       "<style scoped>\n",
       "    .dataframe tbody tr th:only-of-type {\n",
       "        vertical-align: middle;\n",
       "    }\n",
       "\n",
       "    .dataframe tbody tr th {\n",
       "        vertical-align: top;\n",
       "    }\n",
       "\n",
       "    .dataframe thead th {\n",
       "        text-align: right;\n",
       "    }\n",
       "</style>\n",
       "<table border=\"1\" class=\"dataframe\">\n",
       "  <thead>\n",
       "    <tr style=\"text-align: right;\">\n",
       "      <th></th>\n",
       "      <th>Feature Id</th>\n",
       "      <th>Importances</th>\n",
       "    </tr>\n",
       "  </thead>\n",
       "  <tbody>\n",
       "    <tr>\n",
       "      <th>0</th>\n",
       "      <td>SwC</td>\n",
       "      <td>14.127268</td>\n",
       "    </tr>\n",
       "    <tr>\n",
       "      <th>1</th>\n",
       "      <td>School</td>\n",
       "      <td>12.947690</td>\n",
       "    </tr>\n",
       "    <tr>\n",
       "      <th>2</th>\n",
       "      <td>StartTime</td>\n",
       "      <td>8.150023</td>\n",
       "    </tr>\n",
       "    <tr>\n",
       "      <th>3</th>\n",
       "      <td>IndoorTempDuringSurvey</td>\n",
       "      <td>7.942494</td>\n",
       "    </tr>\n",
       "    <tr>\n",
       "      <th>4</th>\n",
       "      <td>Grade</td>\n",
       "      <td>6.648388</td>\n",
       "    </tr>\n",
       "    <tr>\n",
       "      <th>5</th>\n",
       "      <td>Age</td>\n",
       "      <td>4.720759</td>\n",
       "    </tr>\n",
       "    <tr>\n",
       "      <th>6</th>\n",
       "      <td>Gender</td>\n",
       "      <td>4.399893</td>\n",
       "    </tr>\n",
       "    <tr>\n",
       "      <th>7</th>\n",
       "      <td>AvgMinDailyTemp</td>\n",
       "      <td>4.310107</td>\n",
       "    </tr>\n",
       "    <tr>\n",
       "      <th>8</th>\n",
       "      <td>AvgIndoorRelativeHumidity</td>\n",
       "      <td>3.939548</td>\n",
       "    </tr>\n",
       "    <tr>\n",
       "      <th>9</th>\n",
       "      <td>Thermal</td>\n",
       "      <td>3.843848</td>\n",
       "    </tr>\n",
       "    <tr>\n",
       "      <th>10</th>\n",
       "      <td>DAY</td>\n",
       "      <td>3.557892</td>\n",
       "    </tr>\n",
       "    <tr>\n",
       "      <th>11</th>\n",
       "      <td>FullSweater</td>\n",
       "      <td>3.224347</td>\n",
       "    </tr>\n",
       "    <tr>\n",
       "      <th>12</th>\n",
       "      <td>AvgMaxDailyTemp</td>\n",
       "      <td>3.023942</td>\n",
       "    </tr>\n",
       "    <tr>\n",
       "      <th>13</th>\n",
       "      <td>MC</td>\n",
       "      <td>2.899787</td>\n",
       "    </tr>\n",
       "    <tr>\n",
       "      <th>14</th>\n",
       "      <td>SchoolType</td>\n",
       "      <td>2.862356</td>\n",
       "    </tr>\n",
       "    <tr>\n",
       "      <th>15</th>\n",
       "      <td>HalfSweater</td>\n",
       "      <td>2.780652</td>\n",
       "    </tr>\n",
       "    <tr>\n",
       "      <th>16</th>\n",
       "      <td>Vest</td>\n",
       "      <td>2.260084</td>\n",
       "    </tr>\n",
       "    <tr>\n",
       "      <th>17</th>\n",
       "      <td>FormalClothing</td>\n",
       "      <td>1.295582</td>\n",
       "    </tr>\n",
       "    <tr>\n",
       "      <th>18</th>\n",
       "      <td>Halfshirt</td>\n",
       "      <td>1.223562</td>\n",
       "    </tr>\n",
       "    <tr>\n",
       "      <th>19</th>\n",
       "      <td>Stockings</td>\n",
       "      <td>1.102596</td>\n",
       "    </tr>\n",
       "    <tr>\n",
       "      <th>20</th>\n",
       "      <td>Jacket</td>\n",
       "      <td>1.040072</td>\n",
       "    </tr>\n",
       "    <tr>\n",
       "      <th>21</th>\n",
       "      <td>FullShirt</td>\n",
       "      <td>0.993795</td>\n",
       "    </tr>\n",
       "    <tr>\n",
       "      <th>22</th>\n",
       "      <td>Scarf/Cap</td>\n",
       "      <td>0.779509</td>\n",
       "    </tr>\n",
       "    <tr>\n",
       "      <th>23</th>\n",
       "      <td>Pant</td>\n",
       "      <td>0.646048</td>\n",
       "    </tr>\n",
       "    <tr>\n",
       "      <th>24</th>\n",
       "      <td>Tie</td>\n",
       "      <td>0.623278</td>\n",
       "    </tr>\n",
       "    <tr>\n",
       "      <th>25</th>\n",
       "      <td>Tshirt</td>\n",
       "      <td>0.482377</td>\n",
       "    </tr>\n",
       "    <tr>\n",
       "      <th>26</th>\n",
       "      <td>Skirt</td>\n",
       "      <td>0.174102</td>\n",
       "    </tr>\n",
       "    <tr>\n",
       "      <th>27</th>\n",
       "      <td>Trackpant</td>\n",
       "      <td>0.000000</td>\n",
       "    </tr>\n",
       "    <tr>\n",
       "      <th>28</th>\n",
       "      <td>Blazer</td>\n",
       "      <td>0.000000</td>\n",
       "    </tr>\n",
       "    <tr>\n",
       "      <th>29</th>\n",
       "      <td>Socks</td>\n",
       "      <td>0.000000</td>\n",
       "    </tr>\n",
       "  </tbody>\n",
       "</table>\n",
       "</div>"
      ],
      "text/plain": [
       "                   Feature Id  Importances\n",
       "0                         SwC    14.127268\n",
       "1                      School    12.947690\n",
       "2                   StartTime     8.150023\n",
       "3      IndoorTempDuringSurvey     7.942494\n",
       "4                       Grade     6.648388\n",
       "5                         Age     4.720759\n",
       "6                      Gender     4.399893\n",
       "7             AvgMinDailyTemp     4.310107\n",
       "8   AvgIndoorRelativeHumidity     3.939548\n",
       "9                     Thermal     3.843848\n",
       "10                        DAY     3.557892\n",
       "11                FullSweater     3.224347\n",
       "12            AvgMaxDailyTemp     3.023942\n",
       "13                         MC     2.899787\n",
       "14                 SchoolType     2.862356\n",
       "15                HalfSweater     2.780652\n",
       "16                       Vest     2.260084\n",
       "17             FormalClothing     1.295582\n",
       "18                  Halfshirt     1.223562\n",
       "19                  Stockings     1.102596\n",
       "20                     Jacket     1.040072\n",
       "21                  FullShirt     0.993795\n",
       "22                  Scarf/Cap     0.779509\n",
       "23                       Pant     0.646048\n",
       "24                        Tie     0.623278\n",
       "25                     Tshirt     0.482377\n",
       "26                      Skirt     0.174102\n",
       "27                  Trackpant     0.000000\n",
       "28                     Blazer     0.000000\n",
       "29                      Socks     0.000000"
      ]
     },
     "execution_count": 23,
     "metadata": {},
     "output_type": "execute_result"
    }
   ],
   "source": [
    "best_gb_model = models[1]\n",
    "best_gb_model.get_feature_importance(prettified=True)"
   ]
  },
  {
   "cell_type": "markdown",
   "id": "78db6a5d-638f-40b0-898b-51628cc40b1b",
   "metadata": {
    "id": "78db6a5d-638f-40b0-898b-51628cc40b1b"
   },
   "source": [
    "# Target: TCV"
   ]
  },
  {
   "cell_type": "code",
   "execution_count": 24,
   "id": "a47e3289-a1d8-42d0-acec-65910b7d28b9",
   "metadata": {
    "colab": {
     "referenced_widgets": [
      "c99bcf1e46934fb6b9152369cc71b5ff",
      "6795ed2248894d9a8b24b648fb825dde",
      "67c0a16d6f97456e90f405cec234315c",
      "573f89aa137542adb20bc53e01fb855a",
      "a101bc33868d408cbff997a490c0401c"
     ]
    },
    "id": "a47e3289-a1d8-42d0-acec-65910b7d28b9",
    "outputId": "6f31d166-8d6e-49d2-c410-aef02360a554"
   },
   "outputs": [
    {
     "name": "stdout",
     "output_type": "stream",
     "text": [
      "Fold 1 started at Tue Aug 23 01:09:30 2022\n",
      "(407, 30)\n"
     ]
    },
    {
     "data": {
      "application/vnd.jupyter.widget-view+json": {
       "model_id": "60cd32a04a22469fad52bed1045d980a",
       "version_major": 2,
       "version_minor": 0
      },
      "text/plain": [
       "MetricVisualizer(layout=Layout(align_self='stretch', height='500px'))"
      ]
     },
     "metadata": {},
     "output_type": "display_data"
    },
    {
     "name": "stdout",
     "output_type": "stream",
     "text": [
      "Learning rate set to 0.109031\n",
      "0:\tlearn: 1.4941343\ttest: 1.4941343\ttest1: 1.4976470\tbest: 1.4976470 (0)\ttotal: 34.3ms\tremaining: 34.3s\n",
      "Stopped by overfitting detector  (150 iterations wait)\n",
      "\n",
      "bestTest = 0.8666826601\n",
      "bestIteration = 120\n",
      "\n",
      "Shrink model to first 121 iterations.\n",
      "------------------------------\n",
      "Fold 2 started at Tue Aug 23 01:09:44 2022\n",
      "(814, 30)\n"
     ]
    },
    {
     "data": {
      "application/vnd.jupyter.widget-view+json": {
       "model_id": "ef23ad8318d9404185b296f33bae9ee9",
       "version_major": 2,
       "version_minor": 0
      },
      "text/plain": [
       "MetricVisualizer(layout=Layout(align_self='stretch', height='500px'))"
      ]
     },
     "metadata": {},
     "output_type": "display_data"
    },
    {
     "name": "stdout",
     "output_type": "stream",
     "text": [
      "Learning rate set to 0.109031\n",
      "0:\tlearn: 1.4878858\ttest: 1.4878858\ttest1: 1.4901710\tbest: 1.4901710 (0)\ttotal: 109ms\tremaining: 1m 48s\n",
      "Stopped by overfitting detector  (150 iterations wait)\n",
      "\n",
      "bestTest = 0.9219296539\n",
      "bestIteration = 91\n",
      "\n",
      "Shrink model to first 92 iterations.\n",
      "------------------------------\n",
      "Fold 3 started at Tue Aug 23 01:09:57 2022\n",
      "(1221, 30)\n"
     ]
    },
    {
     "data": {
      "application/vnd.jupyter.widget-view+json": {
       "model_id": "6ce1dcdea6a440b59e9b5a9fb5eecfa5",
       "version_major": 2,
       "version_minor": 0
      },
      "text/plain": [
       "MetricVisualizer(layout=Layout(align_self='stretch', height='500px'))"
      ]
     },
     "metadata": {},
     "output_type": "display_data"
    },
    {
     "name": "stdout",
     "output_type": "stream",
     "text": [
      "Learning rate set to 0.109031\n",
      "0:\tlearn: 1.4875148\ttest: 1.4867494\ttest1: 1.4937402\tbest: 1.4937402 (0)\ttotal: 62.8ms\tremaining: 1m 2s\n",
      "Stopped by overfitting detector  (150 iterations wait)\n",
      "\n",
      "bestTest = 0.9182188537\n",
      "bestIteration = 146\n",
      "\n",
      "Shrink model to first 147 iterations.\n",
      "------------------------------\n",
      "Fold 4 started at Tue Aug 23 01:10:14 2022\n",
      "(1627, 30)\n"
     ]
    },
    {
     "data": {
      "application/vnd.jupyter.widget-view+json": {
       "model_id": "8204a6a86df146d5899dcd553104f441",
       "version_major": 2,
       "version_minor": 0
      },
      "text/plain": [
       "MetricVisualizer(layout=Layout(align_self='stretch', height='500px'))"
      ]
     },
     "metadata": {},
     "output_type": "display_data"
    },
    {
     "name": "stdout",
     "output_type": "stream",
     "text": [
      "Learning rate set to 0.109032\n",
      "0:\tlearn: 1.4886336\ttest: 1.4886336\ttest1: 1.4883013\tbest: 1.4883013 (0)\ttotal: 52.1ms\tremaining: 52.1s\n",
      "Stopped by overfitting detector  (150 iterations wait)\n",
      "\n",
      "bestTest = 0.8844251704\n",
      "bestIteration = 171\n",
      "\n",
      "Shrink model to first 172 iterations.\n",
      "------------------------------\n",
      "Fold 5 started at Tue Aug 23 01:10:33 2022\n",
      "(2033, 30)\n"
     ]
    },
    {
     "data": {
      "application/vnd.jupyter.widget-view+json": {
       "model_id": "fa9265fe1d06473196f988c06520c33f",
       "version_major": 2,
       "version_minor": 0
      },
      "text/plain": [
       "MetricVisualizer(layout=Layout(align_self='stretch', height='500px'))"
      ]
     },
     "metadata": {},
     "output_type": "display_data"
    },
    {
     "name": "stdout",
     "output_type": "stream",
     "text": [
      "Learning rate set to 0.109032\n",
      "0:\tlearn: 1.4892966\ttest: 1.4892966\ttest1: 1.4879012\tbest: 1.4879012 (0)\ttotal: 37.8ms\tremaining: 37.7s\n",
      "Stopped by overfitting detector  (150 iterations wait)\n",
      "\n",
      "bestTest = 0.8813274157\n",
      "bestIteration = 169\n",
      "\n",
      "Shrink model to first 170 iterations.\n",
      "------------------------------\n",
      "catb fold kappa scores: [0.1529934938333809, 0.14194051056418722, 0.10095866113885898, 0.13898325527167465, 0.11319032405294382]\n",
      "catb fold kappa scores mean: 0.1296132489722091\n",
      "catb fold f1 scores: [array([0.        , 0.        , 0.        , 0.75873544, 0.36809816]), array([0.        , 0.        , 0.        , 0.75241158, 0.26760563]), array([0.        , 0.        , 0.        , 0.74135091, 0.26923077]), array([0.        , 0.        , 0.        , 0.73628319, 0.39593909]), array([0.        , 0.        , 0.08      , 0.74666667, 0.28025478])]\n",
      "catb fold f1 scores mean: 0.21586304804018705\n",
      "catb fold precision-micro scores: [array([0.        , 0.        , 0.        , 0.63509749, 0.625     ]), array([0.        , 0.        , 0.        , 0.61578947, 0.7037037 ]), array([0.        , 0.        , 0.        , 0.61643836, 0.51219512]), array([0.        , 0.        , 0.        , 0.64396285, 0.47560976]), array([0.        , 0.        , 0.33333333, 0.62395543, 0.53658537])]\n",
      "catb fold precision-micro scores mean: 0.25286683535505483\n",
      "catb fold recall-micro scores: [array([0.        , 0.        , 0.        , 0.94214876, 0.26086957]), array([0.        , 0.        , 0.        , 0.96694215, 0.16521739]), array([0.        , 0.        , 0.        , 0.92975207, 0.1826087 ]), array([0.        , 0.        , 0.        , 0.85950413, 0.33913043]), array([0.        , 0.        , 0.04545455, 0.92946058, 0.18965517])]\n",
      "catb fold recall-micro scores mean: 0.2324297397270296\n",
      "catb fold accuracy scores: [0.6339066339066339, 0.6216216216216216, 0.6044226044226044, 0.6083743842364532, 0.6108374384236454]\n",
      "catb fold accuracy scores mean: 0.6158325365221917\n"
     ]
    }
   ],
   "source": [
    "models, oof_pred = oof_trainer(X=tsl_target_data[tsl_target_data.TCV != -3],\n",
    "                    y=tsl_target_data[tsl_target_data.TCV != -3].TCV,\n",
    "                    n_folds = 5,\n",
    "                   # params=params,\n",
    "                    del_cols=['TSV',\n",
    "       'TSL','TCV', 'TSL', 'TPV'],\n",
    "                    cat_features=cat_features.drop(columns=['TSV', 'TPV',\n",
    "       'TSL','TCV', 'TSL']).columns.values.tolist())"
   ]
  },
  {
   "cell_type": "code",
   "execution_count": 25,
   "id": "44302a28-73ad-481f-bb2c-157ee3b5632d",
   "metadata": {
    "id": "44302a28-73ad-481f-bb2c-157ee3b5632d",
    "outputId": "217a9b68-a9b6-45ef-8a14-bdf111477f7e"
   },
   "outputs": [
    {
     "data": {
      "text/html": [
       "<div>\n",
       "<style scoped>\n",
       "    .dataframe tbody tr th:only-of-type {\n",
       "        vertical-align: middle;\n",
       "    }\n",
       "\n",
       "    .dataframe tbody tr th {\n",
       "        vertical-align: top;\n",
       "    }\n",
       "\n",
       "    .dataframe thead th {\n",
       "        text-align: right;\n",
       "    }\n",
       "</style>\n",
       "<table border=\"1\" class=\"dataframe\">\n",
       "  <thead>\n",
       "    <tr style=\"text-align: right;\">\n",
       "      <th></th>\n",
       "      <th>Feature Id</th>\n",
       "      <th>Importances</th>\n",
       "    </tr>\n",
       "  </thead>\n",
       "  <tbody>\n",
       "    <tr>\n",
       "      <th>0</th>\n",
       "      <td>School</td>\n",
       "      <td>14.632367</td>\n",
       "    </tr>\n",
       "    <tr>\n",
       "      <th>1</th>\n",
       "      <td>Grade</td>\n",
       "      <td>13.355028</td>\n",
       "    </tr>\n",
       "    <tr>\n",
       "      <th>2</th>\n",
       "      <td>DAY</td>\n",
       "      <td>7.958941</td>\n",
       "    </tr>\n",
       "    <tr>\n",
       "      <th>3</th>\n",
       "      <td>AvgIndoorRelativeHumidity</td>\n",
       "      <td>7.786404</td>\n",
       "    </tr>\n",
       "    <tr>\n",
       "      <th>4</th>\n",
       "      <td>SwC</td>\n",
       "      <td>5.315132</td>\n",
       "    </tr>\n",
       "    <tr>\n",
       "      <th>5</th>\n",
       "      <td>AvgMinDailyTemp</td>\n",
       "      <td>5.234225</td>\n",
       "    </tr>\n",
       "    <tr>\n",
       "      <th>6</th>\n",
       "      <td>MC</td>\n",
       "      <td>4.890600</td>\n",
       "    </tr>\n",
       "    <tr>\n",
       "      <th>7</th>\n",
       "      <td>AvgMaxDailyTemp</td>\n",
       "      <td>4.745450</td>\n",
       "    </tr>\n",
       "    <tr>\n",
       "      <th>8</th>\n",
       "      <td>IndoorTempDuringSurvey</td>\n",
       "      <td>4.603111</td>\n",
       "    </tr>\n",
       "    <tr>\n",
       "      <th>9</th>\n",
       "      <td>Gender</td>\n",
       "      <td>3.776895</td>\n",
       "    </tr>\n",
       "    <tr>\n",
       "      <th>10</th>\n",
       "      <td>FullShirt</td>\n",
       "      <td>3.717520</td>\n",
       "    </tr>\n",
       "    <tr>\n",
       "      <th>11</th>\n",
       "      <td>Age</td>\n",
       "      <td>3.655828</td>\n",
       "    </tr>\n",
       "    <tr>\n",
       "      <th>12</th>\n",
       "      <td>StartTime</td>\n",
       "      <td>3.079656</td>\n",
       "    </tr>\n",
       "    <tr>\n",
       "      <th>13</th>\n",
       "      <td>Thermal</td>\n",
       "      <td>2.796155</td>\n",
       "    </tr>\n",
       "    <tr>\n",
       "      <th>14</th>\n",
       "      <td>HalfSweater</td>\n",
       "      <td>2.570753</td>\n",
       "    </tr>\n",
       "    <tr>\n",
       "      <th>15</th>\n",
       "      <td>Vest</td>\n",
       "      <td>2.261715</td>\n",
       "    </tr>\n",
       "    <tr>\n",
       "      <th>16</th>\n",
       "      <td>FullSweater</td>\n",
       "      <td>2.216405</td>\n",
       "    </tr>\n",
       "    <tr>\n",
       "      <th>17</th>\n",
       "      <td>SchoolType</td>\n",
       "      <td>1.770018</td>\n",
       "    </tr>\n",
       "    <tr>\n",
       "      <th>18</th>\n",
       "      <td>Tshirt</td>\n",
       "      <td>1.595398</td>\n",
       "    </tr>\n",
       "    <tr>\n",
       "      <th>19</th>\n",
       "      <td>Scarf/Cap</td>\n",
       "      <td>1.019628</td>\n",
       "    </tr>\n",
       "    <tr>\n",
       "      <th>20</th>\n",
       "      <td>Blazer</td>\n",
       "      <td>0.640150</td>\n",
       "    </tr>\n",
       "    <tr>\n",
       "      <th>21</th>\n",
       "      <td>Tie</td>\n",
       "      <td>0.591698</td>\n",
       "    </tr>\n",
       "    <tr>\n",
       "      <th>22</th>\n",
       "      <td>Jacket</td>\n",
       "      <td>0.587536</td>\n",
       "    </tr>\n",
       "    <tr>\n",
       "      <th>23</th>\n",
       "      <td>Pant</td>\n",
       "      <td>0.568345</td>\n",
       "    </tr>\n",
       "    <tr>\n",
       "      <th>24</th>\n",
       "      <td>Trackpant</td>\n",
       "      <td>0.296924</td>\n",
       "    </tr>\n",
       "    <tr>\n",
       "      <th>25</th>\n",
       "      <td>Halfshirt</td>\n",
       "      <td>0.171736</td>\n",
       "    </tr>\n",
       "    <tr>\n",
       "      <th>26</th>\n",
       "      <td>Stockings</td>\n",
       "      <td>0.136213</td>\n",
       "    </tr>\n",
       "    <tr>\n",
       "      <th>27</th>\n",
       "      <td>Skirt</td>\n",
       "      <td>0.026168</td>\n",
       "    </tr>\n",
       "    <tr>\n",
       "      <th>28</th>\n",
       "      <td>FormalClothing</td>\n",
       "      <td>0.000000</td>\n",
       "    </tr>\n",
       "    <tr>\n",
       "      <th>29</th>\n",
       "      <td>Socks</td>\n",
       "      <td>0.000000</td>\n",
       "    </tr>\n",
       "  </tbody>\n",
       "</table>\n",
       "</div>"
      ],
      "text/plain": [
       "                   Feature Id  Importances\n",
       "0                      School    14.632367\n",
       "1                       Grade    13.355028\n",
       "2                         DAY     7.958941\n",
       "3   AvgIndoorRelativeHumidity     7.786404\n",
       "4                         SwC     5.315132\n",
       "5             AvgMinDailyTemp     5.234225\n",
       "6                          MC     4.890600\n",
       "7             AvgMaxDailyTemp     4.745450\n",
       "8      IndoorTempDuringSurvey     4.603111\n",
       "9                      Gender     3.776895\n",
       "10                  FullShirt     3.717520\n",
       "11                        Age     3.655828\n",
       "12                  StartTime     3.079656\n",
       "13                    Thermal     2.796155\n",
       "14                HalfSweater     2.570753\n",
       "15                       Vest     2.261715\n",
       "16                FullSweater     2.216405\n",
       "17                 SchoolType     1.770018\n",
       "18                     Tshirt     1.595398\n",
       "19                  Scarf/Cap     1.019628\n",
       "20                     Blazer     0.640150\n",
       "21                        Tie     0.591698\n",
       "22                     Jacket     0.587536\n",
       "23                       Pant     0.568345\n",
       "24                  Trackpant     0.296924\n",
       "25                  Halfshirt     0.171736\n",
       "26                  Stockings     0.136213\n",
       "27                      Skirt     0.026168\n",
       "28             FormalClothing     0.000000\n",
       "29                      Socks     0.000000"
      ]
     },
     "execution_count": 25,
     "metadata": {},
     "output_type": "execute_result"
    }
   ],
   "source": [
    "best_gb_model = models[0]\n",
    "best_gb_model.get_feature_importance(prettified=True)"
   ]
  },
  {
   "cell_type": "code",
   "execution_count": null,
   "id": "5f9e868f-5092-4bb7-9a00-6cc13baf7db2",
   "metadata": {
    "id": "5f9e868f-5092-4bb7-9a00-6cc13baf7db2"
   },
   "outputs": [],
   "source": []
  }
 ],
 "metadata": {
  "colab": {
   "name": "IndividualClothingBinary.ipynb",
   "provenance": []
  },
  "kernelspec": {
   "display_name": "Python 3",
   "language": "python",
   "name": "python3"
  },
  "language_info": {
   "codemirror_mode": {
    "name": "ipython",
    "version": 3
   },
   "file_extension": ".py",
   "mimetype": "text/x-python",
   "name": "python",
   "nbconvert_exporter": "python",
   "pygments_lexer": "ipython3",
   "version": "3.8.10"
  }
 },
 "nbformat": 4,
 "nbformat_minor": 5
}
